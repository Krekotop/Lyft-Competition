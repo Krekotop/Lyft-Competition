{
 "cells": [
  {
   "cell_type": "markdown",
   "metadata": {},
   "source": [
    "I am going to loop through the train_dataset and use a batch_size variable to train the model in batches.  "
   ]
  },
  {
   "cell_type": "code",
   "execution_count": 11,
   "metadata": {},
   "outputs": [
    {
     "name": "stderr",
     "output_type": "stream",
     "text": [
      "\r",
      "  0%|          | 0/3200 [00:00<?, ?it/s]"
     ]
    },
    {
     "name": "stdout",
     "output_type": "stream",
     "text": [
      "2/2 [==============================] - ETA: 0s - loss: 4668.4756\n",
      "Epoch 00001: val_loss improved from inf to 94968479744000.00000, saving model to ./model.h5\n",
      "2/2 [==============================] - 17s 8s/step - loss: 4668.4756 - val_loss: 94968479744000.0000\n"
     ]
    },
    {
     "name": "stderr",
     "output_type": "stream",
     "text": [
      "\r",
      "  0%|          | 1/3200 [00:30<27:10:42, 30.59s/it]"
     ]
    },
    {
     "name": "stdout",
     "output_type": "stream",
     "text": [
      "2/2 [==============================] - ETA: 0s - loss: 10344.3066\n",
      "Epoch 00001: val_loss did not improve from 94968479744000.00000\n",
      "2/2 [==============================] - 14s 7s/step - loss: 10344.3066 - val_loss: 4635687538310293244346368.0000\n"
     ]
    },
    {
     "name": "stderr",
     "output_type": "stream",
     "text": [
      "\r",
      "  0%|          | 2/3200 [00:53<25:08:29, 28.30s/it]"
     ]
    },
    {
     "name": "stdout",
     "output_type": "stream",
     "text": [
      "2/2 [==============================] - ETA: 0s - loss: 1679.8218\n",
      "Epoch 00001: val_loss did not improve from 94968479744000.00000\n",
      "2/2 [==============================] - 14s 7s/step - loss: 1679.8218 - val_loss: 317387531230574721896865071104.0000\n"
     ]
    },
    {
     "name": "stderr",
     "output_type": "stream",
     "text": [
      "\r",
      "  0%|          | 3/3200 [01:15<23:32:22, 26.51s/it]"
     ]
    },
    {
     "name": "stdout",
     "output_type": "stream",
     "text": [
      "2/2 [==============================] - ETA: 0s - loss: 136.1181\n",
      "Epoch 00001: val_loss did not improve from 94968479744000.00000\n",
      "2/2 [==============================] - 16s 8s/step - loss: 136.1181 - val_loss: 9113709129052781317976066359296.0000\n"
     ]
    },
    {
     "name": "stderr",
     "output_type": "stream",
     "text": [
      "\r",
      "  0%|          | 4/3200 [01:40<22:58:41, 25.88s/it]"
     ]
    },
    {
     "name": "stdout",
     "output_type": "stream",
     "text": [
      "2/2 [==============================] - ETA: 0s - loss: 38.3595\n",
      "Epoch 00001: val_loss did not improve from 94968479744000.00000\n",
      "2/2 [==============================] - 15s 7s/step - loss: 38.3595 - val_loss: 33366410649803106724090843496448.0000\n"
     ]
    },
    {
     "name": "stderr",
     "output_type": "stream",
     "text": [
      "\r",
      "  0%|          | 5/3200 [02:03<22:11:55, 25.01s/it]"
     ]
    },
    {
     "name": "stdout",
     "output_type": "stream",
     "text": [
      "2/2 [==============================] - ETA: 0s - loss: 63.9187\n",
      "Epoch 00001: val_loss improved from 94968479744000.00000 to 2.02999, saving model to ./model.h5\n",
      "2/2 [==============================] - 17s 9s/step - loss: 63.9187 - val_loss: 2.0300\n"
     ]
    },
    {
     "name": "stderr",
     "output_type": "stream",
     "text": [
      "\r",
      "  0%|          | 6/3200 [02:31<22:56:09, 25.85s/it]"
     ]
    },
    {
     "name": "stdout",
     "output_type": "stream",
     "text": [
      "2/2 [==============================] - ETA: 0s - loss: 6.5009 \n",
      "Epoch 00001: val_loss did not improve from 2.02999\n",
      "2/2 [==============================] - 15s 8s/step - loss: 6.5009 - val_loss: 2.0300\n"
     ]
    },
    {
     "name": "stderr",
     "output_type": "stream",
     "text": [
      "\r",
      "  0%|          | 7/3200 [02:54<22:18:30, 25.15s/it]"
     ]
    },
    {
     "name": "stdout",
     "output_type": "stream",
     "text": [
      "2/2 [==============================] - ETA: 0s - loss: 99.7264\n",
      "Epoch 00001: val_loss improved from 2.02999 to 2.02975, saving model to ./model.h5\n",
      "2/2 [==============================] - 16s 8s/step - loss: 99.7264 - val_loss: 2.0297\n"
     ]
    },
    {
     "name": "stderr",
     "output_type": "stream",
     "text": [
      "\r",
      "  0%|          | 8/3200 [03:19<22:21:12, 25.21s/it]"
     ]
    },
    {
     "name": "stdout",
     "output_type": "stream",
     "text": [
      "2/2 [==============================] - ETA: 0s - loss: 97.2206\n",
      "Epoch 00001: val_loss improved from 2.02975 to 2.02900, saving model to ./model.h5\n",
      "2/2 [==============================] - 14s 7s/step - loss: 97.2206 - val_loss: 2.0290\n"
     ]
    },
    {
     "name": "stderr",
     "output_type": "stream",
     "text": [
      "\r",
      "  0%|          | 9/3200 [03:43<21:50:43, 24.65s/it]"
     ]
    },
    {
     "name": "stdout",
     "output_type": "stream",
     "text": [
      "2/2 [==============================] - ETA: 0s - loss: 2.7844\n",
      "Epoch 00001: val_loss improved from 2.02900 to 2.02809, saving model to ./model.h5\n",
      "2/2 [==============================] - 17s 8s/step - loss: 2.7844 - val_loss: 2.0281\n"
     ]
    },
    {
     "name": "stderr",
     "output_type": "stream",
     "text": [
      "\r",
      "  0%|          | 10/3200 [04:10<22:35:20, 25.49s/it]"
     ]
    },
    {
     "name": "stdout",
     "output_type": "stream",
     "text": [
      "2/2 [==============================] - ETA: 0s - loss: 46.9197\n",
      "Epoch 00001: val_loss improved from 2.02809 to 2.02696, saving model to ./model.h5\n",
      "2/2 [==============================] - 14s 7s/step - loss: 46.9197 - val_loss: 2.0270\n"
     ]
    },
    {
     "name": "stderr",
     "output_type": "stream",
     "text": [
      "\r",
      "  0%|          | 11/3200 [04:34<22:02:14, 24.88s/it]"
     ]
    },
    {
     "name": "stdout",
     "output_type": "stream",
     "text": [
      "2/2 [==============================] - ETA: 0s - loss: 70.4763\n",
      "Epoch 00001: val_loss improved from 2.02696 to 2.02536, saving model to ./model.h5\n",
      "2/2 [==============================] - 16s 8s/step - loss: 70.4763 - val_loss: 2.0254\n"
     ]
    },
    {
     "name": "stderr",
     "output_type": "stream",
     "text": [
      "\r",
      "  0%|          | 12/3200 [04:59<22:02:35, 24.89s/it]"
     ]
    },
    {
     "name": "stdout",
     "output_type": "stream",
     "text": [
      "2/2 [==============================] - ETA: 0s - loss: 82.1855 \n",
      "Epoch 00001: val_loss improved from 2.02536 to 2.02294, saving model to ./model.h5\n",
      "2/2 [==============================] - 16s 8s/step - loss: 82.1855 - val_loss: 2.0229\n"
     ]
    },
    {
     "name": "stderr",
     "output_type": "stream",
     "text": [
      "\r",
      "  0%|          | 13/3200 [05:23<21:49:17, 24.65s/it]"
     ]
    },
    {
     "name": "stdout",
     "output_type": "stream",
     "text": [
      "2/2 [==============================] - ETA: 0s - loss: 47.3961\n",
      "Epoch 00001: val_loss improved from 2.02294 to 2.02016, saving model to ./model.h5\n",
      "2/2 [==============================] - 16s 8s/step - loss: 47.3961 - val_loss: 2.0202\n"
     ]
    },
    {
     "name": "stderr",
     "output_type": "stream",
     "text": [
      "\r",
      "  0%|          | 14/3200 [05:49<22:18:17, 25.20s/it]"
     ]
    },
    {
     "name": "stdout",
     "output_type": "stream",
     "text": [
      "2/2 [==============================] - ETA: 0s - loss: 36.5530\n",
      "Epoch 00001: val_loss improved from 2.02016 to 2.01717, saving model to ./model.h5\n",
      "2/2 [==============================] - 23s 11s/step - loss: 36.5530 - val_loss: 2.0172\n"
     ]
    },
    {
     "name": "stderr",
     "output_type": "stream",
     "text": [
      "\r",
      "  0%|          | 15/3200 [06:26<25:15:00, 28.54s/it]"
     ]
    },
    {
     "name": "stdout",
     "output_type": "stream",
     "text": [
      "2/2 [==============================] - ETA: 0s - loss: 36.2467\n",
      "Epoch 00001: val_loss improved from 2.01717 to 2.01400, saving model to ./model.h5\n",
      "2/2 [==============================] - 20s 10s/step - loss: 36.2467 - val_loss: 2.0140\n"
     ]
    },
    {
     "name": "stderr",
     "output_type": "stream",
     "text": [
      "\r",
      "  0%|          | 16/3200 [07:00<26:42:32, 30.20s/it]"
     ]
    },
    {
     "name": "stdout",
     "output_type": "stream",
     "text": [
      "2/2 [==============================] - ETA: 0s - loss: 36.9339\n",
      "Epoch 00001: val_loss improved from 2.01400 to 2.01070, saving model to ./model.h5\n",
      "2/2 [==============================] - 22s 11s/step - loss: 36.9339 - val_loss: 2.0107\n"
     ]
    },
    {
     "name": "stderr",
     "output_type": "stream",
     "text": [
      "\r",
      "  1%|          | 17/3200 [07:36<28:20:39, 32.06s/it]"
     ]
    },
    {
     "name": "stdout",
     "output_type": "stream",
     "text": [
      "2/2 [==============================] - ETA: 0s - loss: 3.2741\n",
      "Epoch 00001: val_loss improved from 2.01070 to 2.00777, saving model to ./model.h5\n",
      "2/2 [==============================] - 23s 11s/step - loss: 3.2741 - val_loss: 2.0078\n"
     ]
    },
    {
     "name": "stderr",
     "output_type": "stream",
     "text": [
      "\r",
      "  1%|          | 18/3200 [08:13<29:32:21, 33.42s/it]"
     ]
    },
    {
     "name": "stdout",
     "output_type": "stream",
     "text": [
      "2/2 [==============================] - ETA: 0s - loss: 0.0294\n",
      "Epoch 00001: val_loss improved from 2.00777 to 2.00534, saving model to ./model.h5\n",
      "2/2 [==============================] - 23s 11s/step - loss: 0.0294 - val_loss: 2.0053\n"
     ]
    },
    {
     "name": "stderr",
     "output_type": "stream",
     "text": [
      "\r",
      "  1%|          | 19/3200 [08:49<30:20:12, 34.33s/it]"
     ]
    },
    {
     "name": "stdout",
     "output_type": "stream",
     "text": [
      "2/2 [==============================] - ETA: 0s - loss: 8.5617e-04\n",
      "Epoch 00001: val_loss improved from 2.00534 to 2.00333, saving model to ./model.h5\n",
      "2/2 [==============================] - 24s 12s/step - loss: 8.5617e-04 - val_loss: 2.0033\n"
     ]
    },
    {
     "name": "stderr",
     "output_type": "stream",
     "text": [
      "\r",
      "  1%|          | 20/3200 [09:29<31:44:17, 35.93s/it]"
     ]
    },
    {
     "name": "stdout",
     "output_type": "stream",
     "text": [
      "2/2 [==============================] - ETA: 0s - loss: 0.0019\n",
      "Epoch 00001: val_loss improved from 2.00333 to 2.00168, saving model to ./model.h5\n",
      "2/2 [==============================] - 23s 12s/step - loss: 0.0019 - val_loss: 2.0017\n"
     ]
    },
    {
     "name": "stderr",
     "output_type": "stream",
     "text": [
      "\r",
      "  1%|          | 21/3200 [10:06<31:57:22, 36.19s/it]"
     ]
    },
    {
     "name": "stdout",
     "output_type": "stream",
     "text": [
      "2/2 [==============================] - ETA: 0s - loss: 2.7020\n",
      "Epoch 00001: val_loss improved from 2.00168 to 2.00030, saving model to ./model.h5\n",
      "2/2 [==============================] - 21s 10s/step - loss: 2.7020 - val_loss: 2.0003\n"
     ]
    },
    {
     "name": "stderr",
     "output_type": "stream",
     "text": [
      "\r",
      "  1%|          | 22/3200 [10:40<31:31:03, 35.70s/it]"
     ]
    },
    {
     "name": "stdout",
     "output_type": "stream",
     "text": [
      "2/2 [==============================] - ETA: 0s - loss: 0.0038\n",
      "Epoch 00001: val_loss improved from 2.00030 to 1.99916, saving model to ./model.h5\n",
      "2/2 [==============================] - 20s 10s/step - loss: 0.0038 - val_loss: 1.9992\n"
     ]
    },
    {
     "name": "stderr",
     "output_type": "stream",
     "text": [
      "\r",
      "  1%|          | 23/3200 [11:15<31:25:50, 35.62s/it]"
     ]
    },
    {
     "name": "stdout",
     "output_type": "stream",
     "text": [
      "2/2 [==============================] - ETA: 0s - loss: 0.0022\n",
      "Epoch 00001: val_loss improved from 1.99916 to 1.99823, saving model to ./model.h5\n",
      "2/2 [==============================] - 21s 10s/step - loss: 0.0022 - val_loss: 1.9982\n"
     ]
    },
    {
     "name": "stderr",
     "output_type": "stream",
     "text": [
      "\r",
      "  1%|          | 24/3200 [11:48<30:37:09, 34.71s/it]"
     ]
    },
    {
     "name": "stdout",
     "output_type": "stream",
     "text": [
      "2/2 [==============================] - ETA: 0s - loss: 4.6080\n",
      "Epoch 00001: val_loss improved from 1.99823 to 1.99743, saving model to ./model.h5\n",
      "2/2 [==============================] - 22s 11s/step - loss: 4.6080 - val_loss: 1.9974\n"
     ]
    },
    {
     "name": "stderr",
     "output_type": "stream",
     "text": [
      "\r",
      "  1%|          | 25/3200 [12:23<30:36:16, 34.70s/it]"
     ]
    },
    {
     "name": "stdout",
     "output_type": "stream",
     "text": [
      "2/2 [==============================] - ETA: 0s - loss: 0.0011\n",
      "Epoch 00001: val_loss improved from 1.99743 to 1.99678, saving model to ./model.h5\n",
      "2/2 [==============================] - 22s 11s/step - loss: 0.0011 - val_loss: 1.9968\n"
     ]
    },
    {
     "name": "stderr",
     "output_type": "stream",
     "text": [
      "\r",
      "  1%|          | 26/3200 [12:59<30:59:50, 35.16s/it]"
     ]
    },
    {
     "name": "stdout",
     "output_type": "stream",
     "text": [
      "2/2 [==============================] - ETA: 0s - loss: 1.1207\n",
      "Epoch 00001: val_loss improved from 1.99678 to 1.99624, saving model to ./model.h5\n",
      "2/2 [==============================] - 21s 10s/step - loss: 1.1207 - val_loss: 1.9962\n"
     ]
    },
    {
     "name": "stderr",
     "output_type": "stream",
     "text": [
      "\r",
      "  1%|          | 27/3200 [13:33<30:36:53, 34.73s/it]"
     ]
    },
    {
     "name": "stdout",
     "output_type": "stream",
     "text": [
      "2/2 [==============================] - ETA: 0s - loss: 26.3399\n",
      "Epoch 00001: val_loss improved from 1.99624 to 1.99554, saving model to ./model.h5\n",
      "2/2 [==============================] - 22s 11s/step - loss: 26.3399 - val_loss: 1.9955\n"
     ]
    },
    {
     "name": "stderr",
     "output_type": "stream",
     "text": [
      "\r",
      "  1%|          | 28/3200 [14:07<30:31:58, 34.65s/it]"
     ]
    },
    {
     "name": "stdout",
     "output_type": "stream",
     "text": [
      "2/2 [==============================] - ETA: 0s - loss: 101.5343\n",
      "Epoch 00001: val_loss improved from 1.99554 to 1.99404, saving model to ./model.h5\n",
      "2/2 [==============================] - 21s 11s/step - loss: 101.5343 - val_loss: 1.9940\n"
     ]
    },
    {
     "name": "stderr",
     "output_type": "stream",
     "text": [
      "\r",
      "  1%|          | 29/3200 [14:42<30:30:45, 34.64s/it]"
     ]
    },
    {
     "name": "stdout",
     "output_type": "stream",
     "text": [
      "2/2 [==============================] - ETA: 0s - loss: 49.1406\n",
      "Epoch 00001: val_loss improved from 1.99404 to 1.99200, saving model to ./model.h5\n",
      "2/2 [==============================] - 22s 11s/step - loss: 49.1406 - val_loss: 1.9920\n"
     ]
    },
    {
     "name": "stderr",
     "output_type": "stream",
     "text": [
      "\r",
      "  1%|          | 30/3200 [15:17<30:31:24, 34.66s/it]"
     ]
    },
    {
     "name": "stdout",
     "output_type": "stream",
     "text": [
      "2/2 [==============================] - ETA: 0s - loss: 88.3686\n",
      "Epoch 00001: val_loss improved from 1.99200 to 1.98942, saving model to ./model.h5\n",
      "2/2 [==============================] - 22s 11s/step - loss: 88.3686 - val_loss: 1.9894\n"
     ]
    },
    {
     "name": "stderr",
     "output_type": "stream",
     "text": [
      "\r",
      "  1%|          | 31/3200 [15:50<30:15:38, 34.38s/it]"
     ]
    },
    {
     "name": "stdout",
     "output_type": "stream",
     "text": [
      "2/2 [==============================] - ETA: 0s - loss: 86.2124\n",
      "Epoch 00001: val_loss improved from 1.98942 to 1.98647, saving model to ./model.h5\n",
      "2/2 [==============================] - 22s 11s/step - loss: 86.2124 - val_loss: 1.9865\n"
     ]
    },
    {
     "name": "stderr",
     "output_type": "stream",
     "text": [
      "\r",
      "  1%|          | 32/3200 [16:25<30:15:51, 34.39s/it]"
     ]
    },
    {
     "name": "stdout",
     "output_type": "stream",
     "text": [
      "2/2 [==============================] - ETA: 0s - loss: 0.0039\n",
      "Epoch 00001: val_loss improved from 1.98647 to 1.98386, saving model to ./model.h5\n",
      "2/2 [==============================] - 22s 11s/step - loss: 0.0039 - val_loss: 1.9839\n"
     ]
    },
    {
     "name": "stderr",
     "output_type": "stream",
     "text": [
      "\r",
      "  1%|          | 33/3200 [17:00<30:34:45, 34.76s/it]"
     ]
    },
    {
     "name": "stdout",
     "output_type": "stream",
     "text": [
      "2/2 [==============================] - ETA: 0s - loss: 0.0054\n",
      "Epoch 00001: val_loss improved from 1.98386 to 1.98173, saving model to ./model.h5\n",
      "2/2 [==============================] - 21s 11s/step - loss: 0.0054 - val_loss: 1.9817\n"
     ]
    },
    {
     "name": "stderr",
     "output_type": "stream",
     "text": [
      "\r",
      "  1%|          | 34/3200 [17:34<30:24:26, 34.58s/it]"
     ]
    },
    {
     "name": "stdout",
     "output_type": "stream",
     "text": [
      "2/2 [==============================] - ETA: 0s - loss: 60.8154\n",
      "Epoch 00001: val_loss improved from 1.98173 to 1.97945, saving model to ./model.h5\n",
      "2/2 [==============================] - 23s 12s/step - loss: 60.8154 - val_loss: 1.9795\n"
     ]
    },
    {
     "name": "stderr",
     "output_type": "stream",
     "text": [
      "\r",
      "  1%|          | 35/3200 [18:11<30:55:17, 35.17s/it]"
     ]
    },
    {
     "name": "stdout",
     "output_type": "stream",
     "text": [
      "2/2 [==============================] - ETA: 0s - loss: 140.0537\n",
      "Epoch 00001: val_loss improved from 1.97945 to 1.97605, saving model to ./model.h5\n",
      "2/2 [==============================] - 20s 10s/step - loss: 140.0537 - val_loss: 1.9761\n"
     ]
    },
    {
     "name": "stderr",
     "output_type": "stream",
     "text": [
      "\r",
      "  1%|          | 36/3200 [18:44<30:20:11, 34.52s/it]"
     ]
    },
    {
     "name": "stdout",
     "output_type": "stream",
     "text": [
      "2/2 [==============================] - ETA: 0s - loss: 22.4547\n",
      "Epoch 00001: val_loss improved from 1.97605 to 1.97229, saving model to ./model.h5\n",
      "2/2 [==============================] - 21s 11s/step - loss: 22.4547 - val_loss: 1.9723\n"
     ]
    },
    {
     "name": "stderr",
     "output_type": "stream",
     "text": [
      "\r",
      "  1%|          | 37/3200 [19:18<30:10:54, 34.35s/it]"
     ]
    },
    {
     "name": "stdout",
     "output_type": "stream",
     "text": [
      "2/2 [==============================] - ETA: 0s - loss: 4.6180\n",
      "Epoch 00001: val_loss improved from 1.97229 to 1.96893, saving model to ./model.h5\n",
      "2/2 [==============================] - 24s 12s/step - loss: 4.6180 - val_loss: 1.9689\n"
     ]
    },
    {
     "name": "stderr",
     "output_type": "stream",
     "text": [
      "\r",
      "  1%|          | 38/3200 [19:55<30:58:24, 35.26s/it]"
     ]
    },
    {
     "name": "stdout",
     "output_type": "stream",
     "text": [
      "2/2 [==============================] - ETA: 0s - loss: 12.5881\n",
      "Epoch 00001: val_loss improved from 1.96893 to 1.96593, saving model to ./model.h5\n",
      "2/2 [==============================] - 22s 11s/step - loss: 12.5881 - val_loss: 1.9659\n"
     ]
    },
    {
     "name": "stderr",
     "output_type": "stream",
     "text": [
      "\r",
      "  1%|          | 39/3200 [20:30<30:47:55, 35.08s/it]"
     ]
    },
    {
     "name": "stdout",
     "output_type": "stream",
     "text": [
      "2/2 [==============================] - ETA: 0s - loss: 33.2655\n",
      "Epoch 00001: val_loss improved from 1.96593 to 1.96304, saving model to ./model.h5\n",
      "2/2 [==============================] - 22s 11s/step - loss: 33.2655 - val_loss: 1.9630\n"
     ]
    },
    {
     "name": "stderr",
     "output_type": "stream",
     "text": [
      "\r",
      "  1%|▏         | 40/3200 [21:04<30:28:38, 34.72s/it]"
     ]
    },
    {
     "name": "stdout",
     "output_type": "stream",
     "text": [
      "2/2 [==============================] - ETA: 0s - loss: 183.7225\n",
      "Epoch 00001: val_loss improved from 1.96304 to 1.95949, saving model to ./model.h5\n",
      "2/2 [==============================] - 21s 11s/step - loss: 183.7225 - val_loss: 1.9595\n"
     ]
    },
    {
     "name": "stderr",
     "output_type": "stream",
     "text": [
      "\r",
      "  1%|▏         | 41/3200 [21:38<30:26:33, 34.69s/it]"
     ]
    },
    {
     "name": "stdout",
     "output_type": "stream",
     "text": [
      "2/2 [==============================] - ETA: 0s - loss: 224.6977\n",
      "Epoch 00001: val_loss improved from 1.95949 to 1.95495, saving model to ./model.h5\n",
      "2/2 [==============================] - 22s 11s/step - loss: 224.6977 - val_loss: 1.9549\n"
     ]
    },
    {
     "name": "stderr",
     "output_type": "stream",
     "text": [
      "\r",
      "  1%|▏         | 42/3200 [22:14<30:38:03, 34.92s/it]"
     ]
    },
    {
     "name": "stdout",
     "output_type": "stream",
     "text": [
      "2/2 [==============================] - ETA: 0s - loss: 219.0127\n",
      "Epoch 00001: val_loss improved from 1.95495 to 1.94925, saving model to ./model.h5\n",
      "2/2 [==============================] - 22s 11s/step - loss: 219.0127 - val_loss: 1.9492\n"
     ]
    },
    {
     "name": "stderr",
     "output_type": "stream",
     "text": [
      "\r",
      "  1%|▏         | 43/3200 [22:48<30:22:16, 34.63s/it]"
     ]
    },
    {
     "name": "stdout",
     "output_type": "stream",
     "text": [
      "2/2 [==============================] - ETA: 0s - loss: 17.6441\n",
      "Epoch 00001: val_loss improved from 1.94925 to 1.94366, saving model to ./model.h5\n",
      "2/2 [==============================] - 22s 11s/step - loss: 17.6441 - val_loss: 1.9437\n"
     ]
    },
    {
     "name": "stderr",
     "output_type": "stream",
     "text": [
      "\r",
      "  1%|▏         | 44/3200 [23:24<30:42:58, 35.04s/it]"
     ]
    },
    {
     "name": "stdout",
     "output_type": "stream",
     "text": [
      "2/2 [==============================] - ETA: 0s - loss: 3.6721\n",
      "Epoch 00001: val_loss improved from 1.94366 to 1.93885, saving model to ./model.h5\n",
      "2/2 [==============================] - 21s 11s/step - loss: 3.6721 - val_loss: 1.9389\n"
     ]
    },
    {
     "name": "stderr",
     "output_type": "stream",
     "text": [
      "\r",
      "  1%|▏         | 45/3200 [23:59<30:38:12, 34.96s/it]"
     ]
    },
    {
     "name": "stdout",
     "output_type": "stream",
     "text": [
      "2/2 [==============================] - ETA: 0s - loss: 0.0075\n",
      "Epoch 00001: val_loss improved from 1.93885 to 1.93490, saving model to ./model.h5\n",
      "2/2 [==============================] - 22s 11s/step - loss: 0.0075 - val_loss: 1.9349\n"
     ]
    },
    {
     "name": "stderr",
     "output_type": "stream",
     "text": [
      "\r",
      "  1%|▏         | 46/3200 [24:33<30:30:30, 34.82s/it]"
     ]
    },
    {
     "name": "stdout",
     "output_type": "stream",
     "text": [
      "2/2 [==============================] - ETA: 0s - loss: 0.2040\n",
      "Epoch 00001: val_loss improved from 1.93490 to 1.93168, saving model to ./model.h5\n",
      "2/2 [==============================] - 20s 10s/step - loss: 0.2040 - val_loss: 1.9317\n"
     ]
    },
    {
     "name": "stderr",
     "output_type": "stream",
     "text": [
      "\r",
      "  1%|▏         | 47/3200 [25:07<30:08:51, 34.42s/it]"
     ]
    },
    {
     "name": "stdout",
     "output_type": "stream",
     "text": [
      "2/2 [==============================] - ETA: 0s - loss: 0.5140\n",
      "Epoch 00001: val_loss improved from 1.93168 to 1.92898, saving model to ./model.h5\n",
      "2/2 [==============================] - 21s 11s/step - loss: 0.5140 - val_loss: 1.9290\n"
     ]
    },
    {
     "name": "stderr",
     "output_type": "stream",
     "text": [
      "\r",
      "  2%|▏         | 48/3200 [25:41<30:06:09, 34.38s/it]"
     ]
    },
    {
     "name": "stdout",
     "output_type": "stream",
     "text": [
      "2/2 [==============================] - ETA: 0s - loss: 0.2194\n",
      "Epoch 00001: val_loss improved from 1.92898 to 1.92672, saving model to ./model.h5\n",
      "2/2 [==============================] - 20s 10s/step - loss: 0.2194 - val_loss: 1.9267\n"
     ]
    },
    {
     "name": "stderr",
     "output_type": "stream",
     "text": [
      "\r",
      "  2%|▏         | 49/3200 [26:15<29:58:20, 34.24s/it]"
     ]
    },
    {
     "name": "stdout",
     "output_type": "stream",
     "text": [
      "2/2 [==============================] - ETA: 0s - loss: 0.0102\n",
      "Epoch 00001: val_loss improved from 1.92672 to 1.92487, saving model to ./model.h5\n",
      "2/2 [==============================] - 22s 11s/step - loss: 0.0102 - val_loss: 1.9249\n"
     ]
    },
    {
     "name": "stderr",
     "output_type": "stream",
     "text": [
      "\r",
      "  2%|▏         | 50/3200 [26:49<29:54:44, 34.19s/it]"
     ]
    },
    {
     "name": "stdout",
     "output_type": "stream",
     "text": [
      "2/2 [==============================] - ETA: 0s - loss: 0.0100\n",
      "Epoch 00001: val_loss improved from 1.92487 to 1.92338, saving model to ./model.h5\n",
      "2/2 [==============================] - 21s 11s/step - loss: 0.0100 - val_loss: 1.9234\n"
     ]
    },
    {
     "name": "stderr",
     "output_type": "stream",
     "text": [
      "\r",
      "  2%|▏         | 51/3200 [27:23<29:56:51, 34.24s/it]"
     ]
    },
    {
     "name": "stdout",
     "output_type": "stream",
     "text": [
      "2/2 [==============================] - ETA: 0s - loss: 17.0167\n",
      "Epoch 00001: val_loss improved from 1.92338 to 1.92195, saving model to ./model.h5\n",
      "2/2 [==============================] - 21s 11s/step - loss: 17.0167 - val_loss: 1.9219\n"
     ]
    },
    {
     "name": "stderr",
     "output_type": "stream",
     "text": [
      "\r",
      "  2%|▏         | 52/3200 [27:58<30:08:17, 34.47s/it]"
     ]
    },
    {
     "name": "stdout",
     "output_type": "stream",
     "text": [
      "2/2 [==============================] - ETA: 0s - loss: 29.0144\n",
      "Epoch 00001: val_loss improved from 1.92195 to 1.92026, saving model to ./model.h5\n",
      "2/2 [==============================] - 22s 11s/step - loss: 29.0144 - val_loss: 1.9203\n"
     ]
    },
    {
     "name": "stderr",
     "output_type": "stream",
     "text": [
      "\r",
      "  2%|▏         | 53/3200 [28:34<30:24:03, 34.78s/it]"
     ]
    },
    {
     "name": "stdout",
     "output_type": "stream",
     "text": [
      "2/2 [==============================] - ETA: 0s - loss: 19.5504\n",
      "Epoch 00001: val_loss improved from 1.92026 to 1.91840, saving model to ./model.h5\n",
      "2/2 [==============================] - 22s 11s/step - loss: 19.5504 - val_loss: 1.9184\n"
     ]
    },
    {
     "name": "stderr",
     "output_type": "stream",
     "text": [
      "\r",
      "  2%|▏         | 54/3200 [29:09<30:33:22, 34.97s/it]"
     ]
    },
    {
     "name": "stdout",
     "output_type": "stream",
     "text": [
      "2/2 [==============================] - ETA: 0s - loss: 66.1347\n",
      "Epoch 00001: val_loss improved from 1.91840 to 1.91634, saving model to ./model.h5\n",
      "2/2 [==============================] - 21s 11s/step - loss: 66.1347 - val_loss: 1.9163\n"
     ]
    },
    {
     "name": "stderr",
     "output_type": "stream",
     "text": [
      "\r",
      "  2%|▏         | 55/3200 [29:44<30:25:35, 34.83s/it]"
     ]
    },
    {
     "name": "stdout",
     "output_type": "stream",
     "text": [
      "2/2 [==============================] - ETA: 0s - loss: 0.1531\n",
      "Epoch 00001: val_loss improved from 1.91634 to 1.91456, saving model to ./model.h5\n",
      "2/2 [==============================] - 23s 11s/step - loss: 0.1531 - val_loss: 1.9146\n"
     ]
    },
    {
     "name": "stderr",
     "output_type": "stream",
     "text": [
      "\r",
      "  2%|▏         | 56/3200 [30:21<30:56:48, 35.44s/it]"
     ]
    },
    {
     "name": "stdout",
     "output_type": "stream",
     "text": [
      "2/2 [==============================] - ETA: 0s - loss: 44.0983\n",
      "Epoch 00001: val_loss improved from 1.91456 to 1.91273, saving model to ./model.h5\n",
      "2/2 [==============================] - 22s 11s/step - loss: 44.0983 - val_loss: 1.9127\n"
     ]
    },
    {
     "name": "stderr",
     "output_type": "stream",
     "text": [
      "\r",
      "  2%|▏         | 57/3200 [30:56<31:00:25, 35.52s/it]"
     ]
    },
    {
     "name": "stdout",
     "output_type": "stream",
     "text": [
      "2/2 [==============================] - ETA: 0s - loss: 97.3490\n",
      "Epoch 00001: val_loss improved from 1.91273 to 1.91067, saving model to ./model.h5\n",
      "2/2 [==============================] - 21s 10s/step - loss: 97.3490 - val_loss: 1.9107\n"
     ]
    },
    {
     "name": "stderr",
     "output_type": "stream",
     "text": [
      "\r",
      "  2%|▏         | 58/3200 [31:30<30:35:07, 35.04s/it]"
     ]
    },
    {
     "name": "stdout",
     "output_type": "stream",
     "text": [
      "2/2 [==============================] - ETA: 0s - loss: 196.4524\n",
      "Epoch 00001: val_loss improved from 1.91067 to 1.90751, saving model to ./model.h5\n",
      "2/2 [==============================] - 24s 12s/step - loss: 196.4524 - val_loss: 1.9075\n"
     ]
    },
    {
     "name": "stderr",
     "output_type": "stream",
     "text": [
      "\r",
      "  2%|▏         | 59/3200 [32:08<31:16:59, 35.85s/it]"
     ]
    },
    {
     "name": "stdout",
     "output_type": "stream",
     "text": [
      "2/2 [==============================] - ETA: 0s - loss: 175.4519\n",
      "Epoch 00001: val_loss improved from 1.90751 to 1.90360, saving model to ./model.h5\n",
      "2/2 [==============================] - 23s 11s/step - loss: 175.4519 - val_loss: 1.9036\n"
     ]
    },
    {
     "name": "stderr",
     "output_type": "stream",
     "text": [
      "\r",
      "  2%|▏         | 60/3200 [32:44<31:24:05, 36.00s/it]"
     ]
    },
    {
     "name": "stdout",
     "output_type": "stream",
     "text": [
      "2/2 [==============================] - ETA: 0s - loss: 0.4648\n",
      "Epoch 00001: val_loss improved from 1.90360 to 1.90015, saving model to ./model.h5\n",
      "2/2 [==============================] - 21s 11s/step - loss: 0.4648 - val_loss: 1.9002\n"
     ]
    },
    {
     "name": "stderr",
     "output_type": "stream",
     "text": [
      "\r",
      "  2%|▏         | 61/3200 [33:19<31:02:25, 35.60s/it]"
     ]
    },
    {
     "name": "stdout",
     "output_type": "stream",
     "text": [
      "2/2 [==============================] - ETA: 0s - loss: 26.7488\n",
      "Epoch 00001: val_loss improved from 1.90015 to 1.89735, saving model to ./model.h5\n",
      "2/2 [==============================] - 24s 12s/step - loss: 26.7488 - val_loss: 1.8974\n"
     ]
    },
    {
     "name": "stderr",
     "output_type": "stream",
     "text": [
      "\r",
      "  2%|▏         | 62/3200 [33:57<31:41:28, 36.36s/it]"
     ]
    },
    {
     "name": "stdout",
     "output_type": "stream",
     "text": [
      "2/2 [==============================] - ETA: 0s - loss: 0.4301\n",
      "Epoch 00001: val_loss improved from 1.89735 to 1.89509, saving model to ./model.h5\n",
      "2/2 [==============================] - 22s 11s/step - loss: 0.4301 - val_loss: 1.8951\n"
     ]
    },
    {
     "name": "stderr",
     "output_type": "stream",
     "text": [
      "\r",
      "  2%|▏         | 63/3200 [34:33<31:26:47, 36.09s/it]"
     ]
    },
    {
     "name": "stdout",
     "output_type": "stream",
     "text": [
      "2/2 [==============================] - ETA: 0s - loss: 0.3722\n",
      "Epoch 00001: val_loss improved from 1.89509 to 1.89335, saving model to ./model.h5\n",
      "2/2 [==============================] - 21s 11s/step - loss: 0.3722 - val_loss: 1.8934\n"
     ]
    },
    {
     "name": "stderr",
     "output_type": "stream",
     "text": [
      "\r",
      "  2%|▏         | 64/3200 [35:08<31:14:41, 35.87s/it]"
     ]
    },
    {
     "name": "stdout",
     "output_type": "stream",
     "text": [
      "2/2 [==============================] - ETA: 0s - loss: 0.3265\n",
      "Epoch 00001: val_loss improved from 1.89335 to 1.89204, saving model to ./model.h5\n",
      "2/2 [==============================] - 23s 11s/step - loss: 0.3265 - val_loss: 1.8920\n"
     ]
    },
    {
     "name": "stderr",
     "output_type": "stream",
     "text": [
      "\r",
      "  2%|▏         | 65/3200 [35:43<31:00:37, 35.61s/it]"
     ]
    },
    {
     "name": "stdout",
     "output_type": "stream",
     "text": [
      "2/2 [==============================] - ETA: 0s - loss: 133.3187\n",
      "Epoch 00001: val_loss improved from 1.89204 to 1.88965, saving model to ./model.h5\n",
      "2/2 [==============================] - 21s 11s/step - loss: 133.3187 - val_loss: 1.8897\n"
     ]
    },
    {
     "name": "stderr",
     "output_type": "stream",
     "text": [
      "\r",
      "  2%|▏         | 66/3200 [36:16<30:16:49, 34.78s/it]"
     ]
    },
    {
     "name": "stdout",
     "output_type": "stream",
     "text": [
      "2/2 [==============================] - ETA: 0s - loss: 3.7358\n",
      "Epoch 00001: val_loss improved from 1.88965 to 1.88730, saving model to ./model.h5\n",
      "2/2 [==============================] - 21s 11s/step - loss: 3.7358 - val_loss: 1.8873\n"
     ]
    },
    {
     "name": "stderr",
     "output_type": "stream",
     "text": [
      "\r",
      "  2%|▏         | 67/3200 [36:50<30:03:00, 34.53s/it]"
     ]
    },
    {
     "name": "stdout",
     "output_type": "stream",
     "text": [
      "2/2 [==============================] - ETA: 0s - loss: 61.1736\n",
      "Epoch 00001: val_loss improved from 1.88730 to 1.88463, saving model to ./model.h5\n",
      "2/2 [==============================] - 22s 11s/step - loss: 61.1736 - val_loss: 1.8846\n"
     ]
    },
    {
     "name": "stderr",
     "output_type": "stream",
     "text": [
      "\r",
      "  2%|▏         | 68/3200 [37:24<29:54:49, 34.38s/it]"
     ]
    },
    {
     "name": "stdout",
     "output_type": "stream",
     "text": [
      "2/2 [==============================] - ETA: 0s - loss: 11.3210\n",
      "Epoch 00001: val_loss improved from 1.88463 to 1.88192, saving model to ./model.h5\n",
      "2/2 [==============================] - 21s 11s/step - loss: 11.3210 - val_loss: 1.8819\n"
     ]
    },
    {
     "name": "stderr",
     "output_type": "stream",
     "text": [
      "\r",
      "  2%|▏         | 69/3200 [37:59<30:04:04, 34.57s/it]"
     ]
    },
    {
     "name": "stdout",
     "output_type": "stream",
     "text": [
      "2/2 [==============================] - ETA: 0s - loss: 45.8580\n",
      "Epoch 00001: val_loss improved from 1.88192 to 1.87919, saving model to ./model.h5\n",
      "2/2 [==============================] - 21s 10s/step - loss: 45.8580 - val_loss: 1.8792\n"
     ]
    },
    {
     "name": "stderr",
     "output_type": "stream",
     "text": [
      "\r",
      "  2%|▏         | 70/3200 [38:31<29:25:53, 33.85s/it]"
     ]
    },
    {
     "name": "stdout",
     "output_type": "stream",
     "text": [
      "2/2 [==============================] - ETA: 0s - loss: 219.5734\n",
      "Epoch 00001: val_loss improved from 1.87919 to 1.87478, saving model to ./model.h5\n",
      "2/2 [==============================] - 21s 11s/step - loss: 219.5734 - val_loss: 1.8748\n"
     ]
    },
    {
     "name": "stderr",
     "output_type": "stream",
     "text": [
      "\r",
      "  2%|▏         | 71/3200 [39:05<29:25:40, 33.86s/it]"
     ]
    },
    {
     "name": "stdout",
     "output_type": "stream",
     "text": [
      "2/2 [==============================] - ETA: 0s - loss: 10.3353\n",
      "Epoch 00001: val_loss improved from 1.87478 to 1.87046, saving model to ./model.h5\n",
      "2/2 [==============================] - 21s 10s/step - loss: 10.3353 - val_loss: 1.8705\n"
     ]
    },
    {
     "name": "stderr",
     "output_type": "stream",
     "text": [
      "\r",
      "  2%|▏         | 72/3200 [39:39<29:29:05, 33.93s/it]"
     ]
    },
    {
     "name": "stdout",
     "output_type": "stream",
     "text": [
      "2/2 [==============================] - ETA: 0s - loss: 0.5207\n",
      "Epoch 00001: val_loss improved from 1.87046 to 1.86694, saving model to ./model.h5\n",
      "2/2 [==============================] - 22s 11s/step - loss: 0.5207 - val_loss: 1.8669\n"
     ]
    },
    {
     "name": "stderr",
     "output_type": "stream",
     "text": [
      "\r",
      "  2%|▏         | 73/3200 [40:12<29:22:04, 33.81s/it]"
     ]
    },
    {
     "name": "stdout",
     "output_type": "stream",
     "text": [
      "2/2 [==============================] - ETA: 0s - loss: 0.0178\n",
      "Epoch 00001: val_loss improved from 1.86694 to 1.86410, saving model to ./model.h5\n",
      "2/2 [==============================] - 21s 11s/step - loss: 0.0178 - val_loss: 1.8641\n"
     ]
    },
    {
     "name": "stderr",
     "output_type": "stream",
     "text": [
      "\r",
      "  2%|▏         | 74/3200 [40:46<29:19:11, 33.77s/it]"
     ]
    },
    {
     "name": "stdout",
     "output_type": "stream",
     "text": [
      "2/2 [==============================] - ETA: 0s - loss: 4.8200\n",
      "Epoch 00001: val_loss improved from 1.86410 to 1.86162, saving model to ./model.h5\n",
      "2/2 [==============================] - 21s 11s/step - loss: 4.8200 - val_loss: 1.8616\n"
     ]
    },
    {
     "name": "stderr",
     "output_type": "stream",
     "text": [
      "\r",
      "  2%|▏         | 75/3200 [41:21<29:35:20, 34.09s/it]"
     ]
    },
    {
     "name": "stdout",
     "output_type": "stream",
     "text": [
      "2/2 [==============================] - ETA: 0s - loss: 7.4813\n",
      "Epoch 00001: val_loss improved from 1.86162 to 1.85924, saving model to ./model.h5\n",
      "2/2 [==============================] - 21s 10s/step - loss: 7.4813 - val_loss: 1.8592\n"
     ]
    },
    {
     "name": "stderr",
     "output_type": "stream",
     "text": [
      "\r",
      "  2%|▏         | 76/3200 [41:54<29:16:34, 33.74s/it]"
     ]
    },
    {
     "name": "stdout",
     "output_type": "stream",
     "text": [
      "2/2 [==============================] - ETA: 0s - loss: 8.5695\n",
      "Epoch 00001: val_loss improved from 1.85924 to 1.85695, saving model to ./model.h5\n",
      "2/2 [==============================] - 21s 11s/step - loss: 8.5695 - val_loss: 1.8570\n"
     ]
    },
    {
     "name": "stderr",
     "output_type": "stream",
     "text": [
      "\r",
      "  2%|▏         | 77/3200 [42:28<29:16:00, 33.74s/it]"
     ]
    },
    {
     "name": "stdout",
     "output_type": "stream",
     "text": [
      "2/2 [==============================] - ETA: 0s - loss: 9.7581\n",
      "Epoch 00001: val_loss improved from 1.85695 to 1.85471, saving model to ./model.h5\n",
      "2/2 [==============================] - 21s 11s/step - loss: 9.7581 - val_loss: 1.8547\n"
     ]
    },
    {
     "name": "stderr",
     "output_type": "stream",
     "text": [
      "\r",
      "  2%|▏         | 78/3200 [43:02<29:20:13, 33.83s/it]"
     ]
    },
    {
     "name": "stdout",
     "output_type": "stream",
     "text": [
      "2/2 [==============================] - ETA: 0s - loss: 10.6343\n",
      "Epoch 00001: val_loss improved from 1.85471 to 1.85247, saving model to ./model.h5\n",
      "2/2 [==============================] - 21s 10s/step - loss: 10.6343 - val_loss: 1.8525\n"
     ]
    },
    {
     "name": "stderr",
     "output_type": "stream",
     "text": [
      "\r",
      "  2%|▏         | 79/3200 [43:35<29:05:55, 33.56s/it]"
     ]
    },
    {
     "name": "stdout",
     "output_type": "stream",
     "text": [
      "2/2 [==============================] - ETA: 0s - loss: 17.0271\n",
      "Epoch 00001: val_loss improved from 1.85247 to 1.85018, saving model to ./model.h5\n",
      "2/2 [==============================] - 18s 9s/step - loss: 17.0271 - val_loss: 1.8502\n"
     ]
    },
    {
     "name": "stderr",
     "output_type": "stream",
     "text": [
      "\r",
      "  2%|▎         | 80/3200 [44:03<27:52:01, 32.15s/it]"
     ]
    },
    {
     "name": "stdout",
     "output_type": "stream",
     "text": [
      "2/2 [==============================] - ETA: 0s - loss: 28.4623\n",
      "Epoch 00001: val_loss improved from 1.85018 to 1.84778, saving model to ./model.h5\n",
      "2/2 [==============================] - 21s 11s/step - loss: 28.4623 - val_loss: 1.8478\n"
     ]
    },
    {
     "name": "stderr",
     "output_type": "stream",
     "text": [
      "\r",
      "  3%|▎         | 81/3200 [44:36<27:52:56, 32.18s/it]"
     ]
    },
    {
     "name": "stdout",
     "output_type": "stream",
     "text": [
      "2/2 [==============================] - ETA: 0s - loss: 62.5408\n",
      "Epoch 00001: val_loss improved from 1.84778 to 1.84529, saving model to ./model.h5\n",
      "2/2 [==============================] - 21s 11s/step - loss: 62.5408 - val_loss: 1.8453\n"
     ]
    },
    {
     "name": "stderr",
     "output_type": "stream",
     "text": [
      "\r",
      "  3%|▎         | 82/3200 [45:08<28:00:40, 32.34s/it]"
     ]
    },
    {
     "name": "stdout",
     "output_type": "stream",
     "text": [
      "2/2 [==============================] - ETA: 0s - loss: 150.1029\n",
      "Epoch 00001: val_loss improved from 1.84529 to 1.84205, saving model to ./model.h5\n",
      "2/2 [==============================] - 20s 10s/step - loss: 150.1029 - val_loss: 1.8421\n"
     ]
    },
    {
     "name": "stderr",
     "output_type": "stream",
     "text": [
      "\r",
      "  3%|▎         | 83/3200 [45:41<28:06:20, 32.46s/it]"
     ]
    },
    {
     "name": "stdout",
     "output_type": "stream",
     "text": [
      "2/2 [==============================] - ETA: 0s - loss: 28.3898\n",
      "Epoch 00001: val_loss improved from 1.84205 to 1.83900, saving model to ./model.h5\n",
      "2/2 [==============================] - 21s 10s/step - loss: 28.3898 - val_loss: 1.8390\n"
     ]
    },
    {
     "name": "stderr",
     "output_type": "stream",
     "text": [
      "\r",
      "  3%|▎         | 84/3200 [46:13<28:00:00, 32.35s/it]"
     ]
    },
    {
     "name": "stdout",
     "output_type": "stream",
     "text": [
      "2/2 [==============================] - ETA: 0s - loss: 94.9541\n",
      "Epoch 00001: val_loss improved from 1.83900 to 1.83574, saving model to ./model.h5\n",
      "2/2 [==============================] - 21s 10s/step - loss: 94.9541 - val_loss: 1.8357\n"
     ]
    },
    {
     "name": "stderr",
     "output_type": "stream",
     "text": [
      "\r",
      "  3%|▎         | 85/3200 [46:46<28:12:16, 32.60s/it]"
     ]
    },
    {
     "name": "stdout",
     "output_type": "stream",
     "text": [
      "2/2 [==============================] - ETA: 0s - loss: 44.3741\n",
      "Epoch 00001: val_loss improved from 1.83574 to 1.83262, saving model to ./model.h5\n",
      "2/2 [==============================] - 21s 10s/step - loss: 44.3741 - val_loss: 1.8326\n"
     ]
    },
    {
     "name": "stderr",
     "output_type": "stream",
     "text": [
      "\r",
      "  3%|▎         | 86/3200 [47:20<28:24:07, 32.83s/it]"
     ]
    },
    {
     "name": "stdout",
     "output_type": "stream",
     "text": [
      "2/2 [==============================] - ETA: 0s - loss: 0.2790\n",
      "Epoch 00001: val_loss improved from 1.83262 to 1.83005, saving model to ./model.h5\n",
      "2/2 [==============================] - 21s 11s/step - loss: 0.2790 - val_loss: 1.8301\n"
     ]
    },
    {
     "name": "stderr",
     "output_type": "stream",
     "text": [
      "\r",
      "  3%|▎         | 87/3200 [47:54<28:40:23, 33.16s/it]"
     ]
    },
    {
     "name": "stdout",
     "output_type": "stream",
     "text": [
      "2/2 [==============================] - ETA: 0s - loss: 0.3101\n",
      "Epoch 00001: val_loss improved from 1.83005 to 1.82809, saving model to ./model.h5\n",
      "2/2 [==============================] - 21s 11s/step - loss: 0.3101 - val_loss: 1.8281\n"
     ]
    },
    {
     "name": "stderr",
     "output_type": "stream",
     "text": [
      "\r",
      "  3%|▎         | 88/3200 [48:27<28:48:49, 33.33s/it]"
     ]
    },
    {
     "name": "stdout",
     "output_type": "stream",
     "text": [
      "2/2 [==============================] - ETA: 0s - loss: 0.4082\n",
      "Epoch 00001: val_loss improved from 1.82809 to 1.82663, saving model to ./model.h5\n",
      "2/2 [==============================] - 20s 10s/step - loss: 0.4082 - val_loss: 1.8266\n"
     ]
    },
    {
     "name": "stderr",
     "output_type": "stream",
     "text": [
      "\r",
      "  3%|▎         | 89/3200 [49:01<28:56:52, 33.50s/it]"
     ]
    },
    {
     "name": "stdout",
     "output_type": "stream",
     "text": [
      "2/2 [==============================] - ETA: 0s - loss: 0.6140\n",
      "Epoch 00001: val_loss improved from 1.82663 to 1.82563, saving model to ./model.h5\n",
      "2/2 [==============================] - 22s 11s/step - loss: 0.6140 - val_loss: 1.8256\n"
     ]
    },
    {
     "name": "stderr",
     "output_type": "stream",
     "text": [
      "\r",
      "  3%|▎         | 90/3200 [49:35<29:07:03, 33.71s/it]"
     ]
    },
    {
     "name": "stdout",
     "output_type": "stream",
     "text": [
      "2/2 [==============================] - ETA: 0s - loss: 12.7390\n",
      "Epoch 00001: val_loss improved from 1.82563 to 1.82481, saving model to ./model.h5\n",
      "2/2 [==============================] - 20s 10s/step - loss: 12.7390 - val_loss: 1.8248\n"
     ]
    },
    {
     "name": "stderr",
     "output_type": "stream",
     "text": [
      "\r",
      "  3%|▎         | 91/3200 [50:10<29:25:41, 34.08s/it]"
     ]
    },
    {
     "name": "stdout",
     "output_type": "stream",
     "text": [
      "2/2 [==============================] - ETA: 0s - loss: 73.3935 \n",
      "Epoch 00001: val_loss improved from 1.82481 to 1.82342, saving model to ./model.h5\n",
      "2/2 [==============================] - 21s 10s/step - loss: 73.3935 - val_loss: 1.8234\n"
     ]
    },
    {
     "name": "stderr",
     "output_type": "stream",
     "text": [
      "\r",
      "  3%|▎         | 92/3200 [50:43<29:05:20, 33.69s/it]"
     ]
    },
    {
     "name": "stdout",
     "output_type": "stream",
     "text": [
      "2/2 [==============================] - ETA: 0s - loss: 141.1004\n",
      "Epoch 00001: val_loss improved from 1.82342 to 1.82092, saving model to ./model.h5\n",
      "2/2 [==============================] - 20s 10s/step - loss: 141.1004 - val_loss: 1.8209\n"
     ]
    },
    {
     "name": "stderr",
     "output_type": "stream",
     "text": [
      "\r",
      "  3%|▎         | 93/3200 [51:16<28:48:26, 33.38s/it]"
     ]
    },
    {
     "name": "stdout",
     "output_type": "stream",
     "text": [
      "2/2 [==============================] - ETA: 0s - loss: 168.2789\n",
      "Epoch 00001: val_loss improved from 1.82092 to 1.81674, saving model to ./model.h5\n",
      "2/2 [==============================] - 20s 10s/step - loss: 168.2789 - val_loss: 1.8167\n"
     ]
    },
    {
     "name": "stderr",
     "output_type": "stream",
     "text": [
      "\r",
      "  3%|▎         | 94/3200 [51:49<28:50:27, 33.43s/it]"
     ]
    },
    {
     "name": "stdout",
     "output_type": "stream",
     "text": [
      "2/2 [==============================] - ETA: 0s - loss: 112.7418\n",
      "Epoch 00001: val_loss improved from 1.81674 to 1.81185, saving model to ./model.h5\n",
      "2/2 [==============================] - 20s 10s/step - loss: 112.7418 - val_loss: 1.8119\n"
     ]
    },
    {
     "name": "stderr",
     "output_type": "stream",
     "text": [
      "\r",
      "  3%|▎         | 95/3200 [52:22<28:31:41, 33.08s/it]"
     ]
    },
    {
     "name": "stdout",
     "output_type": "stream",
     "text": [
      "2/2 [==============================] - ETA: 0s - loss: 43.7310\n",
      "Epoch 00001: val_loss improved from 1.81185 to 1.80703, saving model to ./model.h5\n",
      "2/2 [==============================] - 22s 11s/step - loss: 43.7310 - val_loss: 1.8070\n"
     ]
    },
    {
     "name": "stderr",
     "output_type": "stream",
     "text": [
      "\r",
      "  3%|▎         | 96/3200 [52:56<28:55:16, 33.54s/it]"
     ]
    },
    {
     "name": "stdout",
     "output_type": "stream",
     "text": [
      "2/2 [==============================] - ETA: 0s - loss: 14.9386\n",
      "Epoch 00001: val_loss improved from 1.80703 to 1.80277, saving model to ./model.h5\n",
      "2/2 [==============================] - 26s 13s/step - loss: 14.9386 - val_loss: 1.8028\n"
     ]
    },
    {
     "name": "stderr",
     "output_type": "stream",
     "text": [
      "\r",
      "  3%|▎         | 97/3200 [53:36<30:29:05, 35.37s/it]"
     ]
    },
    {
     "name": "stdout",
     "output_type": "stream",
     "text": [
      "2/2 [==============================] - ETA: 0s - loss: 2.2256\n",
      "Epoch 00001: val_loss improved from 1.80277 to 1.79928, saving model to ./model.h5\n",
      "2/2 [==============================] - 27s 13s/step - loss: 2.2256 - val_loss: 1.7993\n"
     ]
    },
    {
     "name": "stderr",
     "output_type": "stream",
     "text": [
      "\r",
      "  3%|▎         | 98/3200 [54:18<32:13:15, 37.39s/it]"
     ]
    },
    {
     "name": "stdout",
     "output_type": "stream",
     "text": [
      "2/2 [==============================] - ETA: 0s - loss: 0.2128\n",
      "Epoch 00001: val_loss improved from 1.79928 to 1.79649, saving model to ./model.h5\n",
      "2/2 [==============================] - 28s 14s/step - loss: 0.2128 - val_loss: 1.7965\n"
     ]
    },
    {
     "name": "stderr",
     "output_type": "stream",
     "text": [
      "\r",
      "  3%|▎         | 99/3200 [55:01<33:45:09, 39.18s/it]"
     ]
    },
    {
     "name": "stdout",
     "output_type": "stream",
     "text": [
      "2/2 [==============================] - ETA: 0s - loss: 0.1500\n",
      "Epoch 00001: val_loss improved from 1.79649 to 1.79430, saving model to ./model.h5\n",
      "2/2 [==============================] - 24s 12s/step - loss: 0.1500 - val_loss: 1.7943\n"
     ]
    },
    {
     "name": "stderr",
     "output_type": "stream",
     "text": [
      "\r",
      "  3%|▎         | 100/3200 [55:42<34:06:12, 39.60s/it]"
     ]
    },
    {
     "name": "stdout",
     "output_type": "stream",
     "text": [
      "2/2 [==============================] - ETA: 0s - loss: 0.3364\n",
      "Epoch 00001: val_loss improved from 1.79430 to 1.79264, saving model to ./model.h5\n",
      "2/2 [==============================] - 25s 13s/step - loss: 0.3364 - val_loss: 1.7926\n"
     ]
    },
    {
     "name": "stderr",
     "output_type": "stream",
     "text": [
      "\r",
      "  3%|▎         | 101/3200 [56:23<34:34:37, 40.17s/it]"
     ]
    },
    {
     "name": "stdout",
     "output_type": "stream",
     "text": [
      "2/2 [==============================] - ETA: 0s - loss: 0.3724\n",
      "Epoch 00001: val_loss improved from 1.79264 to 1.79142, saving model to ./model.h5\n",
      "2/2 [==============================] - 26s 13s/step - loss: 0.3724 - val_loss: 1.7914\n"
     ]
    },
    {
     "name": "stderr",
     "output_type": "stream",
     "text": [
      "\r",
      "  3%|▎         | 102/3200 [57:04<34:44:43, 40.38s/it]"
     ]
    },
    {
     "name": "stdout",
     "output_type": "stream",
     "text": [
      "2/2 [==============================] - ETA: 0s - loss: 12.0363\n",
      "Epoch 00001: val_loss improved from 1.79142 to 1.79037, saving model to ./model.h5\n",
      "2/2 [==============================] - 25s 12s/step - loss: 12.0363 - val_loss: 1.7904\n"
     ]
    },
    {
     "name": "stderr",
     "output_type": "stream",
     "text": [
      "\r",
      "  3%|▎         | 103/3200 [57:44<34:37:29, 40.25s/it]"
     ]
    },
    {
     "name": "stdout",
     "output_type": "stream",
     "text": [
      "2/2 [==============================] - ETA: 0s - loss: 49.1850\n",
      "Epoch 00001: val_loss improved from 1.79037 to 1.78874, saving model to ./model.h5\n",
      "2/2 [==============================] - 25s 13s/step - loss: 49.1850 - val_loss: 1.7887\n"
     ]
    },
    {
     "name": "stderr",
     "output_type": "stream",
     "text": [
      "\r",
      "  3%|▎         | 104/3200 [58:24<34:35:41, 40.23s/it]"
     ]
    },
    {
     "name": "stdout",
     "output_type": "stream",
     "text": [
      "2/2 [==============================] - ETA: 0s - loss: 0.3516\n",
      "Epoch 00001: val_loss improved from 1.78874 to 1.78731, saving model to ./model.h5\n",
      "2/2 [==============================] - 25s 13s/step - loss: 0.3516 - val_loss: 1.7873\n"
     ]
    },
    {
     "name": "stderr",
     "output_type": "stream",
     "text": [
      "\r",
      "  3%|▎         | 105/3200 [59:07<35:11:25, 40.93s/it]"
     ]
    },
    {
     "name": "stdout",
     "output_type": "stream",
     "text": [
      "2/2 [==============================] - ETA: 0s - loss: 0.3066\n",
      "Epoch 00001: val_loss improved from 1.78731 to 1.78626, saving model to ./model.h5\n",
      "2/2 [==============================] - 27s 13s/step - loss: 0.3066 - val_loss: 1.7863\n"
     ]
    },
    {
     "name": "stderr",
     "output_type": "stream",
     "text": [
      "\r",
      "  3%|▎         | 106/3200 [59:50<35:40:44, 41.51s/it]"
     ]
    },
    {
     "name": "stdout",
     "output_type": "stream",
     "text": [
      "2/2 [==============================] - ETA: 0s - loss: 12.6502\n",
      "Epoch 00001: val_loss improved from 1.78626 to 1.78546, saving model to ./model.h5\n",
      "2/2 [==============================] - 26s 13s/step - loss: 12.6502 - val_loss: 1.7855\n"
     ]
    },
    {
     "name": "stderr",
     "output_type": "stream",
     "text": [
      "\r",
      "  3%|▎         | 107/3200 [1:00:30<35:19:56, 41.12s/it]"
     ]
    },
    {
     "name": "stdout",
     "output_type": "stream",
     "text": [
      "2/2 [==============================] - ETA: 0s - loss: 0.4414\n",
      "Epoch 00001: val_loss improved from 1.78546 to 1.78488, saving model to ./model.h5\n",
      "2/2 [==============================] - 25s 13s/step - loss: 0.4414 - val_loss: 1.7849\n"
     ]
    },
    {
     "name": "stderr",
     "output_type": "stream",
     "text": [
      "\r",
      "  3%|▎         | 108/3200 [1:01:11<35:13:01, 41.00s/it]"
     ]
    },
    {
     "name": "stdout",
     "output_type": "stream",
     "text": [
      "2/2 [==============================] - ETA: 0s - loss: 0.3286\n",
      "Epoch 00001: val_loss improved from 1.78488 to 1.78453, saving model to ./model.h5\n",
      "2/2 [==============================] - 25s 12s/step - loss: 0.3286 - val_loss: 1.7845\n"
     ]
    },
    {
     "name": "stderr",
     "output_type": "stream",
     "text": [
      "\r",
      "  3%|▎         | 109/3200 [1:01:51<35:02:46, 40.82s/it]"
     ]
    },
    {
     "name": "stdout",
     "output_type": "stream",
     "text": [
      "2/2 [==============================] - ETA: 0s - loss: 40.8447\n",
      "Epoch 00001: val_loss improved from 1.78453 to 1.78391, saving model to ./model.h5\n",
      "2/2 [==============================] - 26s 13s/step - loss: 40.8447 - val_loss: 1.7839\n"
     ]
    },
    {
     "name": "stderr",
     "output_type": "stream",
     "text": [
      "\r",
      "  3%|▎         | 110/3200 [1:02:33<35:10:29, 40.98s/it]"
     ]
    },
    {
     "name": "stdout",
     "output_type": "stream",
     "text": [
      "2/2 [==============================] - ETA: 0s - loss: 26.9329\n",
      "Epoch 00001: val_loss improved from 1.78391 to 1.78312, saving model to ./model.h5\n",
      "2/2 [==============================] - 24s 12s/step - loss: 26.9329 - val_loss: 1.7831\n"
     ]
    },
    {
     "name": "stderr",
     "output_type": "stream",
     "text": [
      "\r",
      "  3%|▎         | 111/3200 [1:03:13<35:00:27, 40.80s/it]"
     ]
    },
    {
     "name": "stdout",
     "output_type": "stream",
     "text": [
      "2/2 [==============================] - ETA: 0s - loss: 12.1124\n",
      "Epoch 00001: val_loss improved from 1.78312 to 1.78230, saving model to ./model.h5\n",
      "2/2 [==============================] - 25s 13s/step - loss: 12.1124 - val_loss: 1.7823\n"
     ]
    },
    {
     "name": "stderr",
     "output_type": "stream",
     "text": [
      "\r",
      "  4%|▎         | 112/3200 [1:03:53<34:50:35, 40.62s/it]"
     ]
    },
    {
     "name": "stdout",
     "output_type": "stream",
     "text": [
      "2/2 [==============================] - ETA: 0s - loss: 2.8598\n",
      "Epoch 00001: val_loss improved from 1.78230 to 1.78161, saving model to ./model.h5\n",
      "2/2 [==============================] - 23s 12s/step - loss: 2.8598 - val_loss: 1.7816\n"
     ]
    },
    {
     "name": "stderr",
     "output_type": "stream",
     "text": [
      "\r",
      "  4%|▎         | 113/3200 [1:04:33<34:33:21, 40.30s/it]"
     ]
    },
    {
     "name": "stdout",
     "output_type": "stream",
     "text": [
      "2/2 [==============================] - ETA: 0s - loss: 0.0391\n",
      "Epoch 00001: val_loss improved from 1.78161 to 1.78109, saving model to ./model.h5\n",
      "2/2 [==============================] - 24s 12s/step - loss: 0.0391 - val_loss: 1.7811\n"
     ]
    },
    {
     "name": "stderr",
     "output_type": "stream",
     "text": [
      "\r",
      "  4%|▎         | 114/3200 [1:05:09<33:27:54, 39.04s/it]"
     ]
    },
    {
     "name": "stdout",
     "output_type": "stream",
     "text": [
      "2/2 [==============================] - ETA: 0s - loss: 0.0443\n",
      "Epoch 00001: val_loss improved from 1.78109 to 1.78072, saving model to ./model.h5\n",
      "2/2 [==============================] - 26s 13s/step - loss: 0.0443 - val_loss: 1.7807\n"
     ]
    },
    {
     "name": "stderr",
     "output_type": "stream",
     "text": [
      "\r",
      "  4%|▎         | 115/3200 [1:05:49<33:49:32, 39.47s/it]"
     ]
    },
    {
     "name": "stdout",
     "output_type": "stream",
     "text": [
      "2/2 [==============================] - ETA: 0s - loss: 1.6527\n",
      "Epoch 00001: val_loss improved from 1.78072 to 1.78037, saving model to ./model.h5\n",
      "2/2 [==============================] - 24s 12s/step - loss: 1.6527 - val_loss: 1.7804\n"
     ]
    },
    {
     "name": "stderr",
     "output_type": "stream",
     "text": [
      "\r",
      "  4%|▎         | 116/3200 [1:06:30<34:00:32, 39.70s/it]"
     ]
    },
    {
     "name": "stdout",
     "output_type": "stream",
     "text": [
      "2/2 [==============================] - ETA: 0s - loss: 1.3245\n",
      "Epoch 00001: val_loss improved from 1.78037 to 1.78001, saving model to ./model.h5\n",
      "2/2 [==============================] - 25s 12s/step - loss: 1.3245 - val_loss: 1.7800\n"
     ]
    },
    {
     "name": "stderr",
     "output_type": "stream",
     "text": [
      "\r",
      "  4%|▎         | 117/3200 [1:07:10<34:07:12, 39.84s/it]"
     ]
    },
    {
     "name": "stdout",
     "output_type": "stream",
     "text": [
      "2/2 [==============================] - ETA: 0s - loss: 1.1118\n",
      "Epoch 00001: val_loss improved from 1.78001 to 1.77949, saving model to ./model.h5\n",
      "2/2 [==============================] - 26s 13s/step - loss: 1.1118 - val_loss: 1.7795\n"
     ]
    },
    {
     "name": "stderr",
     "output_type": "stream",
     "text": [
      "\r",
      "  4%|▎         | 118/3200 [1:07:52<34:40:59, 40.51s/it]"
     ]
    },
    {
     "name": "stdout",
     "output_type": "stream",
     "text": [
      "2/2 [==============================] - ETA: 0s - loss: 1.0474\n",
      "Epoch 00001: val_loss improved from 1.77949 to 1.77876, saving model to ./model.h5\n",
      "2/2 [==============================] - 24s 12s/step - loss: 1.0474 - val_loss: 1.7788\n"
     ]
    },
    {
     "name": "stderr",
     "output_type": "stream",
     "text": [
      "\r",
      "  4%|▎         | 119/3200 [1:08:31<34:25:45, 40.23s/it]"
     ]
    },
    {
     "name": "stdout",
     "output_type": "stream",
     "text": [
      "2/2 [==============================] - ETA: 0s - loss: 1.3874\n",
      "Epoch 00001: val_loss improved from 1.77876 to 1.77790, saving model to ./model.h5\n",
      "2/2 [==============================] - 26s 13s/step - loss: 1.3874 - val_loss: 1.7779\n"
     ]
    },
    {
     "name": "stderr",
     "output_type": "stream",
     "text": [
      "\r",
      "  4%|▍         | 120/3200 [1:09:13<34:40:29, 40.53s/it]"
     ]
    },
    {
     "name": "stdout",
     "output_type": "stream",
     "text": [
      "2/2 [==============================] - ETA: 0s - loss: 2.3121\n",
      "Epoch 00001: val_loss improved from 1.77790 to 1.77697, saving model to ./model.h5\n",
      "2/2 [==============================] - 25s 13s/step - loss: 2.3121 - val_loss: 1.7770\n"
     ]
    },
    {
     "name": "stderr",
     "output_type": "stream",
     "text": [
      "\r",
      "  4%|▍         | 121/3200 [1:09:55<35:05:21, 41.03s/it]"
     ]
    },
    {
     "name": "stdout",
     "output_type": "stream",
     "text": [
      "2/2 [==============================] - ETA: 0s - loss: 3.3211\n",
      "Epoch 00001: val_loss improved from 1.77697 to 1.77615, saving model to ./model.h5\n",
      "2/2 [==============================] - 25s 12s/step - loss: 3.3211 - val_loss: 1.7762\n"
     ]
    },
    {
     "name": "stderr",
     "output_type": "stream",
     "text": [
      "\r",
      "  4%|▍         | 122/3200 [1:10:35<34:53:26, 40.81s/it]"
     ]
    },
    {
     "name": "stdout",
     "output_type": "stream",
     "text": [
      "2/2 [==============================] - ETA: 0s - loss: 4.4061\n",
      "Epoch 00001: val_loss improved from 1.77615 to 1.77525, saving model to ./model.h5\n",
      "2/2 [==============================] - 25s 13s/step - loss: 4.4061 - val_loss: 1.7752\n"
     ]
    },
    {
     "name": "stderr",
     "output_type": "stream",
     "text": [
      "\r",
      "  4%|▍         | 123/3200 [1:11:16<34:53:38, 40.82s/it]"
     ]
    },
    {
     "name": "stdout",
     "output_type": "stream",
     "text": [
      "2/2 [==============================] - ETA: 0s - loss: 5.1184\n",
      "Epoch 00001: val_loss improved from 1.77525 to 1.77426, saving model to ./model.h5\n",
      "2/2 [==============================] - 25s 13s/step - loss: 5.1184 - val_loss: 1.7743\n"
     ]
    },
    {
     "name": "stderr",
     "output_type": "stream",
     "text": [
      "\r",
      "  4%|▍         | 124/3200 [1:11:56<34:41:19, 40.60s/it]"
     ]
    },
    {
     "name": "stdout",
     "output_type": "stream",
     "text": [
      "2/2 [==============================] - ETA: 0s - loss: 5.0385\n",
      "Epoch 00001: val_loss improved from 1.77426 to 1.77335, saving model to ./model.h5\n",
      "2/2 [==============================] - 26s 13s/step - loss: 5.0385 - val_loss: 1.7734\n"
     ]
    },
    {
     "name": "stderr",
     "output_type": "stream",
     "text": [
      "\r",
      "  4%|▍         | 125/3200 [1:12:39<35:12:27, 41.22s/it]"
     ]
    },
    {
     "name": "stdout",
     "output_type": "stream",
     "text": [
      "2/2 [==============================] - ETA: 0s - loss: 6.5787\n",
      "Epoch 00001: val_loss improved from 1.77335 to 1.77225, saving model to ./model.h5\n",
      "2/2 [==============================] - 27s 13s/step - loss: 6.5787 - val_loss: 1.7722\n"
     ]
    },
    {
     "name": "stderr",
     "output_type": "stream",
     "text": [
      "\r",
      "  4%|▍         | 126/3200 [1:13:22<35:50:51, 41.98s/it]"
     ]
    },
    {
     "name": "stdout",
     "output_type": "stream",
     "text": [
      "2/2 [==============================] - ETA: 0s - loss: 9.5288 \n",
      "Epoch 00001: val_loss improved from 1.77225 to 1.77090, saving model to ./model.h5\n",
      "2/2 [==============================] - 25s 12s/step - loss: 9.5288 - val_loss: 1.7709\n"
     ]
    },
    {
     "name": "stderr",
     "output_type": "stream",
     "text": [
      "\r",
      "  4%|▍         | 127/3200 [1:14:03<35:32:29, 41.64s/it]"
     ]
    },
    {
     "name": "stdout",
     "output_type": "stream",
     "text": [
      "2/2 [==============================] - ETA: 0s - loss: 7.4561\n",
      "Epoch 00001: val_loss improved from 1.77090 to 1.76953, saving model to ./model.h5\n",
      "2/2 [==============================] - 25s 12s/step - loss: 7.4561 - val_loss: 1.7695\n"
     ]
    },
    {
     "name": "stderr",
     "output_type": "stream",
     "text": [
      "\r",
      "  4%|▍         | 128/3200 [1:14:44<35:14:13, 41.29s/it]"
     ]
    },
    {
     "name": "stdout",
     "output_type": "stream",
     "text": [
      "2/2 [==============================] - ETA: 0s - loss: 0.2567\n",
      "Epoch 00001: val_loss improved from 1.76953 to 1.76830, saving model to ./model.h5\n",
      "2/2 [==============================] - 26s 13s/step - loss: 0.2567 - val_loss: 1.7683\n"
     ]
    },
    {
     "name": "stderr",
     "output_type": "stream",
     "text": [
      "\r",
      "  4%|▍         | 129/3200 [1:15:27<35:36:58, 41.75s/it]"
     ]
    },
    {
     "name": "stdout",
     "output_type": "stream",
     "text": [
      "2/2 [==============================] - ETA: 0s - loss: 0.2592\n",
      "Epoch 00001: val_loss improved from 1.76830 to 1.76705, saving model to ./model.h5\n",
      "2/2 [==============================] - 25s 12s/step - loss: 0.2592 - val_loss: 1.7671\n"
     ]
    },
    {
     "name": "stderr",
     "output_type": "stream",
     "text": [
      "\r",
      "  4%|▍         | 130/3200 [1:16:08<35:25:25, 41.54s/it]"
     ]
    },
    {
     "name": "stdout",
     "output_type": "stream",
     "text": [
      "2/2 [==============================] - ETA: 0s - loss: 0.3607\n",
      "Epoch 00001: val_loss improved from 1.76705 to 1.76518, saving model to ./model.h5\n",
      "2/2 [==============================] - 27s 13s/step - loss: 0.3607 - val_loss: 1.7652\n"
     ]
    },
    {
     "name": "stderr",
     "output_type": "stream",
     "text": [
      "\r",
      "  4%|▍         | 131/3200 [1:16:51<35:52:27, 42.08s/it]"
     ]
    },
    {
     "name": "stdout",
     "output_type": "stream",
     "text": [
      "2/2 [==============================] - ETA: 0s - loss: 0.3076\n",
      "Epoch 00001: val_loss improved from 1.76518 to 1.76378, saving model to ./model.h5\n",
      "2/2 [==============================] - 24s 12s/step - loss: 0.3076 - val_loss: 1.7638\n"
     ]
    },
    {
     "name": "stderr",
     "output_type": "stream",
     "text": [
      "\r",
      "  4%|▍         | 132/3200 [1:17:33<35:44:28, 41.94s/it]"
     ]
    },
    {
     "name": "stdout",
     "output_type": "stream",
     "text": [
      "2/2 [==============================] - ETA: 0s - loss: 8.6475\n",
      "Epoch 00001: val_loss improved from 1.76378 to 1.76368, saving model to ./model.h5\n",
      "2/2 [==============================] - 25s 13s/step - loss: 8.6475 - val_loss: 1.7637\n"
     ]
    },
    {
     "name": "stderr",
     "output_type": "stream",
     "text": [
      "\r",
      "  4%|▍         | 133/3200 [1:18:15<35:50:02, 42.06s/it]"
     ]
    },
    {
     "name": "stdout",
     "output_type": "stream",
     "text": [
      "2/2 [==============================] - ETA: 0s - loss: 131.4927\n",
      "Epoch 00001: val_loss improved from 1.76368 to 1.76200, saving model to ./model.h5\n",
      "2/2 [==============================] - 25s 13s/step - loss: 131.4927 - val_loss: 1.7620\n"
     ]
    },
    {
     "name": "stderr",
     "output_type": "stream",
     "text": [
      "\r",
      "  4%|▍         | 134/3200 [1:18:59<36:16:24, 42.59s/it]"
     ]
    },
    {
     "name": "stdout",
     "output_type": "stream",
     "text": [
      "2/2 [==============================] - ETA: 0s - loss: 42.9114\n",
      "Epoch 00001: val_loss improved from 1.76200 to 1.75952, saving model to ./model.h5\n",
      "2/2 [==============================] - 25s 12s/step - loss: 42.9114 - val_loss: 1.7595\n"
     ]
    },
    {
     "name": "stderr",
     "output_type": "stream",
     "text": [
      "\r",
      "  4%|▍         | 135/3200 [1:19:41<36:13:27, 42.55s/it]"
     ]
    },
    {
     "name": "stdout",
     "output_type": "stream",
     "text": [
      "2/2 [==============================] - ETA: 0s - loss: 28.7339\n",
      "Epoch 00001: val_loss improved from 1.75952 to 1.75679, saving model to ./model.h5\n",
      "2/2 [==============================] - 26s 13s/step - loss: 28.7339 - val_loss: 1.7568\n"
     ]
    },
    {
     "name": "stderr",
     "output_type": "stream",
     "text": [
      "\r",
      "  4%|▍         | 136/3200 [1:20:25<36:28:26, 42.85s/it]"
     ]
    },
    {
     "name": "stdout",
     "output_type": "stream",
     "text": [
      "2/2 [==============================] - ETA: 0s - loss: 9.4462 \n",
      "Epoch 00001: val_loss improved from 1.75679 to 1.75430, saving model to ./model.h5\n",
      "2/2 [==============================] - 25s 12s/step - loss: 9.4462 - val_loss: 1.7543\n"
     ]
    },
    {
     "name": "stderr",
     "output_type": "stream",
     "text": [
      "\r",
      "  4%|▍         | 137/3200 [1:21:07<36:14:08, 42.59s/it]"
     ]
    },
    {
     "name": "stdout",
     "output_type": "stream",
     "text": [
      "2/2 [==============================] - ETA: 0s - loss: 0.1206\n",
      "Epoch 00001: val_loss improved from 1.75430 to 1.75226, saving model to ./model.h5\n",
      "2/2 [==============================] - 26s 13s/step - loss: 0.1206 - val_loss: 1.7523\n"
     ]
    },
    {
     "name": "stderr",
     "output_type": "stream",
     "text": [
      "\r",
      "  4%|▍         | 138/3200 [1:21:49<36:14:46, 42.61s/it]"
     ]
    },
    {
     "name": "stdout",
     "output_type": "stream",
     "text": [
      "2/2 [==============================] - ETA: 0s - loss: 0.2175\n",
      "Epoch 00001: val_loss improved from 1.75226 to 1.75063, saving model to ./model.h5\n",
      "2/2 [==============================] - 25s 13s/step - loss: 0.2175 - val_loss: 1.7506\n"
     ]
    },
    {
     "name": "stderr",
     "output_type": "stream",
     "text": [
      "\r",
      "  4%|▍         | 139/3200 [1:22:32<36:14:51, 42.63s/it]"
     ]
    },
    {
     "name": "stdout",
     "output_type": "stream",
     "text": [
      "2/2 [==============================] - ETA: 0s - loss: 0.0923\n",
      "Epoch 00001: val_loss improved from 1.75063 to 1.74935, saving model to ./model.h5\n",
      "2/2 [==============================] - 23s 11s/step - loss: 0.0923 - val_loss: 1.7494\n"
     ]
    },
    {
     "name": "stderr",
     "output_type": "stream",
     "text": [
      "\r",
      "  4%|▍         | 140/3200 [1:23:11<35:10:16, 41.38s/it]"
     ]
    },
    {
     "name": "stdout",
     "output_type": "stream",
     "text": [
      "2/2 [==============================] - ETA: 0s - loss: 0.0505\n",
      "Epoch 00001: val_loss improved from 1.74935 to 1.74833, saving model to ./model.h5\n",
      "2/2 [==============================] - 21s 11s/step - loss: 0.0505 - val_loss: 1.7483\n"
     ]
    },
    {
     "name": "stderr",
     "output_type": "stream",
     "text": [
      "\r",
      "  4%|▍         | 141/3200 [1:23:46<33:43:37, 39.69s/it]"
     ]
    },
    {
     "name": "stdout",
     "output_type": "stream",
     "text": [
      "2/2 [==============================] - ETA: 0s - loss: 0.0613\n",
      "Epoch 00001: val_loss improved from 1.74833 to 1.74749, saving model to ./model.h5\n",
      "2/2 [==============================] - 20s 10s/step - loss: 0.0613 - val_loss: 1.7475\n"
     ]
    },
    {
     "name": "stderr",
     "output_type": "stream",
     "text": [
      "\r",
      "  4%|▍         | 142/3200 [1:24:19<31:54:26, 37.56s/it]"
     ]
    },
    {
     "name": "stdout",
     "output_type": "stream",
     "text": [
      "2/2 [==============================] - ETA: 0s - loss: 9.0219\n",
      "Epoch 00001: val_loss improved from 1.74749 to 1.74653, saving model to ./model.h5\n",
      "2/2 [==============================] - 26s 13s/step - loss: 9.0219 - val_loss: 1.7465\n"
     ]
    },
    {
     "name": "stderr",
     "output_type": "stream",
     "text": [
      "\r",
      "  4%|▍         | 143/3200 [1:25:00<32:47:27, 38.62s/it]"
     ]
    },
    {
     "name": "stdout",
     "output_type": "stream",
     "text": [
      "2/2 [==============================] - ETA: 0s - loss: 27.8449\n",
      "Epoch 00001: val_loss improved from 1.74653 to 1.74530, saving model to ./model.h5\n",
      "2/2 [==============================] - 28s 14s/step - loss: 27.8449 - val_loss: 1.7453\n"
     ]
    },
    {
     "name": "stderr",
     "output_type": "stream",
     "text": [
      "\r",
      "  4%|▍         | 144/3200 [1:25:45<34:23:42, 40.52s/it]"
     ]
    },
    {
     "name": "stdout",
     "output_type": "stream",
     "text": [
      "2/2 [==============================] - ETA: 0s - loss: 24.0368\n",
      "Epoch 00001: val_loss improved from 1.74530 to 1.74382, saving model to ./model.h5\n",
      "2/2 [==============================] - 26s 13s/step - loss: 24.0368 - val_loss: 1.7438\n"
     ]
    },
    {
     "name": "stderr",
     "output_type": "stream",
     "text": [
      "\r",
      "  5%|▍         | 145/3200 [1:26:27<34:54:05, 41.13s/it]"
     ]
    },
    {
     "name": "stdout",
     "output_type": "stream",
     "text": [
      "2/2 [==============================] - ETA: 0s - loss: 29.6806\n",
      "Epoch 00001: val_loss improved from 1.74382 to 1.74181, saving model to ./model.h5\n",
      "2/2 [==============================] - 24s 12s/step - loss: 29.6806 - val_loss: 1.7418\n"
     ]
    },
    {
     "name": "stderr",
     "output_type": "stream",
     "text": [
      "\r",
      "  5%|▍         | 146/3200 [1:27:09<34:55:06, 41.16s/it]"
     ]
    },
    {
     "name": "stdout",
     "output_type": "stream",
     "text": [
      "2/2 [==============================] - ETA: 0s - loss: 0.0518\n",
      "Epoch 00001: val_loss improved from 1.74181 to 1.74020, saving model to ./model.h5\n",
      "2/2 [==============================] - 24s 12s/step - loss: 0.0518 - val_loss: 1.7402\n"
     ]
    },
    {
     "name": "stderr",
     "output_type": "stream",
     "text": [
      "\r",
      "  5%|▍         | 147/3200 [1:27:49<34:38:05, 40.84s/it]"
     ]
    },
    {
     "name": "stdout",
     "output_type": "stream",
     "text": [
      "2/2 [==============================] - ETA: 0s - loss: 20.4911\n",
      "Epoch 00001: val_loss improved from 1.74020 to 1.73836, saving model to ./model.h5\n",
      "2/2 [==============================] - 25s 12s/step - loss: 20.4911 - val_loss: 1.7384\n"
     ]
    },
    {
     "name": "stderr",
     "output_type": "stream",
     "text": [
      "\r",
      "  5%|▍         | 148/3200 [1:28:30<34:49:47, 41.08s/it]"
     ]
    },
    {
     "name": "stdout",
     "output_type": "stream",
     "text": [
      "2/2 [==============================] - ETA: 0s - loss: 26.5662\n",
      "Epoch 00001: val_loss improved from 1.73836 to 1.73645, saving model to ./model.h5\n",
      "2/2 [==============================] - 28s 14s/step - loss: 26.5662 - val_loss: 1.7365\n"
     ]
    },
    {
     "name": "stderr",
     "output_type": "stream",
     "text": [
      "\r",
      "  5%|▍         | 149/3200 [1:29:15<35:38:48, 42.06s/it]"
     ]
    },
    {
     "name": "stdout",
     "output_type": "stream",
     "text": [
      "2/2 [==============================] - ETA: 0s - loss: 19.6541\n",
      "Epoch 00001: val_loss improved from 1.73645 to 1.73445, saving model to ./model.h5\n",
      "2/2 [==============================] - 25s 12s/step - loss: 19.6541 - val_loss: 1.7345\n"
     ]
    },
    {
     "name": "stderr",
     "output_type": "stream",
     "text": [
      "\r",
      "  5%|▍         | 150/3200 [1:29:56<35:24:14, 41.79s/it]"
     ]
    },
    {
     "name": "stdout",
     "output_type": "stream",
     "text": [
      "2/2 [==============================] - ETA: 0s - loss: 24.0135\n",
      "Epoch 00001: val_loss improved from 1.73445 to 1.73219, saving model to ./model.h5\n",
      "2/2 [==============================] - 25s 12s/step - loss: 24.0135 - val_loss: 1.7322\n"
     ]
    },
    {
     "name": "stderr",
     "output_type": "stream",
     "text": [
      "\r",
      "  5%|▍         | 151/3200 [1:30:37<35:12:24, 41.57s/it]"
     ]
    },
    {
     "name": "stdout",
     "output_type": "stream",
     "text": [
      "2/2 [==============================] - ETA: 0s - loss: 23.1331\n",
      "Epoch 00001: val_loss improved from 1.73219 to 1.72996, saving model to ./model.h5\n",
      "2/2 [==============================] - 24s 12s/step - loss: 23.1331 - val_loss: 1.7300\n"
     ]
    },
    {
     "name": "stderr",
     "output_type": "stream",
     "text": [
      "\r",
      "  5%|▍         | 152/3200 [1:31:18<35:08:20, 41.50s/it]"
     ]
    },
    {
     "name": "stdout",
     "output_type": "stream",
     "text": [
      "2/2 [==============================] - ETA: 0s - loss: 18.0573\n",
      "Epoch 00001: val_loss improved from 1.72996 to 1.72779, saving model to ./model.h5\n",
      "2/2 [==============================] - 26s 13s/step - loss: 18.0573 - val_loss: 1.7278\n"
     ]
    },
    {
     "name": "stderr",
     "output_type": "stream",
     "text": [
      "\r",
      "  5%|▍         | 153/3200 [1:32:01<35:20:19, 41.75s/it]"
     ]
    },
    {
     "name": "stdout",
     "output_type": "stream",
     "text": [
      "2/2 [==============================] - ETA: 0s - loss: 0.0463\n",
      "Epoch 00001: val_loss improved from 1.72779 to 1.72596, saving model to ./model.h5\n",
      "2/2 [==============================] - 26s 13s/step - loss: 0.0463 - val_loss: 1.7260\n"
     ]
    },
    {
     "name": "stderr",
     "output_type": "stream",
     "text": [
      "\r",
      "  5%|▍         | 154/3200 [1:32:44<35:38:09, 42.12s/it]"
     ]
    },
    {
     "name": "stdout",
     "output_type": "stream",
     "text": [
      "2/2 [==============================] - ETA: 0s - loss: 0.0475\n",
      "Epoch 00001: val_loss improved from 1.72596 to 1.72453, saving model to ./model.h5\n",
      "2/2 [==============================] - 24s 12s/step - loss: 0.0475 - val_loss: 1.7245\n"
     ]
    },
    {
     "name": "stderr",
     "output_type": "stream",
     "text": [
      "\r",
      "  5%|▍         | 155/3200 [1:33:24<35:13:19, 41.64s/it]"
     ]
    },
    {
     "name": "stdout",
     "output_type": "stream",
     "text": [
      "2/2 [==============================] - ETA: 0s - loss: 0.0556\n",
      "Epoch 00001: val_loss improved from 1.72453 to 1.72342, saving model to ./model.h5\n",
      "2/2 [==============================] - 24s 12s/step - loss: 0.0556 - val_loss: 1.7234\n"
     ]
    },
    {
     "name": "stderr",
     "output_type": "stream",
     "text": [
      "\r",
      "  5%|▍         | 156/3200 [1:34:04<34:52:05, 41.24s/it]"
     ]
    },
    {
     "name": "stdout",
     "output_type": "stream",
     "text": [
      "2/2 [==============================] - ETA: 0s - loss: 0.0531\n",
      "Epoch 00001: val_loss improved from 1.72342 to 1.72257, saving model to ./model.h5\n",
      "2/2 [==============================] - 25s 13s/step - loss: 0.0531 - val_loss: 1.7226\n"
     ]
    },
    {
     "name": "stderr",
     "output_type": "stream",
     "text": [
      "\r",
      "  5%|▍         | 157/3200 [1:34:47<35:12:29, 41.65s/it]"
     ]
    },
    {
     "name": "stdout",
     "output_type": "stream",
     "text": [
      "2/2 [==============================] - ETA: 0s - loss: 0.0498\n",
      "Epoch 00001: val_loss improved from 1.72257 to 1.72195, saving model to ./model.h5\n",
      "2/2 [==============================] - 25s 12s/step - loss: 0.0498 - val_loss: 1.7219\n"
     ]
    },
    {
     "name": "stderr",
     "output_type": "stream",
     "text": [
      "\r",
      "  5%|▍         | 158/3200 [1:35:28<34:59:43, 41.41s/it]"
     ]
    },
    {
     "name": "stdout",
     "output_type": "stream",
     "text": [
      "2/2 [==============================] - ETA: 0s - loss: 0.0497\n",
      "Epoch 00001: val_loss improved from 1.72195 to 1.72149, saving model to ./model.h5\n",
      "2/2 [==============================] - 26s 13s/step - loss: 0.0497 - val_loss: 1.7215\n"
     ]
    },
    {
     "name": "stderr",
     "output_type": "stream",
     "text": [
      "\r",
      "  5%|▍         | 159/3200 [1:36:10<35:13:53, 41.71s/it]"
     ]
    },
    {
     "name": "stdout",
     "output_type": "stream",
     "text": [
      "2/2 [==============================] - ETA: 0s - loss: 2.6515\n",
      "Epoch 00001: val_loss improved from 1.72149 to 1.72104, saving model to ./model.h5\n",
      "2/2 [==============================] - 25s 13s/step - loss: 2.6515 - val_loss: 1.7210\n"
     ]
    },
    {
     "name": "stderr",
     "output_type": "stream",
     "text": [
      "\r",
      "  5%|▌         | 160/3200 [1:36:52<35:09:18, 41.63s/it]"
     ]
    },
    {
     "name": "stdout",
     "output_type": "stream",
     "text": [
      "2/2 [==============================] - ETA: 0s - loss: 0.0506\n",
      "Epoch 00001: val_loss improved from 1.72104 to 1.72074, saving model to ./model.h5\n",
      "2/2 [==============================] - 21s 11s/step - loss: 0.0506 - val_loss: 1.7207\n"
     ]
    },
    {
     "name": "stderr",
     "output_type": "stream",
     "text": [
      "\r",
      "  5%|▌         | 161/3200 [1:37:29<34:07:06, 40.42s/it]"
     ]
    },
    {
     "name": "stdout",
     "output_type": "stream",
     "text": [
      "2/2 [==============================] - ETA: 0s - loss: 0.0623\n",
      "Epoch 00001: val_loss improved from 1.72074 to 1.72054, saving model to ./model.h5\n",
      "2/2 [==============================] - 23s 12s/step - loss: 0.0623 - val_loss: 1.7205\n"
     ]
    },
    {
     "name": "stderr",
     "output_type": "stream",
     "text": [
      "\r",
      "  5%|▌         | 162/3200 [1:38:06<33:07:23, 39.25s/it]"
     ]
    },
    {
     "name": "stdout",
     "output_type": "stream",
     "text": [
      "2/2 [==============================] - ETA: 0s - loss: 12.7340\n",
      "Epoch 00001: val_loss improved from 1.72054 to 1.72014, saving model to ./model.h5\n",
      "2/2 [==============================] - 20s 10s/step - loss: 12.7340 - val_loss: 1.7201\n"
     ]
    },
    {
     "name": "stderr",
     "output_type": "stream",
     "text": [
      "\r",
      "  5%|▌         | 163/3200 [1:38:39<31:30:34, 37.35s/it]"
     ]
    },
    {
     "name": "stdout",
     "output_type": "stream",
     "text": [
      "2/2 [==============================] - ETA: 0s - loss: 23.3560\n",
      "Epoch 00001: val_loss improved from 1.72014 to 1.71942, saving model to ./model.h5\n",
      "2/2 [==============================] - 22s 11s/step - loss: 23.3560 - val_loss: 1.7194\n"
     ]
    },
    {
     "name": "stderr",
     "output_type": "stream",
     "text": [
      "\r",
      "  5%|▌         | 164/3200 [1:39:13<30:36:28, 36.29s/it]"
     ]
    },
    {
     "name": "stdout",
     "output_type": "stream",
     "text": [
      "2/2 [==============================] - ETA: 0s - loss: 32.8159\n",
      "Epoch 00001: val_loss improved from 1.71942 to 1.71826, saving model to ./model.h5\n",
      "2/2 [==============================] - 25s 13s/step - loss: 32.8159 - val_loss: 1.7183\n"
     ]
    },
    {
     "name": "stderr",
     "output_type": "stream",
     "text": [
      "\r",
      "  5%|▌         | 165/3200 [1:39:56<32:18:57, 38.33s/it]"
     ]
    },
    {
     "name": "stdout",
     "output_type": "stream",
     "text": [
      "2/2 [==============================] - ETA: 0s - loss: 29.1492\n",
      "Epoch 00001: val_loss improved from 1.71826 to 1.71656, saving model to ./model.h5\n",
      "2/2 [==============================] - 27s 13s/step - loss: 29.1492 - val_loss: 1.7166\n"
     ]
    },
    {
     "name": "stderr",
     "output_type": "stream",
     "text": [
      "\r",
      "  5%|▌         | 166/3200 [1:40:41<34:02:38, 40.39s/it]"
     ]
    },
    {
     "name": "stdout",
     "output_type": "stream",
     "text": [
      "2/2 [==============================] - ETA: 0s - loss: 14.9476\n",
      "Epoch 00001: val_loss improved from 1.71656 to 1.71478, saving model to ./model.h5\n",
      "2/2 [==============================] - 18s 9s/step - loss: 14.9476 - val_loss: 1.7148\n"
     ]
    },
    {
     "name": "stderr",
     "output_type": "stream",
     "text": [
      "\r",
      "  5%|▌         | 167/3200 [1:41:10<31:10:26, 37.00s/it]"
     ]
    },
    {
     "name": "stdout",
     "output_type": "stream",
     "text": [
      "2/2 [==============================] - ETA: 0s - loss: 15.3016\n",
      "Epoch 00001: val_loss improved from 1.71478 to 1.71292, saving model to ./model.h5\n",
      "2/2 [==============================] - 27s 13s/step - loss: 15.3016 - val_loss: 1.7129\n"
     ]
    },
    {
     "name": "stderr",
     "output_type": "stream",
     "text": [
      "\r",
      "  5%|▌         | 168/3200 [1:41:50<32:01:40, 38.03s/it]"
     ]
    },
    {
     "name": "stdout",
     "output_type": "stream",
     "text": [
      "2/2 [==============================] - ETA: 0s - loss: 25.2530\n",
      "Epoch 00001: val_loss improved from 1.71292 to 1.71086, saving model to ./model.h5\n",
      "2/2 [==============================] - 26s 13s/step - loss: 25.2530 - val_loss: 1.7109\n"
     ]
    },
    {
     "name": "stderr",
     "output_type": "stream",
     "text": [
      "\r",
      "  5%|▌         | 169/3200 [1:42:33<33:16:31, 39.52s/it]"
     ]
    },
    {
     "name": "stdout",
     "output_type": "stream",
     "text": [
      "2/2 [==============================] - ETA: 0s - loss: 25.7172\n",
      "Epoch 00001: val_loss improved from 1.71086 to 1.70867, saving model to ./model.h5\n",
      "2/2 [==============================] - 27s 13s/step - loss: 25.7172 - val_loss: 1.7087\n"
     ]
    },
    {
     "name": "stderr",
     "output_type": "stream",
     "text": [
      "\r",
      "  5%|▌         | 170/3200 [1:43:17<34:17:29, 40.74s/it]"
     ]
    },
    {
     "name": "stdout",
     "output_type": "stream",
     "text": [
      "2/2 [==============================] - ETA: 0s - loss: 10.3616\n",
      "Epoch 00001: val_loss improved from 1.70867 to 1.70651, saving model to ./model.h5\n",
      "2/2 [==============================] - 24s 12s/step - loss: 10.3616 - val_loss: 1.7065\n"
     ]
    },
    {
     "name": "stderr",
     "output_type": "stream",
     "text": [
      "\r",
      "  5%|▌         | 171/3200 [1:43:58<34:23:54, 40.88s/it]"
     ]
    },
    {
     "name": "stdout",
     "output_type": "stream",
     "text": [
      "2/2 [==============================] - ETA: 0s - loss: 6.5287\n",
      "Epoch 00001: val_loss improved from 1.70651 to 1.70451, saving model to ./model.h5\n",
      "2/2 [==============================] - 25s 13s/step - loss: 6.5287 - val_loss: 1.7045\n"
     ]
    },
    {
     "name": "stderr",
     "output_type": "stream",
     "text": [
      "\r",
      "  5%|▌         | 172/3200 [1:44:39<34:13:53, 40.70s/it]"
     ]
    },
    {
     "name": "stdout",
     "output_type": "stream",
     "text": [
      "2/2 [==============================] - ETA: 0s - loss: 2.8491\n",
      "Epoch 00001: val_loss improved from 1.70451 to 1.70266, saving model to ./model.h5\n",
      "2/2 [==============================] - 25s 12s/step - loss: 2.8491 - val_loss: 1.7027\n"
     ]
    },
    {
     "name": "stderr",
     "output_type": "stream",
     "text": [
      "\r",
      "  5%|▌         | 173/3200 [1:45:18<33:55:05, 40.34s/it]"
     ]
    },
    {
     "name": "stdout",
     "output_type": "stream",
     "text": [
      "2/2 [==============================] - ETA: 0s - loss: 1.9445\n",
      "Epoch 00001: val_loss improved from 1.70266 to 1.70102, saving model to ./model.h5\n",
      "2/2 [==============================] - 15s 7s/step - loss: 1.9445 - val_loss: 1.7010\n"
     ]
    },
    {
     "name": "stderr",
     "output_type": "stream",
     "text": [
      "\r",
      "  5%|▌         | 174/3200 [1:45:50<31:40:14, 37.68s/it]"
     ]
    },
    {
     "name": "stdout",
     "output_type": "stream",
     "text": [
      "2/2 [==============================] - ETA: 0s - loss: 1.4915\n",
      "Epoch 00001: val_loss improved from 1.70102 to 1.69964, saving model to ./model.h5\n",
      "2/2 [==============================] - 13s 7s/step - loss: 1.4915 - val_loss: 1.6996\n"
     ]
    },
    {
     "name": "stderr",
     "output_type": "stream",
     "text": [
      "\r",
      "  5%|▌         | 175/3200 [1:46:11<27:38:35, 32.90s/it]"
     ]
    },
    {
     "name": "stdout",
     "output_type": "stream",
     "text": [
      "2/2 [==============================] - ETA: 0s - loss: 0.7850\n",
      "Epoch 00001: val_loss improved from 1.69964 to 1.69846, saving model to ./model.h5\n",
      "2/2 [==============================] - 13s 7s/step - loss: 0.7850 - val_loss: 1.6985\n"
     ]
    },
    {
     "name": "stderr",
     "output_type": "stream",
     "text": [
      "\r",
      "  6%|▌         | 176/3200 [1:46:33<24:46:06, 29.49s/it]"
     ]
    },
    {
     "name": "stdout",
     "output_type": "stream",
     "text": [
      "2/2 [==============================] - ETA: 0s - loss: 38.7936\n",
      "Epoch 00001: val_loss improved from 1.69846 to 1.69708, saving model to ./model.h5\n",
      "2/2 [==============================] - 14s 7s/step - loss: 38.7936 - val_loss: 1.6971\n"
     ]
    },
    {
     "name": "stderr",
     "output_type": "stream",
     "text": [
      "\r",
      "  6%|▌         | 177/3200 [1:46:55<22:59:25, 27.38s/it]"
     ]
    },
    {
     "name": "stdout",
     "output_type": "stream",
     "text": [
      "2/2 [==============================] - ETA: 0s - loss: 32.3931\n",
      "Epoch 00001: val_loss improved from 1.69708 to 1.69546, saving model to ./model.h5\n",
      "2/2 [==============================] - 13s 7s/step - loss: 32.3931 - val_loss: 1.6955\n"
     ]
    },
    {
     "name": "stderr",
     "output_type": "stream",
     "text": [
      "\r",
      "  6%|▌         | 178/3200 [1:47:17<21:31:38, 25.64s/it]"
     ]
    },
    {
     "name": "stdout",
     "output_type": "stream",
     "text": [
      "2/2 [==============================] - ETA: 0s - loss: 25.1089\n",
      "Epoch 00001: val_loss improved from 1.69546 to 1.69360, saving model to ./model.h5\n",
      "2/2 [==============================] - 13s 7s/step - loss: 25.1089 - val_loss: 1.6936\n"
     ]
    },
    {
     "name": "stderr",
     "output_type": "stream",
     "text": [
      "\r",
      "  6%|▌         | 179/3200 [1:47:38<20:31:03, 24.45s/it]"
     ]
    },
    {
     "name": "stdout",
     "output_type": "stream",
     "text": [
      "2/2 [==============================] - ETA: 0s - loss: 18.9236\n",
      "Epoch 00001: val_loss improved from 1.69360 to 1.69176, saving model to ./model.h5\n",
      "2/2 [==============================] - 17s 8s/step - loss: 18.9236 - val_loss: 1.6918\n"
     ]
    },
    {
     "name": "stderr",
     "output_type": "stream",
     "text": [
      "\r",
      "  6%|▌         | 180/3200 [1:48:05<20:54:08, 24.92s/it]"
     ]
    },
    {
     "name": "stdout",
     "output_type": "stream",
     "text": [
      "2/2 [==============================] - ETA: 0s - loss: 13.8533\n",
      "Epoch 00001: val_loss improved from 1.69176 to 1.69009, saving model to ./model.h5\n",
      "2/2 [==============================] - 16s 8s/step - loss: 13.8533 - val_loss: 1.6901\n"
     ]
    },
    {
     "name": "stderr",
     "output_type": "stream",
     "text": [
      "\r",
      "  6%|▌         | 181/3200 [1:48:30<21:07:40, 25.19s/it]"
     ]
    },
    {
     "name": "stdout",
     "output_type": "stream",
     "text": [
      "2/2 [==============================] - ETA: 0s - loss: 11.5125\n",
      "Epoch 00001: val_loss improved from 1.69009 to 1.68855, saving model to ./model.h5\n",
      "2/2 [==============================] - 17s 8s/step - loss: 11.5125 - val_loss: 1.6886\n"
     ]
    },
    {
     "name": "stderr",
     "output_type": "stream",
     "text": [
      "\r",
      "  6%|▌         | 182/3200 [1:48:59<21:54:51, 26.14s/it]"
     ]
    },
    {
     "name": "stdout",
     "output_type": "stream",
     "text": [
      "2/2 [==============================] - ETA: 0s - loss: 7.4996 \n",
      "Epoch 00001: val_loss improved from 1.68855 to 1.68722, saving model to ./model.h5\n",
      "2/2 [==============================] - 16s 8s/step - loss: 7.4996 - val_loss: 1.6872\n"
     ]
    },
    {
     "name": "stderr",
     "output_type": "stream",
     "text": [
      "\r",
      "  6%|▌         | 183/3200 [1:49:25<21:51:52, 26.09s/it]"
     ]
    },
    {
     "name": "stdout",
     "output_type": "stream",
     "text": [
      "2/2 [==============================] - ETA: 0s - loss: 3.3659\n",
      "Epoch 00001: val_loss improved from 1.68722 to 1.68614, saving model to ./model.h5\n",
      "2/2 [==============================] - 14s 7s/step - loss: 3.3659 - val_loss: 1.6861\n"
     ]
    },
    {
     "name": "stderr",
     "output_type": "stream",
     "text": [
      "\r",
      "  6%|▌         | 184/3200 [1:49:49<21:18:56, 25.44s/it]"
     ]
    },
    {
     "name": "stdout",
     "output_type": "stream",
     "text": [
      "2/2 [==============================] - ETA: 0s - loss: 1.6201\n",
      "Epoch 00001: val_loss improved from 1.68614 to 1.68528, saving model to ./model.h5\n",
      "2/2 [==============================] - 15s 8s/step - loss: 1.6201 - val_loss: 1.6853\n"
     ]
    },
    {
     "name": "stderr",
     "output_type": "stream",
     "text": [
      "\r",
      "  6%|▌         | 185/3200 [1:50:14<21:22:09, 25.52s/it]"
     ]
    },
    {
     "name": "stdout",
     "output_type": "stream",
     "text": [
      "2/2 [==============================] - ETA: 0s - loss: 0.6582\n",
      "Epoch 00001: val_loss improved from 1.68528 to 1.68464, saving model to ./model.h5\n",
      "2/2 [==============================] - 14s 7s/step - loss: 0.6582 - val_loss: 1.6846\n"
     ]
    },
    {
     "name": "stderr",
     "output_type": "stream",
     "text": [
      "\r",
      "  6%|▌         | 186/3200 [1:50:38<21:00:37, 25.10s/it]"
     ]
    },
    {
     "name": "stdout",
     "output_type": "stream",
     "text": [
      "2/2 [==============================] - ETA: 0s - loss: 0.2267\n",
      "Epoch 00001: val_loss improved from 1.68464 to 1.68418, saving model to ./model.h5\n",
      "2/2 [==============================] - 15s 7s/step - loss: 0.2267 - val_loss: 1.6842\n"
     ]
    },
    {
     "name": "stderr",
     "output_type": "stream",
     "text": [
      "\r",
      "  6%|▌         | 187/3200 [1:51:02<20:34:32, 24.58s/it]"
     ]
    },
    {
     "name": "stdout",
     "output_type": "stream",
     "text": [
      "2/2 [==============================] - ETA: 0s - loss: 1.1062\n",
      "Epoch 00001: val_loss improved from 1.68418 to 1.68382, saving model to ./model.h5\n",
      "2/2 [==============================] - 13s 7s/step - loss: 1.1062 - val_loss: 1.6838\n"
     ]
    },
    {
     "name": "stderr",
     "output_type": "stream",
     "text": [
      "\r",
      "  6%|▌         | 188/3200 [1:51:24<19:51:57, 23.74s/it]"
     ]
    },
    {
     "name": "stdout",
     "output_type": "stream",
     "text": [
      "2/2 [==============================] - ETA: 0s - loss: 1.7421\n",
      "Epoch 00001: val_loss improved from 1.68382 to 1.68347, saving model to ./model.h5\n",
      "2/2 [==============================] - 14s 7s/step - loss: 1.7421 - val_loss: 1.6835\n"
     ]
    },
    {
     "name": "stderr",
     "output_type": "stream",
     "text": [
      "\r",
      "  6%|▌         | 189/3200 [1:51:46<19:27:13, 23.26s/it]"
     ]
    },
    {
     "name": "stdout",
     "output_type": "stream",
     "text": [
      "2/2 [==============================] - ETA: 0s - loss: 0.8864\n",
      "Epoch 00001: val_loss improved from 1.68347 to 1.68312, saving model to ./model.h5\n",
      "2/2 [==============================] - 15s 8s/step - loss: 0.8864 - val_loss: 1.6831\n"
     ]
    },
    {
     "name": "stderr",
     "output_type": "stream",
     "text": [
      "\r",
      "  6%|▌         | 190/3200 [1:52:10<19:35:53, 23.44s/it]"
     ]
    },
    {
     "name": "stdout",
     "output_type": "stream",
     "text": [
      "2/2 [==============================] - ETA: 0s - loss: 0.3989\n",
      "Epoch 00001: val_loss improved from 1.68312 to 1.68280, saving model to ./model.h5\n",
      "2/2 [==============================] - 13s 7s/step - loss: 0.3989 - val_loss: 1.6828\n"
     ]
    },
    {
     "name": "stderr",
     "output_type": "stream",
     "text": [
      "\r",
      "  6%|▌         | 191/3200 [1:52:31<19:10:09, 22.93s/it]"
     ]
    },
    {
     "name": "stdout",
     "output_type": "stream",
     "text": [
      "2/2 [==============================] - ETA: 0s - loss: 0.2180\n",
      "Epoch 00001: val_loss improved from 1.68280 to 1.68255, saving model to ./model.h5\n",
      "2/2 [==============================] - 14s 7s/step - loss: 0.2180 - val_loss: 1.6826\n"
     ]
    },
    {
     "name": "stderr",
     "output_type": "stream",
     "text": [
      "\r",
      "  6%|▌         | 192/3200 [1:52:54<19:03:09, 22.80s/it]"
     ]
    },
    {
     "name": "stdout",
     "output_type": "stream",
     "text": [
      "2/2 [==============================] - ETA: 0s - loss: 0.1556\n",
      "Epoch 00001: val_loss improved from 1.68255 to 1.68239, saving model to ./model.h5\n",
      "2/2 [==============================] - 13s 7s/step - loss: 0.1556 - val_loss: 1.6824\n"
     ]
    },
    {
     "name": "stderr",
     "output_type": "stream",
     "text": [
      "\r",
      "  6%|▌         | 193/3200 [1:53:16<18:50:46, 22.56s/it]"
     ]
    },
    {
     "name": "stdout",
     "output_type": "stream",
     "text": [
      "2/2 [==============================] - ETA: 0s - loss: 0.0807\n",
      "Epoch 00001: val_loss improved from 1.68239 to 1.68229, saving model to ./model.h5\n",
      "2/2 [==============================] - 13s 7s/step - loss: 0.0807 - val_loss: 1.6823\n"
     ]
    },
    {
     "name": "stderr",
     "output_type": "stream",
     "text": [
      "\r",
      "  6%|▌         | 194/3200 [1:53:38<18:40:43, 22.37s/it]"
     ]
    },
    {
     "name": "stdout",
     "output_type": "stream",
     "text": [
      "2/2 [==============================] - ETA: 0s - loss: 0.0647\n",
      "Epoch 00001: val_loss improved from 1.68229 to 1.68226, saving model to ./model.h5\n",
      "2/2 [==============================] - 14s 7s/step - loss: 0.0647 - val_loss: 1.6823\n"
     ]
    },
    {
     "name": "stderr",
     "output_type": "stream",
     "text": [
      "\r",
      "  6%|▌         | 195/3200 [1:54:01<18:49:46, 22.56s/it]"
     ]
    },
    {
     "name": "stdout",
     "output_type": "stream",
     "text": [
      "2/2 [==============================] - ETA: 0s - loss: 0.0619\n",
      "Epoch 00001: val_loss did not improve from 1.68226\n",
      "2/2 [==============================] - 13s 6s/step - loss: 0.0619 - val_loss: 1.6823\n"
     ]
    },
    {
     "name": "stderr",
     "output_type": "stream",
     "text": [
      "\r",
      "  6%|▌         | 196/3200 [1:54:22<18:32:48, 22.23s/it]"
     ]
    },
    {
     "name": "stdout",
     "output_type": "stream",
     "text": [
      "2/2 [==============================] - ETA: 0s - loss: 0.0690\n",
      "Epoch 00001: val_loss did not improve from 1.68226\n",
      "2/2 [==============================] - 13s 7s/step - loss: 0.0690 - val_loss: 1.6824\n"
     ]
    },
    {
     "name": "stderr",
     "output_type": "stream",
     "text": [
      "\r",
      "  6%|▌         | 197/3200 [1:54:44<18:21:48, 22.01s/it]"
     ]
    },
    {
     "name": "stdout",
     "output_type": "stream",
     "text": [
      "2/2 [==============================] - ETA: 0s - loss: 0.1136\n",
      "Epoch 00001: val_loss did not improve from 1.68226\n",
      "2/2 [==============================] - 13s 7s/step - loss: 0.1136 - val_loss: 1.6825\n"
     ]
    },
    {
     "name": "stderr",
     "output_type": "stream",
     "text": [
      "\r",
      "  6%|▌         | 198/3200 [1:55:06<18:26:07, 22.11s/it]"
     ]
    },
    {
     "name": "stdout",
     "output_type": "stream",
     "text": [
      "2/2 [==============================] - ETA: 0s - loss: 0.1340\n",
      "Epoch 00001: val_loss did not improve from 1.68226\n",
      "2/2 [==============================] - 14s 7s/step - loss: 0.1340 - val_loss: 1.6827\n"
     ]
    },
    {
     "name": "stderr",
     "output_type": "stream",
     "text": [
      "\r",
      "  6%|▌         | 199/3200 [1:55:29<18:34:36, 22.28s/it]"
     ]
    },
    {
     "name": "stdout",
     "output_type": "stream",
     "text": [
      "2/2 [==============================] - ETA: 0s - loss: 0.0742\n",
      "Epoch 00001: val_loss did not improve from 1.68226\n",
      "2/2 [==============================] - 13s 7s/step - loss: 0.0742 - val_loss: 1.6829\n"
     ]
    },
    {
     "name": "stderr",
     "output_type": "stream",
     "text": [
      "\r",
      "  6%|▋         | 200/3200 [1:55:50<18:23:26, 22.07s/it]"
     ]
    },
    {
     "name": "stdout",
     "output_type": "stream",
     "text": [
      "2/2 [==============================] - ETA: 0s - loss: 0.0768\n",
      "Epoch 00001: val_loss did not improve from 1.68226\n",
      "2/2 [==============================] - 13s 6s/step - loss: 0.0768 - val_loss: 1.6832\n"
     ]
    },
    {
     "name": "stderr",
     "output_type": "stream",
     "text": [
      "\r",
      "  6%|▋         | 201/3200 [1:56:12<18:14:12, 21.89s/it]"
     ]
    },
    {
     "name": "stdout",
     "output_type": "stream",
     "text": [
      "2/2 [==============================] - ETA: 0s - loss: 0.2076\n",
      "Epoch 00001: val_loss did not improve from 1.68226\n",
      "2/2 [==============================] - 13s 7s/step - loss: 0.2076 - val_loss: 1.6834\n"
     ]
    },
    {
     "name": "stderr",
     "output_type": "stream",
     "text": [
      "\r",
      "  6%|▋         | 202/3200 [1:56:33<18:09:44, 21.81s/it]"
     ]
    },
    {
     "name": "stdout",
     "output_type": "stream",
     "text": [
      "2/2 [==============================] - ETA: 0s - loss: 0.0791\n",
      "Epoch 00001: val_loss did not improve from 1.68226\n",
      "2/2 [==============================] - 13s 6s/step - loss: 0.0791 - val_loss: 1.6837\n"
     ]
    },
    {
     "name": "stderr",
     "output_type": "stream",
     "text": [
      "\r",
      "  6%|▋         | 203/3200 [1:56:55<18:05:17, 21.73s/it]"
     ]
    },
    {
     "name": "stdout",
     "output_type": "stream",
     "text": [
      "2/2 [==============================] - ETA: 0s - loss: 0.0750\n",
      "Epoch 00001: val_loss did not improve from 1.68226\n",
      "2/2 [==============================] - 14s 7s/step - loss: 0.0750 - val_loss: 1.6840\n"
     ]
    },
    {
     "name": "stderr",
     "output_type": "stream",
     "text": [
      "\r",
      "  6%|▋         | 204/3200 [1:57:17<18:15:29, 21.94s/it]"
     ]
    },
    {
     "name": "stdout",
     "output_type": "stream",
     "text": [
      "2/2 [==============================] - ETA: 0s - loss: 0.0718\n",
      "Epoch 00001: val_loss did not improve from 1.68226\n",
      "2/2 [==============================] - 13s 7s/step - loss: 0.0718 - val_loss: 1.6843\n"
     ]
    },
    {
     "name": "stderr",
     "output_type": "stream",
     "text": [
      "\r",
      "  6%|▋         | 205/3200 [1:57:39<18:11:31, 21.87s/it]"
     ]
    },
    {
     "name": "stdout",
     "output_type": "stream",
     "text": [
      "2/2 [==============================] - ETA: 0s - loss: 0.0717\n",
      "Epoch 00001: val_loss did not improve from 1.68226\n",
      "2/2 [==============================] - 13s 7s/step - loss: 0.0717 - val_loss: 1.6847\n"
     ]
    },
    {
     "name": "stderr",
     "output_type": "stream",
     "text": [
      "\r",
      "  6%|▋         | 206/3200 [1:58:01<18:08:24, 21.81s/it]"
     ]
    },
    {
     "name": "stdout",
     "output_type": "stream",
     "text": [
      "2/2 [==============================] - ETA: 0s - loss: 2.0872\n",
      "Epoch 00001: val_loss did not improve from 1.68226\n",
      "2/2 [==============================] - 13s 7s/step - loss: 2.0872 - val_loss: 1.6850\n"
     ]
    },
    {
     "name": "stderr",
     "output_type": "stream",
     "text": [
      "\r",
      "  6%|▋         | 207/3200 [1:58:23<18:09:06, 21.83s/it]"
     ]
    },
    {
     "name": "stdout",
     "output_type": "stream",
     "text": [
      "2/2 [==============================] - ETA: 0s - loss: 5.3777\n",
      "Epoch 00001: val_loss did not improve from 1.68226\n",
      "2/2 [==============================] - 13s 7s/step - loss: 5.3777 - val_loss: 1.6850\n"
     ]
    },
    {
     "name": "stderr",
     "output_type": "stream",
     "text": [
      "\r",
      "  6%|▋         | 208/3200 [1:58:44<18:04:26, 21.75s/it]"
     ]
    },
    {
     "name": "stdout",
     "output_type": "stream",
     "text": [
      "2/2 [==============================] - ETA: 0s - loss: 4.4972\n",
      "Epoch 00001: val_loss did not improve from 1.68226\n",
      "2/2 [==============================] - 13s 6s/step - loss: 4.4972 - val_loss: 1.6849\n"
     ]
    },
    {
     "name": "stderr",
     "output_type": "stream",
     "text": [
      "\r",
      "  7%|▋         | 209/3200 [1:59:07<18:13:58, 21.95s/it]"
     ]
    },
    {
     "name": "stdout",
     "output_type": "stream",
     "text": [
      "2/2 [==============================] - ETA: 0s - loss: 4.9399\n",
      "Epoch 00001: val_loss did not improve from 1.68226\n",
      "2/2 [==============================] - 14s 7s/step - loss: 4.9399 - val_loss: 1.6847\n"
     ]
    },
    {
     "name": "stderr",
     "output_type": "stream",
     "text": [
      "  7%|▋         | 209/3200 [1:59:29<28:30:03, 34.30s/it]\n"
     ]
    },
    {
     "data": {
      "image/png": "[encoded data removed]",
      "text/plain": [
       "<Figure size 432x288 with 1 Axes>"
      ]
     },
     "metadata": {
      "needs_background": "light"
     },
     "output_type": "display_data"
    }
   ],
   "source": [
    "import gc\n",
    "MC = ModelCheckpoint('./model.h5', verbose=True,monitor='val_loss',mode='min',\n",
    "        save_weights_only=True,save_best_only=True)\n",
    "\n",
    "stop = EarlyStopping(monitor = 'val_loss', restore_best_weights=True , patience = 5)\n",
    "\n",
    "tr_it = iter(train_dataset)\n",
    "batch_size = cfg['train_params']['train_batch']\n",
    "#progress_bar = tqdm(range(0,cfg[\"train_params\"][\"max_num_steps\"],batch_size))\n",
    "progress_bar = tqdm(range(cfg[\"train_params\"][\"max_num_steps\"]))\n",
    "two_hours = 60 * 60 * 2\n",
    "losses = []\n",
    "hist = []\n",
    "for itr in progress_bar:#range(0,cfg[\"train_params\"][\"max_num_steps\"],batch_size):\n",
    "    inputs = np.zeros(shape=(batch_size,224,224,num_in_channels))\n",
    "    targets = np.zeros(shape=(batch_size, num_targets))\n",
    "    \n",
    "    for i in range(batch_size):\n",
    "        \n",
    "        try:\n",
    "            data = next(tr_it)\n",
    "        except StopIteration:\n",
    "            tr_it = iter(train_dataset)\n",
    "            data = next(tr_it)\n",
    "            \n",
    "        inputs[i] = data['image'].transpose(1,2,0)\n",
    "        targets[i] = data['target_positions'].reshape(-1,num_targets)\n",
    "   \n",
    "    h = model.fit(inputs, targets,\n",
    "                  batch_size = int(batch_size / 2) ,\n",
    "                  validation_data = (val_inputs, val_targets),\n",
    "                  verbose = 1,\n",
    "                 callbacks = [MC, stop])\n",
    "                  \n",
    "    hist.append(h.history)\n",
    "    gc.collect()\n",
    "    # For training + submission, break if training exceeds 6 hours\n",
    "    if (time.time()-t0) > two_hours:\n",
    "        break\n",
    "    \n",
    "    \n",
    "vl = [hi['val_loss'] for hi in hist]\n",
    "l = [hi['loss'] for hi in hist]\n",
    "plt.plot(np.log(vl), label = 'val_loss')\n",
    "plt.plot(np.log(l), label = 'loss')\n",
    "plt.legend(loc=0)\n",
    "plt.show()"
   ]
  },
  {
   "cell_type": "code",
   "execution_count": 12,
   "metadata": {},
   "outputs": [],
   "source": [
    "model.save('modelv0.h5')\n"
   ]
  },
  {
   "cell_type": "code",
   "execution_count": 13,
   "metadata": {},
   "outputs": [
    {
     "name": "stderr",
     "output_type": "stream",
     "text": [
      "/home/moriarty/.local/lib/python3.8/site-packages/l5kit/dataset/agent.py:115: RuntimeWarning: disable_traffic_light_faces not found in config, this will raise an error in the future\n",
      "  return self.get_frame(scene_index, state_index, track_id=track_id)\n"
     ]
    },
    {
     "data": {
      "text/plain": [
       "<matplotlib.collections.PathCollection at 0x7f1db42f2370>"
      ]
     },
     "execution_count": 13,
     "metadata": {},
     "output_type": "execute_result"
    },
    {
     "data": {
      "image/png": "[encoded data removed]",
      "text/plain": [
       "<Figure size 432x288 with 1 Axes>"
      ]
     },
     "metadata": {
      "needs_background": "light"
     },
     "output_type": "display_data"
    }
   ],
   "source": [
    "#Example Prediction:\n",
    "import matplotlib.pyplot as plt\n",
    "a1 = next(tr_it)\n",
    "inp = a1['image'].transpose(1,2,0)\n",
    "act = a1['target_positions']\n",
    "pred = model.predict(inp.reshape(-1,224,224,num_in_channels)).reshape(50,2)\n",
    "plt.scatter(act[:,0], act[:,1])\n",
    "plt.scatter(pred[:,0],pred[:,1])"
   ]
  },
  {
   "cell_type": "markdown",
   "metadata": {},
   "source": [
    "Now we can use this model to predict from the test set."
   ]
  },
  {
   "cell_type": "code",
   "execution_count": 14,
   "metadata": {},
   "outputs": [
    {
     "name": "stderr",
     "output_type": "stream",
     "text": [
      "<ipython-input-14-540cf822d61a>:9: RuntimeWarning: you're running with a custom agents_mask\n",
      "  test_dataset = AgentDataset(cfg, test_zarr, rasterizer, agents_mask=test_mask)\n"
     ]
    }
   ],
   "source": [
    "test_cfg = cfg[\"test_data_loader\"]\n",
    "\n",
    "# Rasterizer\n",
    "rasterizer = build_rasterizer(cfg, dm)\n",
    "\n",
    "# Test dataset/dataloader\n",
    "test_zarr = ChunkedDataset(dm.require(test_cfg[\"key\"])).open()\n",
    "test_mask = np.load(f\"{DIR_INPUT}/scenes/mask.npz\")[\"arr_0\"]\n",
    "test_dataset = AgentDataset(cfg, test_zarr, rasterizer, agents_mask=test_mask)"
   ]
  },
  {
   "cell_type": "code",
   "execution_count": 15,
   "metadata": {},
   "outputs": [
    {
     "name": "stderr",
     "output_type": "stream",
     "text": [
      "100%|██████████| 71122/71122 [4:54:23<00:00,  4.03it/s]   \n"
     ]
    }
   ],
   "source": [
    "t_shape = test_dataset[0][\"target_positions\"].shape\n",
    "timestamps = []\n",
    "agent_ids = []\n",
    "coords = []\n",
    "for it in tqdm(test_dataset):\n",
    "    \n",
    "    dat = it['image'].transpose(1,2,0)\n",
    "    coords.append(np.array(model.predict(dat.reshape(1,224,224,num_in_channels)).reshape(t_shape)))\n",
    "    timestamps.append(it[\"timestamp\"])\n",
    "    agent_ids.append(it[\"track_id\"])\n",
    "    \n",
    "    "
   ]
  },
  {
   "cell_type": "code",
   "execution_count": 16,
   "metadata": {},
   "outputs": [],
   "source": [
    "from l5kit.evaluation import write_pred_csv\n",
    "\n",
    "\n",
    "write_pred_csv('submission.csv',\n",
    "                timestamps = np.array(timestamps),\n",
    "                track_ids = np.array(agent_ids),\n",
    "                coords = np.array(coords) )"
   ]
  }
 ],
 "metadata": {
  "kernelspec": {
   "display_name": "Python 3",
   "language": "python",
   "name": "python3"
  },
  "language_info": {
   "codemirror_mode": {
    "name": "ipython",
    "version": 3
   },
   "file_extension": ".py",
   "mimetype": "text/x-python",
   "name": "python",
   "nbconvert_exporter": "python",
   "pygments_lexer": "ipython3",
   "version": "3.8.5"
  },
  "pycharm": {
   "stem_cell": {
    "cell_type": "raw",
    "metadata": {
     "collapsed": false
    },
    "source": [
     "\n",
     "\n",
     "%%time\n",
     "import os\n",
     "import matplotlib.pyplot as plt\n",
     "from tqdm import tqdm\n",
     "import numpy as np\n",
     "import gc\n",
     "import tensorflow as tf\n",
     "import time\n",
     "t0 = time.time()\n",
     "\n",
     "## this script transports l5kit and dependencies\n",
     "os.system('pip uninstall typing -y')\n",
     "os.system('pip install --target=/kaggle/working pymap3d==2.1.0')\n",
     "os.system('pip install --target=/kaggle/working protobuf==3.12.2')\n",
     "os.system('pip install --target=/kaggle/working transforms3d')\n",
     "os.system('pip install --target=/kaggle/working zarr')\n",
     "os.system('pip install --target=/kaggle/working ptable')\n",
     "\n",
     "os.system('pip install --no-dependencies --target=/kaggle/working l5kit')\n",
     "\n",
     "DIR_INPUT = \"/home/moriarty/Downloads/lyft\"\n",
     "os.environ[\"L5KIT_DATA_FOLDER\"] = DIR_INPUT\n",
     "SINGLE_MODE_SUBMISSION = f\"{DIR_INPUT}/single_mode_sample_submission.csv\"\n",
     "MULTI_MODE_SUBMISSION = f\"{DIR_INPUT}/multi_mode_sample_submission.csv\"\n",
     "from l5kit.data import LocalDataManager, ChunkedDataset\n",
     "from l5kit.dataset import AgentDataset, EgoDataset\n",
     "from l5kit.evaluation import write_pred_csv\n",
     "from l5kit.rasterization import build_rasterizer\n",
     "\n",
     "DEBUG = False  # True just trains for 10 steps instead of the full dataset\n",
     "cfg = {\n",
     "    'format_version': 4,\n",
     "    'model_params': {\n",
     "        'model_architecture': 'resnet50',\n",
     "        'history_num_frames': 20,\n",
     "        'history_step_size': 1,\n",
     "        'history_delta_time': 0.1,\n",
     "        'future_num_frames': 50,\n",
     "        'future_step_size': 1,\n",
     "        'future_delta_time': 0.1\n",
     "    },\n",
     "    \n",
     "    'raster_params': {\n",
     "        'raster_size': [224, 224],\n",
     "        'pixel_size': [0.5, 0.5],\n",
     "        'ego_center': [0.25, 0.5],\n",
     "        'map_type': 'py_semantic',\n",
     "        'satellite_map_key': 'aerial_map/aerial_map.png',\n",
     "        'semantic_map_key': 'semantic_map/semantic_map.pb',\n",
     "        'dataset_meta_key': 'meta.json',\n",
     "        'filter_agents_threshold': 0.5\n",
     "    },\n",
     "    \n",
     "    'train_data_loader': {\n",
     "        'key': 'scenes/train.zarr',\n",
     "        'batch_size': 12,\n",
     "        'shuffle': True,\n",
     "        'num_workers': 4\n",
     "    },\n",
     "    \n",
     "    'train_params': {\n",
     "        'max_num_steps': 10*16 if DEBUG else 3200,\n",
     "        'checkpoint_every_n_steps': 5000,\n",
     "        'train_batch' : 32,\n",
     "        'num_batch' : 10\n",
     "        \n",
     "        # 'eval_every_n_steps': -1\n",
     "    },\n",
     "    \n",
     "    'test_data_loader': {\n",
     "        'key': 'scenes/test.zarr',\n",
     "        'batch_size': 8,\n",
     "        'shuffle': False,\n",
     "        'num_workers': 4\n",
     "    },\n",
     "    \n",
     "    \n",
     "    \n",
     "    'valid_data_loader': {\n",
     "        'key': 'scenes/validate.zarr',\n",
     "        'batch_size': 8,\n",
     "        'shuffle': False,\n",
     "        'num_workers': 4\n",
     "    },\n",
     "    \n",
     "    \n",
     "}\n",
     "\n",
     "train_cfg = cfg[\"train_data_loader\"]\n",
     "\n",
     "# Rasterizer\n",
     "dm = LocalDataManager(None)\n",
     "rasterizer = build_rasterizer(cfg, dm)\n",
     "\n",
     "# Train dataset/dataloader\n",
     "\n",
     "train_zarr = ChunkedDataset(dm.require(train_cfg[\"key\"])).open()\n",
     "train_dataset = AgentDataset(cfg, train_zarr, rasterizer)\n",
     "hist_shape = train_dataset[0]['history_positions'].shape\n",
     "num_history_channels = (cfg[\"model_params\"][\"history_num_frames\"] + 1) * 2\n",
     "num_in_channels = 3 + num_history_channels\n",
     "num_targets = 2 * cfg[\"model_params\"][\"future_num_frames\"]\n",
     "\n",
     "print(train_dataset)\n",
     "\n",
     "\n",
     "gc.collect()\n",
     "\n",
     "dataset_path1 = dm.require(cfg[\"valid_data_loader\"][\"key\"])\n",
     "valid_zarr = ChunkedDataset(dataset_path1).open()\n",
     "valid_dataset = AgentDataset(cfg, valid_zarr, rasterizer)\n",
     "\n",
     "\n",
     "valid_itr = iter(valid_dataset)\n",
     "n_valid = 100\n",
     "\n",
     "val_inputs = np.zeros(shape=(n_valid,224,224, num_in_channels) )\n",
     "val_targets = np.zeros(shape=(n_valid,num_targets))\n",
     "for itr in tqdm(range(n_valid)):\n",
     "    data = next(valid_itr)\n",
     "\n",
     "    val_inputs[itr] = data['image'].transpose(1,2,0)    \n",
     "    val_targets[itr] = data['target_positions'].reshape(-1,num_targets)\n",
     "    gc.collect()\n",
     "del valid_dataset\n",
     "    \n",
     "\n",
     "len(train_dataset)\n",
     "\n",
     "idx = 100\n",
     "plt.scatter(train_dataset[idx]['history_positions'][:,0],train_dataset[idx]['history_positions'][:,1])\n",
     "plt.scatter(train_dataset[idx]['target_positions'][:,0],train_dataset[idx]['target_positions'][:,1],c='r')\n",
     "plt.show()\n",
     "print(train_dataset[0]['target_positions'].shape) \n",
     "\n",
     "\n",
     "from keras.applications.resnet50 import ResNet50\n",
     "from keras.utils.conv_utils import convert_kernel\n",
     "from keras.layers import (Input, Conv2D, Flatten,Dense,AveragePooling2D,Dropout,MaxPooling2D,BatchNormalization)\n",
     "from keras.models import Model, Sequential\n",
     "from keras.callbacks import ModelCheckpoint, EarlyStopping\n",
     "from keras import optimizers\n",
     "\n",
     "base_in = Input(shape=(224,224,num_in_channels))\n",
     "base_model=Conv2D(20,kernel_size=1,use_bias=False,padding=\"same\")(base_in)\n",
     "base_model=Conv2D(3,kernel_size=3,use_bias=False,padding=\"same\")(base_model)\n",
     "\n",
     "\n",
     "base_model = ResNet50(include_top=False,\n",
     "                      weights= 'imagenet',\n",
     "                      input_tensor= Input(shape = (224,224,3)),\n",
     "                      pooling='max'\n",
     "                ) (base_model)\n",
     "\n",
     "#dense_model = base_model.output\n",
     "dense_model = Dense(1000, activation=\"linear\")(base_model)\n",
     "dense_model = Dropout(.25)(dense_model)\n",
     "dense_model = Dense(500, activation=\"linear\")(dense_model)\n",
     "dense_model = Dropout(.125)(dense_model)\n",
     "dense_model = Dense(250, activation=\"relu\")(dense_model)\n",
     "dense_model = Dropout(.065)(dense_model)\n",
     "dense_model = Dense(num_targets, activation=\"linear\")(dense_model)\n",
     "\n",
     "model = Model(inputs=base_in, outputs=dense_model)\n",
     "opt = optimizers.Adam(lr=0.006)\n",
     "model.compile(optimizer=opt, loss='mse')\n",
     "\n",
     "model.summary()\n"
    ]
   }
  }
 },
 "nbformat": 4,
 "nbformat_minor": 4
}
