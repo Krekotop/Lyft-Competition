{
 "cells": [
  {
   "cell_type": "code",
   "execution_count": 1,
   "metadata": {
    "_cell_guid": "b1076dfc-b9ad-4769-8c92-a6c4dae69d19",
    "_uuid": "8f2839f25d086af736a60e9eeb907d3b93b6e0e5"
   },
   "outputs": [
    {
     "name": "stdout",
     "output_type": "stream",
     "text": [
      "CPU times: user 1.79 s, sys: 1.74 s, total: 3.52 s\n",
      "Wall time: 2.02 s\n"
     ]
    },
    {
     "data": {
      "text/plain": [
       "32512"
      ]
     },
     "execution_count": 1,
     "metadata": {},
     "output_type": "execute_result"
    }
   ],
   "source": [
    "%%time\n",
    "import os\n",
    "import matplotlib.pyplot as plt\n",
    "from tqdm import tqdm\n",
    "import numpy as np\n",
    "import gc\n",
    "import tensorflow as tf\n",
    "import time\n",
    "t0 = time.time()\n",
    "\n",
    "## this script transports l5kit and dependencies\n",
    "os.system('pip uninstall typing -y')\n",
    "os.system('pip install --target=/kaggle/working pymap3d==2.1.0')\n",
    "os.system('pip install --target=/kaggle/working protobuf==3.12.2')\n",
    "os.system('pip install --target=/kaggle/working transforms3d')\n",
    "os.system('pip install --target=/kaggle/working zarr')\n",
    "os.system('pip install --target=/kaggle/working ptable')\n",
    "\n",
    "os.system('pip install --no-dependencies --target=/kaggle/working l5kit')\n",
    "#!pip install --upgrade pip\n",
    "#!pip install pymap3d==2.1.0\n",
    "#!pip install -U l5kit"
   ]
  },
  {
   "cell_type": "markdown",
   "metadata": {},
   "source": [
    "Importing some stuff from the l5kit and setting the directories."
   ]
  },
  {
   "cell_type": "code",
   "execution_count": 2,
   "metadata": {
    "_cell_guid": "79c7e3d0-c299-4dcb-8224-4455121ee9b0",
    "_uuid": "d629ff2d2480ee46fbb7e2d37f6b5fab8052498a"
   },
   "outputs": [],
   "source": [
    "DIR_INPUT = \"/home/moriarty/Downloads/lyft\"\n",
    "import os\n",
    "os.environ[\"L5KIT_DATA_FOLDER\"] = DIR_INPUT\n",
    "SINGLE_MODE_SUBMISSION = f\"{DIR_INPUT}/single_mode_sample_submission.csv\"\n",
    "MULTI_MODE_SUBMISSION = f\"{DIR_INPUT}/multi_mode_sample_submission.csv\"\n",
    "from l5kit.data import LocalDataManager, ChunkedDataset\n",
    "from l5kit.dataset import AgentDataset, EgoDataset\n",
    "from l5kit.evaluation import write_pred_csv\n",
    "from l5kit.rasterization import build_rasterizer"
   ]
  },
  {
   "cell_type": "markdown",
   "metadata": {},
   "source": [
    "Config File (dictionary)  from the linked notebook.  This contains parameters for the training."
   ]
  },
  {
   "cell_type": "code",
   "execution_count": 3,
   "metadata": {},
   "outputs": [],
   "source": [
    "DEBUG = False  # True just trains for 10 steps instead of the full dataset\n",
    "cfg = {\n",
    "    'format_version': 4,\n",
    "    'model_params': {\n",
    "        'model_architecture': 'resnet50',\n",
    "        'history_num_frames': 20,\n",
    "        'history_step_size': 1,\n",
    "        'history_delta_time': 0.1,\n",
    "        'future_num_frames': 50,\n",
    "        'future_step_size': 1,\n",
    "        'future_delta_time': 0.1\n",
    "    },\n",
    "    \n",
    "    'raster_params': {\n",
    "        'raster_size': [224, 224],\n",
    "        'pixel_size': [0.5, 0.5],\n",
    "        'ego_center': [0.25, 0.5],\n",
    "        'map_type': 'py_semantic',\n",
    "        'satellite_map_key': 'aerial_map/aerial_map.png',\n",
    "        'semantic_map_key': 'semantic_map/semantic_map.pb',\n",
    "        'dataset_meta_key': 'meta.json',\n",
    "        'filter_agents_threshold': 0.5\n",
    "    },\n",
    "    \n",
    "    'train_data_loader': {\n",
    "        'key': 'scenes/train.zarr',\n",
    "        'batch_size': 12,\n",
    "        'shuffle': True,\n",
    "        'num_workers': 6\n",
    "    },\n",
    "    \n",
    "    'train_params': {\n",
    "        'max_num_steps': 10*1 if DEBUG else 300,\n",
    "        'checkpoint_every_n_steps': 5000,\n",
    "        'train_batch' : 32,\n",
    "        'num_batch' : 10\n",
    "        \n",
    "        # 'eval_every_n_steps': -1\n",
    "    },\n",
    "    \n",
    "    'test_data_loader': {\n",
    "        'key': 'scenes/test.zarr',\n",
    "        'batch_size': 8,\n",
    "        'shuffle': False,\n",
    "        'num_workers': 6\n",
    "    },\n",
    "    \n",
    "    \n",
    "    \n",
    "    'valid_data_loader': {\n",
    "        'key': 'scenes/validate.zarr',\n",
    "        'batch_size': 8,\n",
    "        'shuffle': False,\n",
    "        'num_workers': 6\n",
    "    },\n",
    "    \n",
    "    \n",
    "}"
   ]
  },
  {
   "cell_type": "markdown",
   "metadata": {},
   "source": [
    "Load In the train dataset.  I notice the pytorch folks can just import this with DataLoader, but I am not familiar with anything similar in keras."
   ]
  },
  {
   "cell_type": "code",
   "execution_count": 4,
   "metadata": {},
   "outputs": [
    {
     "name": "stdout",
     "output_type": "stream",
     "text": [
      "+------------+------------+------------+---------------+-----------------+----------------------+----------------------+----------------------+---------------------+\n",
      "| Num Scenes | Num Frames | Num Agents | Num TR lights | Total Time (hr) | Avg Frames per Scene | Avg Agents per Frame | Avg Scene Time (sec) | Avg Frame frequency |\n",
      "+------------+------------+------------+---------------+-----------------+----------------------+----------------------+----------------------+---------------------+\n",
      "|   16265    |  4039527   | 320124624  |    38735988   |      112.19     |        248.36        |        79.25         |        24.83         |        10.00        |\n",
      "+------------+------------+------------+---------------+-----------------+----------------------+----------------------+----------------------+---------------------+\n"
     ]
    },
    {
     "name": "stderr",
     "output_type": "stream",
     "text": [
      "/home/moriarty/.local/lib/python3.8/site-packages/l5kit/dataset/agent.py:115: RuntimeWarning: disable_traffic_light_faces not found in config, this will raise an error in the future\n",
      "  return self.get_frame(scene_index, state_index, track_id=track_id)\n"
     ]
    },
    {
     "data": {
      "text/plain": [
       "13"
      ]
     },
     "execution_count": 4,
     "metadata": {},
     "output_type": "execute_result"
    }
   ],
   "source": [
    "\n",
    "train_cfg = cfg[\"train_data_loader\"]\n",
    "\n",
    "# Rasterizer\n",
    "dm = LocalDataManager(None)\n",
    "rasterizer = build_rasterizer(cfg, dm)\n",
    "\n",
    "# Train dataset/dataloader\n",
    "\n",
    "train_zarr = ChunkedDataset(dm.require(train_cfg[\"key\"])).open()\n",
    "train_dataset = AgentDataset(cfg, train_zarr, rasterizer)\n",
    "hist_shape = train_dataset[0]['history_positions'].shape\n",
    "num_history_channels = (cfg[\"model_params\"][\"history_num_frames\"] + 1) * 2\n",
    "num_in_channels = 3 + num_history_channels\n",
    "num_targets = 2 * cfg[\"model_params\"][\"future_num_frames\"]\n",
    "\n",
    "print(train_dataset)\n",
    "\n",
    "\n",
    "gc.collect()"
   ]
  },
  {
   "cell_type": "code",
   "execution_count": 5,
   "metadata": {},
   "outputs": [],
   "source": [
    "dataset_path1 = dm.require(cfg[\"valid_data_loader\"][\"key\"])\n",
    "valid_zarr = ChunkedDataset(dataset_path1).open()\n",
    "valid_dataset = AgentDataset(cfg, valid_zarr, rasterizer)"
   ]
  },
  {
   "cell_type": "code",
   "execution_count": 6,
   "metadata": {},
   "outputs": [
    {
     "name": "stderr",
     "output_type": "stream",
     "text": [
      "100%|██████████| 100/100 [00:14<00:00,  7.09it/s]\n"
     ]
    }
   ],
   "source": [
    "valid_itr = iter(valid_dataset)\n",
    "n_valid = 100\n",
    "\n",
    "val_inputs = np.zeros(shape=(n_valid,224,224, num_in_channels) )\n",
    "val_targets = np.zeros(shape=(n_valid,num_targets))\n",
    "for itr in tqdm(range(n_valid)):\n",
    "    data = next(valid_itr)\n",
    "\n",
    "    val_inputs[itr] = data['image'].transpose(1,2,0)    \n",
    "    val_targets[itr] = data['target_positions'].reshape(-1,num_targets)\n",
    "    gc.collect()\n",
    "del valid_dataset\n",
    "    "
   ]
  },
  {
   "cell_type": "code",
   "execution_count": 7,
   "metadata": {},
   "outputs": [
    {
     "data": {
      "text/plain": [
       "22496709"
      ]
     },
     "execution_count": 7,
     "metadata": {},
     "output_type": "execute_result"
    }
   ],
   "source": [
    "len(train_dataset)"
   ]
  },
  {
   "cell_type": "code",
   "execution_count": 8,
   "metadata": {},
   "outputs": [
    {
     "data": {
      "image/png": "[encoded data removed]",
      "text/plain": [
       "<Figure size 432x288 with 1 Axes>"
      ]
     },
     "metadata": {
      "needs_background": "light"
     },
     "output_type": "display_data"
    },
    {
     "name": "stdout",
     "output_type": "stream",
     "text": [
      "(50, 2)\n"
     ]
    }
   ],
   "source": [
    "idx = 100\n",
    "plt.scatter(train_dataset[idx]['history_positions'][:,0],train_dataset[idx]['history_positions'][:,1])\n",
    "plt.scatter(train_dataset[idx]['target_positions'][:,0],train_dataset[idx]['target_positions'][:,1],c='r')\n",
    "plt.show()\n",
    "print(train_dataset[0]['target_positions'].shape) "
   ]
  },
  {
   "cell_type": "code",
   "execution_count": 9,
   "metadata": {},
   "outputs": [
    {
     "name": "stdout",
     "output_type": "stream",
     "text": [
      "Model: \"functional_1\"\n",
      "_________________________________________________________________\n",
      "Layer (type)                 Output Shape              Param #   \n",
      "=================================================================\n",
      "input_1 (InputLayer)         [(None, 224, 224, 45)]    0         \n",
      "_________________________________________________________________\n",
      "conv2d (Conv2D)              (None, 224, 224, 20)      900       \n",
      "_________________________________________________________________\n",
      "dropout (Dropout)            (None, 224, 224, 20)      0         \n",
      "_________________________________________________________________\n",
      "conv2d_1 (Conv2D)            (None, 224, 224, 3)       540       \n",
      "_________________________________________________________________\n",
      "efficientnetb0 (Functional)  (None, 7, 7, 1280)        4049571   \n",
      "_________________________________________________________________\n",
      "dense (Dense)                (None, 7, 7, 1000)        1281000   \n",
      "_________________________________________________________________\n",
      "dropout_1 (Dropout)          (None, 7, 7, 1000)        0         \n",
      "_________________________________________________________________\n",
      "conv2d_2 (Conv2D)            (None, 7, 7, 24)          216000    \n",
      "_________________________________________________________________\n",
      "dropout_2 (Dropout)          (None, 7, 7, 24)          0         \n",
      "_________________________________________________________________\n",
      "conv2d_3 (Conv2D)            (None, 7, 7, 12)          2592      \n",
      "_________________________________________________________________\n",
      "dropout_3 (Dropout)          (None, 7, 7, 12)          0         \n",
      "_________________________________________________________________\n",
      "conv2d_4 (Conv2D)            (None, 7, 7, 3)           324       \n",
      "_________________________________________________________________\n",
      "resnet101 (Functional)       (None, 2048)              42658176  \n",
      "_________________________________________________________________\n",
      "dense_1 (Dense)              (None, 1000)              2049000   \n",
      "_________________________________________________________________\n",
      "dropout_4 (Dropout)          (None, 1000)              0         \n",
      "_________________________________________________________________\n",
      "dense_2 (Dense)              (None, 100)               100100    \n",
      "=================================================================\n",
      "Total params: 50,358,203\n",
      "Trainable params: 50,210,836\n",
      "Non-trainable params: 147,367\n",
      "_________________________________________________________________\n"
     ]
    }
   ],
   "source": [
    "from keras.utils.conv_utils import convert_kernel\n",
    "from keras.layers import (Input, Conv2D, Flatten,Dense,AveragePooling2D,Dropout,MaxPooling2D,BatchNormalization)\n",
    "from keras.models import Model, Sequential\n",
    "from keras.callbacks import ModelCheckpoint, EarlyStopping\n",
    "from keras import optimizers\n",
    "from keras.applications.resnet import ResNet101\n",
    "from tensorflow.keras.applications import EfficientNetB0\n",
    "base_in = Input(shape=(224,224,num_in_channels))\n",
    "base_model=Conv2D(20,kernel_size=1,use_bias=False,padding=\"same\")(base_in)\n",
    "base_model = Dropout(.42)(base_model)\n",
    "base_model=Conv2D(3,kernel_size=3,use_bias=False,padding=\"same\")(base_model)\n",
    "\n",
    "efficient_net = EfficientNetB0(include_top=False, \n",
    "                               input_tensor=Input(shape=(224, 224, 3)), weights=\"imagenet\")(base_model)\n",
    "efficient_net.trainable = False\n",
    "dense_model = Dense(1000, activation=\"linear\")(efficient_net)\n",
    "dense_model = Dropout(.42)(dense_model)\n",
    "dense_model=Conv2D(24,kernel_size=3,use_bias=False,padding=\"same\")(dense_model)\n",
    "dense_model = Dropout(.42)(dense_model)\n",
    "dense_model=Conv2D(12,kernel_size=3,use_bias=False,padding=\"same\")(dense_model)\n",
    "dense_model = Dropout(.42)(dense_model)\n",
    "dense_model=Conv2D(3,kernel_size=3,use_bias=False,padding=\"same\")(dense_model)\n",
    "resnet_101 = ResNet101(include_top=False,\n",
    "                       weights='imagenet',\n",
    "                       input_tensor=Input(shape=(7,7,3)),\n",
    "                       pooling='max'\n",
    "                       )(dense_model)\n",
    "dense_model = Dense(1000, activation=\"softmax\")(resnet_101)\n",
    "dense_model = Dropout(.42)(dense_model)\n",
    "dense_model = Dense(num_targets, activation=\"linear\")(dense_model)\n",
    "model = Model(inputs=base_in, outputs=dense_model)\n",
    "opt = optimizers.Adam(lr=0.001)\n",
    "model.compile(optimizer=opt, loss='mse')\n",
    "\n",
    "model.summary()"
   ]
  },
  {
   "cell_type": "markdown",
   "metadata": {},
   "source": [
    "I am going to loop through the train_dataset and use a batch_size variable to train the model in batches.  "
   ]
  },
  {
   "cell_type": "code",
   "execution_count": 10,
   "metadata": {},
   "outputs": [
    {
     "name": "stderr",
     "output_type": "stream",
     "text": [
      "\r",
      "  0%|          | 0/300 [00:00<?, ?it/s]"
     ]
    },
    {
     "name": "stdout",
     "output_type": "stream",
     "text": [
      "2/2 [==============================] - ETA: 0s - loss: 163.3054\n",
      "Epoch 00001: val_loss improved from inf to 2.03032, saving model to ./model.h5\n",
      "2/2 [==============================] - 11s 6s/step - loss: 163.3054 - val_loss: 2.0303\n"
     ]
    },
    {
     "name": "stderr",
     "output_type": "stream",
     "text": [
      "\r",
      "  0%|          | 1/300 [00:30<2:33:17, 30.76s/it]"
     ]
    },
    {
     "name": "stdout",
     "output_type": "stream",
     "text": [
      "2/2 [==============================] - ETA: 0s - loss: 646.7185\n",
      "Epoch 00001: val_loss improved from 2.03032 to 2.02559, saving model to ./model.h5\n",
      "2/2 [==============================] - 9s 5s/step - loss: 646.7185 - val_loss: 2.0256\n"
     ]
    },
    {
     "name": "stderr",
     "output_type": "stream",
     "text": [
      "\r",
      "  1%|          | 2/300 [00:46<2:11:08, 26.40s/it]"
     ]
    },
    {
     "name": "stdout",
     "output_type": "stream",
     "text": [
      "2/2 [==============================] - ETA: 0s - loss: 27.4861\n",
      "Epoch 00001: val_loss improved from 2.02559 to 2.02119, saving model to ./model.h5\n",
      "2/2 [==============================] - 9s 5s/step - loss: 27.4861 - val_loss: 2.0212\n"
     ]
    },
    {
     "name": "stderr",
     "output_type": "stream",
     "text": [
      "\r",
      "  1%|          | 3/300 [01:02<1:54:49, 23.20s/it]"
     ]
    },
    {
     "name": "stdout",
     "output_type": "stream",
     "text": [
      "2/2 [==============================] - ETA: 0s - loss: 59.2511\n",
      "Epoch 00001: val_loss improved from 2.02119 to 2.01740, saving model to ./model.h5\n",
      "2/2 [==============================] - 10s 5s/step - loss: 59.2511 - val_loss: 2.0174\n"
     ]
    },
    {
     "name": "stderr",
     "output_type": "stream",
     "text": [
      "\r",
      "  1%|▏         | 4/300 [01:19<1:44:31, 21.19s/it]"
     ]
    },
    {
     "name": "stdout",
     "output_type": "stream",
     "text": [
      "2/2 [==============================] - ETA: 0s - loss: 9.4809\n",
      "Epoch 00001: val_loss improved from 2.01740 to 2.01432, saving model to ./model.h5\n",
      "2/2 [==============================] - 9s 5s/step - loss: 9.4809 - val_loss: 2.0143\n"
     ]
    },
    {
     "name": "stderr",
     "output_type": "stream",
     "text": [
      "\r",
      "  2%|▏         | 5/300 [01:35<1:36:12, 19.57s/it]"
     ]
    },
    {
     "name": "stdout",
     "output_type": "stream",
     "text": [
      "2/2 [==============================] - ETA: 0s - loss: 7.9078 \n",
      "Epoch 00001: val_loss improved from 2.01432 to 2.01215, saving model to ./model.h5\n",
      "2/2 [==============================] - 9s 5s/step - loss: 7.9078 - val_loss: 2.0122\n"
     ]
    },
    {
     "name": "stderr",
     "output_type": "stream",
     "text": [
      "\r",
      "  2%|▏         | 6/300 [01:50<1:29:53, 18.35s/it]"
     ]
    },
    {
     "name": "stdout",
     "output_type": "stream",
     "text": [
      "2/2 [==============================] - ETA: 0s - loss: 0.0056\n",
      "Epoch 00001: val_loss improved from 2.01215 to 2.01047, saving model to ./model.h5\n",
      "2/2 [==============================] - 10s 5s/step - loss: 0.0056 - val_loss: 2.0105\n"
     ]
    },
    {
     "name": "stderr",
     "output_type": "stream",
     "text": [
      "\r",
      "  2%|▏         | 7/300 [02:06<1:25:39, 17.54s/it]"
     ]
    },
    {
     "name": "stdout",
     "output_type": "stream",
     "text": [
      "2/2 [==============================] - ETA: 0s - loss: 98.3308 \n",
      "Epoch 00001: val_loss improved from 2.01047 to 2.00863, saving model to ./model.h5\n",
      "2/2 [==============================] - 9s 5s/step - loss: 98.3308 - val_loss: 2.0086\n"
     ]
    },
    {
     "name": "stderr",
     "output_type": "stream",
     "text": [
      "\r",
      "  3%|▎         | 8/300 [02:21<1:22:03, 16.86s/it]"
     ]
    },
    {
     "name": "stdout",
     "output_type": "stream",
     "text": [
      "2/2 [==============================] - ETA: 0s - loss: 96.4267\n",
      "Epoch 00001: val_loss improved from 2.00863 to 2.00550, saving model to ./model.h5\n",
      "2/2 [==============================] - 10s 5s/step - loss: 96.4267 - val_loss: 2.0055\n"
     ]
    },
    {
     "name": "stderr",
     "output_type": "stream",
     "text": [
      "\r",
      "  3%|▎         | 9/300 [02:36<1:19:39, 16.42s/it]"
     ]
    },
    {
     "name": "stdout",
     "output_type": "stream",
     "text": [
      "2/2 [==============================] - ETA: 0s - loss: 2.7676\n",
      "Epoch 00001: val_loss improved from 2.00550 to 2.00236, saving model to ./model.h5\n",
      "2/2 [==============================] - 9s 5s/step - loss: 2.7676 - val_loss: 2.0024\n"
     ]
    },
    {
     "name": "stderr",
     "output_type": "stream",
     "text": [
      "\r",
      "  3%|▎         | 10/300 [02:52<1:18:25, 16.23s/it]"
     ]
    },
    {
     "name": "stdout",
     "output_type": "stream",
     "text": [
      "2/2 [==============================] - ETA: 0s - loss: 46.8204\n",
      "Epoch 00001: val_loss improved from 2.00236 to 1.99864, saving model to ./model.h5\n",
      "2/2 [==============================] - 10s 5s/step - loss: 46.8204 - val_loss: 1.9986\n"
     ]
    },
    {
     "name": "stderr",
     "output_type": "stream",
     "text": [
      "\r",
      "  4%|▎         | 11/300 [03:09<1:19:31, 16.51s/it]"
     ]
    },
    {
     "name": "stdout",
     "output_type": "stream",
     "text": [
      "2/2 [==============================] - ETA: 0s - loss: 70.2958\n",
      "Epoch 00001: val_loss improved from 1.99864 to 1.99827, saving model to ./model.h5\n",
      "2/2 [==============================] - 9s 5s/step - loss: 70.2958 - val_loss: 1.9983\n"
     ]
    },
    {
     "name": "stderr",
     "output_type": "stream",
     "text": [
      "\r",
      "  4%|▍         | 12/300 [03:24<1:17:12, 16.09s/it]"
     ]
    },
    {
     "name": "stdout",
     "output_type": "stream",
     "text": [
      "2/2 [==============================] - ETA: 0s - loss: 81.9810\n",
      "Epoch 00001: val_loss improved from 1.99827 to 1.99552, saving model to ./model.h5\n",
      "2/2 [==============================] - 9s 4s/step - loss: 81.9810 - val_loss: 1.9955\n"
     ]
    },
    {
     "name": "stderr",
     "output_type": "stream",
     "text": [
      "\r",
      "  4%|▍         | 13/300 [03:40<1:15:37, 15.81s/it]"
     ]
    },
    {
     "name": "stdout",
     "output_type": "stream",
     "text": [
      "2/2 [==============================] - ETA: 0s - loss: 47.1760\n",
      "Epoch 00001: val_loss improved from 1.99552 to 1.99035, saving model to ./model.h5\n",
      "2/2 [==============================] - 9s 4s/step - loss: 47.1760 - val_loss: 1.9904\n"
     ]
    },
    {
     "name": "stderr",
     "output_type": "stream",
     "text": [
      "\r",
      "  5%|▍         | 14/300 [03:54<1:13:51, 15.50s/it]"
     ]
    },
    {
     "name": "stdout",
     "output_type": "stream",
     "text": [
      "2/2 [==============================] - ETA: 0s - loss: 36.3879\n",
      "Epoch 00001: val_loss improved from 1.99035 to 1.98554, saving model to ./model.h5\n",
      "2/2 [==============================] - 9s 4s/step - loss: 36.3879 - val_loss: 1.9855\n"
     ]
    },
    {
     "name": "stderr",
     "output_type": "stream",
     "text": [
      "\r",
      "  5%|▌         | 15/300 [04:09<1:12:11, 15.20s/it]"
     ]
    },
    {
     "name": "stdout",
     "output_type": "stream",
     "text": [
      "2/2 [==============================] - ETA: 0s - loss: 36.0855\n",
      "Epoch 00001: val_loss improved from 1.98554 to 1.98172, saving model to ./model.h5\n",
      "2/2 [==============================] - 9s 4s/step - loss: 36.0855 - val_loss: 1.9817\n"
     ]
    },
    {
     "name": "stderr",
     "output_type": "stream",
     "text": [
      "\r",
      "  5%|▌         | 16/300 [04:23<1:10:52, 14.97s/it]"
     ]
    },
    {
     "name": "stdout",
     "output_type": "stream",
     "text": [
      "2/2 [==============================] - ETA: 0s - loss: 36.7932\n",
      "Epoch 00001: val_loss improved from 1.98172 to 1.98100, saving model to ./model.h5\n",
      "2/2 [==============================] - 10s 5s/step - loss: 36.7932 - val_loss: 1.9810\n"
     ]
    },
    {
     "name": "stderr",
     "output_type": "stream",
     "text": [
      "\r",
      "  6%|▌         | 17/300 [04:39<1:11:32, 15.17s/it]"
     ]
    },
    {
     "name": "stdout",
     "output_type": "stream",
     "text": [
      "2/2 [==============================] - ETA: 0s - loss: 3.2506\n",
      "Epoch 00001: val_loss improved from 1.98100 to 1.97843, saving model to ./model.h5\n",
      "2/2 [==============================] - 9s 5s/step - loss: 3.2506 - val_loss: 1.9784\n"
     ]
    },
    {
     "name": "stderr",
     "output_type": "stream",
     "text": [
      "\r",
      "  6%|▌         | 18/300 [04:54<1:11:03, 15.12s/it]"
     ]
    },
    {
     "name": "stdout",
     "output_type": "stream",
     "text": [
      "2/2 [==============================] - ETA: 0s - loss: 0.0308\n",
      "Epoch 00001: val_loss improved from 1.97843 to 1.97631, saving model to ./model.h5\n",
      "2/2 [==============================] - 9s 4s/step - loss: 0.0308 - val_loss: 1.9763\n"
     ]
    },
    {
     "name": "stderr",
     "output_type": "stream",
     "text": [
      "\r",
      "  6%|▋         | 19/300 [05:10<1:12:19, 15.44s/it]"
     ]
    },
    {
     "name": "stdout",
     "output_type": "stream",
     "text": [
      "2/2 [==============================] - ETA: 0s - loss: 0.0045\n",
      "Epoch 00001: val_loss improved from 1.97631 to 1.97457, saving model to ./model.h5\n",
      "2/2 [==============================] - 9s 4s/step - loss: 0.0045 - val_loss: 1.9746\n"
     ]
    },
    {
     "name": "stderr",
     "output_type": "stream",
     "text": [
      "\r",
      "  7%|▋         | 20/300 [05:25<1:10:56, 15.20s/it]"
     ]
    },
    {
     "name": "stdout",
     "output_type": "stream",
     "text": [
      "2/2 [==============================] - ETA: 0s - loss: 0.0046\n",
      "Epoch 00001: val_loss improved from 1.97457 to 1.97315, saving model to ./model.h5\n",
      "2/2 [==============================] - 9s 5s/step - loss: 0.0046 - val_loss: 1.9731\n"
     ]
    },
    {
     "name": "stderr",
     "output_type": "stream",
     "text": [
      "\r",
      "  7%|▋         | 21/300 [05:40<1:10:40, 15.20s/it]"
     ]
    },
    {
     "name": "stdout",
     "output_type": "stream",
     "text": [
      "2/2 [==============================] - ETA: 0s - loss: 2.6919\n",
      "Epoch 00001: val_loss improved from 1.97315 to 1.97199, saving model to ./model.h5\n",
      "2/2 [==============================] - 9s 4s/step - loss: 2.6919 - val_loss: 1.9720\n"
     ]
    },
    {
     "name": "stderr",
     "output_type": "stream",
     "text": [
      "\r",
      "  7%|▋         | 22/300 [05:55<1:10:04, 15.12s/it]"
     ]
    },
    {
     "name": "stdout",
     "output_type": "stream",
     "text": [
      "2/2 [==============================] - ETA: 0s - loss: 0.0071\n",
      "Epoch 00001: val_loss improved from 1.97199 to 1.97105, saving model to ./model.h5\n",
      "2/2 [==============================] - 9s 4s/step - loss: 0.0071 - val_loss: 1.9711\n"
     ]
    },
    {
     "name": "stderr",
     "output_type": "stream",
     "text": [
      "\r",
      "  8%|▊         | 23/300 [06:09<1:08:46, 14.90s/it]"
     ]
    },
    {
     "name": "stdout",
     "output_type": "stream",
     "text": [
      "2/2 [==============================] - ETA: 0s - loss: 0.0051\n",
      "Epoch 00001: val_loss improved from 1.97105 to 1.97030, saving model to ./model.h5\n",
      "2/2 [==============================] - 10s 5s/step - loss: 0.0051 - val_loss: 1.9703\n"
     ]
    },
    {
     "name": "stderr",
     "output_type": "stream",
     "text": [
      "\r",
      "  8%|▊         | 24/300 [06:25<1:09:38, 15.14s/it]"
     ]
    },
    {
     "name": "stdout",
     "output_type": "stream",
     "text": [
      "2/2 [==============================] - ETA: 0s - loss: 4.6029\n",
      "Epoch 00001: val_loss improved from 1.97030 to 1.96969, saving model to ./model.h5\n",
      "2/2 [==============================] - 10s 5s/step - loss: 4.6029 - val_loss: 1.9697\n"
     ]
    },
    {
     "name": "stderr",
     "output_type": "stream",
     "text": [
      "\r",
      "  8%|▊         | 25/300 [06:42<1:11:51, 15.68s/it]"
     ]
    },
    {
     "name": "stdout",
     "output_type": "stream",
     "text": [
      "2/2 [==============================] - ETA: 0s - loss: 0.0034\n",
      "Epoch 00001: val_loss improved from 1.96969 to 1.96919, saving model to ./model.h5\n",
      "2/2 [==============================] - 9s 4s/step - loss: 0.0034 - val_loss: 1.9692\n"
     ]
    },
    {
     "name": "stderr",
     "output_type": "stream",
     "text": [
      "\r",
      "  9%|▊         | 26/300 [06:57<1:10:41, 15.48s/it]"
     ]
    },
    {
     "name": "stdout",
     "output_type": "stream",
     "text": [
      "2/2 [==============================] - ETA: 0s - loss: 1.1160\n",
      "Epoch 00001: val_loss improved from 1.96919 to 1.96879, saving model to ./model.h5\n",
      "2/2 [==============================] - 9s 5s/step - loss: 1.1160 - val_loss: 1.9688\n"
     ]
    },
    {
     "name": "stderr",
     "output_type": "stream",
     "text": [
      "\r",
      "  9%|▉         | 27/300 [07:13<1:11:39, 15.75s/it]"
     ]
    },
    {
     "name": "stdout",
     "output_type": "stream",
     "text": [
      "2/2 [==============================] - ETA: 0s - loss: 24.1039\n",
      "Epoch 00001: val_loss improved from 1.96879 to 1.96839, saving model to ./model.h5\n",
      "2/2 [==============================] - 10s 5s/step - loss: 24.1039 - val_loss: 1.9684\n"
     ]
    },
    {
     "name": "stderr",
     "output_type": "stream",
     "text": [
      "\r",
      "  9%|▉         | 28/300 [07:29<1:11:42, 15.82s/it]"
     ]
    },
    {
     "name": "stdout",
     "output_type": "stream",
     "text": [
      "2/2 [==============================] - ETA: 0s - loss: 101.2818\n",
      "Epoch 00001: val_loss improved from 1.96839 to 1.96656, saving model to ./model.h5\n",
      "2/2 [==============================] - 9s 4s/step - loss: 101.2818 - val_loss: 1.9666\n"
     ]
    },
    {
     "name": "stderr",
     "output_type": "stream",
     "text": [
      "\r",
      " 10%|▉         | 29/300 [07:44<1:10:06, 15.52s/it]"
     ]
    },
    {
     "name": "stdout",
     "output_type": "stream",
     "text": [
      "2/2 [==============================] - ETA: 0s - loss: 49.0026\n",
      "Epoch 00001: val_loss improved from 1.96656 to 1.96445, saving model to ./model.h5\n",
      "2/2 [==============================] - 9s 4s/step - loss: 49.0026 - val_loss: 1.9644\n"
     ]
    },
    {
     "name": "stderr",
     "output_type": "stream",
     "text": [
      "\r",
      " 10%|█         | 30/300 [07:59<1:08:35, 15.24s/it]"
     ]
    },
    {
     "name": "stdout",
     "output_type": "stream",
     "text": [
      "2/2 [==============================] - ETA: 0s - loss: 87.9899\n",
      "Epoch 00001: val_loss improved from 1.96445 to 1.96218, saving model to ./model.h5\n",
      "2/2 [==============================] - 9s 5s/step - loss: 87.9899 - val_loss: 1.9622\n"
     ]
    },
    {
     "name": "stderr",
     "output_type": "stream",
     "text": [
      "\r",
      " 10%|█         | 31/300 [08:14<1:08:31, 15.28s/it]"
     ]
    },
    {
     "name": "stdout",
     "output_type": "stream",
     "text": [
      "2/2 [==============================] - ETA: 0s - loss: 85.9742\n",
      "Epoch 00001: val_loss improved from 1.96218 to 1.96005, saving model to ./model.h5\n",
      "2/2 [==============================] - 9s 4s/step - loss: 85.9742 - val_loss: 1.9601\n"
     ]
    },
    {
     "name": "stderr",
     "output_type": "stream",
     "text": [
      "\r",
      " 11%|█         | 32/300 [08:29<1:07:20, 15.08s/it]"
     ]
    },
    {
     "name": "stdout",
     "output_type": "stream",
     "text": [
      "2/2 [==============================] - ETA: 0s - loss: 0.0081\n",
      "Epoch 00001: val_loss improved from 1.96005 to 1.95826, saving model to ./model.h5\n",
      "2/2 [==============================] - 10s 5s/step - loss: 0.0081 - val_loss: 1.9583\n"
     ]
    },
    {
     "name": "stderr",
     "output_type": "stream",
     "text": [
      "\r",
      " 11%|█         | 33/300 [08:44<1:07:44, 15.22s/it]"
     ]
    },
    {
     "name": "stdout",
     "output_type": "stream",
     "text": [
      "2/2 [==============================] - ETA: 0s - loss: 0.0106\n",
      "Epoch 00001: val_loss improved from 1.95826 to 1.95680, saving model to ./model.h5\n",
      "2/2 [==============================] - 9s 4s/step - loss: 0.0106 - val_loss: 1.9568\n"
     ]
    },
    {
     "name": "stderr",
     "output_type": "stream",
     "text": [
      "\r",
      " 11%|█▏        | 34/300 [08:58<1:06:12, 14.93s/it]"
     ]
    },
    {
     "name": "stdout",
     "output_type": "stream",
     "text": [
      "2/2 [==============================] - ETA: 0s - loss: 60.8530\n",
      "Epoch 00001: val_loss improved from 1.95680 to 1.95537, saving model to ./model.h5\n",
      "2/2 [==============================] - 10s 5s/step - loss: 60.8530 - val_loss: 1.9554\n"
     ]
    },
    {
     "name": "stderr",
     "output_type": "stream",
     "text": [
      "\r",
      " 12%|█▏        | 35/300 [09:14<1:07:07, 15.20s/it]"
     ]
    },
    {
     "name": "stdout",
     "output_type": "stream",
     "text": [
      "2/2 [==============================] - ETA: 0s - loss: 139.6401\n",
      "Epoch 00001: val_loss improved from 1.95537 to 1.95369, saving model to ./model.h5\n",
      "2/2 [==============================] - 9s 4s/step - loss: 139.6401 - val_loss: 1.9537\n"
     ]
    },
    {
     "name": "stderr",
     "output_type": "stream",
     "text": [
      "\r",
      " 12%|█▏        | 36/300 [09:29<1:06:10, 15.04s/it]"
     ]
    },
    {
     "name": "stdout",
     "output_type": "stream",
     "text": [
      "2/2 [==============================] - ETA: 0s - loss: 22.3582\n",
      "Epoch 00001: val_loss improved from 1.95369 to 1.95185, saving model to ./model.h5\n",
      "2/2 [==============================] - 9s 5s/step - loss: 22.3582 - val_loss: 1.9518\n"
     ]
    },
    {
     "name": "stderr",
     "output_type": "stream",
     "text": [
      "\r",
      " 12%|█▏        | 37/300 [09:44<1:05:41, 14.98s/it]"
     ]
    },
    {
     "name": "stdout",
     "output_type": "stream",
     "text": [
      "2/2 [==============================] - ETA: 0s - loss: 4.5690\n",
      "Epoch 00001: val_loss improved from 1.95185 to 1.95018, saving model to ./model.h5\n",
      "2/2 [==============================] - 9s 4s/step - loss: 4.5690 - val_loss: 1.9502\n"
     ]
    },
    {
     "name": "stderr",
     "output_type": "stream",
     "text": [
      "\r",
      " 13%|█▎        | 38/300 [09:58<1:04:37, 14.80s/it]"
     ]
    },
    {
     "name": "stdout",
     "output_type": "stream",
     "text": [
      "2/2 [==============================] - ETA: 0s - loss: 12.4991\n",
      "Epoch 00001: val_loss improved from 1.95018 to 1.94873, saving model to ./model.h5\n",
      "2/2 [==============================] - 9s 4s/step - loss: 12.4991 - val_loss: 1.9487\n"
     ]
    },
    {
     "name": "stderr",
     "output_type": "stream",
     "text": [
      "\r",
      " 13%|█▎        | 39/300 [10:13<1:03:47, 14.66s/it]"
     ]
    },
    {
     "name": "stdout",
     "output_type": "stream",
     "text": [
      "2/2 [==============================] - ETA: 0s - loss: 33.1407\n",
      "Epoch 00001: val_loss improved from 1.94873 to 1.94736, saving model to ./model.h5\n",
      "2/2 [==============================] - 9s 4s/step - loss: 33.1407 - val_loss: 1.9474\n"
     ]
    },
    {
     "name": "stderr",
     "output_type": "stream",
     "text": [
      "\r",
      " 13%|█▎        | 40/300 [10:27<1:03:12, 14.59s/it]"
     ]
    },
    {
     "name": "stdout",
     "output_type": "stream",
     "text": [
      "2/2 [==============================] - ETA: 0s - loss: 183.5219\n",
      "Epoch 00001: val_loss improved from 1.94736 to 1.94578, saving model to ./model.h5\n",
      "2/2 [==============================] - 9s 4s/step - loss: 183.5219 - val_loss: 1.9458\n"
     ]
    },
    {
     "name": "stderr",
     "output_type": "stream",
     "text": [
      "\r",
      " 14%|█▎        | 41/300 [10:41<1:02:32, 14.49s/it]"
     ]
    },
    {
     "name": "stdout",
     "output_type": "stream",
     "text": [
      "2/2 [==============================] - ETA: 0s - loss: 224.2949\n",
      "Epoch 00001: val_loss improved from 1.94578 to 1.94390, saving model to ./model.h5\n",
      "2/2 [==============================] - 11s 5s/step - loss: 224.2949 - val_loss: 1.9439\n"
     ]
    },
    {
     "name": "stderr",
     "output_type": "stream",
     "text": [
      "\r",
      " 14%|█▍        | 42/300 [10:58<1:05:10, 15.16s/it]"
     ]
    },
    {
     "name": "stdout",
     "output_type": "stream",
     "text": [
      "2/2 [==============================] - ETA: 0s - loss: 218.5125\n",
      "Epoch 00001: val_loss did not improve from 1.94390\n",
      "2/2 [==============================] - 9s 5s/step - loss: 218.5125 - val_loss: 1.9444\n"
     ]
    },
    {
     "name": "stderr",
     "output_type": "stream",
     "text": [
      "\r",
      " 14%|█▍        | 43/300 [11:14<1:05:52, 15.38s/it]"
     ]
    },
    {
     "name": "stdout",
     "output_type": "stream",
     "text": [
      "2/2 [==============================] - ETA: 0s - loss: 17.4145\n",
      "Epoch 00001: val_loss improved from 1.94390 to 1.93872, saving model to ./model.h5\n",
      "2/2 [==============================] - 11s 5s/step - loss: 17.4145 - val_loss: 1.9387\n"
     ]
    },
    {
     "name": "stderr",
     "output_type": "stream",
     "text": [
      "\r",
      " 15%|█▍        | 44/300 [11:31<1:08:21, 16.02s/it]"
     ]
    },
    {
     "name": "stdout",
     "output_type": "stream",
     "text": [
      "2/2 [==============================] - ETA: 0s - loss: 3.6441\n",
      "Epoch 00001: val_loss improved from 1.93872 to 1.93605, saving model to ./model.h5\n",
      "2/2 [==============================] - 10s 5s/step - loss: 3.6441 - val_loss: 1.9360\n"
     ]
    },
    {
     "name": "stderr",
     "output_type": "stream",
     "text": [
      "\r",
      " 15%|█▌        | 45/300 [11:47<1:07:29, 15.88s/it]"
     ]
    },
    {
     "name": "stdout",
     "output_type": "stream",
     "text": [
      "2/2 [==============================] - ETA: 0s - loss: 0.0173\n",
      "Epoch 00001: val_loss improved from 1.93605 to 1.93390, saving model to ./model.h5\n",
      "2/2 [==============================] - 11s 5s/step - loss: 0.0173 - val_loss: 1.9339\n"
     ]
    },
    {
     "name": "stderr",
     "output_type": "stream",
     "text": [
      "\r",
      " 15%|█▌        | 46/300 [12:04<1:08:55, 16.28s/it]"
     ]
    },
    {
     "name": "stdout",
     "output_type": "stream",
     "text": [
      "2/2 [==============================] - ETA: 0s - loss: 0.2087\n",
      "Epoch 00001: val_loss improved from 1.93390 to 1.93218, saving model to ./model.h5\n",
      "2/2 [==============================] - 9s 4s/step - loss: 0.2087 - val_loss: 1.9322\n"
     ]
    },
    {
     "name": "stderr",
     "output_type": "stream",
     "text": [
      "\r",
      " 16%|█▌        | 47/300 [12:20<1:07:42, 16.06s/it]"
     ]
    },
    {
     "name": "stdout",
     "output_type": "stream",
     "text": [
      "2/2 [==============================] - ETA: 0s - loss: 0.5122\n",
      "Epoch 00001: val_loss improved from 1.93218 to 1.93048, saving model to ./model.h5\n",
      "2/2 [==============================] - 9s 4s/step - loss: 0.5122 - val_loss: 1.9305\n"
     ]
    },
    {
     "name": "stderr",
     "output_type": "stream",
     "text": [
      "\r",
      " 16%|█▌        | 48/300 [12:34<1:05:28, 15.59s/it]"
     ]
    },
    {
     "name": "stdout",
     "output_type": "stream",
     "text": [
      "2/2 [==============================] - ETA: 0s - loss: 0.2061\n",
      "Epoch 00001: val_loss improved from 1.93048 to 1.92820, saving model to ./model.h5\n",
      "2/2 [==============================] - 10s 5s/step - loss: 0.2061 - val_loss: 1.9282\n"
     ]
    },
    {
     "name": "stderr",
     "output_type": "stream",
     "text": [
      "\r",
      " 16%|█▋        | 49/300 [12:50<1:05:31, 15.66s/it]"
     ]
    },
    {
     "name": "stdout",
     "output_type": "stream",
     "text": [
      "2/2 [==============================] - ETA: 0s - loss: 0.0179\n",
      "Epoch 00001: val_loss improved from 1.92820 to 1.92608, saving model to ./model.h5\n",
      "2/2 [==============================] - 11s 5s/step - loss: 0.0179 - val_loss: 1.9261\n"
     ]
    },
    {
     "name": "stderr",
     "output_type": "stream",
     "text": [
      "\r",
      " 17%|█▋        | 50/300 [13:07<1:06:58, 16.08s/it]"
     ]
    },
    {
     "name": "stdout",
     "output_type": "stream",
     "text": [
      "2/2 [==============================] - ETA: 0s - loss: 0.0149\n",
      "Epoch 00001: val_loss did not improve from 1.92608\n",
      "2/2 [==============================] - 11s 6s/step - loss: 0.0149 - val_loss: 1.9322\n"
     ]
    },
    {
     "name": "stderr",
     "output_type": "stream",
     "text": [
      "\r",
      " 17%|█▋        | 51/300 [13:25<1:09:43, 16.80s/it]"
     ]
    },
    {
     "name": "stdout",
     "output_type": "stream",
     "text": [
      "2/2 [==============================] - ETA: 0s - loss: 17.0291\n",
      "Epoch 00001: val_loss did not improve from 1.92608\n",
      "2/2 [==============================] - 9s 4s/step - loss: 17.0291 - val_loss: 1.9377\n"
     ]
    },
    {
     "name": "stderr",
     "output_type": "stream",
     "text": [
      "\r",
      " 17%|█▋        | 52/300 [13:41<1:07:48, 16.41s/it]"
     ]
    },
    {
     "name": "stdout",
     "output_type": "stream",
     "text": [
      "2/2 [==============================] - ETA: 0s - loss: 29.0229\n",
      "Epoch 00001: val_loss improved from 1.92608 to 1.92167, saving model to ./model.h5\n",
      "2/2 [==============================] - 10s 5s/step - loss: 29.0229 - val_loss: 1.9217\n"
     ]
    },
    {
     "name": "stderr",
     "output_type": "stream",
     "text": [
      "\r",
      " 18%|█▊        | 53/300 [13:58<1:08:25, 16.62s/it]"
     ]
    },
    {
     "name": "stdout",
     "output_type": "stream",
     "text": [
      "2/2 [==============================] - ETA: 0s - loss: 19.5548\n",
      "Epoch 00001: val_loss improved from 1.92167 to 1.90915, saving model to ./model.h5\n",
      "2/2 [==============================] - 10s 5s/step - loss: 19.5548 - val_loss: 1.9092\n"
     ]
    },
    {
     "name": "stderr",
     "output_type": "stream",
     "text": [
      "\r",
      " 18%|█▊        | 54/300 [14:16<1:09:53, 17.05s/it]"
     ]
    },
    {
     "name": "stdout",
     "output_type": "stream",
     "text": [
      "2/2 [==============================] - ETA: 0s - loss: 66.2551\n",
      "Epoch 00001: val_loss did not improve from 1.90915\n",
      "2/2 [==============================] - 9s 5s/step - loss: 66.2551 - val_loss: 1.9146\n"
     ]
    },
    {
     "name": "stderr",
     "output_type": "stream",
     "text": [
      "\r",
      " 18%|█▊        | 55/300 [14:31<1:07:14, 16.47s/it]"
     ]
    },
    {
     "name": "stdout",
     "output_type": "stream",
     "text": [
      "2/2 [==============================] - ETA: 0s - loss: 0.1625\n",
      "Epoch 00001: val_loss did not improve from 1.90915\n",
      "2/2 [==============================] - 10s 5s/step - loss: 0.1625 - val_loss: 1.9122\n"
     ]
    },
    {
     "name": "stderr",
     "output_type": "stream",
     "text": [
      "\r",
      " 19%|█▊        | 56/300 [14:47<1:05:42, 16.16s/it]"
     ]
    },
    {
     "name": "stdout",
     "output_type": "stream",
     "text": [
      "2/2 [==============================] - ETA: 0s - loss: 44.0747\n",
      "Epoch 00001: val_loss did not improve from 1.90915\n",
      "2/2 [==============================] - 9s 5s/step - loss: 44.0747 - val_loss: 1.9093\n"
     ]
    },
    {
     "name": "stderr",
     "output_type": "stream",
     "text": [
      "\r",
      " 19%|█▉        | 57/300 [15:04<1:06:17, 16.37s/it]"
     ]
    },
    {
     "name": "stdout",
     "output_type": "stream",
     "text": [
      "2/2 [==============================] - ETA: 0s - loss: 97.4285\n",
      "Epoch 00001: val_loss improved from 1.90915 to 1.90641, saving model to ./model.h5\n",
      "2/2 [==============================] - 9s 4s/step - loss: 97.4285 - val_loss: 1.9064\n"
     ]
    },
    {
     "name": "stderr",
     "output_type": "stream",
     "text": [
      "\r",
      " 19%|█▉        | 58/300 [15:19<1:04:19, 15.95s/it]"
     ]
    },
    {
     "name": "stdout",
     "output_type": "stream",
     "text": [
      "2/2 [==============================] - ETA: 0s - loss: 196.5576\n",
      "Epoch 00001: val_loss improved from 1.90641 to 1.90324, saving model to ./model.h5\n",
      "2/2 [==============================] - 9s 5s/step - loss: 196.5576 - val_loss: 1.9032\n"
     ]
    },
    {
     "name": "stderr",
     "output_type": "stream",
     "text": [
      "\r",
      " 20%|█▉        | 59/300 [15:35<1:04:15, 16.00s/it]"
     ]
    },
    {
     "name": "stdout",
     "output_type": "stream",
     "text": [
      "2/2 [==============================] - ETA: 0s - loss: 174.8330\n",
      "Epoch 00001: val_loss did not improve from 1.90324\n",
      "2/2 [==============================] - 9s 4s/step - loss: 174.8330 - val_loss: 1.9107\n"
     ]
    },
    {
     "name": "stderr",
     "output_type": "stream",
     "text": [
      "\r",
      " 20%|██        | 60/300 [15:50<1:03:01, 15.76s/it]"
     ]
    },
    {
     "name": "stdout",
     "output_type": "stream",
     "text": [
      "2/2 [==============================] - ETA: 0s - loss: 0.4820\n",
      "Epoch 00001: val_loss did not improve from 1.90324\n",
      "2/2 [==============================] - 8s 4s/step - loss: 0.4820 - val_loss: 1.9276\n"
     ]
    },
    {
     "name": "stderr",
     "output_type": "stream",
     "text": [
      "\r",
      " 20%|██        | 61/300 [16:04<1:00:48, 15.27s/it]"
     ]
    },
    {
     "name": "stdout",
     "output_type": "stream",
     "text": [
      "2/2 [==============================] - ETA: 0s - loss: 26.6595\n",
      "Epoch 00001: val_loss improved from 1.90324 to 1.89428, saving model to ./model.h5\n",
      "2/2 [==============================] - 9s 4s/step - loss: 26.6595 - val_loss: 1.8943\n"
     ]
    },
    {
     "name": "stderr",
     "output_type": "stream",
     "text": [
      "\r",
      " 21%|██        | 62/300 [16:18<59:41, 15.05s/it]  "
     ]
    },
    {
     "name": "stdout",
     "output_type": "stream",
     "text": [
      "2/2 [==============================] - ETA: 0s - loss: 0.4461\n",
      "Epoch 00001: val_loss improved from 1.89428 to 1.87347, saving model to ./model.h5\n",
      "2/2 [==============================] - 9s 5s/step - loss: 0.4461 - val_loss: 1.8735\n"
     ]
    },
    {
     "name": "stderr",
     "output_type": "stream",
     "text": [
      "\r",
      " 21%|██        | 63/300 [16:33<59:15, 15.00s/it]"
     ]
    },
    {
     "name": "stdout",
     "output_type": "stream",
     "text": [
      "2/2 [==============================] - ETA: 0s - loss: 0.4108\n",
      "Epoch 00001: val_loss improved from 1.87347 to 1.87172, saving model to ./model.h5\n",
      "2/2 [==============================] - 9s 4s/step - loss: 0.4108 - val_loss: 1.8717\n"
     ]
    },
    {
     "name": "stderr",
     "output_type": "stream",
     "text": [
      "\r",
      " 21%|██▏       | 64/300 [16:48<58:32, 14.88s/it]"
     ]
    },
    {
     "name": "stdout",
     "output_type": "stream",
     "text": [
      "2/2 [==============================] - ETA: 0s - loss: 0.3708\n",
      "Epoch 00001: val_loss improved from 1.87172 to 1.87074, saving model to ./model.h5\n",
      "2/2 [==============================] - 9s 4s/step - loss: 0.3708 - val_loss: 1.8707\n"
     ]
    },
    {
     "name": "stderr",
     "output_type": "stream",
     "text": [
      "\r",
      " 22%|██▏       | 65/300 [17:03<58:03, 14.82s/it]"
     ]
    },
    {
     "name": "stdout",
     "output_type": "stream",
     "text": [
      "2/2 [==============================] - ETA: 0s - loss: 133.0503\n",
      "Epoch 00001: val_loss improved from 1.87074 to 1.86898, saving model to ./model.h5\n",
      "2/2 [==============================] - 9s 4s/step - loss: 133.0503 - val_loss: 1.8690\n"
     ]
    },
    {
     "name": "stderr",
     "output_type": "stream",
     "text": [
      "\r",
      " 22%|██▏       | 66/300 [17:17<57:20, 14.70s/it]"
     ]
    },
    {
     "name": "stdout",
     "output_type": "stream",
     "text": [
      "2/2 [==============================] - ETA: 0s - loss: 3.7049\n",
      "Epoch 00001: val_loss improved from 1.86898 to 1.86739, saving model to ./model.h5\n",
      "2/2 [==============================] - 9s 4s/step - loss: 3.7049 - val_loss: 1.8674\n"
     ]
    },
    {
     "name": "stderr",
     "output_type": "stream",
     "text": [
      "\r",
      " 22%|██▏       | 67/300 [17:32<56:49, 14.63s/it]"
     ]
    },
    {
     "name": "stdout",
     "output_type": "stream",
     "text": [
      "2/2 [==============================] - ETA: 0s - loss: 60.9708\n",
      "Epoch 00001: val_loss did not improve from 1.86739\n",
      "2/2 [==============================] - 8s 4s/step - loss: 60.9708 - val_loss: 1.8887\n"
     ]
    },
    {
     "name": "stderr",
     "output_type": "stream",
     "text": [
      "\r",
      " 23%|██▎       | 68/300 [17:45<55:33, 14.37s/it]"
     ]
    },
    {
     "name": "stdout",
     "output_type": "stream",
     "text": [
      "2/2 [==============================] - ETA: 0s - loss: 11.2941\n",
      "Epoch 00001: val_loss did not improve from 1.86739\n",
      "2/2 [==============================] - 8s 4s/step - loss: 11.2941 - val_loss: 1.8869\n"
     ]
    },
    {
     "name": "stderr",
     "output_type": "stream",
     "text": [
      "\r",
      " 23%|██▎       | 69/300 [17:59<54:53, 14.26s/it]"
     ]
    },
    {
     "name": "stdout",
     "output_type": "stream",
     "text": [
      "2/2 [==============================] - ETA: 0s - loss: 45.8243\n",
      "Epoch 00001: val_loss improved from 1.86739 to 1.86724, saving model to ./model.h5\n",
      "2/2 [==============================] - 9s 5s/step - loss: 45.8243 - val_loss: 1.8672\n"
     ]
    },
    {
     "name": "stderr",
     "output_type": "stream",
     "text": [
      "\r",
      " 23%|██▎       | 70/300 [18:14<55:37, 14.51s/it]"
     ]
    },
    {
     "name": "stdout",
     "output_type": "stream",
     "text": [
      "2/2 [==============================] - ETA: 0s - loss: 217.7148\n",
      "Epoch 00001: val_loss did not improve from 1.86724\n",
      "2/2 [==============================] - 8s 4s/step - loss: 217.7148 - val_loss: 1.8831\n"
     ]
    },
    {
     "name": "stderr",
     "output_type": "stream",
     "text": [
      "\r",
      " 24%|██▎       | 71/300 [18:28<54:28, 14.27s/it]"
     ]
    },
    {
     "name": "stdout",
     "output_type": "stream",
     "text": [
      "2/2 [==============================] - ETA: 0s - loss: 10.2558\n",
      "Epoch 00001: val_loss improved from 1.86724 to 1.86080, saving model to ./model.h5\n",
      "2/2 [==============================] - 9s 4s/step - loss: 10.2558 - val_loss: 1.8608\n"
     ]
    },
    {
     "name": "stderr",
     "output_type": "stream",
     "text": [
      "\r",
      " 24%|██▍       | 72/300 [18:42<54:12, 14.27s/it]"
     ]
    },
    {
     "name": "stdout",
     "output_type": "stream",
     "text": [
      "2/2 [==============================] - ETA: 0s - loss: 0.1706\n",
      "Epoch 00001: val_loss improved from 1.86080 to 1.85396, saving model to ./model.h5\n",
      "2/2 [==============================] - 9s 4s/step - loss: 0.1706 - val_loss: 1.8540\n"
     ]
    },
    {
     "name": "stderr",
     "output_type": "stream",
     "text": [
      "\r",
      " 24%|██▍       | 73/300 [18:57<53:56, 14.26s/it]"
     ]
    },
    {
     "name": "stdout",
     "output_type": "stream",
     "text": [
      "2/2 [==============================] - ETA: 0s - loss: 0.0181\n",
      "Epoch 00001: val_loss improved from 1.85396 to 1.85205, saving model to ./model.h5\n",
      "2/2 [==============================] - 9s 4s/step - loss: 0.0181 - val_loss: 1.8520\n"
     ]
    },
    {
     "name": "stderr",
     "output_type": "stream",
     "text": [
      "\r",
      " 25%|██▍       | 74/300 [19:11<53:26, 14.19s/it]"
     ]
    },
    {
     "name": "stdout",
     "output_type": "stream",
     "text": [
      "2/2 [==============================] - ETA: 0s - loss: 4.9049\n",
      "Epoch 00001: val_loss did not improve from 1.85205\n",
      "2/2 [==============================] - 8s 4s/step - loss: 4.9049 - val_loss: 1.8744\n"
     ]
    },
    {
     "name": "stderr",
     "output_type": "stream",
     "text": [
      "\r",
      " 25%|██▌       | 75/300 [19:24<52:21, 13.96s/it]"
     ]
    },
    {
     "name": "stdout",
     "output_type": "stream",
     "text": [
      "2/2 [==============================] - ETA: 0s - loss: 7.5208\n",
      "Epoch 00001: val_loss did not improve from 1.85205\n",
      "2/2 [==============================] - 8s 4s/step - loss: 7.5208 - val_loss: 1.8727\n"
     ]
    },
    {
     "name": "stderr",
     "output_type": "stream",
     "text": [
      "\r",
      " 25%|██▌       | 76/300 [19:38<51:46, 13.87s/it]"
     ]
    },
    {
     "name": "stdout",
     "output_type": "stream",
     "text": [
      "2/2 [==============================] - ETA: 0s - loss: 8.6279\n",
      "Epoch 00001: val_loss did not improve from 1.85205\n",
      "2/2 [==============================] - 8s 4s/step - loss: 8.6279 - val_loss: 1.8715\n"
     ]
    },
    {
     "name": "stderr",
     "output_type": "stream",
     "text": [
      "\r",
      " 26%|██▌       | 77/300 [19:52<51:41, 13.91s/it]"
     ]
    },
    {
     "name": "stdout",
     "output_type": "stream",
     "text": [
      "2/2 [==============================] - ETA: 0s - loss: 9.8381\n",
      "Epoch 00001: val_loss did not improve from 1.85205\n",
      "2/2 [==============================] - 8s 4s/step - loss: 9.8381 - val_loss: 1.8701\n"
     ]
    },
    {
     "name": "stderr",
     "output_type": "stream",
     "text": [
      "\r",
      " 26%|██▌       | 78/300 [20:06<51:49, 14.01s/it]"
     ]
    },
    {
     "name": "stdout",
     "output_type": "stream",
     "text": [
      "2/2 [==============================] - ETA: 0s - loss: 10.6836\n",
      "Epoch 00001: val_loss did not improve from 1.85205\n",
      "2/2 [==============================] - 8s 4s/step - loss: 10.6836 - val_loss: 1.8690\n"
     ]
    },
    {
     "name": "stderr",
     "output_type": "stream",
     "text": [
      "\r",
      " 26%|██▋       | 79/300 [20:20<51:09, 13.89s/it]"
     ]
    },
    {
     "name": "stdout",
     "output_type": "stream",
     "text": [
      "2/2 [==============================] - ETA: 0s - loss: 17.0845\n",
      "Epoch 00001: val_loss did not improve from 1.85205\n",
      "2/2 [==============================] - 8s 4s/step - loss: 17.0845 - val_loss: 1.8678\n"
     ]
    },
    {
     "name": "stderr",
     "output_type": "stream",
     "text": [
      "\r",
      " 27%|██▋       | 80/300 [20:33<50:37, 13.81s/it]"
     ]
    },
    {
     "name": "stdout",
     "output_type": "stream",
     "text": [
      "2/2 [==============================] - ETA: 0s - loss: 28.4748\n",
      "Epoch 00001: val_loss did not improve from 1.85205\n",
      "2/2 [==============================] - 8s 4s/step - loss: 28.4748 - val_loss: 1.8666\n"
     ]
    },
    {
     "name": "stderr",
     "output_type": "stream",
     "text": [
      "\r",
      " 27%|██▋       | 81/300 [20:47<50:08, 13.74s/it]"
     ]
    },
    {
     "name": "stdout",
     "output_type": "stream",
     "text": [
      "2/2 [==============================] - ETA: 0s - loss: 62.3986\n",
      "Epoch 00001: val_loss did not improve from 1.85205\n",
      "2/2 [==============================] - 8s 4s/step - loss: 62.3986 - val_loss: 1.8648\n"
     ]
    },
    {
     "name": "stderr",
     "output_type": "stream",
     "text": [
      "\r",
      " 27%|██▋       | 82/300 [21:01<50:07, 13.80s/it]"
     ]
    },
    {
     "name": "stdout",
     "output_type": "stream",
     "text": [
      "2/2 [==============================] - ETA: 0s - loss: 127.8161\n",
      "Epoch 00001: val_loss did not improve from 1.85205\n",
      "2/2 [==============================] - 8s 4s/step - loss: 127.8161 - val_loss: 1.8623\n"
     ]
    },
    {
     "name": "stderr",
     "output_type": "stream",
     "text": [
      "\r",
      " 28%|██▊       | 83/300 [21:14<49:43, 13.75s/it]"
     ]
    },
    {
     "name": "stdout",
     "output_type": "stream",
     "text": [
      "2/2 [==============================] - ETA: 0s - loss: 28.4230\n",
      "Epoch 00001: val_loss did not improve from 1.85205\n",
      "2/2 [==============================] - 8s 4s/step - loss: 28.4230 - val_loss: 1.8595\n"
     ]
    },
    {
     "name": "stderr",
     "output_type": "stream",
     "text": [
      "\r",
      " 28%|██▊       | 84/300 [21:28<49:16, 13.69s/it]"
     ]
    },
    {
     "name": "stdout",
     "output_type": "stream",
     "text": [
      "2/2 [==============================] - ETA: 0s - loss: 94.8185\n",
      "Epoch 00001: val_loss did not improve from 1.85205\n",
      "2/2 [==============================] - 9s 4s/step - loss: 94.8185 - val_loss: 1.8565\n"
     ]
    },
    {
     "name": "stderr",
     "output_type": "stream",
     "text": [
      "\r",
      " 28%|██▊       | 85/300 [21:43<50:09, 14.00s/it]"
     ]
    },
    {
     "name": "stdout",
     "output_type": "stream",
     "text": [
      "2/2 [==============================] - ETA: 0s - loss: 40.1400\n",
      "Epoch 00001: val_loss did not improve from 1.85205\n",
      "2/2 [==============================] - 8s 4s/step - loss: 40.1400 - val_loss: 1.8537\n"
     ]
    },
    {
     "name": "stderr",
     "output_type": "stream",
     "text": [
      "\r",
      " 29%|██▊       | 86/300 [21:56<49:39, 13.92s/it]"
     ]
    },
    {
     "name": "stdout",
     "output_type": "stream",
     "text": [
      "2/2 [==============================] - ETA: 0s - loss: 0.2807\n",
      "Epoch 00001: val_loss improved from 1.85205 to 1.85142, saving model to ./model.h5\n",
      "2/2 [==============================] - 9s 4s/step - loss: 0.2807 - val_loss: 1.8514\n"
     ]
    },
    {
     "name": "stderr",
     "output_type": "stream",
     "text": [
      "\r",
      " 29%|██▉       | 87/300 [22:11<49:56, 14.07s/it]"
     ]
    },
    {
     "name": "stdout",
     "output_type": "stream",
     "text": [
      "2/2 [==============================] - ETA: 0s - loss: 0.3186\n",
      "Epoch 00001: val_loss improved from 1.85142 to 1.84966, saving model to ./model.h5\n",
      "2/2 [==============================] - 9s 4s/step - loss: 0.3186 - val_loss: 1.8497\n"
     ]
    },
    {
     "name": "stderr",
     "output_type": "stream",
     "text": [
      "\r",
      " 29%|██▉       | 88/300 [22:25<50:02, 14.16s/it]"
     ]
    },
    {
     "name": "stdout",
     "output_type": "stream",
     "text": [
      "2/2 [==============================] - ETA: 0s - loss: 0.4303\n",
      "Epoch 00001: val_loss improved from 1.84966 to 1.84833, saving model to ./model.h5\n",
      "2/2 [==============================] - 9s 4s/step - loss: 0.4303 - val_loss: 1.8483\n"
     ]
    },
    {
     "name": "stderr",
     "output_type": "stream",
     "text": [
      "\r",
      " 30%|██▉       | 89/300 [22:40<50:12, 14.28s/it]"
     ]
    },
    {
     "name": "stdout",
     "output_type": "stream",
     "text": [
      "2/2 [==============================] - ETA: 0s - loss: 0.5684\n",
      "Epoch 00001: val_loss improved from 1.84833 to 1.84735, saving model to ./model.h5\n",
      "2/2 [==============================] - 9s 4s/step - loss: 0.5684 - val_loss: 1.8474\n"
     ]
    },
    {
     "name": "stderr",
     "output_type": "stream",
     "text": [
      "\r",
      " 30%|███       | 90/300 [22:54<50:04, 14.31s/it]"
     ]
    },
    {
     "name": "stdout",
     "output_type": "stream",
     "text": [
      "2/2 [==============================] - ETA: 0s - loss: 12.7873\n",
      "Epoch 00001: val_loss improved from 1.84735 to 1.84653, saving model to ./model.h5\n",
      "2/2 [==============================] - 9s 4s/step - loss: 12.7873 - val_loss: 1.8465\n"
     ]
    },
    {
     "name": "stderr",
     "output_type": "stream",
     "text": [
      "\r",
      " 30%|███       | 91/300 [23:09<50:03, 14.37s/it]"
     ]
    },
    {
     "name": "stdout",
     "output_type": "stream",
     "text": [
      "2/2 [==============================] - ETA: 0s - loss: 73.6093\n",
      "Epoch 00001: val_loss improved from 1.84653 to 1.84557, saving model to ./model.h5\n",
      "2/2 [==============================] - 9s 4s/step - loss: 73.6093 - val_loss: 1.8456\n"
     ]
    },
    {
     "name": "stderr",
     "output_type": "stream",
     "text": [
      "\r",
      " 31%|███       | 92/300 [23:24<50:31, 14.57s/it]"
     ]
    },
    {
     "name": "stdout",
     "output_type": "stream",
     "text": [
      "2/2 [==============================] - ETA: 0s - loss: 141.2309\n",
      "Epoch 00001: val_loss did not improve from 1.84557\n",
      "2/2 [==============================] - 8s 4s/step - loss: 141.2309 - val_loss: 1.8932\n"
     ]
    },
    {
     "name": "stderr",
     "output_type": "stream",
     "text": [
      "\r",
      " 31%|███       | 93/300 [23:38<49:35, 14.37s/it]"
     ]
    },
    {
     "name": "stdout",
     "output_type": "stream",
     "text": [
      "2/2 [==============================] - ETA: 0s - loss: 168.8644\n",
      "Epoch 00001: val_loss improved from 1.84557 to 1.84275, saving model to ./model.h5\n",
      "2/2 [==============================] - 9s 4s/step - loss: 168.8644 - val_loss: 1.8428\n"
     ]
    },
    {
     "name": "stderr",
     "output_type": "stream",
     "text": [
      "\r",
      " 31%|███▏      | 94/300 [23:52<49:23, 14.39s/it]"
     ]
    },
    {
     "name": "stdout",
     "output_type": "stream",
     "text": [
      "2/2 [==============================] - ETA: 0s - loss: 113.0951\n",
      "Epoch 00001: val_loss improved from 1.84275 to 1.84074, saving model to ./model.h5\n",
      "2/2 [==============================] - 9s 4s/step - loss: 113.0951 - val_loss: 1.8407\n"
     ]
    },
    {
     "name": "stderr",
     "output_type": "stream",
     "text": [
      "\r",
      " 32%|███▏      | 95/300 [24:06<49:09, 14.39s/it]"
     ]
    },
    {
     "name": "stdout",
     "output_type": "stream",
     "text": [
      "2/2 [==============================] - ETA: 0s - loss: 43.9867\n",
      "Epoch 00001: val_loss improved from 1.84074 to 1.82431, saving model to ./model.h5\n",
      "2/2 [==============================] - 9s 4s/step - loss: 43.9867 - val_loss: 1.8243\n"
     ]
    },
    {
     "name": "stderr",
     "output_type": "stream",
     "text": [
      "\r",
      " 32%|███▏      | 96/300 [24:21<49:04, 14.44s/it]"
     ]
    },
    {
     "name": "stdout",
     "output_type": "stream",
     "text": [
      "2/2 [==============================] - ETA: 0s - loss: 14.8090\n",
      "Epoch 00001: val_loss did not improve from 1.82431\n",
      "2/2 [==============================] - 8s 4s/step - loss: 14.8090 - val_loss: 1.8508\n"
     ]
    },
    {
     "name": "stderr",
     "output_type": "stream",
     "text": [
      "\r",
      " 32%|███▏      | 97/300 [24:35<48:12, 14.25s/it]"
     ]
    },
    {
     "name": "stdout",
     "output_type": "stream",
     "text": [
      "2/2 [==============================] - ETA: 0s - loss: 2.1866\n",
      "Epoch 00001: val_loss did not improve from 1.82431\n",
      "2/2 [==============================] - 8s 4s/step - loss: 2.1866 - val_loss: 1.8348\n"
     ]
    },
    {
     "name": "stderr",
     "output_type": "stream",
     "text": [
      "\r",
      " 33%|███▎      | 98/300 [24:49<47:39, 14.16s/it]"
     ]
    },
    {
     "name": "stdout",
     "output_type": "stream",
     "text": [
      "2/2 [==============================] - ETA: 0s - loss: 0.2148\n",
      "Epoch 00001: val_loss did not improve from 1.82431\n",
      "2/2 [==============================] - 8s 4s/step - loss: 0.2148 - val_loss: 1.8334\n"
     ]
    },
    {
     "name": "stderr",
     "output_type": "stream",
     "text": [
      "\r",
      " 33%|███▎      | 99/300 [25:03<47:36, 14.21s/it]"
     ]
    },
    {
     "name": "stdout",
     "output_type": "stream",
     "text": [
      "2/2 [==============================] - ETA: 0s - loss: 0.1456\n",
      "Epoch 00001: val_loss did not improve from 1.82431\n",
      "2/2 [==============================] - 8s 4s/step - loss: 0.1456 - val_loss: 1.8323\n"
     ]
    },
    {
     "name": "stderr",
     "output_type": "stream",
     "text": [
      "\r",
      " 33%|███▎      | 100/300 [25:17<47:14, 14.17s/it]"
     ]
    },
    {
     "name": "stdout",
     "output_type": "stream",
     "text": [
      "2/2 [==============================] - ETA: 0s - loss: 0.3118\n",
      "Epoch 00001: val_loss did not improve from 1.82431\n",
      "2/2 [==============================] - 8s 4s/step - loss: 0.3118 - val_loss: 1.8315\n"
     ]
    },
    {
     "name": "stderr",
     "output_type": "stream",
     "text": [
      "\r",
      " 34%|███▎      | 101/300 [25:31<46:42, 14.08s/it]"
     ]
    },
    {
     "name": "stdout",
     "output_type": "stream",
     "text": [
      "2/2 [==============================] - ETA: 0s - loss: 0.3758\n",
      "Epoch 00001: val_loss did not improve from 1.82431\n",
      "2/2 [==============================] - 8s 4s/step - loss: 0.3758 - val_loss: 1.8309\n"
     ]
    },
    {
     "name": "stderr",
     "output_type": "stream",
     "text": [
      "\r",
      " 34%|███▍      | 102/300 [25:45<46:13, 14.01s/it]"
     ]
    },
    {
     "name": "stdout",
     "output_type": "stream",
     "text": [
      "2/2 [==============================] - ETA: 0s - loss: 12.2046\n",
      "Epoch 00001: val_loss did not improve from 1.82431\n",
      "2/2 [==============================] - 8s 4s/step - loss: 12.2046 - val_loss: 1.8304\n"
     ]
    },
    {
     "name": "stderr",
     "output_type": "stream",
     "text": [
      "\r",
      " 34%|███▍      | 103/300 [25:59<45:52, 13.97s/it]"
     ]
    },
    {
     "name": "stdout",
     "output_type": "stream",
     "text": [
      "2/2 [==============================] - ETA: 0s - loss: 49.3484\n",
      "Epoch 00001: val_loss did not improve from 1.82431\n",
      "2/2 [==============================] - 8s 4s/step - loss: 49.3484 - val_loss: 1.8296\n"
     ]
    },
    {
     "name": "stderr",
     "output_type": "stream",
     "text": [
      "\r",
      " 35%|███▍      | 104/300 [26:12<45:26, 13.91s/it]"
     ]
    },
    {
     "name": "stdout",
     "output_type": "stream",
     "text": [
      "2/2 [==============================] - ETA: 0s - loss: 0.3690\n",
      "Epoch 00001: val_loss did not improve from 1.82431\n",
      "2/2 [==============================] - 8s 4s/step - loss: 0.3690 - val_loss: 1.8288\n"
     ]
    },
    {
     "name": "stderr",
     "output_type": "stream",
     "text": [
      "\r",
      " 35%|███▌      | 105/300 [26:26<45:14, 13.92s/it]"
     ]
    },
    {
     "name": "stdout",
     "output_type": "stream",
     "text": [
      "2/2 [==============================] - ETA: 0s - loss: 0.2544\n",
      "Epoch 00001: val_loss did not improve from 1.82431\n",
      "2/2 [==============================] - 8s 4s/step - loss: 0.2544 - val_loss: 1.8282\n"
     ]
    },
    {
     "name": "stderr",
     "output_type": "stream",
     "text": [
      "\r",
      " 35%|███▌      | 106/300 [26:41<45:37, 14.11s/it]"
     ]
    },
    {
     "name": "stdout",
     "output_type": "stream",
     "text": [
      "2/2 [==============================] - ETA: 0s - loss: 12.6947\n",
      "Epoch 00001: val_loss did not improve from 1.82431\n",
      "2/2 [==============================] - 8s 4s/step - loss: 12.6947 - val_loss: 1.8277\n"
     ]
    },
    {
     "name": "stderr",
     "output_type": "stream",
     "text": [
      "\r",
      " 36%|███▌      | 107/300 [26:55<45:41, 14.20s/it]"
     ]
    },
    {
     "name": "stdout",
     "output_type": "stream",
     "text": [
      "2/2 [==============================] - ETA: 0s - loss: 0.3622\n",
      "Epoch 00001: val_loss did not improve from 1.82431\n",
      "2/2 [==============================] - 8s 4s/step - loss: 0.3622 - val_loss: 1.8273\n"
     ]
    },
    {
     "name": "stderr",
     "output_type": "stream",
     "text": [
      "\r",
      " 36%|███▌      | 108/300 [27:09<45:17, 14.16s/it]"
     ]
    },
    {
     "name": "stdout",
     "output_type": "stream",
     "text": [
      "2/2 [==============================] - ETA: 0s - loss: 0.2653\n",
      "Epoch 00001: val_loss did not improve from 1.82431\n",
      "2/2 [==============================] - 8s 4s/step - loss: 0.2653 - val_loss: 1.8271\n"
     ]
    },
    {
     "name": "stderr",
     "output_type": "stream",
     "text": [
      "\r",
      " 36%|███▋      | 109/300 [27:23<44:50, 14.09s/it]"
     ]
    },
    {
     "name": "stdout",
     "output_type": "stream",
     "text": [
      "2/2 [==============================] - ETA: 0s - loss: 41.0069\n",
      "Epoch 00001: val_loss did not improve from 1.82431\n",
      "2/2 [==============================] - 8s 4s/step - loss: 41.0069 - val_loss: 1.8266\n"
     ]
    },
    {
     "name": "stderr",
     "output_type": "stream",
     "text": [
      "\r",
      " 37%|███▋      | 110/300 [27:37<44:31, 14.06s/it]"
     ]
    },
    {
     "name": "stdout",
     "output_type": "stream",
     "text": [
      "2/2 [==============================] - ETA: 0s - loss: 27.0294\n",
      "Epoch 00001: val_loss did not improve from 1.82431\n",
      "2/2 [==============================] - 8s 4s/step - loss: 27.0294 - val_loss: 1.8259\n"
     ]
    },
    {
     "name": "stderr",
     "output_type": "stream",
     "text": [
      "\r",
      " 37%|███▋      | 111/300 [27:51<44:08, 14.02s/it]"
     ]
    },
    {
     "name": "stdout",
     "output_type": "stream",
     "text": [
      "2/2 [==============================] - ETA: 0s - loss: 12.0387\n",
      "Epoch 00001: val_loss did not improve from 1.82431\n",
      "2/2 [==============================] - 8s 4s/step - loss: 12.0387 - val_loss: 1.8250\n"
     ]
    },
    {
     "name": "stderr",
     "output_type": "stream",
     "text": [
      "\r",
      " 37%|███▋      | 112/300 [28:05<43:53, 14.01s/it]"
     ]
    },
    {
     "name": "stdout",
     "output_type": "stream",
     "text": [
      "2/2 [==============================] - ETA: 0s - loss: 2.8730\n",
      "Epoch 00001: val_loss improved from 1.82431 to 1.82419, saving model to ./model.h5\n",
      "2/2 [==============================] - 9s 4s/step - loss: 2.8730 - val_loss: 1.8242\n"
     ]
    },
    {
     "name": "stderr",
     "output_type": "stream",
     "text": [
      "\r",
      " 38%|███▊      | 113/300 [28:20<44:16, 14.20s/it]"
     ]
    },
    {
     "name": "stdout",
     "output_type": "stream",
     "text": [
      "2/2 [==============================] - ETA: 0s - loss: 0.0234\n",
      "Epoch 00001: val_loss improved from 1.82419 to 1.82353, saving model to ./model.h5\n",
      "2/2 [==============================] - 9s 4s/step - loss: 0.0234 - val_loss: 1.8235\n"
     ]
    },
    {
     "name": "stderr",
     "output_type": "stream",
     "text": [
      "\r",
      " 38%|███▊      | 114/300 [28:35<45:03, 14.53s/it]"
     ]
    },
    {
     "name": "stdout",
     "output_type": "stream",
     "text": [
      "2/2 [==============================] - ETA: 0s - loss: 0.0274\n",
      "Epoch 00001: val_loss improved from 1.82353 to 1.82301, saving model to ./model.h5\n",
      "2/2 [==============================] - 9s 4s/step - loss: 0.0274 - val_loss: 1.8230\n"
     ]
    },
    {
     "name": "stderr",
     "output_type": "stream",
     "text": [
      "\r",
      " 38%|███▊      | 115/300 [28:50<44:49, 14.54s/it]"
     ]
    },
    {
     "name": "stdout",
     "output_type": "stream",
     "text": [
      "2/2 [==============================] - ETA: 0s - loss: 1.7216\n",
      "Epoch 00001: val_loss improved from 1.82301 to 1.82258, saving model to ./model.h5\n",
      "2/2 [==============================] - 9s 4s/step - loss: 1.7216 - val_loss: 1.8226\n"
     ]
    },
    {
     "name": "stderr",
     "output_type": "stream",
     "text": [
      "\r",
      " 39%|███▊      | 116/300 [29:04<44:39, 14.56s/it]"
     ]
    },
    {
     "name": "stdout",
     "output_type": "stream",
     "text": [
      "2/2 [==============================] - ETA: 0s - loss: 1.3594\n",
      "Epoch 00001: val_loss improved from 1.82258 to 1.82220, saving model to ./model.h5\n",
      "2/2 [==============================] - 9s 4s/step - loss: 1.3594 - val_loss: 1.8222\n"
     ]
    },
    {
     "name": "stderr",
     "output_type": "stream",
     "text": [
      "\r",
      " 39%|███▉      | 117/300 [29:19<44:28, 14.58s/it]"
     ]
    },
    {
     "name": "stdout",
     "output_type": "stream",
     "text": [
      "2/2 [==============================] - ETA: 0s - loss: 1.1776\n",
      "Epoch 00001: val_loss improved from 1.82220 to 1.82186, saving model to ./model.h5\n",
      "2/2 [==============================] - 9s 4s/step - loss: 1.1776 - val_loss: 1.8219\n"
     ]
    },
    {
     "name": "stderr",
     "output_type": "stream",
     "text": [
      "\r",
      " 39%|███▉      | 118/300 [29:34<44:32, 14.68s/it]"
     ]
    },
    {
     "name": "stdout",
     "output_type": "stream",
     "text": [
      "2/2 [==============================] - ETA: 0s - loss: 1.0563\n",
      "Epoch 00001: val_loss improved from 1.82186 to 1.82151, saving model to ./model.h5\n",
      "2/2 [==============================] - 11s 6s/step - loss: 1.0563 - val_loss: 1.8215\n"
     ]
    },
    {
     "name": "stderr",
     "output_type": "stream",
     "text": [
      "\r",
      " 40%|███▉      | 119/300 [29:52<47:20, 15.69s/it]"
     ]
    },
    {
     "name": "stdout",
     "output_type": "stream",
     "text": [
      "2/2 [==============================] - ETA: 0s - loss: 1.3909\n",
      "Epoch 00001: val_loss improved from 1.82151 to 1.82120, saving model to ./model.h5\n",
      "2/2 [==============================] - 11s 5s/step - loss: 1.3909 - val_loss: 1.8212\n"
     ]
    },
    {
     "name": "stderr",
     "output_type": "stream",
     "text": [
      "\r",
      " 40%|████      | 120/300 [30:10<48:59, 16.33s/it]"
     ]
    },
    {
     "name": "stdout",
     "output_type": "stream",
     "text": [
      "2/2 [==============================] - ETA: 0s - loss: 2.3225\n",
      "Epoch 00001: val_loss improved from 1.82120 to 1.82080, saving model to ./model.h5\n",
      "2/2 [==============================] - 10s 5s/step - loss: 2.3225 - val_loss: 1.8208\n"
     ]
    },
    {
     "name": "stderr",
     "output_type": "stream",
     "text": [
      "\r",
      " 40%|████      | 121/300 [30:28<49:58, 16.75s/it]"
     ]
    },
    {
     "name": "stdout",
     "output_type": "stream",
     "text": [
      "2/2 [==============================] - ETA: 0s - loss: 3.3630\n",
      "Epoch 00001: val_loss improved from 1.82080 to 1.82021, saving model to ./model.h5\n",
      "2/2 [==============================] - 10s 5s/step - loss: 3.3630 - val_loss: 1.8202\n"
     ]
    },
    {
     "name": "stderr",
     "output_type": "stream",
     "text": [
      "\r",
      " 41%|████      | 122/300 [30:44<49:10, 16.58s/it]"
     ]
    },
    {
     "name": "stdout",
     "output_type": "stream",
     "text": [
      "2/2 [==============================] - ETA: 0s - loss: 4.5013\n",
      "Epoch 00001: val_loss improved from 1.82021 to 1.81964, saving model to ./model.h5\n",
      "2/2 [==============================] - 9s 4s/step - loss: 4.5013 - val_loss: 1.8196\n"
     ]
    },
    {
     "name": "stderr",
     "output_type": "stream",
     "text": [
      "\r",
      " 41%|████      | 123/300 [30:59<47:21, 16.05s/it]"
     ]
    },
    {
     "name": "stdout",
     "output_type": "stream",
     "text": [
      "2/2 [==============================] - ETA: 0s - loss: 5.2065\n",
      "Epoch 00001: val_loss improved from 1.81964 to 1.81905, saving model to ./model.h5\n",
      "2/2 [==============================] - 9s 4s/step - loss: 5.2065 - val_loss: 1.8191\n"
     ]
    },
    {
     "name": "stderr",
     "output_type": "stream",
     "text": [
      "\r",
      " 41%|████▏     | 124/300 [31:13<45:58, 15.67s/it]"
     ]
    },
    {
     "name": "stdout",
     "output_type": "stream",
     "text": [
      "2/2 [==============================] - ETA: 0s - loss: 5.0737\n",
      "Epoch 00001: val_loss improved from 1.81905 to 1.81841, saving model to ./model.h5\n",
      "2/2 [==============================] - 9s 5s/step - loss: 5.0737 - val_loss: 1.8184\n"
     ]
    },
    {
     "name": "stderr",
     "output_type": "stream",
     "text": [
      "\r",
      " 42%|████▏     | 125/300 [31:29<45:24, 15.57s/it]"
     ]
    },
    {
     "name": "stdout",
     "output_type": "stream",
     "text": [
      "2/2 [==============================] - ETA: 0s - loss: 6.7357\n",
      "Epoch 00001: val_loss improved from 1.81841 to 1.81760, saving model to ./model.h5\n",
      "2/2 [==============================] - 9s 5s/step - loss: 6.7357 - val_loss: 1.8176\n"
     ]
    },
    {
     "name": "stderr",
     "output_type": "stream",
     "text": [
      "\r",
      " 42%|████▏     | 126/300 [31:44<45:20, 15.64s/it]"
     ]
    },
    {
     "name": "stdout",
     "output_type": "stream",
     "text": [
      "2/2 [==============================] - ETA: 0s - loss: 9.6632 \n",
      "Epoch 00001: val_loss improved from 1.81760 to 1.81661, saving model to ./model.h5\n",
      "2/2 [==============================] - 9s 4s/step - loss: 9.6632 - val_loss: 1.8166\n"
     ]
    },
    {
     "name": "stderr",
     "output_type": "stream",
     "text": [
      "\r",
      " 42%|████▏     | 127/300 [32:00<44:53, 15.57s/it]"
     ]
    },
    {
     "name": "stdout",
     "output_type": "stream",
     "text": [
      "2/2 [==============================] - ETA: 0s - loss: 7.5960\n",
      "Epoch 00001: val_loss improved from 1.81661 to 1.81567, saving model to ./model.h5\n",
      "2/2 [==============================] - 9s 4s/step - loss: 7.5960 - val_loss: 1.8157\n"
     ]
    },
    {
     "name": "stderr",
     "output_type": "stream",
     "text": [
      "\r",
      " 43%|████▎     | 128/300 [32:15<44:01, 15.36s/it]"
     ]
    },
    {
     "name": "stdout",
     "output_type": "stream",
     "text": [
      "2/2 [==============================] - ETA: 0s - loss: 0.2258\n",
      "Epoch 00001: val_loss did not improve from 1.81567\n",
      "2/2 [==============================] - 8s 4s/step - loss: 0.2258 - val_loss: 1.8164\n"
     ]
    },
    {
     "name": "stderr",
     "output_type": "stream",
     "text": [
      "\r",
      " 43%|████▎     | 129/300 [32:29<42:50, 15.03s/it]"
     ]
    },
    {
     "name": "stdout",
     "output_type": "stream",
     "text": [
      "2/2 [==============================] - ETA: 0s - loss: 0.2051\n",
      "Epoch 00001: val_loss did not improve from 1.81567\n",
      "2/2 [==============================] - 8s 4s/step - loss: 0.2051 - val_loss: 1.8409\n"
     ]
    },
    {
     "name": "stderr",
     "output_type": "stream",
     "text": [
      "\r",
      " 43%|████▎     | 130/300 [32:43<42:03, 14.84s/it]"
     ]
    },
    {
     "name": "stdout",
     "output_type": "stream",
     "text": [
      "2/2 [==============================] - ETA: 0s - loss: 0.3018\n",
      "Epoch 00001: val_loss did not improve from 1.81567\n",
      "2/2 [==============================] - 8s 4s/step - loss: 0.3018 - val_loss: 1.8678\n"
     ]
    },
    {
     "name": "stderr",
     "output_type": "stream",
     "text": [
      "\r",
      " 44%|████▎     | 131/300 [32:58<41:36, 14.77s/it]"
     ]
    },
    {
     "name": "stdout",
     "output_type": "stream",
     "text": [
      "2/2 [==============================] - ETA: 0s - loss: 0.2625\n",
      "Epoch 00001: val_loss did not improve from 1.81567\n",
      "2/2 [==============================] - 8s 4s/step - loss: 0.2625 - val_loss: 1.8888\n"
     ]
    },
    {
     "name": "stderr",
     "output_type": "stream",
     "text": [
      "\r",
      " 44%|████▍     | 132/300 [33:13<41:14, 14.73s/it]"
     ]
    },
    {
     "name": "stdout",
     "output_type": "stream",
     "text": [
      "2/2 [==============================] - ETA: 0s - loss: 8.7132\n",
      "Epoch 00001: val_loss did not improve from 1.81567\n",
      "2/2 [==============================] - 9s 5s/step - loss: 8.7132 - val_loss: 1.8893\n"
     ]
    },
    {
     "name": "stderr",
     "output_type": "stream",
     "text": [
      "\r",
      " 44%|████▍     | 133/300 [33:28<41:58, 15.08s/it]"
     ]
    },
    {
     "name": "stdout",
     "output_type": "stream",
     "text": [
      "2/2 [==============================] - ETA: 0s - loss: 132.7268\n",
      "Epoch 00001: val_loss did not improve from 1.81567\n",
      "2/2 [==============================] - 10s 5s/step - loss: 132.7268 - val_loss: 1.8829\n"
     ]
    },
    {
     "name": "stderr",
     "output_type": "stream",
     "text": [
      "\r",
      " 45%|████▍     | 134/300 [33:45<43:14, 15.63s/it]"
     ]
    },
    {
     "name": "stdout",
     "output_type": "stream",
     "text": [
      "2/2 [==============================] - ETA: 0s - loss: 43.4455\n",
      "Epoch 00001: val_loss did not improve from 1.81567\n",
      "2/2 [==============================] - 8s 4s/step - loss: 43.4455 - val_loss: 1.8787\n"
     ]
    },
    {
     "name": "stderr",
     "output_type": "stream",
     "text": [
      "\r",
      " 45%|████▌     | 135/300 [34:01<42:56, 15.62s/it]"
     ]
    },
    {
     "name": "stdout",
     "output_type": "stream",
     "text": [
      "2/2 [==============================] - ETA: 0s - loss: 29.1271\n",
      "Epoch 00001: val_loss did not improve from 1.81567\n",
      "2/2 [==============================] - 8s 4s/step - loss: 29.1271 - val_loss: 1.8690\n"
     ]
    },
    {
     "name": "stderr",
     "output_type": "stream",
     "text": [
      "\r",
      " 45%|████▌     | 136/300 [34:16<41:54, 15.33s/it]"
     ]
    },
    {
     "name": "stdout",
     "output_type": "stream",
     "text": [
      "2/2 [==============================] - ETA: 0s - loss: 9.5019 \n",
      "Epoch 00001: val_loss did not improve from 1.81567\n",
      "2/2 [==============================] - 9s 4s/step - loss: 9.5019 - val_loss: 1.8753\n"
     ]
    },
    {
     "name": "stderr",
     "output_type": "stream",
     "text": [
      "\r",
      " 46%|████▌     | 137/300 [34:31<41:33, 15.30s/it]"
     ]
    },
    {
     "name": "stdout",
     "output_type": "stream",
     "text": [
      "2/2 [==============================] - ETA: 0s - loss: 0.0993\n",
      "Epoch 00001: val_loss did not improve from 1.81567\n",
      "2/2 [==============================] - 9s 4s/step - loss: 0.0993 - val_loss: 1.8753\n"
     ]
    },
    {
     "name": "stderr",
     "output_type": "stream",
     "text": [
      "\r",
      " 46%|████▌     | 138/300 [34:47<41:39, 15.43s/it]"
     ]
    },
    {
     "name": "stdout",
     "output_type": "stream",
     "text": [
      "2/2 [==============================] - ETA: 0s - loss: 0.1929\n",
      "Epoch 00001: val_loss did not improve from 1.81567\n",
      "2/2 [==============================] - 8s 4s/step - loss: 0.1929 - val_loss: 1.8663\n"
     ]
    },
    {
     "name": "stderr",
     "output_type": "stream",
     "text": [
      "\r",
      " 46%|████▋     | 139/300 [35:02<41:17, 15.39s/it]"
     ]
    },
    {
     "name": "stdout",
     "output_type": "stream",
     "text": [
      "2/2 [==============================] - ETA: 0s - loss: 0.0687\n",
      "Epoch 00001: val_loss did not improve from 1.81567\n",
      "2/2 [==============================] - 8s 4s/step - loss: 0.0687 - val_loss: 1.8668\n"
     ]
    },
    {
     "name": "stderr",
     "output_type": "stream",
     "text": [
      "\r",
      " 47%|████▋     | 140/300 [35:17<40:42, 15.27s/it]"
     ]
    },
    {
     "name": "stdout",
     "output_type": "stream",
     "text": [
      "2/2 [==============================] - ETA: 0s - loss: 0.0240\n",
      "Epoch 00001: val_loss did not improve from 1.81567\n",
      "2/2 [==============================] - 8s 4s/step - loss: 0.0240 - val_loss: 1.8686\n"
     ]
    },
    {
     "name": "stderr",
     "output_type": "stream",
     "text": [
      "\r",
      " 47%|████▋     | 141/300 [35:31<39:51, 15.04s/it]"
     ]
    },
    {
     "name": "stdout",
     "output_type": "stream",
     "text": [
      "2/2 [==============================] - ETA: 0s - loss: 0.0406\n",
      "Epoch 00001: val_loss improved from 1.81567 to 1.80733, saving model to ./model.h5\n",
      "2/2 [==============================] - 9s 4s/step - loss: 0.0406 - val_loss: 1.8073\n"
     ]
    },
    {
     "name": "stderr",
     "output_type": "stream",
     "text": [
      "\r",
      " 47%|████▋     | 142/300 [35:46<39:27, 14.98s/it]"
     ]
    },
    {
     "name": "stdout",
     "output_type": "stream",
     "text": [
      "2/2 [==============================] - ETA: 0s - loss: 9.0576\n",
      "Epoch 00001: val_loss improved from 1.80733 to 1.80706, saving model to ./model.h5\n",
      "2/2 [==============================] - 9s 4s/step - loss: 9.0576 - val_loss: 1.8071\n"
     ]
    },
    {
     "name": "stderr",
     "output_type": "stream",
     "text": [
      "\r",
      " 48%|████▊     | 143/300 [36:01<39:14, 15.00s/it]"
     ]
    },
    {
     "name": "stdout",
     "output_type": "stream",
     "text": [
      "2/2 [==============================] - ETA: 0s - loss: 28.1672\n",
      "Epoch 00001: val_loss did not improve from 1.80706\n",
      "2/2 [==============================] - 8s 4s/step - loss: 28.1672 - val_loss: 1.8091\n"
     ]
    },
    {
     "name": "stderr",
     "output_type": "stream",
     "text": [
      "\r",
      " 48%|████▊     | 144/300 [36:16<38:31, 14.82s/it]"
     ]
    },
    {
     "name": "stdout",
     "output_type": "stream",
     "text": [
      "2/2 [==============================] - ETA: 0s - loss: 24.4133\n",
      "Epoch 00001: val_loss did not improve from 1.80706\n",
      "2/2 [==============================] - 8s 4s/step - loss: 24.4133 - val_loss: 1.8765\n"
     ]
    },
    {
     "name": "stderr",
     "output_type": "stream",
     "text": [
      "\r",
      " 48%|████▊     | 145/300 [36:31<38:23, 14.86s/it]"
     ]
    },
    {
     "name": "stdout",
     "output_type": "stream",
     "text": [
      "2/2 [==============================] - ETA: 0s - loss: 29.8069\n",
      "Epoch 00001: val_loss did not improve from 1.80706\n",
      "2/2 [==============================] - 8s 4s/step - loss: 29.8069 - val_loss: 1.8723\n"
     ]
    },
    {
     "name": "stderr",
     "output_type": "stream",
     "text": [
      "\r",
      " 49%|████▊     | 146/300 [36:46<38:33, 15.02s/it]"
     ]
    },
    {
     "name": "stdout",
     "output_type": "stream",
     "text": [
      "2/2 [==============================] - ETA: 0s - loss: 0.0245\n",
      "Epoch 00001: val_loss did not improve from 1.80706\n",
      "2/2 [==============================] - 8s 4s/step - loss: 0.0245 - val_loss: 1.8705\n"
     ]
    },
    {
     "name": "stderr",
     "output_type": "stream",
     "text": [
      "\r",
      " 49%|████▉     | 147/300 [37:02<38:51, 15.24s/it]"
     ]
    },
    {
     "name": "stdout",
     "output_type": "stream",
     "text": [
      "2/2 [==============================] - ETA: 0s - loss: 20.8063\n",
      "Epoch 00001: val_loss improved from 1.80706 to 1.79330, saving model to ./model.h5\n",
      "2/2 [==============================] - 9s 4s/step - loss: 20.8063 - val_loss: 1.7933\n"
     ]
    },
    {
     "name": "stderr",
     "output_type": "stream",
     "text": [
      "\r",
      " 49%|████▉     | 148/300 [37:17<38:30, 15.20s/it]"
     ]
    },
    {
     "name": "stdout",
     "output_type": "stream",
     "text": [
      "2/2 [==============================] - ETA: 0s - loss: 26.9633\n",
      "Epoch 00001: val_loss did not improve from 1.79330\n",
      "2/2 [==============================] - 8s 4s/step - loss: 26.9633 - val_loss: 1.8024\n"
     ]
    },
    {
     "name": "stderr",
     "output_type": "stream",
     "text": [
      "\r",
      " 50%|████▉     | 149/300 [37:31<37:40, 14.97s/it]"
     ]
    },
    {
     "name": "stdout",
     "output_type": "stream",
     "text": [
      "2/2 [==============================] - ETA: 0s - loss: 19.9180\n",
      "Epoch 00001: val_loss did not improve from 1.79330\n",
      "2/2 [==============================] - 8s 4s/step - loss: 19.9180 - val_loss: 1.8735\n"
     ]
    },
    {
     "name": "stderr",
     "output_type": "stream",
     "text": [
      "\r",
      " 50%|█████     | 150/300 [37:46<37:01, 14.81s/it]"
     ]
    },
    {
     "name": "stdout",
     "output_type": "stream",
     "text": [
      "2/2 [==============================] - ETA: 0s - loss: 24.3689\n",
      "Epoch 00001: val_loss did not improve from 1.79330\n",
      "2/2 [==============================] - 8s 4s/step - loss: 24.3689 - val_loss: 1.8620\n"
     ]
    },
    {
     "name": "stderr",
     "output_type": "stream",
     "text": [
      "\r",
      " 50%|█████     | 151/300 [38:00<36:27, 14.68s/it]"
     ]
    },
    {
     "name": "stdout",
     "output_type": "stream",
     "text": [
      "2/2 [==============================] - ETA: 0s - loss: 23.4651\n",
      "Epoch 00001: val_loss did not improve from 1.79330\n",
      "2/2 [==============================] - 8s 4s/step - loss: 23.4651 - val_loss: 1.8009\n"
     ]
    },
    {
     "name": "stderr",
     "output_type": "stream",
     "text": [
      "\r",
      " 51%|█████     | 152/300 [38:15<35:58, 14.59s/it]"
     ]
    },
    {
     "name": "stdout",
     "output_type": "stream",
     "text": [
      "2/2 [==============================] - ETA: 0s - loss: 18.3257\n",
      "Epoch 00001: val_loss did not improve from 1.79330\n",
      "2/2 [==============================] - 8s 4s/step - loss: 18.3257 - val_loss: 1.8001\n"
     ]
    },
    {
     "name": "stderr",
     "output_type": "stream",
     "text": [
      "\r",
      " 51%|█████     | 153/300 [38:29<35:41, 14.57s/it]"
     ]
    },
    {
     "name": "stdout",
     "output_type": "stream",
     "text": [
      "2/2 [==============================] - ETA: 0s - loss: 0.0234\n",
      "Epoch 00001: val_loss did not improve from 1.79330\n",
      "2/2 [==============================] - 8s 4s/step - loss: 0.0234 - val_loss: 1.7994\n"
     ]
    },
    {
     "name": "stderr",
     "output_type": "stream",
     "text": [
      "\r",
      " 51%|█████▏    | 154/300 [38:44<36:05, 14.83s/it]"
     ]
    },
    {
     "name": "stdout",
     "output_type": "stream",
     "text": [
      "2/2 [==============================] - ETA: 0s - loss: 0.0251\n",
      "Epoch 00001: val_loss did not improve from 1.79330\n",
      "2/2 [==============================] - 8s 4s/step - loss: 0.0251 - val_loss: 1.7989\n"
     ]
    },
    {
     "name": "stderr",
     "output_type": "stream",
     "text": [
      "\r",
      " 52%|█████▏    | 155/300 [38:59<35:35, 14.73s/it]"
     ]
    },
    {
     "name": "stdout",
     "output_type": "stream",
     "text": [
      "2/2 [==============================] - ETA: 0s - loss: 0.0338\n",
      "Epoch 00001: val_loss did not improve from 1.79330\n",
      "2/2 [==============================] - 8s 4s/step - loss: 0.0338 - val_loss: 1.8515\n"
     ]
    },
    {
     "name": "stderr",
     "output_type": "stream",
     "text": [
      "\r",
      " 52%|█████▏    | 156/300 [39:13<35:09, 14.65s/it]"
     ]
    },
    {
     "name": "stdout",
     "output_type": "stream",
     "text": [
      "2/2 [==============================] - ETA: 0s - loss: 0.0208\n",
      "Epoch 00001: val_loss did not improve from 1.79330\n",
      "2/2 [==============================] - 8s 4s/step - loss: 0.0208 - val_loss: 1.7981\n"
     ]
    },
    {
     "name": "stderr",
     "output_type": "stream",
     "text": [
      "\r",
      " 52%|█████▏    | 157/300 [39:28<34:44, 14.57s/it]"
     ]
    },
    {
     "name": "stdout",
     "output_type": "stream",
     "text": [
      "2/2 [==============================] - ETA: 0s - loss: 0.0253\n",
      "Epoch 00001: val_loss did not improve from 1.79330\n",
      "2/2 [==============================] - 8s 4s/step - loss: 0.0253 - val_loss: 1.7978\n"
     ]
    },
    {
     "name": "stderr",
     "output_type": "stream",
     "text": [
      "\r",
      " 53%|█████▎    | 158/300 [39:42<34:24, 14.54s/it]"
     ]
    },
    {
     "name": "stdout",
     "output_type": "stream",
     "text": [
      "2/2 [==============================] - ETA: 0s - loss: 0.0227\n",
      "Epoch 00001: val_loss did not improve from 1.79330\n",
      "2/2 [==============================] - 9s 5s/step - loss: 0.0227 - val_loss: 1.7976\n"
     ]
    },
    {
     "name": "stderr",
     "output_type": "stream",
     "text": [
      "\r",
      " 53%|█████▎    | 159/300 [39:58<34:54, 14.86s/it]"
     ]
    },
    {
     "name": "stdout",
     "output_type": "stream",
     "text": [
      "2/2 [==============================] - ETA: 0s - loss: 2.7030\n",
      "Epoch 00001: val_loss did not improve from 1.79330\n",
      "2/2 [==============================] - 10s 5s/step - loss: 2.7030 - val_loss: 1.7974\n"
     ]
    },
    {
     "name": "stderr",
     "output_type": "stream",
     "text": [
      "\r",
      " 53%|█████▎    | 160/300 [40:16<36:57, 15.84s/it]"
     ]
    },
    {
     "name": "stdout",
     "output_type": "stream",
     "text": [
      "2/2 [==============================] - ETA: 0s - loss: 0.0222\n",
      "Epoch 00001: val_loss did not improve from 1.79330\n",
      "2/2 [==============================] - 8s 4s/step - loss: 0.0222 - val_loss: 1.7972\n"
     ]
    },
    {
     "name": "stderr",
     "output_type": "stream",
     "text": [
      "\r",
      " 54%|█████▎    | 161/300 [40:31<35:49, 15.47s/it]"
     ]
    },
    {
     "name": "stdout",
     "output_type": "stream",
     "text": [
      "2/2 [==============================] - ETA: 0s - loss: 0.0266\n",
      "Epoch 00001: val_loss did not improve from 1.79330\n",
      "2/2 [==============================] - 8s 4s/step - loss: 0.0266 - val_loss: 1.7971\n"
     ]
    },
    {
     "name": "stderr",
     "output_type": "stream",
     "text": [
      "\r",
      " 54%|█████▍    | 162/300 [40:45<34:54, 15.18s/it]"
     ]
    },
    {
     "name": "stdout",
     "output_type": "stream",
     "text": [
      "2/2 [==============================] - ETA: 0s - loss: 12.8787\n",
      "Epoch 00001: val_loss did not improve from 1.79330\n",
      "2/2 [==============================] - 8s 4s/step - loss: 12.8787 - val_loss: 1.7970\n"
     ]
    },
    {
     "name": "stderr",
     "output_type": "stream",
     "text": [
      "\r",
      " 54%|█████▍    | 163/300 [41:00<34:15, 15.00s/it]"
     ]
    },
    {
     "name": "stdout",
     "output_type": "stream",
     "text": [
      "2/2 [==============================] - ETA: 0s - loss: 23.4376\n",
      "Epoch 00001: val_loss did not improve from 1.79330\n",
      "2/2 [==============================] - 8s 4s/step - loss: 23.4376 - val_loss: 1.7968\n"
     ]
    },
    {
     "name": "stderr",
     "output_type": "stream",
     "text": [
      "\r",
      " 55%|█████▍    | 164/300 [41:14<33:35, 14.82s/it]"
     ]
    },
    {
     "name": "stdout",
     "output_type": "stream",
     "text": [
      "2/2 [==============================] - ETA: 0s - loss: 33.2451\n",
      "Epoch 00001: val_loss did not improve from 1.79330\n",
      "2/2 [==============================] - 8s 4s/step - loss: 33.2451 - val_loss: 1.7964\n"
     ]
    },
    {
     "name": "stderr",
     "output_type": "stream",
     "text": [
      "\r",
      " 55%|█████▌    | 165/300 [41:29<33:03, 14.69s/it]"
     ]
    },
    {
     "name": "stdout",
     "output_type": "stream",
     "text": [
      "2/2 [==============================] - ETA: 0s - loss: 29.5880\n",
      "Epoch 00001: val_loss did not improve from 1.79330\n",
      "2/2 [==============================] - 8s 4s/step - loss: 29.5880 - val_loss: 1.7958\n"
     ]
    },
    {
     "name": "stderr",
     "output_type": "stream",
     "text": [
      "\r",
      " 55%|█████▌    | 166/300 [41:43<32:41, 14.64s/it]"
     ]
    },
    {
     "name": "stdout",
     "output_type": "stream",
     "text": [
      "2/2 [==============================] - ETA: 0s - loss: 15.1909\n",
      "Epoch 00001: val_loss did not improve from 1.79330\n",
      "2/2 [==============================] - 9s 4s/step - loss: 15.1909 - val_loss: 1.7952\n"
     ]
    },
    {
     "name": "stderr",
     "output_type": "stream",
     "text": [
      "\r",
      " 56%|█████▌    | 167/300 [41:58<32:47, 14.79s/it]"
     ]
    },
    {
     "name": "stdout",
     "output_type": "stream",
     "text": [
      "2/2 [==============================] - ETA: 0s - loss: 15.5951\n",
      "Epoch 00001: val_loss did not improve from 1.79330\n",
      "2/2 [==============================] - 8s 4s/step - loss: 15.5951 - val_loss: 1.7947\n"
     ]
    },
    {
     "name": "stderr",
     "output_type": "stream",
     "text": [
      "\r",
      " 56%|█████▌    | 168/300 [42:13<32:25, 14.74s/it]"
     ]
    },
    {
     "name": "stdout",
     "output_type": "stream",
     "text": [
      "2/2 [==============================] - ETA: 0s - loss: 25.6537\n",
      "Epoch 00001: val_loss did not improve from 1.79330\n",
      "2/2 [==============================] - 8s 4s/step - loss: 25.6537 - val_loss: 1.7940\n"
     ]
    },
    {
     "name": "stderr",
     "output_type": "stream",
     "text": [
      "\r",
      " 56%|█████▋    | 169/300 [42:27<32:01, 14.67s/it]"
     ]
    },
    {
     "name": "stdout",
     "output_type": "stream",
     "text": [
      "2/2 [==============================] - ETA: 0s - loss: 26.1282\n",
      "Epoch 00001: val_loss improved from 1.79330 to 1.79314, saving model to ./model.h5\n",
      "2/2 [==============================] - 9s 4s/step - loss: 26.1282 - val_loss: 1.7931\n"
     ]
    },
    {
     "name": "stderr",
     "output_type": "stream",
     "text": [
      "\r",
      " 57%|█████▋    | 170/300 [42:42<32:02, 14.79s/it]"
     ]
    },
    {
     "name": "stdout",
     "output_type": "stream",
     "text": [
      "2/2 [==============================] - ETA: 0s - loss: 10.5951\n",
      "Epoch 00001: val_loss improved from 1.79314 to 1.78558, saving model to ./model.h5\n",
      "2/2 [==============================] - 9s 4s/step - loss: 10.5951 - val_loss: 1.7856\n"
     ]
    },
    {
     "name": "stderr",
     "output_type": "stream",
     "text": [
      "\r",
      " 57%|█████▋    | 171/300 [42:58<32:01, 14.90s/it]"
     ]
    },
    {
     "name": "stdout",
     "output_type": "stream",
     "text": [
      "2/2 [==============================] - ETA: 0s - loss: 6.7370\n",
      "Epoch 00001: val_loss did not improve from 1.78558\n",
      "2/2 [==============================] - 8s 4s/step - loss: 6.7370 - val_loss: 1.8396\n"
     ]
    },
    {
     "name": "stderr",
     "output_type": "stream",
     "text": [
      "\r",
      " 57%|█████▋    | 172/300 [43:12<31:29, 14.76s/it]"
     ]
    },
    {
     "name": "stdout",
     "output_type": "stream",
     "text": [
      "2/2 [==============================] - ETA: 0s - loss: 2.9543\n",
      "Epoch 00001: val_loss did not improve from 1.78558\n",
      "2/2 [==============================] - 8s 4s/step - loss: 2.9543 - val_loss: 1.8218\n"
     ]
    },
    {
     "name": "stderr",
     "output_type": "stream",
     "text": [
      "\r",
      " 58%|█████▊    | 173/300 [43:26<31:02, 14.67s/it]"
     ]
    },
    {
     "name": "stdout",
     "output_type": "stream",
     "text": [
      "2/2 [==============================] - ETA: 0s - loss: 2.0243\n",
      "Epoch 00001: val_loss did not improve from 1.78558\n",
      "2/2 [==============================] - 8s 4s/step - loss: 2.0243 - val_loss: 1.8320\n"
     ]
    },
    {
     "name": "stderr",
     "output_type": "stream",
     "text": [
      "\r",
      " 58%|█████▊    | 174/300 [43:41<30:57, 14.74s/it]"
     ]
    },
    {
     "name": "stdout",
     "output_type": "stream",
     "text": [
      "2/2 [==============================] - ETA: 0s - loss: 1.5511\n",
      "Epoch 00001: val_loss did not improve from 1.78558\n",
      "2/2 [==============================] - 8s 4s/step - loss: 1.5511 - val_loss: 1.8283\n"
     ]
    },
    {
     "name": "stderr",
     "output_type": "stream",
     "text": [
      "\r",
      " 58%|█████▊    | 175/300 [43:56<30:37, 14.70s/it]"
     ]
    },
    {
     "name": "stdout",
     "output_type": "stream",
     "text": [
      "2/2 [==============================] - ETA: 0s - loss: 0.8328\n",
      "Epoch 00001: val_loss did not improve from 1.78558\n",
      "2/2 [==============================] - 8s 4s/step - loss: 0.8328 - val_loss: 1.8366\n"
     ]
    },
    {
     "name": "stderr",
     "output_type": "stream",
     "text": [
      "\r",
      " 59%|█████▊    | 176/300 [44:10<30:06, 14.57s/it]"
     ]
    },
    {
     "name": "stdout",
     "output_type": "stream",
     "text": [
      "2/2 [==============================] - ETA: 0s - loss: 39.2255\n",
      "Epoch 00001: val_loss did not improve from 1.78558\n",
      "2/2 [==============================] - 8s 4s/step - loss: 39.2255 - val_loss: 1.8045\n"
     ]
    },
    {
     "name": "stderr",
     "output_type": "stream",
     "text": [
      "\r",
      " 59%|█████▉    | 177/300 [44:25<29:43, 14.50s/it]"
     ]
    },
    {
     "name": "stdout",
     "output_type": "stream",
     "text": [
      "2/2 [==============================] - ETA: 0s - loss: 32.8268\n",
      "Epoch 00001: val_loss improved from 1.78558 to 1.78167, saving model to ./model.h5\n",
      "2/2 [==============================] - 9s 4s/step - loss: 32.8268 - val_loss: 1.7817\n"
     ]
    },
    {
     "name": "stderr",
     "output_type": "stream",
     "text": [
      "\r",
      " 59%|█████▉    | 178/300 [44:39<29:44, 14.62s/it]"
     ]
    },
    {
     "name": "stdout",
     "output_type": "stream",
     "text": [
      "2/2 [==============================] - ETA: 0s - loss: 25.4360\n",
      "Epoch 00001: val_loss improved from 1.78167 to 1.77941, saving model to ./model.h5\n",
      "2/2 [==============================] - 9s 4s/step - loss: 25.4360 - val_loss: 1.7794\n"
     ]
    },
    {
     "name": "stderr",
     "output_type": "stream",
     "text": [
      "\r",
      " 60%|█████▉    | 179/300 [44:54<29:43, 14.74s/it]"
     ]
    },
    {
     "name": "stdout",
     "output_type": "stream",
     "text": [
      "2/2 [==============================] - ETA: 0s - loss: 19.1578\n",
      "Epoch 00001: val_loss did not improve from 1.77941\n",
      "2/2 [==============================] - 8s 4s/step - loss: 19.1578 - val_loss: 1.7868\n"
     ]
    },
    {
     "name": "stderr",
     "output_type": "stream",
     "text": [
      "\r",
      " 60%|██████    | 180/300 [45:09<29:16, 14.64s/it]"
     ]
    },
    {
     "name": "stdout",
     "output_type": "stream",
     "text": [
      "2/2 [==============================] - ETA: 0s - loss: 13.9976\n",
      "Epoch 00001: val_loss did not improve from 1.77941\n",
      "2/2 [==============================] - 8s 4s/step - loss: 13.9976 - val_loss: 1.8363\n"
     ]
    },
    {
     "name": "stderr",
     "output_type": "stream",
     "text": [
      "\r",
      " 60%|██████    | 181/300 [45:24<29:09, 14.70s/it]"
     ]
    },
    {
     "name": "stdout",
     "output_type": "stream",
     "text": [
      "2/2 [==============================] - ETA: 0s - loss: 11.6192\n",
      "Epoch 00001: val_loss did not improve from 1.77941\n",
      "2/2 [==============================] - 8s 4s/step - loss: 11.6192 - val_loss: 1.8276\n"
     ]
    },
    {
     "name": "stderr",
     "output_type": "stream",
     "text": [
      "\r",
      " 61%|██████    | 182/300 [45:38<28:48, 14.65s/it]"
     ]
    },
    {
     "name": "stdout",
     "output_type": "stream",
     "text": [
      "2/2 [==============================] - ETA: 0s - loss: 7.5599\n",
      "Epoch 00001: val_loss improved from 1.77941 to 1.77801, saving model to ./model.h5\n",
      "2/2 [==============================] - 9s 4s/step - loss: 7.5599 - val_loss: 1.7780\n"
     ]
    },
    {
     "name": "stderr",
     "output_type": "stream",
     "text": [
      "\r",
      " 61%|██████    | 183/300 [45:53<28:42, 14.72s/it]"
     ]
    },
    {
     "name": "stdout",
     "output_type": "stream",
     "text": [
      "2/2 [==============================] - ETA: 0s - loss: 3.3678\n",
      "Epoch 00001: val_loss did not improve from 1.77801\n",
      "2/2 [==============================] - 8s 4s/step - loss: 3.3678 - val_loss: 1.7813\n"
     ]
    },
    {
     "name": "stderr",
     "output_type": "stream",
     "text": [
      "\r",
      " 61%|██████▏   | 184/300 [46:07<28:15, 14.61s/it]"
     ]
    },
    {
     "name": "stdout",
     "output_type": "stream",
     "text": [
      "2/2 [==============================] - ETA: 0s - loss: 1.5864\n",
      "Epoch 00001: val_loss did not improve from 1.77801\n",
      "2/2 [==============================] - 8s 4s/step - loss: 1.5864 - val_loss: 1.7854\n"
     ]
    },
    {
     "name": "stderr",
     "output_type": "stream",
     "text": [
      "\r",
      " 62%|██████▏   | 185/300 [46:22<27:49, 14.52s/it]"
     ]
    },
    {
     "name": "stdout",
     "output_type": "stream",
     "text": [
      "2/2 [==============================] - ETA: 0s - loss: 0.6082\n",
      "Epoch 00001: val_loss did not improve from 1.77801\n",
      "2/2 [==============================] - 8s 4s/step - loss: 0.6082 - val_loss: 1.7853\n"
     ]
    },
    {
     "name": "stderr",
     "output_type": "stream",
     "text": [
      "\r",
      " 62%|██████▏   | 186/300 [46:36<27:27, 14.45s/it]"
     ]
    },
    {
     "name": "stdout",
     "output_type": "stream",
     "text": [
      "2/2 [==============================] - ETA: 0s - loss: 0.1844\n",
      "Epoch 00001: val_loss did not improve from 1.77801\n",
      "2/2 [==============================] - 8s 4s/step - loss: 0.1844 - val_loss: 1.7851\n"
     ]
    },
    {
     "name": "stderr",
     "output_type": "stream",
     "text": [
      "\r",
      " 62%|██████▏   | 187/300 [46:50<27:11, 14.44s/it]"
     ]
    },
    {
     "name": "stdout",
     "output_type": "stream",
     "text": [
      "2/2 [==============================] - ETA: 0s - loss: 1.1207\n",
      "Epoch 00001: val_loss did not improve from 1.77801\n",
      "2/2 [==============================] - 8s 4s/step - loss: 1.1207 - val_loss: 1.7850\n"
     ]
    },
    {
     "name": "stderr",
     "output_type": "stream",
     "text": [
      "\r",
      " 63%|██████▎   | 188/300 [47:05<27:11, 14.57s/it]"
     ]
    },
    {
     "name": "stdout",
     "output_type": "stream",
     "text": [
      "2/2 [==============================] - ETA: 0s - loss: 1.8342\n",
      "Epoch 00001: val_loss did not improve from 1.77801\n",
      "2/2 [==============================] - 8s 4s/step - loss: 1.8342 - val_loss: 1.7849\n"
     ]
    },
    {
     "name": "stderr",
     "output_type": "stream",
     "text": [
      "\r",
      " 63%|██████▎   | 189/300 [47:20<26:55, 14.55s/it]"
     ]
    },
    {
     "name": "stdout",
     "output_type": "stream",
     "text": [
      "2/2 [==============================] - ETA: 0s - loss: 0.8923\n",
      "Epoch 00001: val_loss did not improve from 1.77801\n",
      "2/2 [==============================] - 8s 4s/step - loss: 0.8923 - val_loss: 1.7848\n"
     ]
    },
    {
     "name": "stderr",
     "output_type": "stream",
     "text": [
      "\r",
      " 63%|██████▎   | 190/300 [47:34<26:40, 14.55s/it]"
     ]
    },
    {
     "name": "stdout",
     "output_type": "stream",
     "text": [
      "2/2 [==============================] - ETA: 0s - loss: 0.4177\n",
      "Epoch 00001: val_loss did not improve from 1.77801\n",
      "2/2 [==============================] - 8s 4s/step - loss: 0.4177 - val_loss: 1.7847\n"
     ]
    },
    {
     "name": "stderr",
     "output_type": "stream",
     "text": [
      "\r",
      " 64%|██████▎   | 191/300 [47:49<26:27, 14.56s/it]"
     ]
    },
    {
     "name": "stdout",
     "output_type": "stream",
     "text": [
      "2/2 [==============================] - ETA: 0s - loss: 0.2130\n",
      "Epoch 00001: val_loss did not improve from 1.77801\n",
      "2/2 [==============================] - 8s 4s/step - loss: 0.2130 - val_loss: 1.7846\n"
     ]
    },
    {
     "name": "stderr",
     "output_type": "stream",
     "text": [
      "\r",
      " 64%|██████▍   | 192/300 [48:03<26:10, 14.55s/it]"
     ]
    },
    {
     "name": "stdout",
     "output_type": "stream",
     "text": [
      "2/2 [==============================] - ETA: 0s - loss: 0.1498\n",
      "Epoch 00001: val_loss did not improve from 1.77801\n",
      "2/2 [==============================] - 8s 4s/step - loss: 0.1498 - val_loss: 1.7845\n"
     ]
    },
    {
     "name": "stderr",
     "output_type": "stream",
     "text": [
      "\r",
      " 64%|██████▍   | 193/300 [48:18<25:54, 14.53s/it]"
     ]
    },
    {
     "name": "stdout",
     "output_type": "stream",
     "text": [
      "2/2 [==============================] - ETA: 0s - loss: 0.0564\n",
      "Epoch 00001: val_loss did not improve from 1.77801\n",
      "2/2 [==============================] - 8s 4s/step - loss: 0.0564 - val_loss: 1.7845\n"
     ]
    },
    {
     "name": "stderr",
     "output_type": "stream",
     "text": [
      "\r",
      " 65%|██████▍   | 194/300 [48:33<25:41, 14.54s/it]"
     ]
    },
    {
     "name": "stdout",
     "output_type": "stream",
     "text": [
      "2/2 [==============================] - ETA: 0s - loss: 0.0388\n",
      "Epoch 00001: val_loss did not improve from 1.77801\n",
      "2/2 [==============================] - 8s 4s/step - loss: 0.0388 - val_loss: 1.7845\n"
     ]
    },
    {
     "name": "stderr",
     "output_type": "stream",
     "text": [
      "\r",
      " 65%|██████▌   | 195/300 [48:47<25:38, 14.66s/it]"
     ]
    },
    {
     "name": "stdout",
     "output_type": "stream",
     "text": [
      "2/2 [==============================] - ETA: 0s - loss: 0.0310\n",
      "Epoch 00001: val_loss did not improve from 1.77801\n",
      "2/2 [==============================] - 8s 4s/step - loss: 0.0310 - val_loss: 1.7845\n"
     ]
    },
    {
     "name": "stderr",
     "output_type": "stream",
     "text": [
      "\r",
      " 65%|██████▌   | 196/300 [49:02<25:26, 14.68s/it]"
     ]
    },
    {
     "name": "stdout",
     "output_type": "stream",
     "text": [
      "2/2 [==============================] - ETA: 0s - loss: 0.0270\n",
      "Epoch 00001: val_loss did not improve from 1.77801\n",
      "2/2 [==============================] - 8s 4s/step - loss: 0.0270 - val_loss: 1.7845\n"
     ]
    },
    {
     "name": "stderr",
     "output_type": "stream",
     "text": [
      "\r",
      " 66%|██████▌   | 197/300 [49:17<25:03, 14.59s/it]"
     ]
    },
    {
     "name": "stdout",
     "output_type": "stream",
     "text": [
      "2/2 [==============================] - ETA: 0s - loss: 0.0898\n",
      "Epoch 00001: val_loss did not improve from 1.77801\n",
      "2/2 [==============================] - 8s 4s/step - loss: 0.0898 - val_loss: 1.7846\n"
     ]
    },
    {
     "name": "stderr",
     "output_type": "stream",
     "text": [
      "\r",
      " 66%|██████▌   | 198/300 [49:31<24:44, 14.55s/it]"
     ]
    },
    {
     "name": "stdout",
     "output_type": "stream",
     "text": [
      "2/2 [==============================] - ETA: 0s - loss: 0.1065\n",
      "Epoch 00001: val_loss did not improve from 1.77801\n",
      "2/2 [==============================] - 8s 4s/step - loss: 0.1065 - val_loss: 1.7847\n"
     ]
    },
    {
     "name": "stderr",
     "output_type": "stream",
     "text": [
      "\r",
      " 66%|██████▋   | 199/300 [49:45<24:25, 14.51s/it]"
     ]
    },
    {
     "name": "stdout",
     "output_type": "stream",
     "text": [
      "2/2 [==============================] - ETA: 0s - loss: 0.0307\n",
      "Epoch 00001: val_loss did not improve from 1.77801\n",
      "2/2 [==============================] - 8s 4s/step - loss: 0.0307 - val_loss: 1.7854\n"
     ]
    },
    {
     "name": "stderr",
     "output_type": "stream",
     "text": [
      "\r",
      " 67%|██████▋   | 200/300 [50:00<24:11, 14.52s/it]"
     ]
    },
    {
     "name": "stdout",
     "output_type": "stream",
     "text": [
      "2/2 [==============================] - ETA: 0s - loss: 0.0352\n",
      "Epoch 00001: val_loss did not improve from 1.77801\n",
      "2/2 [==============================] - 8s 4s/step - loss: 0.0352 - val_loss: 1.7846\n"
     ]
    },
    {
     "name": "stderr",
     "output_type": "stream",
     "text": [
      "\r",
      " 67%|██████▋   | 201/300 [50:14<23:56, 14.51s/it]"
     ]
    },
    {
     "name": "stdout",
     "output_type": "stream",
     "text": [
      "2/2 [==============================] - ETA: 0s - loss: 0.0377\n",
      "Epoch 00001: val_loss improved from 1.77801 to 1.75716, saving model to ./model.h5\n",
      "2/2 [==============================] - 9s 4s/step - loss: 0.0377 - val_loss: 1.7572\n"
     ]
    },
    {
     "name": "stderr",
     "output_type": "stream",
     "text": [
      "\r",
      " 67%|██████▋   | 202/300 [50:30<24:14, 14.84s/it]"
     ]
    },
    {
     "name": "stdout",
     "output_type": "stream",
     "text": [
      "2/2 [==============================] - ETA: 0s - loss: 0.0313\n",
      "Epoch 00001: val_loss did not improve from 1.75716\n",
      "2/2 [==============================] - 10s 5s/step - loss: 0.0313 - val_loss: 1.7632\n"
     ]
    },
    {
     "name": "stderr",
     "output_type": "stream",
     "text": [
      "\r",
      " 68%|██████▊   | 203/300 [50:47<25:06, 15.53s/it]"
     ]
    },
    {
     "name": "stdout",
     "output_type": "stream",
     "text": [
      "2/2 [==============================] - ETA: 0s - loss: 0.0331\n",
      "Epoch 00001: val_loss did not improve from 1.75716\n",
      "2/2 [==============================] - 8s 4s/step - loss: 0.0331 - val_loss: 1.7739\n"
     ]
    },
    {
     "name": "stderr",
     "output_type": "stream",
     "text": [
      "\r",
      " 68%|██████▊   | 204/300 [51:03<24:45, 15.47s/it]"
     ]
    },
    {
     "name": "stdout",
     "output_type": "stream",
     "text": [
      "2/2 [==============================] - ETA: 0s - loss: 0.0364\n",
      "Epoch 00001: val_loss did not improve from 1.75716\n",
      "2/2 [==============================] - 8s 4s/step - loss: 0.0364 - val_loss: 1.7861\n"
     ]
    },
    {
     "name": "stderr",
     "output_type": "stream",
     "text": [
      "\r",
      " 68%|██████▊   | 205/300 [51:17<24:03, 15.20s/it]"
     ]
    },
    {
     "name": "stdout",
     "output_type": "stream",
     "text": [
      "2/2 [==============================] - ETA: 0s - loss: 0.0335\n",
      "Epoch 00001: val_loss did not improve from 1.75716\n",
      "2/2 [==============================] - 8s 4s/step - loss: 0.0335 - val_loss: 1.7868\n"
     ]
    },
    {
     "name": "stderr",
     "output_type": "stream",
     "text": [
      "\r",
      " 69%|██████▊   | 206/300 [51:32<23:29, 14.99s/it]"
     ]
    },
    {
     "name": "stdout",
     "output_type": "stream",
     "text": [
      "2/2 [==============================] - ETA: 0s - loss: 2.1214\n",
      "Epoch 00001: val_loss did not improve from 1.75716\n",
      "2/2 [==============================] - 8s 4s/step - loss: 2.1214 - val_loss: 1.8065\n"
     ]
    },
    {
     "name": "stderr",
     "output_type": "stream",
     "text": [
      "\r",
      " 69%|██████▉   | 207/300 [51:46<23:04, 14.89s/it]"
     ]
    },
    {
     "name": "stdout",
     "output_type": "stream",
     "text": [
      "2/2 [==============================] - ETA: 0s - loss: 5.5042\n",
      "Epoch 00001: val_loss did not improve from 1.75716\n",
      "2/2 [==============================] - 8s 4s/step - loss: 5.5042 - val_loss: 1.8147\n"
     ]
    },
    {
     "name": "stderr",
     "output_type": "stream",
     "text": [
      "\r",
      " 69%|██████▉   | 208/300 [52:01<22:42, 14.81s/it]"
     ]
    },
    {
     "name": "stdout",
     "output_type": "stream",
     "text": [
      "2/2 [==============================] - ETA: 0s - loss: 4.6139\n",
      "Epoch 00001: val_loss did not improve from 1.75716\n",
      "2/2 [==============================] - 8s 4s/step - loss: 4.6139 - val_loss: 1.8097\n"
     ]
    },
    {
     "name": "stderr",
     "output_type": "stream",
     "text": [
      "\r",
      " 70%|██████▉   | 209/300 [52:16<22:44, 15.00s/it]"
     ]
    },
    {
     "name": "stdout",
     "output_type": "stream",
     "text": [
      "2/2 [==============================] - ETA: 0s - loss: 5.1088\n",
      "Epoch 00001: val_loss did not improve from 1.75716\n",
      "2/2 [==============================] - 8s 4s/step - loss: 5.1088 - val_loss: 1.7909\n"
     ]
    },
    {
     "name": "stderr",
     "output_type": "stream",
     "text": [
      "\r",
      " 70%|███████   | 210/300 [52:31<22:15, 14.84s/it]"
     ]
    },
    {
     "name": "stdout",
     "output_type": "stream",
     "text": [
      "2/2 [==============================] - ETA: 0s - loss: 3.3785\n",
      "Epoch 00001: val_loss did not improve from 1.75716\n",
      "2/2 [==============================] - 8s 4s/step - loss: 3.3785 - val_loss: 1.7855\n"
     ]
    },
    {
     "name": "stderr",
     "output_type": "stream",
     "text": [
      "\r",
      " 70%|███████   | 211/300 [52:45<21:53, 14.76s/it]"
     ]
    },
    {
     "name": "stdout",
     "output_type": "stream",
     "text": [
      "2/2 [==============================] - ETA: 0s - loss: 3.1986\n",
      "Epoch 00001: val_loss did not improve from 1.75716\n",
      "2/2 [==============================] - 8s 4s/step - loss: 3.1986 - val_loss: 1.7820\n"
     ]
    },
    {
     "name": "stderr",
     "output_type": "stream",
     "text": [
      "\r",
      " 71%|███████   | 212/300 [53:00<21:32, 14.69s/it]"
     ]
    },
    {
     "name": "stdout",
     "output_type": "stream",
     "text": [
      "2/2 [==============================] - ETA: 0s - loss: 3.2924\n",
      "Epoch 00001: val_loss did not improve from 1.75716\n",
      "2/2 [==============================] - 8s 4s/step - loss: 3.2924 - val_loss: 1.7839\n"
     ]
    },
    {
     "name": "stderr",
     "output_type": "stream",
     "text": [
      "\r",
      " 71%|███████   | 213/300 [53:15<21:18, 14.69s/it]"
     ]
    },
    {
     "name": "stdout",
     "output_type": "stream",
     "text": [
      "2/2 [==============================] - ETA: 0s - loss: 2.8232\n",
      "Epoch 00001: val_loss did not improve from 1.75716\n",
      "2/2 [==============================] - 8s 4s/step - loss: 2.8232 - val_loss: 1.7842\n"
     ]
    },
    {
     "name": "stderr",
     "output_type": "stream",
     "text": [
      "\r",
      " 71%|███████▏  | 214/300 [53:29<20:59, 14.65s/it]"
     ]
    },
    {
     "name": "stdout",
     "output_type": "stream",
     "text": [
      "2/2 [==============================] - ETA: 0s - loss: 3.7597\n",
      "Epoch 00001: val_loss did not improve from 1.75716\n",
      "2/2 [==============================] - 8s 4s/step - loss: 3.7597 - val_loss: 1.7701\n"
     ]
    },
    {
     "name": "stderr",
     "output_type": "stream",
     "text": [
      "\r",
      " 72%|███████▏  | 215/300 [53:44<20:45, 14.65s/it]"
     ]
    },
    {
     "name": "stdout",
     "output_type": "stream",
     "text": [
      "2/2 [==============================] - ETA: 0s - loss: 5.2111\n",
      "Epoch 00001: val_loss did not improve from 1.75716\n",
      "2/2 [==============================] - 8s 4s/step - loss: 5.2111 - val_loss: 1.7721\n"
     ]
    },
    {
     "name": "stderr",
     "output_type": "stream",
     "text": [
      "\r",
      " 72%|███████▏  | 216/300 [53:59<20:45, 14.83s/it]"
     ]
    },
    {
     "name": "stdout",
     "output_type": "stream",
     "text": [
      "2/2 [==============================] - ETA: 0s - loss: 6.6868\n",
      "Epoch 00001: val_loss did not improve from 1.75716\n",
      "2/2 [==============================] - 8s 4s/step - loss: 6.6868 - val_loss: 1.7731\n"
     ]
    },
    {
     "name": "stderr",
     "output_type": "stream",
     "text": [
      "\r",
      " 72%|███████▏  | 217/300 [54:14<20:22, 14.73s/it]"
     ]
    },
    {
     "name": "stdout",
     "output_type": "stream",
     "text": [
      "2/2 [==============================] - ETA: 0s - loss: 8.6920\n",
      "Epoch 00001: val_loss did not improve from 1.75716\n",
      "2/2 [==============================] - 8s 4s/step - loss: 8.6920 - val_loss: 1.7674\n"
     ]
    },
    {
     "name": "stderr",
     "output_type": "stream",
     "text": [
      "\r",
      " 73%|███████▎  | 218/300 [54:28<20:00, 14.65s/it]"
     ]
    },
    {
     "name": "stdout",
     "output_type": "stream",
     "text": [
      "2/2 [==============================] - ETA: 0s - loss: 7.5492\n",
      "Epoch 00001: val_loss did not improve from 1.75716\n",
      "2/2 [==============================] - 8s 4s/step - loss: 7.5492 - val_loss: 1.7736\n"
     ]
    },
    {
     "name": "stderr",
     "output_type": "stream",
     "text": [
      "\r",
      " 73%|███████▎  | 219/300 [54:42<19:41, 14.58s/it]"
     ]
    },
    {
     "name": "stdout",
     "output_type": "stream",
     "text": [
      "2/2 [==============================] - ETA: 0s - loss: 10.3561\n",
      "Epoch 00001: val_loss improved from 1.75716 to 1.75547, saving model to ./model.h5\n",
      "2/2 [==============================] - 9s 4s/step - loss: 10.3561 - val_loss: 1.7555\n"
     ]
    },
    {
     "name": "stderr",
     "output_type": "stream",
     "text": [
      "\r",
      " 73%|███████▎  | 220/300 [54:58<19:40, 14.75s/it]"
     ]
    },
    {
     "name": "stdout",
     "output_type": "stream",
     "text": [
      "2/2 [==============================] - ETA: 0s - loss: 14.4896\n",
      "Epoch 00001: val_loss did not improve from 1.75547\n",
      "2/2 [==============================] - 8s 4s/step - loss: 14.4896 - val_loss: 1.7572\n"
     ]
    },
    {
     "name": "stderr",
     "output_type": "stream",
     "text": [
      "\r",
      " 74%|███████▎  | 221/300 [55:12<19:16, 14.64s/it]"
     ]
    },
    {
     "name": "stdout",
     "output_type": "stream",
     "text": [
      "2/2 [==============================] - ETA: 0s - loss: 22.7018\n",
      "Epoch 00001: val_loss improved from 1.75547 to 1.75235, saving model to ./model.h5\n",
      "2/2 [==============================] - 9s 4s/step - loss: 22.7018 - val_loss: 1.7523\n"
     ]
    },
    {
     "name": "stderr",
     "output_type": "stream",
     "text": [
      "\r",
      " 74%|███████▍  | 222/300 [55:27<19:17, 14.83s/it]"
     ]
    },
    {
     "name": "stdout",
     "output_type": "stream",
     "text": [
      "2/2 [==============================] - ETA: 0s - loss: 37.2333\n",
      "Epoch 00001: val_loss did not improve from 1.75235\n",
      "2/2 [==============================] - 8s 4s/step - loss: 37.2333 - val_loss: 1.7555\n"
     ]
    },
    {
     "name": "stderr",
     "output_type": "stream",
     "text": [
      "\r",
      " 74%|███████▍  | 223/300 [55:42<19:06, 14.89s/it]"
     ]
    },
    {
     "name": "stdout",
     "output_type": "stream",
     "text": [
      "2/2 [==============================] - ETA: 0s - loss: 16.0046\n",
      "Epoch 00001: val_loss improved from 1.75235 to 1.75209, saving model to ./model.h5\n",
      "2/2 [==============================] - 9s 4s/step - loss: 16.0046 - val_loss: 1.7521\n"
     ]
    },
    {
     "name": "stderr",
     "output_type": "stream",
     "text": [
      "\r",
      " 75%|███████▍  | 224/300 [55:57<18:57, 14.97s/it]"
     ]
    },
    {
     "name": "stdout",
     "output_type": "stream",
     "text": [
      "2/2 [==============================] - ETA: 0s - loss: 16.0924\n",
      "Epoch 00001: val_loss did not improve from 1.75209\n",
      "2/2 [==============================] - 8s 4s/step - loss: 16.0924 - val_loss: 1.7903\n"
     ]
    },
    {
     "name": "stderr",
     "output_type": "stream",
     "text": [
      "\r",
      " 75%|███████▌  | 225/300 [56:12<18:31, 14.82s/it]"
     ]
    },
    {
     "name": "stdout",
     "output_type": "stream",
     "text": [
      "2/2 [==============================] - ETA: 0s - loss: 18.9136\n",
      "Epoch 00001: val_loss did not improve from 1.75209\n",
      "2/2 [==============================] - 8s 4s/step - loss: 18.9136 - val_loss: 1.7894\n"
     ]
    },
    {
     "name": "stderr",
     "output_type": "stream",
     "text": [
      "\r",
      " 75%|███████▌  | 226/300 [56:26<18:09, 14.72s/it]"
     ]
    },
    {
     "name": "stdout",
     "output_type": "stream",
     "text": [
      "2/2 [==============================] - ETA: 0s - loss: 53.7452\n",
      "Epoch 00001: val_loss did not improve from 1.75209\n",
      "2/2 [==============================] - 8s 4s/step - loss: 53.7452 - val_loss: 1.7931\n"
     ]
    },
    {
     "name": "stderr",
     "output_type": "stream",
     "text": [
      "\r",
      " 76%|███████▌  | 227/300 [56:41<17:50, 14.66s/it]"
     ]
    },
    {
     "name": "stdout",
     "output_type": "stream",
     "text": [
      "2/2 [==============================] - ETA: 0s - loss: 91.3995\n",
      "Epoch 00001: val_loss did not improve from 1.75209\n",
      "2/2 [==============================] - 8s 4s/step - loss: 91.3995 - val_loss: 1.7570\n"
     ]
    },
    {
     "name": "stderr",
     "output_type": "stream",
     "text": [
      "\r",
      " 76%|███████▌  | 228/300 [56:55<17:33, 14.63s/it]"
     ]
    },
    {
     "name": "stdout",
     "output_type": "stream",
     "text": [
      "2/2 [==============================] - ETA: 0s - loss: 90.4841 \n",
      "Epoch 00001: val_loss did not improve from 1.75209\n",
      "2/2 [==============================] - 9s 4s/step - loss: 90.4841 - val_loss: 1.7697\n"
     ]
    },
    {
     "name": "stderr",
     "output_type": "stream",
     "text": [
      "\r",
      " 76%|███████▋  | 229/300 [57:11<17:31, 14.81s/it]"
     ]
    },
    {
     "name": "stdout",
     "output_type": "stream",
     "text": [
      "2/2 [==============================] - ETA: 0s - loss: 146.4374\n",
      "Epoch 00001: val_loss did not improve from 1.75209\n",
      "2/2 [==============================] - 8s 4s/step - loss: 146.4374 - val_loss: 1.7649\n"
     ]
    },
    {
     "name": "stderr",
     "output_type": "stream",
     "text": [
      "\r",
      " 77%|███████▋  | 230/300 [57:25<17:15, 14.80s/it]"
     ]
    },
    {
     "name": "stdout",
     "output_type": "stream",
     "text": [
      "2/2 [==============================] - ETA: 0s - loss: 123.8347\n",
      "Epoch 00001: val_loss did not improve from 1.75209\n",
      "2/2 [==============================] - 8s 4s/step - loss: 123.8347 - val_loss: 1.7595\n"
     ]
    },
    {
     "name": "stderr",
     "output_type": "stream",
     "text": [
      "\r",
      " 77%|███████▋  | 231/300 [57:40<16:54, 14.70s/it]"
     ]
    },
    {
     "name": "stdout",
     "output_type": "stream",
     "text": [
      "2/2 [==============================] - ETA: 0s - loss: 134.4737\n",
      "Epoch 00001: val_loss did not improve from 1.75209\n",
      "2/2 [==============================] - 8s 4s/step - loss: 134.4737 - val_loss: 1.7538\n"
     ]
    },
    {
     "name": "stderr",
     "output_type": "stream",
     "text": [
      "\r",
      " 77%|███████▋  | 232/300 [57:55<16:37, 14.67s/it]"
     ]
    },
    {
     "name": "stdout",
     "output_type": "stream",
     "text": [
      "2/2 [==============================] - ETA: 0s - loss: 131.6653\n",
      "Epoch 00001: val_loss improved from 1.75209 to 1.74805, saving model to ./model.h5\n",
      "2/2 [==============================] - 9s 4s/step - loss: 131.6653 - val_loss: 1.7481\n"
     ]
    },
    {
     "name": "stderr",
     "output_type": "stream",
     "text": [
      "\r",
      " 78%|███████▊  | 233/300 [58:10<16:33, 14.83s/it]"
     ]
    },
    {
     "name": "stdout",
     "output_type": "stream",
     "text": [
      "2/2 [==============================] - ETA: 0s - loss: 120.8368\n",
      "Epoch 00001: val_loss improved from 1.74805 to 1.74226, saving model to ./model.h5\n",
      "2/2 [==============================] - 9s 4s/step - loss: 120.8368 - val_loss: 1.7423\n"
     ]
    },
    {
     "name": "stderr",
     "output_type": "stream",
     "text": [
      "\r",
      " 78%|███████▊  | 234/300 [58:25<16:26, 14.94s/it]"
     ]
    },
    {
     "name": "stdout",
     "output_type": "stream",
     "text": [
      "2/2 [==============================] - ETA: 0s - loss: 80.3974\n",
      "Epoch 00001: val_loss improved from 1.74226 to 1.73707, saving model to ./model.h5\n",
      "2/2 [==============================] - 9s 4s/step - loss: 80.3974 - val_loss: 1.7371\n"
     ]
    },
    {
     "name": "stderr",
     "output_type": "stream",
     "text": [
      "\r",
      " 78%|███████▊  | 235/300 [58:40<16:16, 15.03s/it]"
     ]
    },
    {
     "name": "stdout",
     "output_type": "stream",
     "text": [
      "2/2 [==============================] - ETA: 0s - loss: 69.7683 \n",
      "Epoch 00001: val_loss improved from 1.73707 to 1.73181, saving model to ./model.h5\n",
      "2/2 [==============================] - 9s 5s/step - loss: 69.7683 - val_loss: 1.7318\n"
     ]
    },
    {
     "name": "stderr",
     "output_type": "stream",
     "text": [
      "\r",
      " 79%|███████▊  | 236/300 [58:56<16:16, 15.26s/it]"
     ]
    },
    {
     "name": "stdout",
     "output_type": "stream",
     "text": [
      "2/2 [==============================] - ETA: 0s - loss: 41.1278\n",
      "Epoch 00001: val_loss improved from 1.73181 to 1.72724, saving model to ./model.h5\n",
      "2/2 [==============================] - 9s 4s/step - loss: 41.1278 - val_loss: 1.7272\n"
     ]
    },
    {
     "name": "stderr",
     "output_type": "stream",
     "text": [
      "\r",
      " 79%|███████▉  | 237/300 [59:12<16:17, 15.51s/it]"
     ]
    },
    {
     "name": "stdout",
     "output_type": "stream",
     "text": [
      "2/2 [==============================] - ETA: 0s - loss: 32.0172\n",
      "Epoch 00001: val_loss improved from 1.72724 to 1.72331, saving model to ./model.h5\n",
      "2/2 [==============================] - 9s 4s/step - loss: 32.0172 - val_loss: 1.7233\n"
     ]
    },
    {
     "name": "stderr",
     "output_type": "stream",
     "text": [
      "\r",
      " 79%|███████▉  | 238/300 [59:27<15:57, 15.44s/it]"
     ]
    },
    {
     "name": "stdout",
     "output_type": "stream",
     "text": [
      "2/2 [==============================] - ETA: 0s - loss: 31.1780\n",
      "Epoch 00001: val_loss improved from 1.72331 to 1.71988, saving model to ./model.h5\n",
      "2/2 [==============================] - 9s 4s/step - loss: 31.1780 - val_loss: 1.7199\n"
     ]
    },
    {
     "name": "stderr",
     "output_type": "stream",
     "text": [
      "\r",
      " 80%|███████▉  | 239/300 [59:43<15:39, 15.40s/it]"
     ]
    },
    {
     "name": "stdout",
     "output_type": "stream",
     "text": [
      "2/2 [==============================] - ETA: 0s - loss: 24.9232\n",
      "Epoch 00001: val_loss improved from 1.71988 to 1.71676, saving model to ./model.h5\n",
      "2/2 [==============================] - 9s 4s/step - loss: 24.9232 - val_loss: 1.7168\n"
     ]
    },
    {
     "name": "stderr",
     "output_type": "stream",
     "text": [
      "\r",
      " 80%|████████  | 240/300 [59:58<15:22, 15.37s/it]"
     ]
    },
    {
     "name": "stdout",
     "output_type": "stream",
     "text": [
      "2/2 [==============================] - ETA: 0s - loss: 16.8489\n",
      "Epoch 00001: val_loss improved from 1.71676 to 1.71397, saving model to ./model.h5\n",
      "2/2 [==============================] - 9s 4s/step - loss: 16.8489 - val_loss: 1.7140\n"
     ]
    },
    {
     "name": "stderr",
     "output_type": "stream",
     "text": [
      "\r",
      " 80%|████████  | 241/300 [1:00:13<15:05, 15.34s/it]"
     ]
    },
    {
     "name": "stdout",
     "output_type": "stream",
     "text": [
      "2/2 [==============================] - ETA: 0s - loss: 12.2618\n",
      "Epoch 00001: val_loss improved from 1.71397 to 1.71164, saving model to ./model.h5\n",
      "2/2 [==============================] - 9s 4s/step - loss: 12.2618 - val_loss: 1.7116\n"
     ]
    },
    {
     "name": "stderr",
     "output_type": "stream",
     "text": [
      "\r",
      " 81%|████████  | 242/300 [1:00:28<14:47, 15.31s/it]"
     ]
    },
    {
     "name": "stdout",
     "output_type": "stream",
     "text": [
      "2/2 [==============================] - ETA: 0s - loss: 7.4810\n",
      "Epoch 00001: val_loss improved from 1.71164 to 1.70969, saving model to ./model.h5\n",
      "2/2 [==============================] - 9s 5s/step - loss: 7.4810 - val_loss: 1.7097\n"
     ]
    },
    {
     "name": "stderr",
     "output_type": "stream",
     "text": [
      "\r",
      " 81%|████████  | 243/300 [1:00:44<14:39, 15.44s/it]"
     ]
    },
    {
     "name": "stdout",
     "output_type": "stream",
     "text": [
      "2/2 [==============================] - ETA: 0s - loss: 4.8554\n",
      "Epoch 00001: val_loss improved from 1.70969 to 1.70807, saving model to ./model.h5\n",
      "2/2 [==============================] - 9s 4s/step - loss: 4.8554 - val_loss: 1.7081\n"
     ]
    },
    {
     "name": "stderr",
     "output_type": "stream",
     "text": [
      "\r",
      " 81%|████████▏ | 244/300 [1:01:00<14:25, 15.45s/it]"
     ]
    },
    {
     "name": "stdout",
     "output_type": "stream",
     "text": [
      "2/2 [==============================] - ETA: 0s - loss: 2.7451\n",
      "Epoch 00001: val_loss improved from 1.70807 to 1.70676, saving model to ./model.h5\n",
      "2/2 [==============================] - 9s 4s/step - loss: 2.7451 - val_loss: 1.7068\n"
     ]
    },
    {
     "name": "stderr",
     "output_type": "stream",
     "text": [
      "\r",
      " 82%|████████▏ | 245/300 [1:01:15<14:08, 15.43s/it]"
     ]
    },
    {
     "name": "stdout",
     "output_type": "stream",
     "text": [
      "2/2 [==============================] - ETA: 0s - loss: 1.1075\n",
      "Epoch 00001: val_loss improved from 1.70676 to 1.70573, saving model to ./model.h5\n",
      "2/2 [==============================] - 9s 4s/step - loss: 1.1075 - val_loss: 1.7057\n"
     ]
    },
    {
     "name": "stderr",
     "output_type": "stream",
     "text": [
      "\r",
      " 82%|████████▏ | 246/300 [1:01:30<13:51, 15.39s/it]"
     ]
    },
    {
     "name": "stdout",
     "output_type": "stream",
     "text": [
      "2/2 [==============================] - ETA: 0s - loss: 0.4857\n",
      "Epoch 00001: val_loss improved from 1.70573 to 1.70493, saving model to ./model.h5\n",
      "2/2 [==============================] - 9s 4s/step - loss: 0.4857 - val_loss: 1.7049\n"
     ]
    },
    {
     "name": "stderr",
     "output_type": "stream",
     "text": [
      "\r",
      " 82%|████████▏ | 247/300 [1:01:46<13:33, 15.34s/it]"
     ]
    },
    {
     "name": "stdout",
     "output_type": "stream",
     "text": [
      "2/2 [==============================] - ETA: 0s - loss: 0.2520\n",
      "Epoch 00001: val_loss improved from 1.70493 to 1.70431, saving model to ./model.h5\n",
      "2/2 [==============================] - 9s 4s/step - loss: 0.2520 - val_loss: 1.7043\n"
     ]
    },
    {
     "name": "stderr",
     "output_type": "stream",
     "text": [
      "\r",
      " 83%|████████▎ | 248/300 [1:02:01<13:18, 15.37s/it]"
     ]
    },
    {
     "name": "stdout",
     "output_type": "stream",
     "text": [
      "2/2 [==============================] - ETA: 0s - loss: 0.1273\n",
      "Epoch 00001: val_loss improved from 1.70431 to 1.70386, saving model to ./model.h5\n",
      "2/2 [==============================] - 9s 4s/step - loss: 0.1273 - val_loss: 1.7039\n"
     ]
    },
    {
     "name": "stderr",
     "output_type": "stream",
     "text": [
      "\r",
      " 83%|████████▎ | 249/300 [1:02:16<13:04, 15.38s/it]"
     ]
    },
    {
     "name": "stdout",
     "output_type": "stream",
     "text": [
      "2/2 [==============================] - ETA: 0s - loss: 9.6314\n",
      "Epoch 00001: val_loss improved from 1.70386 to 1.70350, saving model to ./model.h5\n",
      "2/2 [==============================] - 9s 4s/step - loss: 9.6314 - val_loss: 1.7035\n"
     ]
    },
    {
     "name": "stderr",
     "output_type": "stream",
     "text": [
      "\r",
      " 83%|████████▎ | 250/300 [1:02:32<12:58, 15.57s/it]"
     ]
    },
    {
     "name": "stdout",
     "output_type": "stream",
     "text": [
      "2/2 [==============================] - ETA: 0s - loss: 36.3042\n",
      "Epoch 00001: val_loss improved from 1.70350 to 1.70300, saving model to ./model.h5\n",
      "2/2 [==============================] - 9s 4s/step - loss: 36.3042 - val_loss: 1.7030\n"
     ]
    },
    {
     "name": "stderr",
     "output_type": "stream",
     "text": [
      "\r",
      " 84%|████████▎ | 251/300 [1:02:47<12:34, 15.40s/it]"
     ]
    },
    {
     "name": "stdout",
     "output_type": "stream",
     "text": [
      "2/2 [==============================] - ETA: 0s - loss: 45.2484\n",
      "Epoch 00001: val_loss improved from 1.70300 to 1.70233, saving model to ./model.h5\n",
      "2/2 [==============================] - 9s 4s/step - loss: 45.2484 - val_loss: 1.7023\n"
     ]
    },
    {
     "name": "stderr",
     "output_type": "stream",
     "text": [
      "\r",
      " 84%|████████▍ | 252/300 [1:03:03<12:18, 15.39s/it]"
     ]
    },
    {
     "name": "stdout",
     "output_type": "stream",
     "text": [
      "2/2 [==============================] - ETA: 0s - loss: 45.4933\n",
      "Epoch 00001: val_loss improved from 1.70233 to 1.70145, saving model to ./model.h5\n",
      "2/2 [==============================] - 9s 4s/step - loss: 45.4933 - val_loss: 1.7015\n"
     ]
    },
    {
     "name": "stderr",
     "output_type": "stream",
     "text": [
      "\r",
      " 84%|████████▍ | 253/300 [1:03:18<12:01, 15.36s/it]"
     ]
    },
    {
     "name": "stdout",
     "output_type": "stream",
     "text": [
      "2/2 [==============================] - ETA: 0s - loss: 44.0019\n",
      "Epoch 00001: val_loss improved from 1.70145 to 1.70034, saving model to ./model.h5\n",
      "2/2 [==============================] - 9s 4s/step - loss: 44.0019 - val_loss: 1.7003\n"
     ]
    },
    {
     "name": "stderr",
     "output_type": "stream",
     "text": [
      "\r",
      " 85%|████████▍ | 254/300 [1:03:33<11:45, 15.35s/it]"
     ]
    },
    {
     "name": "stdout",
     "output_type": "stream",
     "text": [
      "2/2 [==============================] - ETA: 0s - loss: 51.0038\n",
      "Epoch 00001: val_loss improved from 1.70034 to 1.69882, saving model to ./model.h5\n",
      "2/2 [==============================] - 9s 4s/step - loss: 51.0038 - val_loss: 1.6988\n"
     ]
    },
    {
     "name": "stderr",
     "output_type": "stream",
     "text": [
      "\r",
      " 85%|████████▌ | 255/300 [1:03:49<11:29, 15.31s/it]"
     ]
    },
    {
     "name": "stdout",
     "output_type": "stream",
     "text": [
      "2/2 [==============================] - ETA: 0s - loss: 29.1809\n",
      "Epoch 00001: val_loss improved from 1.69882 to 1.69724, saving model to ./model.h5\n",
      "2/2 [==============================] - 9s 4s/step - loss: 29.1809 - val_loss: 1.6972\n"
     ]
    },
    {
     "name": "stderr",
     "output_type": "stream",
     "text": [
      "\r",
      " 85%|████████▌ | 256/300 [1:04:04<11:13, 15.30s/it]"
     ]
    },
    {
     "name": "stdout",
     "output_type": "stream",
     "text": [
      "2/2 [==============================] - ETA: 0s - loss: 30.3611\n",
      "Epoch 00001: val_loss improved from 1.69724 to 1.69562, saving model to ./model.h5\n",
      "2/2 [==============================] - 9s 4s/step - loss: 30.3611 - val_loss: 1.6956\n"
     ]
    },
    {
     "name": "stderr",
     "output_type": "stream",
     "text": [
      "\r",
      " 86%|████████▌ | 257/300 [1:04:20<11:04, 15.45s/it]"
     ]
    },
    {
     "name": "stdout",
     "output_type": "stream",
     "text": [
      "2/2 [==============================] - ETA: 0s - loss: 28.5348\n",
      "Epoch 00001: val_loss improved from 1.69562 to 1.69381, saving model to ./model.h5\n",
      "2/2 [==============================] - 9s 4s/step - loss: 28.5348 - val_loss: 1.6938\n"
     ]
    },
    {
     "name": "stderr",
     "output_type": "stream",
     "text": [
      "\r",
      " 86%|████████▌ | 258/300 [1:04:35<10:45, 15.36s/it]"
     ]
    },
    {
     "name": "stdout",
     "output_type": "stream",
     "text": [
      "2/2 [==============================] - ETA: 0s - loss: 29.8386\n",
      "Epoch 00001: val_loss improved from 1.69381 to 1.69196, saving model to ./model.h5\n",
      "2/2 [==============================] - 9s 4s/step - loss: 29.8386 - val_loss: 1.6920\n"
     ]
    },
    {
     "name": "stderr",
     "output_type": "stream",
     "text": [
      "\r",
      " 86%|████████▋ | 259/300 [1:04:50<10:31, 15.39s/it]"
     ]
    },
    {
     "name": "stdout",
     "output_type": "stream",
     "text": [
      "2/2 [==============================] - ETA: 0s - loss: 29.0081\n",
      "Epoch 00001: val_loss improved from 1.69196 to 1.69006, saving model to ./model.h5\n",
      "2/2 [==============================] - 9s 4s/step - loss: 29.0081 - val_loss: 1.6901\n"
     ]
    },
    {
     "name": "stderr",
     "output_type": "stream",
     "text": [
      "\r",
      " 87%|████████▋ | 260/300 [1:05:06<10:14, 15.35s/it]"
     ]
    },
    {
     "name": "stdout",
     "output_type": "stream",
     "text": [
      "2/2 [==============================] - ETA: 0s - loss: 16.2637\n",
      "Epoch 00001: val_loss improved from 1.69006 to 1.68842, saving model to ./model.h5\n",
      "2/2 [==============================] - 9s 4s/step - loss: 16.2637 - val_loss: 1.6884\n"
     ]
    },
    {
     "name": "stderr",
     "output_type": "stream",
     "text": [
      "\r",
      " 87%|████████▋ | 261/300 [1:05:21<09:57, 15.31s/it]"
     ]
    },
    {
     "name": "stdout",
     "output_type": "stream",
     "text": [
      "2/2 [==============================] - ETA: 0s - loss: 11.8292\n",
      "Epoch 00001: val_loss improved from 1.68842 to 1.68696, saving model to ./model.h5\n",
      "2/2 [==============================] - 9s 4s/step - loss: 11.8292 - val_loss: 1.6870\n"
     ]
    },
    {
     "name": "stderr",
     "output_type": "stream",
     "text": [
      "\r",
      " 87%|████████▋ | 262/300 [1:05:36<09:40, 15.27s/it]"
     ]
    },
    {
     "name": "stdout",
     "output_type": "stream",
     "text": [
      "2/2 [==============================] - ETA: 0s - loss: 27.0499\n",
      "Epoch 00001: val_loss improved from 1.68696 to 1.68540, saving model to ./model.h5\n",
      "2/2 [==============================] - 9s 5s/step - loss: 27.0499 - val_loss: 1.6854\n"
     ]
    },
    {
     "name": "stderr",
     "output_type": "stream",
     "text": [
      "\r",
      " 88%|████████▊ | 263/300 [1:05:52<09:28, 15.36s/it]"
     ]
    },
    {
     "name": "stdout",
     "output_type": "stream",
     "text": [
      "2/2 [==============================] - ETA: 0s - loss: 27.1441\n",
      "Epoch 00001: val_loss improved from 1.68540 to 1.68399, saving model to ./model.h5\n",
      "2/2 [==============================] - 9s 4s/step - loss: 27.1441 - val_loss: 1.6840\n"
     ]
    },
    {
     "name": "stderr",
     "output_type": "stream",
     "text": [
      "\r",
      " 88%|████████▊ | 264/300 [1:06:07<09:13, 15.38s/it]"
     ]
    },
    {
     "name": "stdout",
     "output_type": "stream",
     "text": [
      "2/2 [==============================] - ETA: 0s - loss: 20.7779\n",
      "Epoch 00001: val_loss improved from 1.68399 to 1.68271, saving model to ./model.h5\n",
      "2/2 [==============================] - 9s 4s/step - loss: 20.7779 - val_loss: 1.6827\n"
     ]
    },
    {
     "name": "stderr",
     "output_type": "stream",
     "text": [
      "\r",
      " 88%|████████▊ | 265/300 [1:06:22<08:55, 15.31s/it]"
     ]
    },
    {
     "name": "stdout",
     "output_type": "stream",
     "text": [
      "2/2 [==============================] - ETA: 0s - loss: 16.6001\n",
      "Epoch 00001: val_loss improved from 1.68271 to 1.68140, saving model to ./model.h5\n",
      "2/2 [==============================] - 9s 4s/step - loss: 16.6001 - val_loss: 1.6814\n"
     ]
    },
    {
     "name": "stderr",
     "output_type": "stream",
     "text": [
      "\r",
      " 89%|████████▊ | 266/300 [1:06:37<08:39, 15.28s/it]"
     ]
    },
    {
     "name": "stdout",
     "output_type": "stream",
     "text": [
      "2/2 [==============================] - ETA: 0s - loss: 35.1992\n",
      "Epoch 00001: val_loss improved from 1.68140 to 1.68000, saving model to ./model.h5\n",
      "2/2 [==============================] - 9s 4s/step - loss: 35.1992 - val_loss: 1.6800\n"
     ]
    },
    {
     "name": "stderr",
     "output_type": "stream",
     "text": [
      "\r",
      " 89%|████████▉ | 267/300 [1:06:53<08:23, 15.27s/it]"
     ]
    },
    {
     "name": "stdout",
     "output_type": "stream",
     "text": [
      "2/2 [==============================] - ETA: 0s - loss: 34.3220\n",
      "Epoch 00001: val_loss improved from 1.68000 to 1.67866, saving model to ./model.h5\n",
      "2/2 [==============================] - 9s 4s/step - loss: 34.3220 - val_loss: 1.6787\n"
     ]
    },
    {
     "name": "stderr",
     "output_type": "stream",
     "text": [
      "\r",
      " 89%|████████▉ | 268/300 [1:07:08<08:08, 15.28s/it]"
     ]
    },
    {
     "name": "stdout",
     "output_type": "stream",
     "text": [
      "2/2 [==============================] - ETA: 0s - loss: 29.1005\n",
      "Epoch 00001: val_loss improved from 1.67866 to 1.67736, saving model to ./model.h5\n",
      "2/2 [==============================] - 9s 4s/step - loss: 29.1005 - val_loss: 1.6774\n"
     ]
    },
    {
     "name": "stderr",
     "output_type": "stream",
     "text": [
      "\r",
      " 90%|████████▉ | 269/300 [1:07:23<07:52, 15.25s/it]"
     ]
    },
    {
     "name": "stdout",
     "output_type": "stream",
     "text": [
      "2/2 [==============================] - ETA: 0s - loss: 27.8385\n",
      "Epoch 00001: val_loss improved from 1.67736 to 1.67616, saving model to ./model.h5\n",
      "2/2 [==============================] - 9s 4s/step - loss: 27.8385 - val_loss: 1.6762\n"
     ]
    },
    {
     "name": "stderr",
     "output_type": "stream",
     "text": [
      "\r",
      " 90%|█████████ | 270/300 [1:07:39<07:42, 15.42s/it]"
     ]
    },
    {
     "name": "stdout",
     "output_type": "stream",
     "text": [
      "2/2 [==============================] - ETA: 0s - loss: 21.3300\n",
      "Epoch 00001: val_loss improved from 1.67616 to 1.67472, saving model to ./model.h5\n",
      "2/2 [==============================] - 9s 4s/step - loss: 21.3300 - val_loss: 1.6747\n"
     ]
    },
    {
     "name": "stderr",
     "output_type": "stream",
     "text": [
      "\r",
      " 90%|█████████ | 271/300 [1:07:54<07:24, 15.34s/it]"
     ]
    },
    {
     "name": "stdout",
     "output_type": "stream",
     "text": [
      "2/2 [==============================] - ETA: 0s - loss: 25.5268\n",
      "Epoch 00001: val_loss improved from 1.67472 to 1.58812, saving model to ./model.h5\n",
      "2/2 [==============================] - 9s 4s/step - loss: 25.5268 - val_loss: 1.5881\n"
     ]
    },
    {
     "name": "stderr",
     "output_type": "stream",
     "text": [
      "\r",
      " 91%|█████████ | 272/300 [1:08:09<07:07, 15.27s/it]"
     ]
    },
    {
     "name": "stdout",
     "output_type": "stream",
     "text": [
      "2/2 [==============================] - ETA: 0s - loss: 17.3440\n",
      "Epoch 00001: val_loss improved from 1.58812 to 1.55015, saving model to ./model.h5\n",
      "2/2 [==============================] - 9s 4s/step - loss: 17.3440 - val_loss: 1.5501\n"
     ]
    },
    {
     "name": "stderr",
     "output_type": "stream",
     "text": [
      "\r",
      " 91%|█████████ | 273/300 [1:08:24<06:51, 15.23s/it]"
     ]
    },
    {
     "name": "stdout",
     "output_type": "stream",
     "text": [
      "2/2 [==============================] - ETA: 0s - loss: 15.6488\n",
      "Epoch 00001: val_loss improved from 1.55015 to 1.54306, saving model to ./model.h5\n",
      "2/2 [==============================] - 9s 4s/step - loss: 15.6488 - val_loss: 1.5431\n"
     ]
    },
    {
     "name": "stderr",
     "output_type": "stream",
     "text": [
      "\r",
      " 91%|█████████▏| 274/300 [1:08:39<06:34, 15.18s/it]"
     ]
    },
    {
     "name": "stdout",
     "output_type": "stream",
     "text": [
      "2/2 [==============================] - ETA: 0s - loss: 15.3029\n",
      "Epoch 00001: val_loss improved from 1.54306 to 1.53855, saving model to ./model.h5\n",
      "2/2 [==============================] - 9s 4s/step - loss: 15.3029 - val_loss: 1.5386\n"
     ]
    },
    {
     "name": "stderr",
     "output_type": "stream",
     "text": [
      "\r",
      " 92%|█████████▏| 275/300 [1:08:55<06:19, 15.18s/it]"
     ]
    },
    {
     "name": "stdout",
     "output_type": "stream",
     "text": [
      "2/2 [==============================] - ETA: 0s - loss: 14.6901\n",
      "Epoch 00001: val_loss improved from 1.53855 to 1.53542, saving model to ./model.h5\n",
      "2/2 [==============================] - 9s 5s/step - loss: 14.6901 - val_loss: 1.5354\n"
     ]
    },
    {
     "name": "stderr",
     "output_type": "stream",
     "text": [
      "\r",
      " 92%|█████████▏| 276/300 [1:09:10<06:06, 15.26s/it]"
     ]
    },
    {
     "name": "stdout",
     "output_type": "stream",
     "text": [
      "2/2 [==============================] - ETA: 0s - loss: 10.5453\n",
      "Epoch 00001: val_loss improved from 1.53542 to 1.53391, saving model to ./model.h5\n",
      "2/2 [==============================] - 9s 4s/step - loss: 10.5453 - val_loss: 1.5339\n"
     ]
    },
    {
     "name": "stderr",
     "output_type": "stream",
     "text": [
      "\r",
      " 92%|█████████▏| 277/300 [1:09:26<05:53, 15.35s/it]"
     ]
    },
    {
     "name": "stdout",
     "output_type": "stream",
     "text": [
      "2/2 [==============================] - ETA: 0s - loss: 8.9428 \n",
      "Epoch 00001: val_loss did not improve from 1.53391\n",
      "2/2 [==============================] - 8s 4s/step - loss: 8.9428 - val_loss: 1.5384\n"
     ]
    },
    {
     "name": "stderr",
     "output_type": "stream",
     "text": [
      "\r",
      " 93%|█████████▎| 278/300 [1:09:40<05:31, 15.08s/it]"
     ]
    },
    {
     "name": "stdout",
     "output_type": "stream",
     "text": [
      "2/2 [==============================] - ETA: 0s - loss: 7.3331\n",
      "Epoch 00001: val_loss did not improve from 1.53391\n",
      "2/2 [==============================] - 8s 4s/step - loss: 7.3331 - val_loss: 1.5395\n"
     ]
    },
    {
     "name": "stderr",
     "output_type": "stream",
     "text": [
      "\r",
      " 93%|█████████▎| 279/300 [1:09:55<05:13, 14.94s/it]"
     ]
    },
    {
     "name": "stdout",
     "output_type": "stream",
     "text": [
      "2/2 [==============================] - ETA: 0s - loss: 7.4520 \n",
      "Epoch 00001: val_loss did not improve from 1.53391\n",
      "2/2 [==============================] - 8s 4s/step - loss: 7.4520 - val_loss: 1.5365\n"
     ]
    },
    {
     "name": "stderr",
     "output_type": "stream",
     "text": [
      "\r",
      " 93%|█████████▎| 280/300 [1:10:09<04:55, 14.78s/it]"
     ]
    },
    {
     "name": "stdout",
     "output_type": "stream",
     "text": [
      "2/2 [==============================] - ETA: 0s - loss: 4.6851\n",
      "Epoch 00001: val_loss improved from 1.53391 to 1.53278, saving model to ./model.h5\n",
      "2/2 [==============================] - 9s 4s/step - loss: 4.6851 - val_loss: 1.5328\n"
     ]
    },
    {
     "name": "stderr",
     "output_type": "stream",
     "text": [
      "\r",
      " 94%|█████████▎| 281/300 [1:10:24<04:42, 14.87s/it]"
     ]
    },
    {
     "name": "stdout",
     "output_type": "stream",
     "text": [
      "2/2 [==============================] - ETA: 0s - loss: 3.7472\n",
      "Epoch 00001: val_loss improved from 1.53278 to 1.52983, saving model to ./model.h5\n",
      "2/2 [==============================] - 9s 4s/step - loss: 3.7472 - val_loss: 1.5298\n"
     ]
    },
    {
     "name": "stderr",
     "output_type": "stream",
     "text": [
      "\r",
      " 94%|█████████▍| 282/300 [1:10:39<04:28, 14.90s/it]"
     ]
    },
    {
     "name": "stdout",
     "output_type": "stream",
     "text": [
      "2/2 [==============================] - ETA: 0s - loss: 2.8689\n",
      "Epoch 00001: val_loss improved from 1.52983 to 1.52639, saving model to ./model.h5\n",
      "2/2 [==============================] - 9s 5s/step - loss: 2.8689 - val_loss: 1.5264\n"
     ]
    },
    {
     "name": "stderr",
     "output_type": "stream",
     "text": [
      "\r",
      " 94%|█████████▍| 283/300 [1:10:54<04:15, 15.03s/it]"
     ]
    },
    {
     "name": "stdout",
     "output_type": "stream",
     "text": [
      "2/2 [==============================] - ETA: 0s - loss: 2.2858\n",
      "Epoch 00001: val_loss improved from 1.52639 to 1.52233, saving model to ./model.h5\n",
      "2/2 [==============================] - 9s 4s/step - loss: 2.2858 - val_loss: 1.5223\n"
     ]
    },
    {
     "name": "stderr",
     "output_type": "stream",
     "text": [
      "\r",
      " 95%|█████████▍| 284/300 [1:11:10<04:02, 15.18s/it]"
     ]
    },
    {
     "name": "stdout",
     "output_type": "stream",
     "text": [
      "2/2 [==============================] - ETA: 0s - loss: 2.2814\n",
      "Epoch 00001: val_loss improved from 1.52233 to 1.51875, saving model to ./model.h5\n",
      "2/2 [==============================] - 9s 4s/step - loss: 2.2814 - val_loss: 1.5188\n"
     ]
    },
    {
     "name": "stderr",
     "output_type": "stream",
     "text": [
      "\r",
      " 95%|█████████▌| 285/300 [1:11:25<03:46, 15.11s/it]"
     ]
    },
    {
     "name": "stdout",
     "output_type": "stream",
     "text": [
      "2/2 [==============================] - ETA: 0s - loss: 1.8149\n",
      "Epoch 00001: val_loss improved from 1.51875 to 1.51736, saving model to ./model.h5\n",
      "2/2 [==============================] - 9s 5s/step - loss: 1.8149 - val_loss: 1.5174\n"
     ]
    },
    {
     "name": "stderr",
     "output_type": "stream",
     "text": [
      "\r",
      " 95%|█████████▌| 286/300 [1:11:40<03:32, 15.20s/it]"
     ]
    },
    {
     "name": "stdout",
     "output_type": "stream",
     "text": [
      "2/2 [==============================] - ETA: 0s - loss: 1.5161\n",
      "Epoch 00001: val_loss improved from 1.51736 to 1.51585, saving model to ./model.h5\n",
      "2/2 [==============================] - 9s 4s/step - loss: 1.5161 - val_loss: 1.5159\n"
     ]
    },
    {
     "name": "stderr",
     "output_type": "stream",
     "text": [
      "\r",
      " 96%|█████████▌| 287/300 [1:11:55<03:17, 15.17s/it]"
     ]
    },
    {
     "name": "stdout",
     "output_type": "stream",
     "text": [
      "2/2 [==============================] - ETA: 0s - loss: 1.5148\n",
      "Epoch 00001: val_loss improved from 1.51585 to 1.51509, saving model to ./model.h5\n",
      "2/2 [==============================] - 9s 4s/step - loss: 1.5148 - val_loss: 1.5151\n"
     ]
    },
    {
     "name": "stderr",
     "output_type": "stream",
     "text": [
      "\r",
      " 96%|█████████▌| 288/300 [1:12:10<03:01, 15.13s/it]"
     ]
    },
    {
     "name": "stdout",
     "output_type": "stream",
     "text": [
      "2/2 [==============================] - ETA: 0s - loss: 1.5592\n",
      "Epoch 00001: val_loss improved from 1.51509 to 1.51439, saving model to ./model.h5\n",
      "2/2 [==============================] - 9s 4s/step - loss: 1.5592 - val_loss: 1.5144\n"
     ]
    },
    {
     "name": "stderr",
     "output_type": "stream",
     "text": [
      "\r",
      " 96%|█████████▋| 289/300 [1:12:25<02:46, 15.11s/it]"
     ]
    },
    {
     "name": "stdout",
     "output_type": "stream",
     "text": [
      "2/2 [==============================] - ETA: 0s - loss: 1.2496\n",
      "Epoch 00001: val_loss improved from 1.51439 to 1.51348, saving model to ./model.h5\n",
      "2/2 [==============================] - 9s 5s/step - loss: 1.2496 - val_loss: 1.5135\n"
     ]
    },
    {
     "name": "stderr",
     "output_type": "stream",
     "text": [
      "\r",
      " 97%|█████████▋| 290/300 [1:12:41<02:32, 15.22s/it]"
     ]
    },
    {
     "name": "stdout",
     "output_type": "stream",
     "text": [
      "2/2 [==============================] - ETA: 0s - loss: 0.9608\n",
      "Epoch 00001: val_loss improved from 1.51348 to 1.51274, saving model to ./model.h5\n",
      "2/2 [==============================] - 9s 4s/step - loss: 0.9608 - val_loss: 1.5127\n"
     ]
    },
    {
     "name": "stderr",
     "output_type": "stream",
     "text": [
      "\r",
      " 97%|█████████▋| 291/300 [1:12:56<02:17, 15.24s/it]"
     ]
    },
    {
     "name": "stdout",
     "output_type": "stream",
     "text": [
      "2/2 [==============================] - ETA: 0s - loss: 1.1371\n",
      "Epoch 00001: val_loss improved from 1.51274 to 1.51171, saving model to ./model.h5\n",
      "2/2 [==============================] - 9s 4s/step - loss: 1.1371 - val_loss: 1.5117\n"
     ]
    },
    {
     "name": "stderr",
     "output_type": "stream",
     "text": [
      "\r",
      " 97%|█████████▋| 292/300 [1:13:11<02:01, 15.15s/it]"
     ]
    },
    {
     "name": "stdout",
     "output_type": "stream",
     "text": [
      "2/2 [==============================] - ETA: 0s - loss: 1.0108\n",
      "Epoch 00001: val_loss improved from 1.51171 to 1.51085, saving model to ./model.h5\n",
      "2/2 [==============================] - 9s 4s/step - loss: 1.0108 - val_loss: 1.5109\n"
     ]
    },
    {
     "name": "stderr",
     "output_type": "stream",
     "text": [
      "\r",
      " 98%|█████████▊| 293/300 [1:13:26<01:45, 15.11s/it]"
     ]
    },
    {
     "name": "stdout",
     "output_type": "stream",
     "text": [
      "2/2 [==============================] - ETA: 0s - loss: 1.2933\n",
      "Epoch 00001: val_loss improved from 1.51085 to 1.50988, saving model to ./model.h5\n",
      "2/2 [==============================] - 9s 4s/step - loss: 1.2933 - val_loss: 1.5099\n"
     ]
    },
    {
     "name": "stderr",
     "output_type": "stream",
     "text": [
      "\r",
      " 98%|█████████▊| 294/300 [1:13:41<01:30, 15.13s/it]"
     ]
    },
    {
     "name": "stdout",
     "output_type": "stream",
     "text": [
      "2/2 [==============================] - ETA: 0s - loss: 1.0223\n",
      "Epoch 00001: val_loss improved from 1.50988 to 1.50909, saving model to ./model.h5\n",
      "2/2 [==============================] - 9s 4s/step - loss: 1.0223 - val_loss: 1.5091\n"
     ]
    },
    {
     "name": "stderr",
     "output_type": "stream",
     "text": [
      "\r",
      " 98%|█████████▊| 295/300 [1:13:56<01:15, 15.10s/it]"
     ]
    },
    {
     "name": "stdout",
     "output_type": "stream",
     "text": [
      "2/2 [==============================] - ETA: 0s - loss: 1.4204\n",
      "Epoch 00001: val_loss improved from 1.50909 to 1.50788, saving model to ./model.h5\n",
      "2/2 [==============================] - 9s 4s/step - loss: 1.4204 - val_loss: 1.5079\n"
     ]
    },
    {
     "name": "stderr",
     "output_type": "stream",
     "text": [
      "\r",
      " 99%|█████████▊| 296/300 [1:14:12<01:00, 15.10s/it]"
     ]
    },
    {
     "name": "stdout",
     "output_type": "stream",
     "text": [
      "2/2 [==============================] - ETA: 0s - loss: 1.4097\n",
      "Epoch 00001: val_loss improved from 1.50788 to 1.50706, saving model to ./model.h5\n",
      "2/2 [==============================] - 9s 5s/step - loss: 1.4097 - val_loss: 1.5071\n"
     ]
    },
    {
     "name": "stderr",
     "output_type": "stream",
     "text": [
      "\r",
      " 99%|█████████▉| 297/300 [1:14:28<00:46, 15.58s/it]"
     ]
    },
    {
     "name": "stdout",
     "output_type": "stream",
     "text": [
      "2/2 [==============================] - ETA: 0s - loss: 1.5782\n",
      "Epoch 00001: val_loss improved from 1.50706 to 1.50600, saving model to ./model.h5\n",
      "2/2 [==============================] - 9s 4s/step - loss: 1.5782 - val_loss: 1.5060\n"
     ]
    },
    {
     "name": "stderr",
     "output_type": "stream",
     "text": [
      "\r",
      " 99%|█████████▉| 298/300 [1:14:43<00:30, 15.44s/it]"
     ]
    },
    {
     "name": "stdout",
     "output_type": "stream",
     "text": [
      "2/2 [==============================] - ETA: 0s - loss: 2.1458\n",
      "Epoch 00001: val_loss improved from 1.50600 to 1.50527, saving model to ./model.h5\n",
      "2/2 [==============================] - 9s 4s/step - loss: 2.1458 - val_loss: 1.5053\n"
     ]
    },
    {
     "name": "stderr",
     "output_type": "stream",
     "text": [
      "\r",
      "100%|█████████▉| 299/300 [1:14:59<00:15, 15.39s/it]"
     ]
    },
    {
     "name": "stdout",
     "output_type": "stream",
     "text": [
      "2/2 [==============================] - ETA: 0s - loss: 1.5443\n",
      "Epoch 00001: val_loss improved from 1.50527 to 1.50419, saving model to ./model.h5\n",
      "2/2 [==============================] - 9s 4s/step - loss: 1.5443 - val_loss: 1.5042\n"
     ]
    },
    {
     "name": "stderr",
     "output_type": "stream",
     "text": [
      "100%|██████████| 300/300 [1:15:14<00:00, 15.05s/it]\n"
     ]
    },
    {
     "data": {
      "image/png": "[encoded data removed]",
      "text/plain": [
       "<Figure size 432x288 with 1 Axes>"
      ]
     },
     "metadata": {
      "needs_background": "light"
     },
     "output_type": "display_data"
    }
   ],
   "source": [
    "import gc\n",
    "MC = ModelCheckpoint('./model.h5', verbose=True,monitor='val_loss',mode='min',\n",
    "        save_weights_only=True,save_best_only=True)\n",
    "\n",
    "stop = EarlyStopping(monitor = 'val_loss', restore_best_weights=True , patience = 5)\n",
    "\n",
    "tr_it = iter(train_dataset)\n",
    "batch_size = cfg['train_params']['train_batch']\n",
    "#progress_bar = tqdm(range(0,cfg[\"train_params\"][\"max_num_steps\"],batch_size))\n",
    "progress_bar = tqdm(range(cfg[\"train_params\"][\"max_num_steps\"]))\n",
    "two_hours = 60 * 60 * 3.1\n",
    "losses = []\n",
    "hist = []\n",
    "for itr in progress_bar:#range(0,cfg[\"train_params\"][\"max_num_steps\"],batch_size):\n",
    "    inputs = np.zeros(shape=(batch_size,224,224,num_in_channels))\n",
    "    targets = np.zeros(shape=(batch_size, num_targets))\n",
    "    \n",
    "    for i in range(batch_size):\n",
    "        \n",
    "        try:\n",
    "            data = next(tr_it)\n",
    "        except StopIteration:\n",
    "            tr_it = iter(train_dataset)\n",
    "            data = next(tr_it)\n",
    "            \n",
    "        inputs[i] = data['image'].transpose(1,2,0)\n",
    "        targets[i] = data['target_positions'].reshape(-1,num_targets)\n",
    "   \n",
    "    h = model.fit(inputs, targets,\n",
    "                  batch_size = int(batch_size / 2) ,\n",
    "                  validation_data = (val_inputs, val_targets),\n",
    "                  verbose = 1,\n",
    "                 callbacks = [MC, stop])\n",
    "\n",
    "    hist.append(h.history)\n",
    "    gc.collect()\n",
    "    # For training + submission, break if training exceeds 6 hours\n",
    "    if (time.time()-t0) > two_hours:\n",
    "        break\n",
    "    #print(h.history['loss'][0])\n",
    "    if h.history['loss'][0] < 1.5 and h.history['val_loss'][0] < 1.5:\n",
    "        break\n",
    "    \n",
    "vl = [hi['val_loss'] for hi in hist]\n",
    "l = [hi['loss'] for hi in hist]\n",
    "plt.plot(np.log(vl), label = 'val_loss')\n",
    "plt.plot(np.log(l), label = 'loss')\n",
    "plt.legend(loc=0)\n",
    "plt.show()"
   ]
  },
  {
   "cell_type": "code",
   "execution_count": 11,
   "metadata": {},
   "outputs": [],
   "source": [
    "model.save('modelv0.h5')\n"
   ]
  },
  {
   "cell_type": "code",
   "execution_count": null,
   "metadata": {},
   "outputs": [],
   "source": [
    "#this one if we need to load weights from h5\n",
    "from numpy import loadtxt\n",
    "from keras.models import load_model\n",
    "from keras.applications.resnet50 import ResNet50\n",
    "from keras.utils.conv_utils import convert_kernel\n",
    "from keras.layers import (Input, Conv2D, Flatten,Dense,AveragePooling2D,Dropout,MaxPooling2D,BatchNormalization)\n",
    "from keras.models import Model, Sequential\n",
    "from keras.callbacks import ModelCheckpoint, EarlyStopping\n",
    "from keras import optimizers\n",
    "from keras.applications.resnet import ResNet101\n",
    "# load model\n",
    "model = load_model('modelv0.h5')\n",
    "# summarize model.\n",
    "model.summary()"
   ]
  },
  {
   "cell_type": "code",
   "execution_count": 12,
   "metadata": {},
   "outputs": [
    {
     "name": "stderr",
     "output_type": "stream",
     "text": [
      "/home/moriarty/.local/lib/python3.8/site-packages/l5kit/dataset/agent.py:115: RuntimeWarning: disable_traffic_light_faces not found in config, this will raise an error in the future\n",
      "  return self.get_frame(scene_index, state_index, track_id=track_id)\n"
     ]
    },
    {
     "data": {
      "text/plain": [
       "<matplotlib.collections.PathCollection at 0x7f1fd9f38670>"
      ]
     },
     "execution_count": 12,
     "metadata": {},
     "output_type": "execute_result"
    },
    {
     "data": {
      "image/png": "[encoded data removed]",
      "text/plain": [
       "<Figure size 432x288 with 1 Axes>"
      ]
     },
     "metadata": {
      "needs_background": "light"
     },
     "output_type": "display_data"
    }
   ],
   "source": [
    "#Example Prediction:\n",
    "import matplotlib.pyplot as plt\n",
    "tr_it = iter(train_dataset)\n",
    "a1 = next(tr_it)\n",
    "inp = a1['image'].transpose(1,2,0)\n",
    "act = a1['target_positions']\n",
    "pred = model.predict(inp.reshape(-1,224,224,num_in_channels)).reshape(50,2)\n",
    "plt.scatter(act[:,0], act[:,1])\n",
    "plt.scatter(pred[:,0],pred[:,1])"
   ]
  },
  {
   "cell_type": "markdown",
   "metadata": {},
   "source": [
    "Now we can use this model to predict from the test set."
   ]
  },
  {
   "cell_type": "code",
   "execution_count": 13,
   "metadata": {},
   "outputs": [
    {
     "name": "stderr",
     "output_type": "stream",
     "text": [
      "<ipython-input-13-540cf822d61a>:9: RuntimeWarning: you're running with a custom agents_mask\n",
      "  test_dataset = AgentDataset(cfg, test_zarr, rasterizer, agents_mask=test_mask)\n"
     ]
    }
   ],
   "source": [
    "test_cfg = cfg[\"test_data_loader\"]\n",
    "\n",
    "# Rasterizer\n",
    "rasterizer = build_rasterizer(cfg, dm)\n",
    "\n",
    "# Test dataset/dataloader\n",
    "test_zarr = ChunkedDataset(dm.require(test_cfg[\"key\"])).open()\n",
    "test_mask = np.load(f\"{DIR_INPUT}/scenes/mask.npz\")[\"arr_0\"]\n",
    "test_dataset = AgentDataset(cfg, test_zarr, rasterizer, agents_mask=test_mask)"
   ]
  },
  {
   "cell_type": "code",
   "execution_count": 14,
   "metadata": {},
   "outputs": [
    {
     "name": "stderr",
     "output_type": "stream",
     "text": [
      "100%|██████████| 71122/71122 [3:47:11<00:00,  5.22it/s]  \n"
     ]
    }
   ],
   "source": [
    "t_shape = test_dataset[0][\"target_positions\"].shape\n",
    "timestamps = []\n",
    "agent_ids = []\n",
    "coords = []\n",
    "for it in tqdm(test_dataset):\n",
    "    \n",
    "    dat = it['image'].transpose(1,2,0)\n",
    "    coords.append(np.array(model.predict(dat.reshape(1,224,224,num_in_channels)).reshape(t_shape)))\n",
    "    timestamps.append(it[\"timestamp\"])\n",
    "    agent_ids.append(it[\"track_id\"])\n",
    "    "
   ]
  },
  {
   "cell_type": "code",
   "execution_count": 15,
   "metadata": {},
   "outputs": [],
   "source": [
    "from l5kit.evaluation import write_pred_csv\n",
    "\n",
    "\n",
    "write_pred_csv('submission.csv',\n",
    "                timestamps = np.array(timestamps),\n",
    "                track_ids = np.array(agent_ids),\n",
    "                coords = np.array(coords) )"
   ]
  }
 ],
 "metadata": {
  "kernelspec": {
   "display_name": "Python 3",
   "language": "python",
   "name": "python3"
  },
  "language_info": {
   "codemirror_mode": {
    "name": "ipython",
    "version": 3
   },
   "file_extension": ".py",
   "mimetype": "text/x-python",
   "name": "python",
   "nbconvert_exporter": "python",
   "pygments_lexer": "ipython3",
   "version": "3.8.5"
  }
 },
 "nbformat": 4,
 "nbformat_minor": 4
}
