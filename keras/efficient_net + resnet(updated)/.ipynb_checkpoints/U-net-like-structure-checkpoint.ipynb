{
 "cells": [
  {
   "cell_type": "markdown",
   "metadata": {},
   "source": [
    "In this one I will try to marry Efficientnet and Resnet architectures for our task. "
   ]
  },
  {
   "cell_type": "code",
   "execution_count": 2,
   "metadata": {
    "_cell_guid": "b1076dfc-b9ad-4769-8c92-a6c4dae69d19",
    "_uuid": "8f2839f25d086af736a60e9eeb907d3b93b6e0e5"
   },
   "outputs": [
    {
     "name": "stdout",
     "output_type": "stream",
     "text": [
      "CPU times: user 2.29 s, sys: 1.86 s, total: 4.15 s\n",
      "Wall time: 3.01 s\n"
     ]
    },
    {
     "data": {
      "text/plain": [
       "32512"
      ]
     },
     "execution_count": 2,
     "metadata": {},
     "output_type": "execute_result"
    }
   ],
   "source": [
    "%%time\n",
    "import os\n",
    "import matplotlib.pyplot as plt\n",
    "from tqdm import tqdm\n",
    "import numpy as np\n",
    "import gc\n",
    "import tensorflow as tf\n",
    "import time\n",
    "t0 = time.time()\n",
    "\n",
    "## this script transports l5kit and dependencies\n",
    "os.system('pip uninstall typing -y')\n",
    "os.system('pip install --target=/kaggle/working pymap3d==2.1.0')\n",
    "os.system('pip install --target=/kaggle/working protobuf==3.12.2')\n",
    "os.system('pip install --target=/kaggle/working transforms3d')\n",
    "os.system('pip install --target=/kaggle/working zarr')\n",
    "os.system('pip install --target=/kaggle/working ptable')\n",
    "\n",
    "os.system('pip install --no-dependencies --target=/kaggle/working l5kit')\n",
    "#!pip install --upgrade pip\n",
    "#!pip install pymap3d==2.1.0\n",
    "#!pip install -U l5kit"
   ]
  },
  {
   "cell_type": "markdown",
   "metadata": {},
   "source": [
    "Importing some stuff from the l5kit and setting the directories."
   ]
  },
  {
   "cell_type": "code",
   "execution_count": 3,
   "metadata": {
    "_cell_guid": "79c7e3d0-c299-4dcb-8224-4455121ee9b0",
    "_uuid": "d629ff2d2480ee46fbb7e2d37f6b5fab8052498a"
   },
   "outputs": [],
   "source": [
    "DIR_INPUT = \"/home/moriarty/Downloads/lyft\"\n",
    "import os\n",
    "os.environ[\"L5KIT_DATA_FOLDER\"] = DIR_INPUT\n",
    "SINGLE_MODE_SUBMISSION = f\"{DIR_INPUT}/single_mode_sample_submission.csv\"\n",
    "MULTI_MODE_SUBMISSION = f\"{DIR_INPUT}/multi_mode_sample_submission.csv\"\n",
    "from l5kit.data import LocalDataManager, ChunkedDataset\n",
    "from l5kit.dataset import AgentDataset, EgoDataset\n",
    "from l5kit.evaluation import write_pred_csv\n",
    "from l5kit.rasterization import build_rasterizer"
   ]
  },
  {
   "cell_type": "markdown",
   "metadata": {},
   "source": [
    "Config File (dictionary)  from the linked notebook.  This contains parameters for the training."
   ]
  },
  {
   "cell_type": "code",
   "execution_count": 4,
   "metadata": {},
   "outputs": [],
   "source": [
    "DEBUG = False  # True just trains for 10 steps instead of the full dataset\n",
    "cfg = {\n",
    "    'format_version': 4,\n",
    "    'model_params': {\n",
    "        'model_architecture': 'resnet50',\n",
    "        'history_num_frames': 20,\n",
    "        'history_step_size': 1,\n",
    "        'history_delta_time': 0.1,\n",
    "        'future_num_frames': 50,\n",
    "        'future_step_size': 1,\n",
    "        'future_delta_time': 0.1\n",
    "    },\n",
    "    \n",
    "    'raster_params': {\n",
    "        'raster_size': [224, 224],\n",
    "        'pixel_size': [0.5, 0.5],\n",
    "        'ego_center': [0.25, 0.5],\n",
    "        'map_type': 'py_semantic',\n",
    "        'satellite_map_key': 'aerial_map/aerial_map.png',\n",
    "        'semantic_map_key': 'semantic_map/semantic_map.pb',\n",
    "        'dataset_meta_key': 'meta.json',\n",
    "        'filter_agents_threshold': 0.5\n",
    "    },\n",
    "    \n",
    "    'train_data_loader': {\n",
    "        'key': 'scenes/train.zarr',\n",
    "        'batch_size': 12,\n",
    "        'shuffle': True,\n",
    "        'num_workers': 6\n",
    "    },\n",
    "    \n",
    "    'train_params': {\n",
    "        'max_num_steps': 10*1 if DEBUG else 3200,\n",
    "        'checkpoint_every_n_steps': 5000,\n",
    "        'train_batch' : 32,\n",
    "        'num_batch' : 10\n",
    "        \n",
    "        # 'eval_every_n_steps': -1\n",
    "    },\n",
    "    \n",
    "    'test_data_loader': {\n",
    "        'key': 'scenes/test.zarr',\n",
    "        'batch_size': 8,\n",
    "        'shuffle': False,\n",
    "        'num_workers': 6\n",
    "    },\n",
    "    \n",
    "    \n",
    "    \n",
    "    'valid_data_loader': {\n",
    "        'key': 'scenes/validate.zarr',\n",
    "        'batch_size': 8,\n",
    "        'shuffle': False,\n",
    "        'num_workers': 6\n",
    "    },\n",
    "    \n",
    "    \n",
    "}"
   ]
  },
  {
   "cell_type": "markdown",
   "metadata": {},
   "source": [
    "Load In the train dataset.  I notice the pytorch folks can just import this with DataLoader, but I am not familiar with anything similar in keras."
   ]
  },
  {
   "cell_type": "code",
   "execution_count": 5,
   "metadata": {},
   "outputs": [
    {
     "name": "stdout",
     "output_type": "stream",
     "text": [
      "+------------+------------+------------+---------------+-----------------+----------------------+----------------------+----------------------+---------------------+\n",
      "| Num Scenes | Num Frames | Num Agents | Num TR lights | Total Time (hr) | Avg Frames per Scene | Avg Agents per Frame | Avg Scene Time (sec) | Avg Frame frequency |\n",
      "+------------+------------+------------+---------------+-----------------+----------------------+----------------------+----------------------+---------------------+\n",
      "|   16265    |  4039527   | 320124624  |    38735988   |      112.19     |        248.36        |        79.25         |        24.83         |        10.00        |\n",
      "+------------+------------+------------+---------------+-----------------+----------------------+----------------------+----------------------+---------------------+\n"
     ]
    },
    {
     "name": "stderr",
     "output_type": "stream",
     "text": [
      "/home/moriarty/.local/lib/python3.8/site-packages/l5kit/dataset/agent.py:115: RuntimeWarning: disable_traffic_light_faces not found in config, this will raise an error in the future\n",
      "  return self.get_frame(scene_index, state_index, track_id=track_id)\n"
     ]
    },
    {
     "data": {
      "text/plain": [
       "13"
      ]
     },
     "execution_count": 5,
     "metadata": {},
     "output_type": "execute_result"
    }
   ],
   "source": [
    "\n",
    "train_cfg = cfg[\"train_data_loader\"]\n",
    "\n",
    "# Rasterizer\n",
    "dm = LocalDataManager(None)\n",
    "rasterizer = build_rasterizer(cfg, dm)\n",
    "\n",
    "# Train dataset/dataloader\n",
    "\n",
    "train_zarr = ChunkedDataset(dm.require(train_cfg[\"key\"])).open()\n",
    "train_dataset = AgentDataset(cfg, train_zarr, rasterizer)\n",
    "hist_shape = train_dataset[0]['history_positions'].shape\n",
    "num_history_channels = (cfg[\"model_params\"][\"history_num_frames\"] + 1) * 2\n",
    "num_in_channels = 3 + num_history_channels\n",
    "num_targets = 2 * cfg[\"model_params\"][\"future_num_frames\"]\n",
    "\n",
    "print(train_dataset)\n",
    "\n",
    "\n",
    "gc.collect()"
   ]
  },
  {
   "cell_type": "code",
   "execution_count": 6,
   "metadata": {},
   "outputs": [],
   "source": [
    "dataset_path1 = dm.require(cfg[\"valid_data_loader\"][\"key\"])\n",
    "valid_zarr = ChunkedDataset(dataset_path1).open()\n",
    "valid_dataset = AgentDataset(cfg, valid_zarr, rasterizer)"
   ]
  },
  {
   "cell_type": "code",
   "execution_count": 7,
   "metadata": {},
   "outputs": [
    {
     "name": "stderr",
     "output_type": "stream",
     "text": [
      "100%|██████████| 100/100 [00:17<00:00,  5.87it/s]\n"
     ]
    }
   ],
   "source": [
    "valid_itr = iter(valid_dataset)\n",
    "n_valid = 100\n",
    "\n",
    "val_inputs = np.zeros(shape=(n_valid,224,224, num_in_channels) )\n",
    "val_targets = np.zeros(shape=(n_valid,num_targets))\n",
    "for itr in tqdm(range(n_valid)):\n",
    "    data = next(valid_itr)\n",
    "\n",
    "    val_inputs[itr] = data['image'].transpose(1,2,0)    \n",
    "    val_targets[itr] = data['target_positions'].reshape(-1,num_targets)\n",
    "    gc.collect()\n",
    "del valid_dataset\n",
    "    "
   ]
  },
  {
   "cell_type": "code",
   "execution_count": 8,
   "metadata": {},
   "outputs": [
    {
     "data": {
      "text/plain": [
       "22496709"
      ]
     },
     "execution_count": 8,
     "metadata": {},
     "output_type": "execute_result"
    }
   ],
   "source": [
    "len(train_dataset)"
   ]
  },
  {
   "cell_type": "code",
   "execution_count": 9,
   "metadata": {},
   "outputs": [
    {
     "data": {
      "image/png": "[encoded data removed]",
      "text/plain": [
       "<Figure size 432x288 with 1 Axes>"
      ]
     },
     "metadata": {
      "needs_background": "light"
     },
     "output_type": "display_data"
    },
    {
     "name": "stdout",
     "output_type": "stream",
     "text": [
      "(50, 2)\n"
     ]
    }
   ],
   "source": [
    "idx = 100\n",
    "plt.scatter(train_dataset[idx]['history_positions'][:,0],train_dataset[idx]['history_positions'][:,1])\n",
    "plt.scatter(train_dataset[idx]['target_positions'][:,0],train_dataset[idx]['target_positions'][:,1],c='r')\n",
    "plt.show()\n",
    "print(train_dataset[0]['target_positions'].shape) "
   ]
  },
  {
   "cell_type": "code",
   "execution_count": 9,
   "metadata": {},
   "outputs": [
    {
     "name": "stdout",
     "output_type": "stream",
     "text": [
      "Model: \"functional_1\"\n",
      "_________________________________________________________________\n",
      "Layer (type)                 Output Shape              Param #   \n",
      "=================================================================\n",
      "input_1 (InputLayer)         [(None, 224, 224, 45)]    0         \n",
      "_________________________________________________________________\n",
      "conv2d (Conv2D)              (None, 224, 224, 32)      1440      \n",
      "_________________________________________________________________\n",
      "dropout (Dropout)            (None, 224, 224, 32)      0         \n",
      "_________________________________________________________________\n",
      "conv2d_1 (Conv2D)            (None, 224, 224, 10)      2880      \n",
      "_________________________________________________________________\n",
      "dropout_1 (Dropout)          (None, 224, 224, 10)      0         \n",
      "_________________________________________________________________\n",
      "conv2d_2 (Conv2D)            (None, 224, 224, 3)       270       \n",
      "_________________________________________________________________\n",
      "resnet101 (Functional)       (None, 2048)              42658176  \n",
      "_________________________________________________________________\n",
      "dense (Dense)                (None, 1000)              2049000   \n",
      "_________________________________________________________________\n",
      "dropout_2 (Dropout)          (None, 1000)              0         \n",
      "_________________________________________________________________\n",
      "dense_1 (Dense)              (None, 500)               500500    \n",
      "_________________________________________________________________\n",
      "dropout_3 (Dropout)          (None, 500)               0         \n",
      "_________________________________________________________________\n",
      "dense_2 (Dense)              (None, 100)               50100     \n",
      "=================================================================\n",
      "Total params: 45,262,366\n",
      "Trainable params: 45,157,022\n",
      "Non-trainable params: 105,344\n",
      "_________________________________________________________________\n"
     ]
    }
   ],
   "source": [
    "from keras.utils.conv_utils import convert_kernel\n",
    "from keras.layers import (Input, Conv2D, Flatten,Dense,AveragePooling2D,Dropout,MaxPooling2D,BatchNormalization)\n",
    "from keras.models import Model, Sequential\n",
    "from keras.callbacks import ModelCheckpoint, EarlyStopping\n",
    "from keras import optimizers\n",
    "from keras.applications.resnet import ResNet101\n",
    "from efficientnet import EfficientNetB0\n",
    "base_in = Input(shape=(224,224,num_in_channels))\n",
    "\n",
    "efficient_net = EfficientNetB0(include_top=False, input_tensor=base_in, weights=\"imagenet\")\n",
    "resnet_101 = ResNet101(include_top=False,\n",
    "                       weights='imagenet',\n",
    "                       input_tensor=base_in,\n",
    "                       pooling='max'\n",
    "                       )\n",
    "model = Sequential()\n",
    "model.add(efficient_net)\n",
    "model.add(resnet_101)\n",
    "model.add(Dense(num_targets, activation=\"linear\"))\n",
    "model.summary()\n",
    "opt = optimizers.Adam(lr=0.001)\n",
    "model.compile(optimizer=opt, loss='mse')\n",
    "\n",
    "model.summary()"
   ]
  },
  {
   "cell_type": "markdown",
   "metadata": {},
   "source": [
    "I am going to loop through the train_dataset and use a batch_size variable to train the model in batches.  "
   ]
  },
  {
   "cell_type": "code",
   "execution_count": 10,
   "metadata": {},
   "outputs": [
    {
     "name": "stderr",
     "output_type": "stream",
     "text": [
      "  0%|          | 0/3200 [00:00<?, ?it/s]"
     ]
    },
    {
     "name": "stdout",
     "output_type": "stream",
     "text": [
      "2/2 [==============================] - ETA: 0s - loss: 1101.3378\n",
      "Epoch 00001: val_loss improved from inf to 7487094.00000, saving model to ./model.h5\n",
      "2/2 [==============================] - 25s 13s/step - loss: 1101.3378 - val_loss: 7487094.0000\n"
     ]
    },
    {
     "name": "stderr",
     "output_type": "stream",
     "text": [
      "  0%|          | 1/3200 [00:47<42:21:16, 47.66s/it]"
     ]
    },
    {
     "name": "stdout",
     "output_type": "stream",
     "text": [
      "2/2 [==============================] - ETA: 0s - loss: 754.6606\n",
      "Epoch 00001: val_loss improved from 7487094.00000 to 3039499.25000, saving model to ./model.h5\n",
      "2/2 [==============================] - 20s 10s/step - loss: 754.6606 - val_loss: 3039499.2500\n"
     ]
    },
    {
     "name": "stderr",
     "output_type": "stream",
     "text": [
      "  0%|          | 2/3200 [01:20<38:26:24, 43.27s/it]"
     ]
    },
    {
     "name": "stdout",
     "output_type": "stream",
     "text": [
      "2/2 [==============================] - ETA: 0s - loss: 220.2220\n",
      "Epoch 00001: val_loss did not improve from 3039499.25000\n",
      "2/2 [==============================] - 21s 11s/step - loss: 220.2220 - val_loss: 270852734976.0000\n"
     ]
    },
    {
     "name": "stderr",
     "output_type": "stream",
     "text": [
      "  0%|          | 3/3200 [01:52<35:27:29, 39.93s/it]"
     ]
    },
    {
     "name": "stdout",
     "output_type": "stream",
     "text": [
      "2/2 [==============================] - ETA: 0s - loss: 102.9383\n",
      "Epoch 00001: val_loss did not improve from 3039499.25000\n",
      "2/2 [==============================] - 22s 11s/step - loss: 102.9383 - val_loss: 125671321894912.0000\n"
     ]
    },
    {
     "name": "stderr",
     "output_type": "stream",
     "text": [
      "  0%|          | 4/3200 [02:26<33:50:03, 38.11s/it]"
     ]
    },
    {
     "name": "stdout",
     "output_type": "stream",
     "text": [
      "2/2 [==============================] - ETA: 0s - loss: 37.7567\n",
      "Epoch 00001: val_loss did not improve from 3039499.25000\n",
      "2/2 [==============================] - 20s 10s/step - loss: 37.7567 - val_loss: 17756762748747776.0000\n"
     ]
    },
    {
     "name": "stderr",
     "output_type": "stream",
     "text": [
      "  0%|          | 5/3200 [02:56<31:38:57, 35.66s/it]"
     ]
    },
    {
     "name": "stdout",
     "output_type": "stream",
     "text": [
      "2/2 [==============================] - ETA: 0s - loss: 20.6341\n",
      "Epoch 00001: val_loss did not improve from 3039499.25000\n",
      "2/2 [==============================] - 20s 10s/step - loss: 20.6341 - val_loss: 723051765687123968.0000\n"
     ]
    },
    {
     "name": "stderr",
     "output_type": "stream",
     "text": [
      "  0%|          | 6/3200 [03:27<30:20:12, 34.19s/it]"
     ]
    },
    {
     "name": "stdout",
     "output_type": "stream",
     "text": [
      "2/2 [==============================] - ETA: 0s - loss: 7.4881\n",
      "Epoch 00001: val_loss did not improve from 3039499.25000\n",
      "2/2 [==============================] - 20s 10s/step - loss: 7.4881 - val_loss: 11303997681304600576.0000\n"
     ]
    },
    {
     "name": "stderr",
     "output_type": "stream",
     "text": [
      "  0%|          | 7/3200 [03:57<29:13:17, 32.95s/it]"
     ]
    },
    {
     "name": "stdout",
     "output_type": "stream",
     "text": [
      "2/2 [==============================] - ETA: 0s - loss: 96.4365\n",
      "Epoch 00001: val_loss did not improve from 3039499.25000\n",
      "2/2 [==============================] - 20s 10s/step - loss: 96.4365 - val_loss: 34183414086300073984.0000\n"
     ]
    },
    {
     "name": "stderr",
     "output_type": "stream",
     "text": [
      "  0%|          | 8/3200 [04:27<28:28:36, 32.12s/it]"
     ]
    },
    {
     "name": "stdout",
     "output_type": "stream",
     "text": [
      "2/2 [==============================] - ETA: 0s - loss: 65.0069\n",
      "Epoch 00001: val_loss did not improve from 3039499.25000\n",
      "2/2 [==============================] - 21s 10s/step - loss: 65.0069 - val_loss: 55422699991258365952.0000\n"
     ]
    },
    {
     "name": "stderr",
     "output_type": "stream",
     "text": [
      "  0%|          | 9/3200 [04:58<28:14:43, 31.87s/it]"
     ]
    },
    {
     "name": "stdout",
     "output_type": "stream",
     "text": [
      "2/2 [==============================] - ETA: 0s - loss: 8.2051\n",
      "Epoch 00001: val_loss did not improve from 3039499.25000\n",
      "2/2 [==============================] - 21s 10s/step - loss: 8.2051 - val_loss: 76262671860310736896.0000\n"
     ]
    },
    {
     "name": "stderr",
     "output_type": "stream",
     "text": [
      "  0%|          | 10/3200 [05:31<28:28:02, 32.13s/it]"
     ]
    },
    {
     "name": "stdout",
     "output_type": "stream",
     "text": [
      "2/2 [==============================] - ETA: 0s - loss: 59.6717\n",
      "Epoch 00001: val_loss did not improve from 3039499.25000\n",
      "2/2 [==============================] - 20s 10s/step - loss: 59.6717 - val_loss: 29194923234010595328.0000\n"
     ]
    },
    {
     "name": "stderr",
     "output_type": "stream",
     "text": [
      "  0%|          | 11/3200 [06:02<28:03:08, 31.67s/it]"
     ]
    },
    {
     "name": "stdout",
     "output_type": "stream",
     "text": [
      "2/2 [==============================] - ETA: 0s - loss: 42.8891\n",
      "Epoch 00001: val_loss did not improve from 3039499.25000\n",
      "2/2 [==============================] - 21s 10s/step - loss: 42.8891 - val_loss: 16645013951691620352.0000\n"
     ]
    },
    {
     "name": "stderr",
     "output_type": "stream",
     "text": [
      "  0%|          | 12/3200 [06:33<27:53:48, 31.50s/it]"
     ]
    },
    {
     "name": "stdout",
     "output_type": "stream",
     "text": [
      "2/2 [==============================] - ETA: 0s - loss: 23.2242\n",
      "Epoch 00001: val_loss did not improve from 3039499.25000\n",
      "2/2 [==============================] - 20s 10s/step - loss: 23.2242 - val_loss: 11968331402899881984.0000\n"
     ]
    },
    {
     "name": "stderr",
     "output_type": "stream",
     "text": [
      "  0%|          | 13/3200 [07:03<27:32:40, 31.11s/it]"
     ]
    },
    {
     "name": "stdout",
     "output_type": "stream",
     "text": [
      "2/2 [==============================] - ETA: 0s - loss: 13.7339\n",
      "Epoch 00001: val_loss did not improve from 3039499.25000\n",
      "2/2 [==============================] - 20s 10s/step - loss: 13.7339 - val_loss: 6948820029055959040.0000\n"
     ]
    },
    {
     "name": "stderr",
     "output_type": "stream",
     "text": [
      "  0%|          | 14/3200 [07:33<27:17:45, 30.84s/it]"
     ]
    },
    {
     "name": "stdout",
     "output_type": "stream",
     "text": [
      "2/2 [==============================] - ETA: 0s - loss: 12.3117\n",
      "Epoch 00001: val_loss did not improve from 3039499.25000\n",
      "2/2 [==============================] - 20s 10s/step - loss: 12.3117 - val_loss: 2396116762144800768.0000\n"
     ]
    },
    {
     "name": "stderr",
     "output_type": "stream",
     "text": [
      "  0%|          | 15/3200 [08:03<27:03:53, 30.59s/it]"
     ]
    },
    {
     "name": "stdout",
     "output_type": "stream",
     "text": [
      "2/2 [==============================] - ETA: 0s - loss: 13.3373\n",
      "Epoch 00001: val_loss did not improve from 3039499.25000\n",
      "2/2 [==============================] - 20s 10s/step - loss: 13.3373 - val_loss: 550203727437365248.0000\n"
     ]
    },
    {
     "name": "stderr",
     "output_type": "stream",
     "text": [
      "  0%|          | 16/3200 [08:34<27:08:26, 30.69s/it]"
     ]
    },
    {
     "name": "stdout",
     "output_type": "stream",
     "text": [
      "2/2 [==============================] - ETA: 0s - loss: 22.3151\n",
      "Epoch 00001: val_loss did not improve from 3039499.25000\n",
      "2/2 [==============================] - 20s 10s/step - loss: 22.3151 - val_loss: 139013625921667072.0000\n"
     ]
    },
    {
     "name": "stderr",
     "output_type": "stream",
     "text": [
      "  1%|          | 17/3200 [09:04<26:55:04, 30.44s/it]"
     ]
    },
    {
     "name": "stdout",
     "output_type": "stream",
     "text": [
      "2/2 [==============================] - ETA: 0s - loss: 6.2255\n",
      "Epoch 00001: val_loss did not improve from 3039499.25000\n",
      "2/2 [==============================] - 20s 10s/step - loss: 6.2255 - val_loss: 53886321847959552.0000\n"
     ]
    },
    {
     "name": "stderr",
     "output_type": "stream",
     "text": [
      "  1%|          | 18/3200 [09:34<26:42:15, 30.21s/it]"
     ]
    },
    {
     "name": "stdout",
     "output_type": "stream",
     "text": [
      "2/2 [==============================] - ETA: 0s - loss: 1.3271\n",
      "Epoch 00001: val_loss did not improve from 3039499.25000\n",
      "2/2 [==============================] - 20s 10s/step - loss: 1.3271 - val_loss: 20917092026941440.0000\n"
     ]
    },
    {
     "name": "stderr",
     "output_type": "stream",
     "text": [
      "  1%|          | 19/3200 [10:04<26:49:04, 30.35s/it]"
     ]
    },
    {
     "name": "stdout",
     "output_type": "stream",
     "text": [
      "2/2 [==============================] - ETA: 0s - loss: 0.8492\n",
      "Epoch 00001: val_loss did not improve from 3039499.25000\n",
      "2/2 [==============================] - 20s 10s/step - loss: 0.8492 - val_loss: 8852883227279360.0000\n"
     ]
    },
    {
     "name": "stderr",
     "output_type": "stream",
     "text": [
      "  1%|          | 20/3200 [10:34<26:41:20, 30.21s/it]"
     ]
    },
    {
     "name": "stdout",
     "output_type": "stream",
     "text": [
      "2/2 [==============================] - ETA: 0s - loss: 0.7900\n",
      "Epoch 00001: val_loss did not improve from 3039499.25000\n",
      "2/2 [==============================] - 20s 10s/step - loss: 0.7900 - val_loss: 4053403302887424.0000\n"
     ]
    },
    {
     "name": "stderr",
     "output_type": "stream",
     "text": [
      "  1%|          | 21/3200 [11:04<26:37:09, 30.14s/it]"
     ]
    },
    {
     "name": "stdout",
     "output_type": "stream",
     "text": [
      "2/2 [==============================] - ETA: 0s - loss: 3.3886\n",
      "Epoch 00001: val_loss did not improve from 3039499.25000\n",
      "2/2 [==============================] - 20s 10s/step - loss: 3.3886 - val_loss: 1927537835900928.0000\n"
     ]
    },
    {
     "name": "stderr",
     "output_type": "stream",
     "text": [
      "  1%|          | 22/3200 [11:34<26:36:56, 30.15s/it]"
     ]
    },
    {
     "name": "stdout",
     "output_type": "stream",
     "text": [
      "2/2 [==============================] - ETA: 0s - loss: 0.7730\n",
      "Epoch 00001: val_loss did not improve from 3039499.25000\n",
      "2/2 [==============================] - 20s 10s/step - loss: 0.7730 - val_loss: 920689724882944.0000\n"
     ]
    },
    {
     "name": "stderr",
     "output_type": "stream",
     "text": [
      "  1%|          | 23/3200 [12:05<26:47:31, 30.36s/it]"
     ]
    },
    {
     "name": "stdout",
     "output_type": "stream",
     "text": [
      "2/2 [==============================] - ETA: 0s - loss: 0.7718\n",
      "Epoch 00001: val_loss did not improve from 3039499.25000\n",
      "2/2 [==============================] - 21s 10s/step - loss: 0.7718 - val_loss: 332209210785792.0000\n"
     ]
    },
    {
     "name": "stderr",
     "output_type": "stream",
     "text": [
      "  1%|          | 24/3200 [12:37<27:01:58, 30.64s/it]"
     ]
    },
    {
     "name": "stdout",
     "output_type": "stream",
     "text": [
      "2/2 [==============================] - ETA: 0s - loss: 4.8592\n",
      "Epoch 00001: val_loss did not improve from 3039499.25000\n",
      "2/2 [==============================] - 20s 10s/step - loss: 4.8592 - val_loss: 174365001908224.0000\n"
     ]
    },
    {
     "name": "stderr",
     "output_type": "stream",
     "text": [
      "  1%|          | 25/3200 [13:06<26:49:18, 30.41s/it]"
     ]
    },
    {
     "name": "stdout",
     "output_type": "stream",
     "text": [
      "2/2 [==============================] - ETA: 0s - loss: 0.2647\n",
      "Epoch 00001: val_loss did not improve from 3039499.25000\n",
      "2/2 [==============================] - 20s 10s/step - loss: 0.2647 - val_loss: 93558841278464.0000\n"
     ]
    },
    {
     "name": "stderr",
     "output_type": "stream",
     "text": [
      "  1%|          | 26/3200 [13:37<26:52:33, 30.48s/it]"
     ]
    },
    {
     "name": "stdout",
     "output_type": "stream",
     "text": [
      "2/2 [==============================] - ETA: 0s - loss: 1.6942\n",
      "Epoch 00001: val_loss did not improve from 3039499.25000\n",
      "2/2 [==============================] - 20s 10s/step - loss: 1.6942 - val_loss: 44953463947264.0000\n"
     ]
    },
    {
     "name": "stderr",
     "output_type": "stream",
     "text": [
      "  1%|          | 27/3200 [14:07<26:40:45, 30.27s/it]"
     ]
    },
    {
     "name": "stdout",
     "output_type": "stream",
     "text": [
      "2/2 [==============================] - ETA: 0s - loss: 21.9684\n",
      "Epoch 00001: val_loss did not improve from 3039499.25000\n",
      "2/2 [==============================] - 20s 10s/step - loss: 21.9684 - val_loss: 22857872572416.0000\n"
     ]
    },
    {
     "name": "stderr",
     "output_type": "stream",
     "text": [
      "  1%|          | 28/3200 [14:37<26:33:17, 30.14s/it]"
     ]
    },
    {
     "name": "stdout",
     "output_type": "stream",
     "text": [
      "2/2 [==============================] - ETA: 0s - loss: 90.8637 \n",
      "Epoch 00001: val_loss did not improve from 3039499.25000\n",
      "2/2 [==============================] - 20s 10s/step - loss: 90.8637 - val_loss: 17563143634944.0000\n"
     ]
    },
    {
     "name": "stderr",
     "output_type": "stream",
     "text": [
      "  1%|          | 29/3200 [15:07<26:37:29, 30.23s/it]"
     ]
    },
    {
     "name": "stdout",
     "output_type": "stream",
     "text": [
      "2/2 [==============================] - ETA: 0s - loss: 18.7970\n",
      "Epoch 00001: val_loss did not improve from 3039499.25000\n",
      "2/2 [==============================] - 20s 10s/step - loss: 18.7970 - val_loss: 11431971913728.0000\n"
     ]
    },
    {
     "name": "stderr",
     "output_type": "stream",
     "text": [
      "  1%|          | 30/3200 [15:37<26:34:22, 30.18s/it]"
     ]
    },
    {
     "name": "stdout",
     "output_type": "stream",
     "text": [
      "2/2 [==============================] - ETA: 0s - loss: 62.1979\n",
      "Epoch 00001: val_loss did not improve from 3039499.25000\n",
      "2/2 [==============================] - 20s 10s/step - loss: 62.1979 - val_loss: 7154910625792.0000\n"
     ]
    },
    {
     "name": "stderr",
     "output_type": "stream",
     "text": [
      "  1%|          | 31/3200 [16:07<26:27:33, 30.06s/it]"
     ]
    },
    {
     "name": "stdout",
     "output_type": "stream",
     "text": [
      "2/2 [==============================] - ETA: 0s - loss: 56.0759\n",
      "Epoch 00001: val_loss did not improve from 3039499.25000\n",
      "2/2 [==============================] - 20s 10s/step - loss: 56.0759 - val_loss: 1409061486592.0000\n"
     ]
    },
    {
     "name": "stderr",
     "output_type": "stream",
     "text": [
      "  1%|          | 32/3200 [16:37<26:24:40, 30.01s/it]"
     ]
    },
    {
     "name": "stdout",
     "output_type": "stream",
     "text": [
      "2/2 [==============================] - ETA: 0s - loss: 4.5658\n",
      "Epoch 00001: val_loss did not improve from 3039499.25000\n",
      "2/2 [==============================] - 20s 10s/step - loss: 4.5658 - val_loss: 327161380864.0000\n"
     ]
    },
    {
     "name": "stderr",
     "output_type": "stream",
     "text": [
      "  1%|          | 33/3200 [17:07<26:33:14, 30.18s/it]"
     ]
    },
    {
     "name": "stdout",
     "output_type": "stream",
     "text": [
      "2/2 [==============================] - ETA: 0s - loss: 6.2086\n",
      "Epoch 00001: val_loss did not improve from 3039499.25000\n",
      "2/2 [==============================] - 20s 10s/step - loss: 6.2086 - val_loss: 203809112064.0000\n"
     ]
    },
    {
     "name": "stderr",
     "output_type": "stream",
     "text": [
      "  1%|          | 34/3200 [17:37<26:26:10, 30.06s/it]"
     ]
    },
    {
     "name": "stdout",
     "output_type": "stream",
     "text": [
      "2/2 [==============================] - ETA: 0s - loss: 24.4735\n",
      "Epoch 00001: val_loss did not improve from 3039499.25000\n",
      "2/2 [==============================] - 20s 10s/step - loss: 24.4735 - val_loss: 272956178432.0000\n"
     ]
    },
    {
     "name": "stderr",
     "output_type": "stream",
     "text": [
      "  1%|          | 35/3200 [18:07<26:17:09, 29.90s/it]"
     ]
    },
    {
     "name": "stdout",
     "output_type": "stream",
     "text": [
      "2/2 [==============================] - ETA: 0s - loss: 44.4106\n",
      "Epoch 00001: val_loss did not improve from 3039499.25000\n",
      "2/2 [==============================] - 21s 10s/step - loss: 44.4106 - val_loss: 296929034240.0000\n"
     ]
    },
    {
     "name": "stderr",
     "output_type": "stream",
     "text": [
      "  1%|          | 36/3200 [18:37<26:27:26, 30.10s/it]"
     ]
    },
    {
     "name": "stdout",
     "output_type": "stream",
     "text": [
      "2/2 [==============================] - ETA: 0s - loss: 21.9074\n",
      "Epoch 00001: val_loss did not improve from 3039499.25000\n",
      "2/2 [==============================] - 20s 10s/step - loss: 21.9074 - val_loss: 234050945024.0000\n"
     ]
    },
    {
     "name": "stderr",
     "output_type": "stream",
     "text": [
      "  1%|          | 37/3200 [19:07<26:20:46, 29.99s/it]"
     ]
    },
    {
     "name": "stdout",
     "output_type": "stream",
     "text": [
      "2/2 [==============================] - ETA: 0s - loss: 5.8429\n",
      "Epoch 00001: val_loss did not improve from 3039499.25000\n",
      "2/2 [==============================] - 20s 10s/step - loss: 5.8429 - val_loss: 217062653952.0000\n"
     ]
    },
    {
     "name": "stderr",
     "output_type": "stream",
     "text": [
      "  1%|          | 38/3200 [19:37<26:15:09, 29.89s/it]"
     ]
    },
    {
     "name": "stdout",
     "output_type": "stream",
     "text": [
      "2/2 [==============================] - ETA: 0s - loss: 11.2206\n",
      "Epoch 00001: val_loss did not improve from 3039499.25000\n",
      "2/2 [==============================] - 20s 10s/step - loss: 11.2206 - val_loss: 210658525184.0000\n"
     ]
    },
    {
     "name": "stderr",
     "output_type": "stream",
     "text": [
      "  1%|          | 39/3200 [20:06<26:09:02, 29.78s/it]"
     ]
    },
    {
     "name": "stdout",
     "output_type": "stream",
     "text": [
      "2/2 [==============================] - ETA: 0s - loss: 20.9227\n",
      "Epoch 00001: val_loss did not improve from 3039499.25000\n",
      "2/2 [==============================] - 20s 10s/step - loss: 20.9227 - val_loss: 226409906176.0000\n"
     ]
    },
    {
     "name": "stderr",
     "output_type": "stream",
     "text": [
      "  1%|▏         | 40/3200 [20:37<26:22:15, 30.04s/it]"
     ]
    },
    {
     "name": "stdout",
     "output_type": "stream",
     "text": [
      "2/2 [==============================] - ETA: 0s - loss: 147.3878\n",
      "Epoch 00001: val_loss did not improve from 3039499.25000\n",
      "2/2 [==============================] - 20s 10s/step - loss: 147.3878 - val_loss: 183828627456.0000\n"
     ]
    },
    {
     "name": "stderr",
     "output_type": "stream",
     "text": [
      "  1%|▏         | 41/3200 [21:07<26:18:19, 29.98s/it]"
     ]
    },
    {
     "name": "stdout",
     "output_type": "stream",
     "text": [
      "2/2 [==============================] - ETA: 0s - loss: 116.1583\n",
      "Epoch 00001: val_loss did not improve from 3039499.25000\n",
      "2/2 [==============================] - 20s 10s/step - loss: 116.1583 - val_loss: 257971290112.0000\n"
     ]
    },
    {
     "name": "stderr",
     "output_type": "stream",
     "text": [
      "  1%|▏         | 42/3200 [21:37<26:14:54, 29.92s/it]"
     ]
    },
    {
     "name": "stdout",
     "output_type": "stream",
     "text": [
      "2/2 [==============================] - ETA: 0s - loss: 73.2680\n",
      "Epoch 00001: val_loss did not improve from 3039499.25000\n",
      "2/2 [==============================] - 21s 10s/step - loss: 73.2680 - val_loss: 88632623104.0000\n"
     ]
    },
    {
     "name": "stderr",
     "output_type": "stream",
     "text": [
      "  1%|▏         | 43/3200 [22:07<26:24:26, 30.11s/it]"
     ]
    },
    {
     "name": "stdout",
     "output_type": "stream",
     "text": [
      "2/2 [==============================] - ETA: 0s - loss: 24.3771\n",
      "Epoch 00001: val_loss did not improve from 3039499.25000\n",
      "2/2 [==============================] - 20s 10s/step - loss: 24.3771 - val_loss: 37625933824.0000\n"
     ]
    },
    {
     "name": "stderr",
     "output_type": "stream",
     "text": [
      "  1%|▏         | 44/3200 [22:37<26:19:07, 30.02s/it]"
     ]
    },
    {
     "name": "stdout",
     "output_type": "stream",
     "text": [
      "2/2 [==============================] - ETA: 0s - loss: 6.3463\n",
      "Epoch 00001: val_loss did not improve from 3039499.25000\n",
      "2/2 [==============================] - 20s 10s/step - loss: 6.3463 - val_loss: 17864843264.0000\n"
     ]
    },
    {
     "name": "stderr",
     "output_type": "stream",
     "text": [
      "  1%|▏         | 45/3200 [23:07<26:13:59, 29.93s/it]"
     ]
    },
    {
     "name": "stdout",
     "output_type": "stream",
     "text": [
      "2/2 [==============================] - ETA: 0s - loss: 2.5757\n",
      "Epoch 00001: val_loss did not improve from 3039499.25000\n",
      "2/2 [==============================] - 20s 10s/step - loss: 2.5757 - val_loss: 9563501568.0000\n"
     ]
    },
    {
     "name": "stderr",
     "output_type": "stream",
     "text": [
      "  1%|▏         | 46/3200 [23:36<26:08:47, 29.84s/it]"
     ]
    },
    {
     "name": "stdout",
     "output_type": "stream",
     "text": [
      "2/2 [==============================] - ETA: 0s - loss: 3.2271\n",
      "Epoch 00001: val_loss did not improve from 3039499.25000\n",
      "2/2 [==============================] - 20s 10s/step - loss: 3.2271 - val_loss: 4714216448.0000\n"
     ]
    },
    {
     "name": "stderr",
     "output_type": "stream",
     "text": [
      "  1%|▏         | 47/3200 [24:07<26:17:42, 30.02s/it]"
     ]
    },
    {
     "name": "stdout",
     "output_type": "stream",
     "text": [
      "2/2 [==============================] - ETA: 0s - loss: 6.7459 \n",
      "Epoch 00001: val_loss did not improve from 3039499.25000\n",
      "2/2 [==============================] - 20s 10s/step - loss: 6.7459 - val_loss: 5932603904.0000\n"
     ]
    },
    {
     "name": "stderr",
     "output_type": "stream",
     "text": [
      "  2%|▏         | 48/3200 [24:36<26:11:44, 29.92s/it]"
     ]
    },
    {
     "name": "stdout",
     "output_type": "stream",
     "text": [
      "2/2 [==============================] - ETA: 0s - loss: 6.7825\n",
      "Epoch 00001: val_loss did not improve from 3039499.25000\n",
      "2/2 [==============================] - 20s 10s/step - loss: 6.7825 - val_loss: 7203172352.0000\n"
     ]
    },
    {
     "name": "stderr",
     "output_type": "stream",
     "text": [
      "  2%|▏         | 49/3200 [25:06<26:07:06, 29.84s/it]"
     ]
    },
    {
     "name": "stdout",
     "output_type": "stream",
     "text": [
      "2/2 [==============================] - ETA: 0s - loss: 1.4773\n",
      "Epoch 00001: val_loss did not improve from 3039499.25000\n",
      "2/2 [==============================] - 21s 10s/step - loss: 1.4773 - val_loss: 8517580800.0000\n"
     ]
    },
    {
     "name": "stderr",
     "output_type": "stream",
     "text": [
      "  2%|▏         | 50/3200 [25:37<26:19:29, 30.09s/it]"
     ]
    },
    {
     "name": "stdout",
     "output_type": "stream",
     "text": [
      "2/2 [==============================] - ETA: 0s - loss: 1.2052\n",
      "Epoch 00001: val_loss did not improve from 3039499.25000\n",
      "2/2 [==============================] - 20s 10s/step - loss: 1.2052 - val_loss: 7574795264.0000\n"
     ]
    },
    {
     "name": "stderr",
     "output_type": "stream",
     "text": [
      "  2%|▏         | 51/3200 [26:07<26:14:50, 30.01s/it]"
     ]
    },
    {
     "name": "stdout",
     "output_type": "stream",
     "text": [
      "2/2 [==============================] - ETA: 0s - loss: 13.2439\n",
      "Epoch 00001: val_loss did not improve from 3039499.25000\n",
      "2/2 [==============================] - 20s 10s/step - loss: 13.2439 - val_loss: 5041058816.0000\n"
     ]
    },
    {
     "name": "stderr",
     "output_type": "stream",
     "text": [
      "  2%|▏         | 52/3200 [26:36<26:12:04, 29.96s/it]"
     ]
    },
    {
     "name": "stdout",
     "output_type": "stream",
     "text": [
      "2/2 [==============================] - ETA: 0s - loss: 24.3258\n",
      "Epoch 00001: val_loss did not improve from 3039499.25000\n",
      "2/2 [==============================] - 20s 10s/step - loss: 24.3258 - val_loss: 4119865344.0000\n"
     ]
    },
    {
     "name": "stderr",
     "output_type": "stream",
     "text": [
      "  2%|▏         | 53/3200 [27:06<26:11:48, 29.97s/it]"
     ]
    },
    {
     "name": "stdout",
     "output_type": "stream",
     "text": [
      "2/2 [==============================] - ETA: 0s - loss: 13.4869\n",
      "Epoch 00001: val_loss did not improve from 3039499.25000\n",
      "2/2 [==============================] - 20s 10s/step - loss: 13.4869 - val_loss: 1615290496.0000\n"
     ]
    },
    {
     "name": "stderr",
     "output_type": "stream",
     "text": [
      "  2%|▏         | 54/3200 [27:37<26:22:25, 30.18s/it]"
     ]
    },
    {
     "name": "stdout",
     "output_type": "stream",
     "text": [
      "2/2 [==============================] - ETA: 0s - loss: 29.8963\n",
      "Epoch 00001: val_loss did not improve from 3039499.25000\n",
      "2/2 [==============================] - 20s 10s/step - loss: 29.8963 - val_loss: 1072658496.0000\n"
     ]
    },
    {
     "name": "stderr",
     "output_type": "stream",
     "text": [
      "  2%|▏         | 55/3200 [28:07<26:17:22, 30.09s/it]"
     ]
    },
    {
     "name": "stdout",
     "output_type": "stream",
     "text": [
      "2/2 [==============================] - ETA: 0s - loss: 19.6433\n",
      "Epoch 00001: val_loss did not improve from 3039499.25000\n",
      "2/2 [==============================] - 20s 10s/step - loss: 19.6433 - val_loss: 668214464.0000\n"
     ]
    },
    {
     "name": "stderr",
     "output_type": "stream",
     "text": [
      "  2%|▏         | 56/3200 [28:37<26:15:49, 30.07s/it]"
     ]
    },
    {
     "name": "stdout",
     "output_type": "stream",
     "text": [
      "2/2 [==============================] - ETA: 0s - loss: 22.8991\n",
      "Epoch 00001: val_loss did not improve from 3039499.25000\n",
      "2/2 [==============================] - 20s 10s/step - loss: 22.8991 - val_loss: 328725888.0000\n"
     ]
    },
    {
     "name": "stderr",
     "output_type": "stream",
     "text": [
      "  2%|▏         | 57/3200 [29:08<26:23:58, 30.24s/it]"
     ]
    },
    {
     "name": "stdout",
     "output_type": "stream",
     "text": [
      "2/2 [==============================] - ETA: 0s - loss: 40.0813\n",
      "Epoch 00001: val_loss did not improve from 3039499.25000\n",
      "2/2 [==============================] - 20s 10s/step - loss: 40.0813 - val_loss: 180879120.0000\n"
     ]
    },
    {
     "name": "stderr",
     "output_type": "stream",
     "text": [
      "  2%|▏         | 58/3200 [29:38<26:19:24, 30.16s/it]"
     ]
    },
    {
     "name": "stdout",
     "output_type": "stream",
     "text": [
      "2/2 [==============================] - ETA: 0s - loss: 39.3135\n",
      "Epoch 00001: val_loss did not improve from 3039499.25000\n",
      "2/2 [==============================] - 20s 10s/step - loss: 39.3135 - val_loss: 136048432.0000\n"
     ]
    },
    {
     "name": "stderr",
     "output_type": "stream",
     "text": [
      "  2%|▏         | 59/3200 [30:08<26:18:18, 30.15s/it]"
     ]
    },
    {
     "name": "stdout",
     "output_type": "stream",
     "text": [
      "2/2 [==============================] - ETA: 0s - loss: 63.7939\n",
      "Epoch 00001: val_loss did not improve from 3039499.25000\n",
      "2/2 [==============================] - 20s 10s/step - loss: 63.7939 - val_loss: 24146432.0000\n"
     ]
    },
    {
     "name": "stderr",
     "output_type": "stream",
     "text": [
      "  2%|▏         | 60/3200 [30:38<26:25:23, 30.29s/it]"
     ]
    },
    {
     "name": "stdout",
     "output_type": "stream",
     "text": [
      "2/2 [==============================] - ETA: 0s - loss: 60.9162\n",
      "Epoch 00001: val_loss did not improve from 3039499.25000\n",
      "2/2 [==============================] - 20s 10s/step - loss: 60.9162 - val_loss: 11068338.0000\n"
     ]
    },
    {
     "name": "stderr",
     "output_type": "stream",
     "text": [
      "  2%|▏         | 61/3200 [31:09<26:31:26, 30.42s/it]"
     ]
    },
    {
     "name": "stdout",
     "output_type": "stream",
     "text": [
      "2/2 [==============================] - ETA: 0s - loss: 33.6775\n",
      "Epoch 00001: val_loss did not improve from 3039499.25000\n",
      "2/2 [==============================] - 20s 10s/step - loss: 33.6775 - val_loss: 6429008.5000\n"
     ]
    },
    {
     "name": "stderr",
     "output_type": "stream",
     "text": [
      "  2%|▏         | 62/3200 [31:39<26:24:04, 30.29s/it]"
     ]
    },
    {
     "name": "stdout",
     "output_type": "stream",
     "text": [
      "2/2 [==============================] - ETA: 0s - loss: 3.6920\n",
      "Epoch 00001: val_loss improved from 3039499.25000 to 3033781.50000, saving model to ./model.h5\n",
      "2/2 [==============================] - 20s 10s/step - loss: 3.6920 - val_loss: 3033781.5000\n"
     ]
    },
    {
     "name": "stderr",
     "output_type": "stream",
     "text": [
      "  2%|▏         | 63/3200 [32:09<26:24:04, 30.30s/it]"
     ]
    },
    {
     "name": "stdout",
     "output_type": "stream",
     "text": [
      "2/2 [==============================] - ETA: 0s - loss: 3.2763\n",
      "Epoch 00001: val_loss improved from 3033781.50000 to 1209824.62500, saving model to ./model.h5\n",
      "2/2 [==============================] - 21s 10s/step - loss: 3.2763 - val_loss: 1209824.6250\n"
     ]
    },
    {
     "name": "stderr",
     "output_type": "stream",
     "text": [
      "  2%|▏         | 64/3200 [32:41<26:40:42, 30.63s/it]"
     ]
    },
    {
     "name": "stdout",
     "output_type": "stream",
     "text": [
      "2/2 [==============================] - ETA: 0s - loss: 2.9134\n",
      "Epoch 00001: val_loss improved from 1209824.62500 to 381532.68750, saving model to ./model.h5\n",
      "2/2 [==============================] - 20s 10s/step - loss: 2.9134 - val_loss: 381532.6875\n"
     ]
    },
    {
     "name": "stderr",
     "output_type": "stream",
     "text": [
      "  2%|▏         | 65/3200 [33:11<26:34:03, 30.51s/it]"
     ]
    },
    {
     "name": "stdout",
     "output_type": "stream",
     "text": [
      "2/2 [==============================] - ETA: 0s - loss: 142.5047\n",
      "Epoch 00001: val_loss improved from 381532.68750 to 102547.88281, saving model to ./model.h5\n",
      "2/2 [==============================] - 20s 10s/step - loss: 142.5047 - val_loss: 102547.8828\n"
     ]
    },
    {
     "name": "stderr",
     "output_type": "stream",
     "text": [
      "  2%|▏         | 66/3200 [33:41<26:31:22, 30.47s/it]"
     ]
    },
    {
     "name": "stdout",
     "output_type": "stream",
     "text": [
      "2/2 [==============================] - ETA: 0s - loss: 11.0026\n",
      "Epoch 00001: val_loss improved from 102547.88281 to 48549.53906, saving model to ./model.h5\n",
      "2/2 [==============================] - 21s 10s/step - loss: 11.0026 - val_loss: 48549.5391\n"
     ]
    },
    {
     "name": "stderr",
     "output_type": "stream",
     "text": [
      "  2%|▏         | 67/3200 [34:12<26:39:09, 30.63s/it]"
     ]
    },
    {
     "name": "stdout",
     "output_type": "stream",
     "text": [
      "2/2 [==============================] - ETA: 0s - loss: 53.0203\n",
      "Epoch 00001: val_loss did not improve from 48549.53906\n",
      "2/2 [==============================] - 20s 10s/step - loss: 53.0203 - val_loss: 76995.3516\n"
     ]
    },
    {
     "name": "stderr",
     "output_type": "stream",
     "text": [
      "  2%|▏         | 68/3200 [34:42<26:25:29, 30.37s/it]"
     ]
    },
    {
     "name": "stdout",
     "output_type": "stream",
     "text": [
      "2/2 [==============================] - ETA: 0s - loss: 14.0003\n",
      "Epoch 00001: val_loss did not improve from 48549.53906\n",
      "2/2 [==============================] - 20s 10s/step - loss: 14.0003 - val_loss: 105548.2500\n"
     ]
    },
    {
     "name": "stderr",
     "output_type": "stream",
     "text": [
      "  2%|▏         | 69/3200 [35:12<26:18:14, 30.24s/it]"
     ]
    },
    {
     "name": "stdout",
     "output_type": "stream",
     "text": [
      "2/2 [==============================] - ETA: 0s - loss: 47.4588\n",
      "Epoch 00001: val_loss did not improve from 48549.53906\n",
      "2/2 [==============================] - 20s 10s/step - loss: 47.4588 - val_loss: 86182.6172\n"
     ]
    },
    {
     "name": "stderr",
     "output_type": "stream",
     "text": [
      "  2%|▏         | 70/3200 [35:42<26:12:16, 30.14s/it]"
     ]
    },
    {
     "name": "stdout",
     "output_type": "stream",
     "text": [
      "2/2 [==============================] - ETA: 0s - loss: 158.3741\n",
      "Epoch 00001: val_loss did not improve from 48549.53906\n",
      "2/2 [==============================] - 20s 10s/step - loss: 158.3741 - val_loss: 268019.7812\n"
     ]
    },
    {
     "name": "stderr",
     "output_type": "stream",
     "text": [
      "  2%|▏         | 71/3200 [36:12<26:15:20, 30.21s/it]"
     ]
    },
    {
     "name": "stdout",
     "output_type": "stream",
     "text": [
      "2/2 [==============================] - ETA: 0s - loss: 33.2860\n",
      "Epoch 00001: val_loss did not improve from 48549.53906\n",
      "2/2 [==============================] - 20s 10s/step - loss: 33.2860 - val_loss: 632108.7500\n"
     ]
    },
    {
     "name": "stderr",
     "output_type": "stream",
     "text": [
      "  2%|▏         | 72/3200 [36:42<26:06:47, 30.05s/it]"
     ]
    },
    {
     "name": "stdout",
     "output_type": "stream",
     "text": [
      "2/2 [==============================] - ETA: 0s - loss: 31.7672\n",
      "Epoch 00001: val_loss did not improve from 48549.53906\n",
      "2/2 [==============================] - 20s 10s/step - loss: 31.7672 - val_loss: 84429.7812\n"
     ]
    },
    {
     "name": "stderr",
     "output_type": "stream",
     "text": [
      "  2%|▏         | 73/3200 [37:11<25:55:24, 29.84s/it]"
     ]
    },
    {
     "name": "stdout",
     "output_type": "stream",
     "text": [
      "2/2 [==============================] - ETA: 0s - loss: 9.6648 \n",
      "Epoch 00001: val_loss improved from 48549.53906 to 1162.29480, saving model to ./model.h5\n",
      "2/2 [==============================] - 21s 10s/step - loss: 9.6648 - val_loss: 1162.2948\n"
     ]
    },
    {
     "name": "stderr",
     "output_type": "stream",
     "text": [
      "  2%|▏         | 74/3200 [37:42<26:09:59, 30.13s/it]"
     ]
    },
    {
     "name": "stdout",
     "output_type": "stream",
     "text": [
      "2/2 [==============================] - ETA: 0s - loss: 7.3148\n",
      "Epoch 00001: val_loss improved from 1162.29480 to 2.28566, saving model to ./model.h5\n",
      "2/2 [==============================] - 20s 10s/step - loss: 7.3148 - val_loss: 2.2857\n"
     ]
    },
    {
     "name": "stderr",
     "output_type": "stream",
     "text": [
      "  2%|▏         | 75/3200 [38:12<26:05:54, 30.07s/it]"
     ]
    },
    {
     "name": "stdout",
     "output_type": "stream",
     "text": [
      "2/2 [==============================] - ETA: 0s - loss: 7.0455\n",
      "Epoch 00001: val_loss improved from 2.28566 to 1.99660, saving model to ./model.h5\n",
      "2/2 [==============================] - 20s 10s/step - loss: 7.0455 - val_loss: 1.9966\n"
     ]
    },
    {
     "name": "stderr",
     "output_type": "stream",
     "text": [
      "  2%|▏         | 76/3200 [38:42<26:05:03, 30.06s/it]"
     ]
    },
    {
     "name": "stdout",
     "output_type": "stream",
     "text": [
      "2/2 [==============================] - ETA: 0s - loss: 8.0630\n",
      "Epoch 00001: val_loss improved from 1.99660 to 1.99117, saving model to ./model.h5\n",
      "2/2 [==============================] - 21s 10s/step - loss: 8.0630 - val_loss: 1.9912\n"
     ]
    },
    {
     "name": "stderr",
     "output_type": "stream",
     "text": [
      "  2%|▏         | 77/3200 [39:13<26:11:34, 30.19s/it]"
     ]
    },
    {
     "name": "stdout",
     "output_type": "stream",
     "text": [
      "2/2 [==============================] - ETA: 0s - loss: 8.9146 \n",
      "Epoch 00001: val_loss did not improve from 1.99117\n",
      "2/2 [==============================] - 20s 10s/step - loss: 8.9146 - val_loss: 1.9963\n"
     ]
    },
    {
     "name": "stderr",
     "output_type": "stream",
     "text": [
      "  2%|▏         | 78/3200 [39:42<26:02:05, 30.02s/it]"
     ]
    },
    {
     "name": "stdout",
     "output_type": "stream",
     "text": [
      "2/2 [==============================] - ETA: 0s - loss: 8.5878\n",
      "Epoch 00001: val_loss did not improve from 1.99117\n",
      "2/2 [==============================] - 20s 10s/step - loss: 8.5878 - val_loss: 1.9945\n"
     ]
    },
    {
     "name": "stderr",
     "output_type": "stream",
     "text": [
      "  2%|▏         | 79/3200 [40:12<25:53:35, 29.87s/it]"
     ]
    },
    {
     "name": "stdout",
     "output_type": "stream",
     "text": [
      "2/2 [==============================] - ETA: 0s - loss: 12.3672\n",
      "Epoch 00001: val_loss did not improve from 1.99117\n",
      "2/2 [==============================] - 20s 10s/step - loss: 12.3672 - val_loss: 1.9979\n"
     ]
    },
    {
     "name": "stderr",
     "output_type": "stream",
     "text": [
      "  2%|▎         | 80/3200 [40:41<25:50:58, 29.83s/it]"
     ]
    },
    {
     "name": "stdout",
     "output_type": "stream",
     "text": [
      "2/2 [==============================] - ETA: 0s - loss: 20.9843\n",
      "Epoch 00001: val_loss did not improve from 1.99117\n",
      "2/2 [==============================] - 20s 10s/step - loss: 20.9843 - val_loss: 2.0388\n"
     ]
    },
    {
     "name": "stderr",
     "output_type": "stream",
     "text": [
      "  3%|▎         | 81/3200 [41:12<26:00:22, 30.02s/it]"
     ]
    },
    {
     "name": "stdout",
     "output_type": "stream",
     "text": [
      "2/2 [==============================] - ETA: 0s - loss: 47.0170\n",
      "Epoch 00001: val_loss did not improve from 1.99117\n",
      "2/2 [==============================] - 20s 10s/step - loss: 47.0170 - val_loss: 2.4776\n"
     ]
    },
    {
     "name": "stderr",
     "output_type": "stream",
     "text": [
      "  3%|▎         | 82/3200 [41:42<25:53:13, 29.89s/it]"
     ]
    },
    {
     "name": "stdout",
     "output_type": "stream",
     "text": [
      "2/2 [==============================] - ETA: 0s - loss: 77.8009 \n",
      "Epoch 00001: val_loss did not improve from 1.99117\n",
      "2/2 [==============================] - 20s 10s/step - loss: 77.8009 - val_loss: 391.8153\n"
     ]
    },
    {
     "name": "stderr",
     "output_type": "stream",
     "text": [
      "  3%|▎         | 83/3200 [42:11<25:48:27, 29.81s/it]"
     ]
    },
    {
     "name": "stdout",
     "output_type": "stream",
     "text": [
      "2/2 [==============================] - ETA: 0s - loss: 54.3768\n",
      "Epoch 00001: val_loss did not improve from 1.99117\n",
      "2/2 [==============================] - 21s 10s/step - loss: 54.3768 - val_loss: 10081.7891\n"
     ]
    },
    {
     "name": "stderr",
     "output_type": "stream",
     "text": [
      "  3%|▎         | 84/3200 [42:42<25:59:25, 30.03s/it]"
     ]
    },
    {
     "name": "stdout",
     "output_type": "stream",
     "text": [
      "2/2 [==============================] - ETA: 0s - loss: 105.6456\n",
      "Epoch 00001: val_loss did not improve from 1.99117\n",
      "2/2 [==============================] - 20s 10s/step - loss: 105.6456 - val_loss: 3741.0940\n"
     ]
    },
    {
     "name": "stderr",
     "output_type": "stream",
     "text": [
      "  3%|▎         | 85/3200 [43:11<25:51:15, 29.88s/it]"
     ]
    },
    {
     "name": "stdout",
     "output_type": "stream",
     "text": [
      "2/2 [==============================] - ETA: 0s - loss: 44.7445\n",
      "Epoch 00001: val_loss did not improve from 1.99117\n",
      "2/2 [==============================] - 20s 10s/step - loss: 44.7445 - val_loss: 3776.6218\n"
     ]
    },
    {
     "name": "stderr",
     "output_type": "stream",
     "text": [
      "  3%|▎         | 86/3200 [43:41<25:44:55, 29.77s/it]"
     ]
    },
    {
     "name": "stdout",
     "output_type": "stream",
     "text": [
      "2/2 [==============================] - ETA: 0s - loss: 5.2942\n",
      "Epoch 00001: val_loss did not improve from 1.99117\n",
      "2/2 [==============================] - 20s 10s/step - loss: 5.2942 - val_loss: 4574.4141\n"
     ]
    },
    {
     "name": "stderr",
     "output_type": "stream",
     "text": [
      "  3%|▎         | 87/3200 [44:10<25:42:00, 29.72s/it]"
     ]
    },
    {
     "name": "stdout",
     "output_type": "stream",
     "text": [
      "2/2 [==============================] - ETA: 0s - loss: 4.2173\n",
      "Epoch 00001: val_loss did not improve from 1.99117\n",
      "2/2 [==============================] - 20s 10s/step - loss: 4.2173 - val_loss: 5348.2275\n"
     ]
    },
    {
     "name": "stderr",
     "output_type": "stream",
     "text": [
      "  3%|▎         | 88/3200 [44:41<25:52:38, 29.94s/it]"
     ]
    },
    {
     "name": "stdout",
     "output_type": "stream",
     "text": [
      "2/2 [==============================] - ETA: 0s - loss: 2.5750\n",
      "Epoch 00001: val_loss did not improve from 1.99117\n",
      "2/2 [==============================] - 20s 10s/step - loss: 2.5750 - val_loss: 6166.9927\n"
     ]
    },
    {
     "name": "stderr",
     "output_type": "stream",
     "text": [
      "  3%|▎         | 89/3200 [45:11<25:50:46, 29.91s/it]"
     ]
    },
    {
     "name": "stdout",
     "output_type": "stream",
     "text": [
      "2/2 [==============================] - ETA: 0s - loss: 2.7686\n",
      "Epoch 00001: val_loss did not improve from 1.99117\n",
      "2/2 [==============================] - 20s 10s/step - loss: 2.7686 - val_loss: 5012.8955\n"
     ]
    },
    {
     "name": "stderr",
     "output_type": "stream",
     "text": [
      "  3%|▎         | 90/3200 [45:40<25:48:08, 29.87s/it]"
     ]
    },
    {
     "name": "stdout",
     "output_type": "stream",
     "text": [
      "2/2 [==============================] - ETA: 0s - loss: 14.7735\n",
      "Epoch 00001: val_loss did not improve from 1.99117\n",
      "2/2 [==============================] - 20s 10s/step - loss: 14.7735 - val_loss: 3038.6941\n"
     ]
    },
    {
     "name": "stderr",
     "output_type": "stream",
     "text": [
      "  3%|▎         | 91/3200 [46:11<26:01:10, 30.13s/it]"
     ]
    },
    {
     "name": "stdout",
     "output_type": "stream",
     "text": [
      "2/2 [==============================] - ETA: 0s - loss: 74.6055\n",
      "Epoch 00001: val_loss did not improve from 1.99117\n",
      "2/2 [==============================] - 20s 10s/step - loss: 74.6055 - val_loss: 835.9484\n"
     ]
    },
    {
     "name": "stderr",
     "output_type": "stream",
     "text": [
      "  3%|▎         | 92/3200 [46:41<25:59:16, 30.10s/it]"
     ]
    },
    {
     "name": "stdout",
     "output_type": "stream",
     "text": [
      "2/2 [==============================] - ETA: 0s - loss: 139.5580\n",
      "Epoch 00001: val_loss did not improve from 1.99117\n",
      "2/2 [==============================] - 20s 10s/step - loss: 139.5580 - val_loss: 237.6299\n"
     ]
    },
    {
     "name": "stderr",
     "output_type": "stream",
     "text": [
      "  3%|▎         | 93/3200 [47:11<25:55:41, 30.04s/it]"
     ]
    },
    {
     "name": "stdout",
     "output_type": "stream",
     "text": [
      "2/2 [==============================] - ETA: 0s - loss: 144.1483\n",
      "Epoch 00001: val_loss did not improve from 1.99117\n",
      "2/2 [==============================] - 20s 10s/step - loss: 144.1483 - val_loss: 407.9113\n"
     ]
    },
    {
     "name": "stderr",
     "output_type": "stream",
     "text": [
      "  3%|▎         | 94/3200 [47:41<25:54:31, 30.03s/it]"
     ]
    },
    {
     "name": "stdout",
     "output_type": "stream",
     "text": [
      "2/2 [==============================] - ETA: 0s - loss: 64.5770\n",
      "Epoch 00001: val_loss improved from 1.99117 to 1.54602, saving model to ./model.h5\n",
      "2/2 [==============================] - 20s 10s/step - loss: 64.5770 - val_loss: 1.5460\n"
     ]
    },
    {
     "name": "stderr",
     "output_type": "stream",
     "text": [
      "  3%|▎         | 95/3200 [48:12<26:12:47, 30.39s/it]"
     ]
    },
    {
     "name": "stdout",
     "output_type": "stream",
     "text": [
      "2/2 [==============================] - ETA: 0s - loss: 51.8363\n",
      "Epoch 00001: val_loss did not improve from 1.54602\n",
      "2/2 [==============================] - 20s 10s/step - loss: 51.8363 - val_loss: 1.9599\n"
     ]
    },
    {
     "name": "stderr",
     "output_type": "stream",
     "text": [
      "  3%|▎         | 96/3200 [48:42<26:05:29, 30.26s/it]"
     ]
    },
    {
     "name": "stdout",
     "output_type": "stream",
     "text": [
      "2/2 [==============================] - ETA: 0s - loss: 38.8921\n",
      "Epoch 00001: val_loss did not improve from 1.54602\n",
      "2/2 [==============================] - 20s 10s/step - loss: 38.8921 - val_loss: 1.9594\n"
     ]
    },
    {
     "name": "stderr",
     "output_type": "stream",
     "text": [
      "  3%|▎         | 97/3200 [49:12<25:58:38, 30.14s/it]"
     ]
    },
    {
     "name": "stdout",
     "output_type": "stream",
     "text": [
      "2/2 [==============================] - ETA: 0s - loss: 16.9779\n",
      "Epoch 00001: val_loss did not improve from 1.54602\n",
      "2/2 [==============================] - 20s 10s/step - loss: 16.9779 - val_loss: 1.9617\n"
     ]
    },
    {
     "name": "stderr",
     "output_type": "stream",
     "text": [
      "  3%|▎         | 98/3200 [49:43<26:03:09, 30.24s/it]"
     ]
    },
    {
     "name": "stdout",
     "output_type": "stream",
     "text": [
      "2/2 [==============================] - ETA: 0s - loss: 9.5868 \n",
      "Epoch 00001: val_loss did not improve from 1.54602\n",
      "2/2 [==============================] - 20s 10s/step - loss: 9.5868 - val_loss: 1.9643\n"
     ]
    },
    {
     "name": "stderr",
     "output_type": "stream",
     "text": [
      "  3%|▎         | 99/3200 [50:12<25:57:32, 30.14s/it]"
     ]
    },
    {
     "name": "stdout",
     "output_type": "stream",
     "text": [
      "2/2 [==============================] - ETA: 0s - loss: 6.0233\n",
      "Epoch 00001: val_loss did not improve from 1.54602\n",
      "2/2 [==============================] - 20s 10s/step - loss: 6.0233 - val_loss: 1.9666\n"
     ]
    },
    {
     "name": "stderr",
     "output_type": "stream",
     "text": [
      "  3%|▎         | 100/3200 [50:43<25:55:37, 30.11s/it]"
     ]
    },
    {
     "name": "stdout",
     "output_type": "stream",
     "text": [
      "2/2 [==============================] - ETA: 0s - loss: 5.4791\n",
      "Epoch 00001: val_loss did not improve from 1.54602\n",
      "2/2 [==============================] - 20s 10s/step - loss: 5.4791 - val_loss: 2.9515\n"
     ]
    },
    {
     "name": "stderr",
     "output_type": "stream",
     "text": [
      "  3%|▎         | 101/3200 [51:13<25:55:43, 30.12s/it]"
     ]
    },
    {
     "name": "stdout",
     "output_type": "stream",
     "text": [
      "2/2 [==============================] - ETA: 0s - loss: 1.6372\n",
      "Epoch 00001: val_loss did not improve from 1.54602\n",
      "2/2 [==============================] - 20s 10s/step - loss: 1.6372 - val_loss: 11.8186\n"
     ]
    },
    {
     "name": "stderr",
     "output_type": "stream",
     "text": [
      "  3%|▎         | 102/3200 [51:43<26:03:06, 30.27s/it]"
     ]
    },
    {
     "name": "stdout",
     "output_type": "stream",
     "text": [
      "2/2 [==============================] - ETA: 0s - loss: 16.2346\n",
      "Epoch 00001: val_loss did not improve from 1.54602\n",
      "2/2 [==============================] - 20s 10s/step - loss: 16.2346 - val_loss: 16.6424\n"
     ]
    },
    {
     "name": "stderr",
     "output_type": "stream",
     "text": [
      "  3%|▎         | 103/3200 [52:13<25:58:57, 30.20s/it]"
     ]
    },
    {
     "name": "stdout",
     "output_type": "stream",
     "text": [
      "2/2 [==============================] - ETA: 0s - loss: 50.7222\n",
      "Epoch 00001: val_loss did not improve from 1.54602\n",
      "2/2 [==============================] - 20s 10s/step - loss: 50.7222 - val_loss: 33.8348\n"
     ]
    },
    {
     "name": "stderr",
     "output_type": "stream",
     "text": [
      "  3%|▎         | 104/3200 [52:43<25:56:15, 30.16s/it]"
     ]
    },
    {
     "name": "stdout",
     "output_type": "stream",
     "text": [
      "2/2 [==============================] - ETA: 0s - loss: 2.8621\n",
      "Epoch 00001: val_loss did not improve from 1.54602\n",
      "2/2 [==============================] - 20s 10s/step - loss: 2.8621 - val_loss: 154.4101\n"
     ]
    },
    {
     "name": "stderr",
     "output_type": "stream",
     "text": [
      "  3%|▎         | 105/3200 [53:14<26:05:19, 30.35s/it]"
     ]
    },
    {
     "name": "stdout",
     "output_type": "stream",
     "text": [
      "2/2 [==============================] - ETA: 0s - loss: 2.8944\n",
      "Epoch 00001: val_loss did not improve from 1.54602\n",
      "2/2 [==============================] - 20s 10s/step - loss: 2.8944 - val_loss: 410.2295\n"
     ]
    },
    {
     "name": "stderr",
     "output_type": "stream",
     "text": [
      "  3%|▎         | 106/3200 [53:44<26:01:19, 30.28s/it]"
     ]
    },
    {
     "name": "stdout",
     "output_type": "stream",
     "text": [
      "2/2 [==============================] - ETA: 0s - loss: 14.1889\n",
      "Epoch 00001: val_loss did not improve from 1.54602\n",
      "2/2 [==============================] - 20s 10s/step - loss: 14.1889 - val_loss: 815.5213\n"
     ]
    },
    {
     "name": "stderr",
     "output_type": "stream",
     "text": [
      "  3%|▎         | 107/3200 [54:15<25:59:38, 30.26s/it]"
     ]
    },
    {
     "name": "stdout",
     "output_type": "stream",
     "text": [
      "2/2 [==============================] - ETA: 0s - loss: 2.1676\n",
      "Epoch 00001: val_loss did not improve from 1.54602\n",
      "2/2 [==============================] - 20s 10s/step - loss: 2.1676 - val_loss: 747.0478\n"
     ]
    },
    {
     "name": "stderr",
     "output_type": "stream",
     "text": [
      "  3%|▎         | 108/3200 [54:45<26:09:50, 30.46s/it]"
     ]
    },
    {
     "name": "stdout",
     "output_type": "stream",
     "text": [
      "2/2 [==============================] - ETA: 0s - loss: 1.2498\n",
      "Epoch 00001: val_loss did not improve from 1.54602\n",
      "2/2 [==============================] - 20s 10s/step - loss: 1.2498 - val_loss: 551.4391\n"
     ]
    },
    {
     "name": "stderr",
     "output_type": "stream",
     "text": [
      "  3%|▎         | 109/3200 [55:16<26:03:27, 30.35s/it]"
     ]
    },
    {
     "name": "stdout",
     "output_type": "stream",
     "text": [
      "2/2 [==============================] - ETA: 0s - loss: 40.3238\n",
      "Epoch 00001: val_loss did not improve from 1.54602\n",
      "2/2 [==============================] - 20s 10s/step - loss: 40.3238 - val_loss: 454.4873\n"
     ]
    },
    {
     "name": "stderr",
     "output_type": "stream",
     "text": [
      "  3%|▎         | 110/3200 [55:46<25:57:55, 30.25s/it]"
     ]
    },
    {
     "name": "stdout",
     "output_type": "stream",
     "text": [
      "2/2 [==============================] - ETA: 0s - loss: 25.4956\n",
      "Epoch 00001: val_loss did not improve from 1.54602\n",
      "2/2 [==============================] - 20s 10s/step - loss: 25.4956 - val_loss: 464.4048\n"
     ]
    },
    {
     "name": "stderr",
     "output_type": "stream",
     "text": [
      "  3%|▎         | 111/3200 [56:16<25:54:30, 30.19s/it]"
     ]
    },
    {
     "name": "stdout",
     "output_type": "stream",
     "text": [
      "2/2 [==============================] - ETA: 0s - loss: 10.2657\n",
      "Epoch 00001: val_loss did not improve from 1.54602\n",
      "2/2 [==============================] - 20s 10s/step - loss: 10.2657 - val_loss: 578.5783\n"
     ]
    },
    {
     "name": "stderr",
     "output_type": "stream",
     "text": [
      "  4%|▎         | 112/3200 [56:46<26:04:07, 30.39s/it]"
     ]
    },
    {
     "name": "stdout",
     "output_type": "stream",
     "text": [
      "2/2 [==============================] - ETA: 0s - loss: 3.8068\n",
      "Epoch 00001: val_loss did not improve from 1.54602\n",
      "2/2 [==============================] - 20s 10s/step - loss: 3.8068 - val_loss: 577.1810\n"
     ]
    },
    {
     "name": "stderr",
     "output_type": "stream",
     "text": [
      "  4%|▎         | 113/3200 [57:16<25:56:26, 30.25s/it]"
     ]
    },
    {
     "name": "stdout",
     "output_type": "stream",
     "text": [
      "2/2 [==============================] - ETA: 0s - loss: 2.1882\n",
      "Epoch 00001: val_loss did not improve from 1.54602\n",
      "2/2 [==============================] - 20s 10s/step - loss: 2.1882 - val_loss: 369.1059\n"
     ]
    },
    {
     "name": "stderr",
     "output_type": "stream",
     "text": [
      "  4%|▎         | 114/3200 [57:46<25:52:42, 30.19s/it]"
     ]
    },
    {
     "name": "stdout",
     "output_type": "stream",
     "text": [
      "2/2 [==============================] - ETA: 0s - loss: 1.8689\n",
      "Epoch 00001: val_loss did not improve from 1.54602\n",
      "2/2 [==============================] - 20s 10s/step - loss: 1.8689 - val_loss: 43.1189\n"
     ]
    },
    {
     "name": "stderr",
     "output_type": "stream",
     "text": [
      "  4%|▎         | 115/3200 [58:17<26:00:44, 30.35s/it]"
     ]
    },
    {
     "name": "stdout",
     "output_type": "stream",
     "text": [
      "2/2 [==============================] - ETA: 0s - loss: 2.2511\n",
      "Epoch 00001: val_loss did not improve from 1.54602\n",
      "2/2 [==============================] - 20s 10s/step - loss: 2.2511 - val_loss: 3.1861\n"
     ]
    },
    {
     "name": "stderr",
     "output_type": "stream",
     "text": [
      "  4%|▎         | 116/3200 [58:47<25:58:12, 30.32s/it]"
     ]
    },
    {
     "name": "stdout",
     "output_type": "stream",
     "text": [
      "2/2 [==============================] - ETA: 0s - loss: 1.9997\n",
      "Epoch 00001: val_loss did not improve from 1.54602\n",
      "2/2 [==============================] - 20s 10s/step - loss: 1.9997 - val_loss: 2.0384\n"
     ]
    },
    {
     "name": "stderr",
     "output_type": "stream",
     "text": [
      "  4%|▎         | 117/3200 [59:18<25:55:34, 30.27s/it]"
     ]
    },
    {
     "name": "stdout",
     "output_type": "stream",
     "text": [
      "2/2 [==============================] - ETA: 0s - loss: 2.0670\n",
      "Epoch 00001: val_loss did not improve from 1.54602\n",
      "2/2 [==============================] - 20s 10s/step - loss: 2.0670 - val_loss: 1.9683\n"
     ]
    },
    {
     "name": "stderr",
     "output_type": "stream",
     "text": [
      "  4%|▎         | 118/3200 [59:48<26:01:17, 30.40s/it]"
     ]
    },
    {
     "name": "stdout",
     "output_type": "stream",
     "text": [
      "2/2 [==============================] - ETA: 0s - loss: 1.7878\n",
      "Epoch 00001: val_loss did not improve from 1.54602\n",
      "2/2 [==============================] - 20s 10s/step - loss: 1.7878 - val_loss: 1.9679\n"
     ]
    },
    {
     "name": "stderr",
     "output_type": "stream",
     "text": [
      "  4%|▎         | 119/3200 [1:00:19<26:07:18, 30.52s/it]"
     ]
    },
    {
     "name": "stdout",
     "output_type": "stream",
     "text": [
      "2/2 [==============================] - ETA: 0s - loss: 2.0485\n",
      "Epoch 00001: val_loss did not improve from 1.54602\n",
      "2/2 [==============================] - 20s 10s/step - loss: 2.0485 - val_loss: 1.9677\n"
     ]
    },
    {
     "name": "stderr",
     "output_type": "stream",
     "text": [
      "  4%|▍         | 120/3200 [1:00:49<26:02:38, 30.44s/it]"
     ]
    },
    {
     "name": "stdout",
     "output_type": "stream",
     "text": [
      "2/2 [==============================] - ETA: 0s - loss: 2.6036\n",
      "Epoch 00001: val_loss did not improve from 1.54602\n",
      "2/2 [==============================] - 20s 10s/step - loss: 2.6036 - val_loss: 1.9672\n"
     ]
    },
    {
     "name": "stderr",
     "output_type": "stream",
     "text": [
      "  4%|▍         | 121/3200 [1:01:20<25:59:25, 30.39s/it]"
     ]
    },
    {
     "name": "stdout",
     "output_type": "stream",
     "text": [
      "2/2 [==============================] - ETA: 0s - loss: 3.0748\n",
      "Epoch 00001: val_loss did not improve from 1.54602\n",
      "2/2 [==============================] - 20s 10s/step - loss: 3.0748 - val_loss: 1.9666\n"
     ]
    },
    {
     "name": "stderr",
     "output_type": "stream",
     "text": [
      "  4%|▍         | 122/3200 [1:01:51<26:08:21, 30.57s/it]"
     ]
    },
    {
     "name": "stdout",
     "output_type": "stream",
     "text": [
      "2/2 [==============================] - ETA: 0s - loss: 3.6169\n",
      "Epoch 00001: val_loss did not improve from 1.54602\n",
      "2/2 [==============================] - 20s 10s/step - loss: 3.6169 - val_loss: 1.9657\n"
     ]
    },
    {
     "name": "stderr",
     "output_type": "stream",
     "text": [
      "  4%|▍         | 123/3200 [1:02:21<26:03:00, 30.48s/it]"
     ]
    },
    {
     "name": "stdout",
     "output_type": "stream",
     "text": [
      "2/2 [==============================] - ETA: 0s - loss: 3.7112\n",
      "Epoch 00001: val_loss did not improve from 1.54602\n",
      "2/2 [==============================] - 20s 10s/step - loss: 3.7112 - val_loss: 1.9646\n"
     ]
    },
    {
     "name": "stderr",
     "output_type": "stream",
     "text": [
      "  4%|▍         | 124/3200 [1:02:51<25:59:47, 30.43s/it]"
     ]
    },
    {
     "name": "stdout",
     "output_type": "stream",
     "text": [
      "2/2 [==============================] - ETA: 0s - loss: 3.7642\n",
      "Epoch 00001: val_loss did not improve from 1.54602\n",
      "2/2 [==============================] - 20s 10s/step - loss: 3.7642 - val_loss: 1.9634\n"
     ]
    },
    {
     "name": "stderr",
     "output_type": "stream",
     "text": [
      "  4%|▍         | 125/3200 [1:03:22<26:10:41, 30.65s/it]"
     ]
    },
    {
     "name": "stdout",
     "output_type": "stream",
     "text": [
      "2/2 [==============================] - ETA: 0s - loss: 4.0971\n",
      "Epoch 00001: val_loss did not improve from 1.54602\n",
      "2/2 [==============================] - 20s 10s/step - loss: 4.0971 - val_loss: 1.9618\n"
     ]
    },
    {
     "name": "stderr",
     "output_type": "stream",
     "text": [
      "  4%|▍         | 126/3200 [1:03:53<26:06:57, 30.58s/it]"
     ]
    },
    {
     "name": "stdout",
     "output_type": "stream",
     "text": [
      "2/2 [==============================] - ETA: 0s - loss: 5.0258\n",
      "Epoch 00001: val_loss did not improve from 1.54602\n",
      "2/2 [==============================] - 20s 10s/step - loss: 5.0258 - val_loss: 1.9598\n"
     ]
    },
    {
     "name": "stderr",
     "output_type": "stream",
     "text": [
      "  4%|▍         | 127/3200 [1:04:23<26:03:49, 30.53s/it]"
     ]
    },
    {
     "name": "stdout",
     "output_type": "stream",
     "text": [
      "2/2 [==============================] - ETA: 0s - loss: 2.9720\n",
      "Epoch 00001: val_loss did not improve from 1.54602\n",
      "2/2 [==============================] - 20s 10s/step - loss: 2.9720 - val_loss: 1.9578\n"
     ]
    },
    {
     "name": "stderr",
     "output_type": "stream",
     "text": [
      "  4%|▍         | 128/3200 [1:04:54<26:03:38, 30.54s/it]"
     ]
    },
    {
     "name": "stdout",
     "output_type": "stream",
     "text": [
      "2/2 [==============================] - ETA: 0s - loss: 3.1592\n",
      "Epoch 00001: val_loss did not improve from 1.54602\n",
      "2/2 [==============================] - 20s 10s/step - loss: 3.1592 - val_loss: 1.9575\n"
     ]
    },
    {
     "name": "stderr",
     "output_type": "stream",
     "text": [
      "  4%|▍         | 129/3200 [1:05:25<26:10:25, 30.68s/it]"
     ]
    },
    {
     "name": "stdout",
     "output_type": "stream",
     "text": [
      "2/2 [==============================] - ETA: 0s - loss: 4.2469\n",
      "Epoch 00001: val_loss did not improve from 1.54602\n",
      "2/2 [==============================] - 20s 10s/step - loss: 4.2469 - val_loss: 1.9590\n"
     ]
    },
    {
     "name": "stderr",
     "output_type": "stream",
     "text": [
      "  4%|▍         | 130/3200 [1:05:55<26:04:33, 30.58s/it]"
     ]
    },
    {
     "name": "stdout",
     "output_type": "stream",
     "text": [
      "2/2 [==============================] - ETA: 0s - loss: 3.1450\n",
      "Epoch 00001: val_loss did not improve from 1.54602\n",
      "2/2 [==============================] - 20s 10s/step - loss: 3.1450 - val_loss: 1.9619\n"
     ]
    },
    {
     "name": "stderr",
     "output_type": "stream",
     "text": [
      "  4%|▍         | 131/3200 [1:06:26<26:02:04, 30.54s/it]"
     ]
    },
    {
     "name": "stdout",
     "output_type": "stream",
     "text": [
      "2/2 [==============================] - ETA: 0s - loss: 1.5002\n",
      "Epoch 00001: val_loss did not improve from 1.54602\n",
      "2/2 [==============================] - 20s 10s/step - loss: 1.5002 - val_loss: 1.9651\n"
     ]
    },
    {
     "name": "stderr",
     "output_type": "stream",
     "text": [
      "  4%|▍         | 132/3200 [1:06:57<26:13:23, 30.77s/it]"
     ]
    },
    {
     "name": "stdout",
     "output_type": "stream",
     "text": [
      "2/2 [==============================] - ETA: 0s - loss: 8.9036\n",
      "Epoch 00001: val_loss did not improve from 1.54602\n",
      "2/2 [==============================] - 19s 10s/step - loss: 8.9036 - val_loss: 1.9677\n"
     ]
    },
    {
     "name": "stderr",
     "output_type": "stream",
     "text": [
      "  4%|▍         | 133/3200 [1:07:27<26:08:35, 30.69s/it]"
     ]
    },
    {
     "name": "stdout",
     "output_type": "stream",
     "text": [
      "2/2 [==============================] - ETA: 0s - loss: 123.6388\n",
      "Epoch 00001: val_loss did not improve from 1.54602\n",
      "2/2 [==============================] - 20s 10s/step - loss: 123.6388 - val_loss: 1.9623\n"
     ]
    },
    {
     "name": "stderr",
     "output_type": "stream",
     "text": [
      "  4%|▍         | 134/3200 [1:07:58<26:07:47, 30.68s/it]"
     ]
    },
    {
     "name": "stdout",
     "output_type": "stream",
     "text": [
      "2/2 [==============================] - ETA: 0s - loss: 39.0371\n",
      "Epoch 00001: val_loss did not improve from 1.54602\n",
      "2/2 [==============================] - 20s 10s/step - loss: 39.0371 - val_loss: 1.9532\n"
     ]
    },
    {
     "name": "stderr",
     "output_type": "stream",
     "text": [
      "  4%|▍         | 135/3200 [1:08:29<26:17:01, 30.87s/it]"
     ]
    },
    {
     "name": "stdout",
     "output_type": "stream",
     "text": [
      "2/2 [==============================] - ETA: 0s - loss: 26.2648\n",
      "Epoch 00001: val_loss did not improve from 1.54602\n",
      "2/2 [==============================] - 20s 10s/step - loss: 26.2648 - val_loss: 1.9437\n"
     ]
    },
    {
     "name": "stderr",
     "output_type": "stream",
     "text": [
      "  4%|▍         | 136/3200 [1:09:00<26:12:29, 30.79s/it]"
     ]
    },
    {
     "name": "stdout",
     "output_type": "stream",
     "text": [
      "2/2 [==============================] - ETA: 0s - loss: 11.0114\n",
      "Epoch 00001: val_loss did not improve from 1.54602\n",
      "2/2 [==============================] - 20s 10s/step - loss: 11.0114 - val_loss: 1.9365\n"
     ]
    },
    {
     "name": "stderr",
     "output_type": "stream",
     "text": [
      "  4%|▍         | 137/3200 [1:09:30<26:07:42, 30.71s/it]"
     ]
    },
    {
     "name": "stdout",
     "output_type": "stream",
     "text": [
      "2/2 [==============================] - ETA: 0s - loss: 3.2694\n",
      "Epoch 00001: val_loss did not improve from 1.54602\n",
      "2/2 [==============================] - 20s 10s/step - loss: 3.2694 - val_loss: 1.9326\n"
     ]
    },
    {
     "name": "stderr",
     "output_type": "stream",
     "text": [
      "  4%|▍         | 138/3200 [1:10:01<26:06:50, 30.70s/it]"
     ]
    },
    {
     "name": "stdout",
     "output_type": "stream",
     "text": [
      "2/2 [==============================] - ETA: 0s - loss: 3.3453\n",
      "Epoch 00001: val_loss did not improve from 1.54602\n",
      "2/2 [==============================] - 20s 10s/step - loss: 3.3453 - val_loss: 1.9322\n"
     ]
    },
    {
     "name": "stderr",
     "output_type": "stream",
     "text": [
      "  4%|▍         | 139/3200 [1:10:32<26:08:27, 30.74s/it]"
     ]
    },
    {
     "name": "stdout",
     "output_type": "stream",
     "text": [
      "2/2 [==============================] - ETA: 0s - loss: 3.0629\n",
      "Epoch 00001: val_loss did not improve from 1.54602\n",
      "2/2 [==============================] - 20s 10s/step - loss: 3.0629 - val_loss: 1.9340\n"
     ]
    },
    {
     "name": "stderr",
     "output_type": "stream",
     "text": [
      "  4%|▍         | 140/3200 [1:11:03<26:05:45, 30.70s/it]"
     ]
    },
    {
     "name": "stdout",
     "output_type": "stream",
     "text": [
      "2/2 [==============================] - ETA: 0s - loss: 2.4479\n",
      "Epoch 00001: val_loss did not improve from 1.54602\n",
      "2/2 [==============================] - 20s 10s/step - loss: 2.4479 - val_loss: 1.9377\n"
     ]
    },
    {
     "name": "stderr",
     "output_type": "stream",
     "text": [
      "  4%|▍         | 141/3200 [1:11:33<25:58:08, 30.56s/it]"
     ]
    },
    {
     "name": "stdout",
     "output_type": "stream",
     "text": [
      "2/2 [==============================] - ETA: 0s - loss: 1.7191\n",
      "Epoch 00001: val_loss did not improve from 1.54602\n",
      "2/2 [==============================] - 20s 10s/step - loss: 1.7191 - val_loss: 1.9421\n"
     ]
    },
    {
     "name": "stderr",
     "output_type": "stream",
     "text": [
      "  4%|▍         | 142/3200 [1:12:04<26:02:26, 30.66s/it]"
     ]
    },
    {
     "name": "stdout",
     "output_type": "stream",
     "text": [
      "2/2 [==============================] - ETA: 0s - loss: 6.7233\n",
      "Epoch 00001: val_loss did not improve from 1.54602\n",
      "2/2 [==============================] - 21s 10s/step - loss: 6.7233 - val_loss: 1.9457\n"
     ]
    },
    {
     "name": "stderr",
     "output_type": "stream",
     "text": [
      "  4%|▍         | 143/3200 [1:12:35<26:17:36, 30.96s/it]"
     ]
    },
    {
     "name": "stdout",
     "output_type": "stream",
     "text": [
      "2/2 [==============================] - ETA: 0s - loss: 19.9564\n",
      "Epoch 00001: val_loss did not improve from 1.54602\n",
      "2/2 [==============================] - 20s 10s/step - loss: 19.9564 - val_loss: 1.9457\n"
     ]
    },
    {
     "name": "stderr",
     "output_type": "stream",
     "text": [
      "  4%|▍         | 144/3200 [1:13:06<26:07:45, 30.78s/it]"
     ]
    },
    {
     "name": "stdout",
     "output_type": "stream",
     "text": [
      "2/2 [==============================] - ETA: 0s - loss: 13.4235\n",
      "Epoch 00001: val_loss did not improve from 1.54602\n",
      "2/2 [==============================] - 20s 10s/step - loss: 13.4235 - val_loss: 1.9415\n"
     ]
    },
    {
     "name": "stderr",
     "output_type": "stream",
     "text": [
      "  5%|▍         | 145/3200 [1:13:37<26:11:24, 30.86s/it]"
     ]
    },
    {
     "name": "stdout",
     "output_type": "stream",
     "text": [
      "2/2 [==============================] - ETA: 0s - loss: 13.4871\n",
      "Epoch 00001: val_loss did not improve from 1.54602\n",
      "2/2 [==============================] - 20s 10s/step - loss: 13.4871 - val_loss: 1.9339\n"
     ]
    },
    {
     "name": "stderr",
     "output_type": "stream",
     "text": [
      "  5%|▍         | 146/3200 [1:14:07<26:00:31, 30.66s/it]"
     ]
    },
    {
     "name": "stdout",
     "output_type": "stream",
     "text": [
      "2/2 [==============================] - ETA: 0s - loss: 3.6401\n",
      "Epoch 00001: val_loss did not improve from 1.54602\n",
      "2/2 [==============================] - 20s 10s/step - loss: 3.6401 - val_loss: 1.9275\n"
     ]
    },
    {
     "name": "stderr",
     "output_type": "stream",
     "text": [
      "  5%|▍         | 147/3200 [1:14:37<25:55:26, 30.57s/it]"
     ]
    },
    {
     "name": "stdout",
     "output_type": "stream",
     "text": [
      "2/2 [==============================] - ETA: 0s - loss: 4.6404\n",
      "Epoch 00001: val_loss did not improve from 1.54602\n",
      "2/2 [==============================] - 20s 10s/step - loss: 4.6404 - val_loss: 1.9228\n"
     ]
    },
    {
     "name": "stderr",
     "output_type": "stream",
     "text": [
      "  5%|▍         | 148/3200 [1:15:08<25:54:01, 30.55s/it]"
     ]
    },
    {
     "name": "stdout",
     "output_type": "stream",
     "text": [
      "2/2 [==============================] - ETA: 0s - loss: 6.5444\n",
      "Epoch 00001: val_loss did not improve from 1.54602\n",
      "2/2 [==============================] - 20s 10s/step - loss: 6.5444 - val_loss: 1.9169\n"
     ]
    },
    {
     "name": "stderr",
     "output_type": "stream",
     "text": [
      "  5%|▍         | 149/3200 [1:15:39<26:01:17, 30.70s/it]"
     ]
    },
    {
     "name": "stdout",
     "output_type": "stream",
     "text": [
      "2/2 [==============================] - ETA: 0s - loss: 5.7608\n",
      "Epoch 00001: val_loss did not improve from 1.54602\n",
      "2/2 [==============================] - 20s 10s/step - loss: 5.7608 - val_loss: 1.9135\n"
     ]
    },
    {
     "name": "stderr",
     "output_type": "stream",
     "text": [
      "  5%|▍         | 150/3200 [1:16:09<25:55:55, 30.61s/it]"
     ]
    },
    {
     "name": "stdout",
     "output_type": "stream",
     "text": [
      "2/2 [==============================] - ETA: 0s - loss: 3.9357\n",
      "Epoch 00001: val_loss did not improve from 1.54602\n",
      "2/2 [==============================] - 20s 10s/step - loss: 3.9357 - val_loss: 1.9130\n"
     ]
    },
    {
     "name": "stderr",
     "output_type": "stream",
     "text": [
      "  5%|▍         | 151/3200 [1:16:40<25:52:00, 30.54s/it]"
     ]
    },
    {
     "name": "stdout",
     "output_type": "stream",
     "text": [
      "2/2 [==============================] - ETA: 0s - loss: 3.5876\n",
      "Epoch 00001: val_loss did not improve from 1.54602\n",
      "2/2 [==============================] - 20s 10s/step - loss: 3.5876 - val_loss: 1.9113\n"
     ]
    },
    {
     "name": "stderr",
     "output_type": "stream",
     "text": [
      "  5%|▍         | 152/3200 [1:17:11<25:58:14, 30.67s/it]"
     ]
    },
    {
     "name": "stdout",
     "output_type": "stream",
     "text": [
      "2/2 [==============================] - ETA: 0s - loss: 16.9800\n",
      "Epoch 00001: val_loss did not improve from 1.54602\n",
      "2/2 [==============================] - 19s 10s/step - loss: 16.9800 - val_loss: 1.9140\n"
     ]
    },
    {
     "name": "stderr",
     "output_type": "stream",
     "text": [
      "  5%|▍         | 153/3200 [1:17:41<25:50:57, 30.54s/it]"
     ]
    },
    {
     "name": "stdout",
     "output_type": "stream",
     "text": [
      "2/2 [==============================] - ETA: 0s - loss: 11.6608\n",
      "Epoch 00001: val_loss did not improve from 1.54602\n",
      "2/2 [==============================] - 19s 10s/step - loss: 11.6608 - val_loss: 1.9202\n"
     ]
    },
    {
     "name": "stderr",
     "output_type": "stream",
     "text": [
      "  5%|▍         | 154/3200 [1:18:11<25:46:00, 30.45s/it]"
     ]
    },
    {
     "name": "stdout",
     "output_type": "stream",
     "text": [
      "2/2 [==============================] - ETA: 0s - loss: 4.1104\n",
      "Epoch 00001: val_loss did not improve from 1.54602\n",
      "2/2 [==============================] - 20s 10s/step - loss: 4.1104 - val_loss: 1.9286\n"
     ]
    },
    {
     "name": "stderr",
     "output_type": "stream",
     "text": [
      "  5%|▍         | 155/3200 [1:18:42<25:55:49, 30.66s/it]"
     ]
    },
    {
     "name": "stdout",
     "output_type": "stream",
     "text": [
      "2/2 [==============================] - ETA: 0s - loss: 1.9073\n",
      "Epoch 00001: val_loss did not improve from 1.54602\n",
      "2/2 [==============================] - 19s 10s/step - loss: 1.9073 - val_loss: 1.9363\n"
     ]
    },
    {
     "name": "stderr",
     "output_type": "stream",
     "text": [
      "  5%|▍         | 156/3200 [1:19:13<25:49:25, 30.54s/it]"
     ]
    },
    {
     "name": "stdout",
     "output_type": "stream",
     "text": [
      "2/2 [==============================] - ETA: 0s - loss: 1.3087\n",
      "Epoch 00001: val_loss did not improve from 1.54602\n",
      "2/2 [==============================] - 20s 10s/step - loss: 1.3087 - val_loss: 1.9425\n"
     ]
    },
    {
     "name": "stderr",
     "output_type": "stream",
     "text": [
      "  5%|▍         | 157/3200 [1:19:43<25:45:06, 30.47s/it]"
     ]
    },
    {
     "name": "stdout",
     "output_type": "stream",
     "text": [
      "2/2 [==============================] - ETA: 0s - loss: 0.7748\n",
      "Epoch 00001: val_loss did not improve from 1.54602\n",
      "2/2 [==============================] - 20s 10s/step - loss: 0.7748 - val_loss: 1.9471\n"
     ]
    },
    {
     "name": "stderr",
     "output_type": "stream",
     "text": [
      "  5%|▍         | 158/3200 [1:20:13<25:44:20, 30.46s/it]"
     ]
    },
    {
     "name": "stdout",
     "output_type": "stream",
     "text": [
      "2/2 [==============================] - ETA: 0s - loss: 0.6812\n",
      "Epoch 00001: val_loss did not improve from 1.54602\n",
      "2/2 [==============================] - 20s 10s/step - loss: 0.6812 - val_loss: 1.9504\n"
     ]
    },
    {
     "name": "stderr",
     "output_type": "stream",
     "text": [
      "  5%|▍         | 159/3200 [1:20:44<25:51:04, 30.60s/it]"
     ]
    },
    {
     "name": "stdout",
     "output_type": "stream",
     "text": [
      "2/2 [==============================] - ETA: 0s - loss: 3.3512\n",
      "Epoch 00001: val_loss did not improve from 1.54602\n",
      "2/2 [==============================] - 20s 10s/step - loss: 3.3512 - val_loss: 1.9523\n"
     ]
    },
    {
     "name": "stderr",
     "output_type": "stream",
     "text": [
      "  5%|▌         | 160/3200 [1:21:14<25:45:29, 30.50s/it]"
     ]
    },
    {
     "name": "stdout",
     "output_type": "stream",
     "text": [
      "2/2 [==============================] - ETA: 0s - loss: 0.4896\n",
      "Epoch 00001: val_loss did not improve from 1.54602\n",
      "2/2 [==============================] - 20s 10s/step - loss: 0.4896 - val_loss: 1.9533\n"
     ]
    },
    {
     "name": "stderr",
     "output_type": "stream",
     "text": [
      "  5%|▌         | 161/3200 [1:21:45<25:43:23, 30.47s/it]"
     ]
    },
    {
     "name": "stdout",
     "output_type": "stream",
     "text": [
      "2/2 [==============================] - ETA: 0s - loss: 0.4772\n",
      "Epoch 00001: val_loss did not improve from 1.54602\n",
      "2/2 [==============================] - 20s 10s/step - loss: 0.4772 - val_loss: 1.9538\n"
     ]
    },
    {
     "name": "stderr",
     "output_type": "stream",
     "text": [
      "  5%|▌         | 162/3200 [1:22:16<25:53:31, 30.68s/it]"
     ]
    },
    {
     "name": "stdout",
     "output_type": "stream",
     "text": [
      "2/2 [==============================] - ETA: 0s - loss: 14.6194\n",
      "Epoch 00001: val_loss did not improve from 1.54602\n",
      "2/2 [==============================] - 20s 10s/step - loss: 14.6194 - val_loss: 1.9537\n"
     ]
    },
    {
     "name": "stderr",
     "output_type": "stream",
     "text": [
      "  5%|▌         | 163/3200 [1:22:47<25:49:59, 30.62s/it]"
     ]
    },
    {
     "name": "stdout",
     "output_type": "stream",
     "text": [
      "2/2 [==============================] - ETA: 0s - loss: 24.0901\n",
      "Epoch 00001: val_loss did not improve from 1.54602\n",
      "2/2 [==============================] - 20s 10s/step - loss: 24.0901 - val_loss: 1.9525\n"
     ]
    },
    {
     "name": "stderr",
     "output_type": "stream",
     "text": [
      "  5%|▌         | 164/3200 [1:23:17<25:47:37, 30.59s/it]"
     ]
    },
    {
     "name": "stdout",
     "output_type": "stream",
     "text": [
      "2/2 [==============================] - ETA: 0s - loss: 33.3960\n",
      "Epoch 00001: val_loss did not improve from 1.54602\n",
      "2/2 [==============================] - 20s 10s/step - loss: 33.3960 - val_loss: 1.9496\n"
     ]
    },
    {
     "name": "stderr",
     "output_type": "stream",
     "text": [
      "  5%|▌         | 165/3200 [1:23:50<26:16:14, 31.16s/it]"
     ]
    },
    {
     "name": "stdout",
     "output_type": "stream",
     "text": [
      "2/2 [==============================] - ETA: 0s - loss: 29.5119\n",
      "Epoch 00001: val_loss did not improve from 1.54602\n",
      "2/2 [==============================] - 20s 10s/step - loss: 29.5119 - val_loss: 1.9457\n"
     ]
    },
    {
     "name": "stderr",
     "output_type": "stream",
     "text": [
      "  5%|▌         | 166/3200 [1:24:20<26:04:15, 30.93s/it]"
     ]
    },
    {
     "name": "stdout",
     "output_type": "stream",
     "text": [
      "2/2 [==============================] - ETA: 0s - loss: 13.0732\n",
      "Epoch 00001: val_loss did not improve from 1.54602\n",
      "2/2 [==============================] - 20s 10s/step - loss: 13.0732 - val_loss: 1.9418\n"
     ]
    },
    {
     "name": "stderr",
     "output_type": "stream",
     "text": [
      "  5%|▌         | 167/3200 [1:24:50<25:55:45, 30.78s/it]"
     ]
    },
    {
     "name": "stdout",
     "output_type": "stream",
     "text": [
      "2/2 [==============================] - ETA: 0s - loss: 12.0422\n",
      "Epoch 00001: val_loss did not improve from 1.54602\n",
      "2/2 [==============================] - 20s 10s/step - loss: 12.0422 - val_loss: 1.9380\n"
     ]
    },
    {
     "name": "stderr",
     "output_type": "stream",
     "text": [
      "  5%|▌         | 168/3200 [1:25:21<25:52:47, 30.73s/it]"
     ]
    },
    {
     "name": "stdout",
     "output_type": "stream",
     "text": [
      "2/2 [==============================] - ETA: 0s - loss: 21.3813\n",
      "Epoch 00001: val_loss did not improve from 1.54602\n",
      "2/2 [==============================] - 20s 10s/step - loss: 21.3813 - val_loss: 1.9339\n"
     ]
    },
    {
     "name": "stderr",
     "output_type": "stream",
     "text": [
      "  5%|▌         | 169/3200 [1:25:52<25:58:28, 30.85s/it]"
     ]
    },
    {
     "name": "stdout",
     "output_type": "stream",
     "text": [
      "2/2 [==============================] - ETA: 0s - loss: 21.0887\n",
      "Epoch 00001: val_loss did not improve from 1.54602\n",
      "2/2 [==============================] - 20s 10s/step - loss: 21.0887 - val_loss: 1.9295\n"
     ]
    },
    {
     "name": "stderr",
     "output_type": "stream",
     "text": [
      "  5%|▌         | 170/3200 [1:26:22<25:51:21, 30.72s/it]"
     ]
    },
    {
     "name": "stdout",
     "output_type": "stream",
     "text": [
      "2/2 [==============================] - ETA: 0s - loss: 6.8599\n",
      "Epoch 00001: val_loss did not improve from 1.54602\n",
      "2/2 [==============================] - 20s 10s/step - loss: 6.8599 - val_loss: 1.9258\n"
     ]
    },
    {
     "name": "stderr",
     "output_type": "stream",
     "text": [
      "  5%|▌         | 171/3200 [1:26:53<25:44:37, 30.60s/it]"
     ]
    },
    {
     "name": "stdout",
     "output_type": "stream",
     "text": [
      "2/2 [==============================] - ETA: 0s - loss: 2.4209\n",
      "Epoch 00001: val_loss did not improve from 1.54602\n",
      "2/2 [==============================] - 20s 10s/step - loss: 2.4209 - val_loss: 1.9231\n"
     ]
    },
    {
     "name": "stderr",
     "output_type": "stream",
     "text": [
      "  5%|▌         | 172/3200 [1:27:24<25:49:13, 30.70s/it]"
     ]
    },
    {
     "name": "stdout",
     "output_type": "stream",
     "text": [
      "2/2 [==============================] - ETA: 0s - loss: 2.1207\n",
      "Epoch 00001: val_loss did not improve from 1.54602\n",
      "2/2 [==============================] - 20s 10s/step - loss: 2.1207 - val_loss: 1.9219\n"
     ]
    },
    {
     "name": "stderr",
     "output_type": "stream",
     "text": [
      "  5%|▌         | 173/3200 [1:27:54<25:42:11, 30.57s/it]"
     ]
    },
    {
     "name": "stdout",
     "output_type": "stream",
     "text": [
      "2/2 [==============================] - ETA: 0s - loss: 1.9987\n",
      "Epoch 00001: val_loss did not improve from 1.54602\n",
      "2/2 [==============================] - 20s 10s/step - loss: 1.9987 - val_loss: 1.9223\n"
     ]
    },
    {
     "name": "stderr",
     "output_type": "stream",
     "text": [
      "  5%|▌         | 174/3200 [1:28:24<25:38:53, 30.51s/it]"
     ]
    },
    {
     "name": "stdout",
     "output_type": "stream",
     "text": [
      "2/2 [==============================] - ETA: 0s - loss: 1.9235\n",
      "Epoch 00001: val_loss did not improve from 1.54602\n",
      "2/2 [==============================] - 20s 10s/step - loss: 1.9235 - val_loss: 1.9237\n"
     ]
    },
    {
     "name": "stderr",
     "output_type": "stream",
     "text": [
      "  5%|▌         | 175/3200 [1:28:55<25:45:42, 30.66s/it]"
     ]
    },
    {
     "name": "stdout",
     "output_type": "stream",
     "text": [
      "2/2 [==============================] - ETA: 0s - loss: 1.8968\n",
      "Epoch 00001: val_loss did not improve from 1.54602\n",
      "2/2 [==============================] - 20s 10s/step - loss: 1.8968 - val_loss: 1.9258\n"
     ]
    },
    {
     "name": "stderr",
     "output_type": "stream",
     "text": [
      "  6%|▌         | 176/3200 [1:29:26<25:43:09, 30.62s/it]"
     ]
    },
    {
     "name": "stdout",
     "output_type": "stream",
     "text": [
      "2/2 [==============================] - ETA: 0s - loss: 29.2924\n",
      "Epoch 00001: val_loss did not improve from 1.54602\n",
      "2/2 [==============================] - 20s 10s/step - loss: 29.2924 - val_loss: 1.9258\n"
     ]
    },
    {
     "name": "stderr",
     "output_type": "stream",
     "text": [
      "  6%|▌         | 177/3200 [1:29:56<25:36:38, 30.50s/it]"
     ]
    },
    {
     "name": "stdout",
     "output_type": "stream",
     "text": [
      "2/2 [==============================] - ETA: 0s - loss: 18.0242\n",
      "Epoch 00001: val_loss did not improve from 1.54602\n",
      "2/2 [==============================] - 20s 10s/step - loss: 18.0242 - val_loss: 1.9227\n"
     ]
    },
    {
     "name": "stderr",
     "output_type": "stream",
     "text": [
      "  6%|▌         | 178/3200 [1:30:26<25:33:54, 30.45s/it]"
     ]
    },
    {
     "name": "stdout",
     "output_type": "stream",
     "text": [
      "2/2 [==============================] - ETA: 0s - loss: 11.6241\n",
      "Epoch 00001: val_loss did not improve from 1.54602\n",
      "2/2 [==============================] - 20s 10s/step - loss: 11.6241 - val_loss: 1.9194\n"
     ]
    },
    {
     "name": "stderr",
     "output_type": "stream",
     "text": [
      "  6%|▌         | 179/3200 [1:30:57<25:40:03, 30.59s/it]"
     ]
    },
    {
     "name": "stdout",
     "output_type": "stream",
     "text": [
      "2/2 [==============================] - ETA: 0s - loss: 9.1747\n",
      "Epoch 00001: val_loss did not improve from 1.54602\n",
      "2/2 [==============================] - 20s 10s/step - loss: 9.1747 - val_loss: 1.9181\n"
     ]
    },
    {
     "name": "stderr",
     "output_type": "stream",
     "text": [
      "  6%|▌         | 180/3200 [1:31:28<25:33:41, 30.47s/it]"
     ]
    },
    {
     "name": "stdout",
     "output_type": "stream",
     "text": [
      "2/2 [==============================] - ETA: 0s - loss: 14.5465\n",
      "Epoch 00001: val_loss did not improve from 1.54602\n",
      "2/2 [==============================] - 20s 10s/step - loss: 14.5465 - val_loss: 1.9179\n"
     ]
    },
    {
     "name": "stderr",
     "output_type": "stream",
     "text": [
      "  6%|▌         | 181/3200 [1:31:58<25:30:19, 30.41s/it]"
     ]
    },
    {
     "name": "stdout",
     "output_type": "stream",
     "text": [
      "2/2 [==============================] - ETA: 0s - loss: 10.4047\n",
      "Epoch 00001: val_loss did not improve from 1.54602\n",
      "2/2 [==============================] - 20s 10s/step - loss: 10.4047 - val_loss: 1.9203\n"
     ]
    },
    {
     "name": "stderr",
     "output_type": "stream",
     "text": [
      "  6%|▌         | 182/3200 [1:32:29<25:39:41, 30.61s/it]"
     ]
    },
    {
     "name": "stdout",
     "output_type": "stream",
     "text": [
      "2/2 [==============================] - ETA: 0s - loss: 9.5080 \n",
      "Epoch 00001: val_loss did not improve from 1.54602\n",
      "2/2 [==============================] - 19s 10s/step - loss: 9.5080 - val_loss: 1.9244\n"
     ]
    },
    {
     "name": "stderr",
     "output_type": "stream",
     "text": [
      "  6%|▌         | 183/3200 [1:32:59<25:33:29, 30.50s/it]"
     ]
    },
    {
     "name": "stdout",
     "output_type": "stream",
     "text": [
      "2/2 [==============================] - ETA: 0s - loss: 8.6937\n",
      "Epoch 00001: val_loss did not improve from 1.54602\n",
      "2/2 [==============================] - 20s 10s/step - loss: 8.6937 - val_loss: 1.9296\n"
     ]
    },
    {
     "name": "stderr",
     "output_type": "stream",
     "text": [
      "  6%|▌         | 184/3200 [1:33:29<25:28:52, 30.42s/it]"
     ]
    },
    {
     "name": "stdout",
     "output_type": "stream",
     "text": [
      "2/2 [==============================] - ETA: 0s - loss: 5.3492\n",
      "Epoch 00001: val_loss did not improve from 1.54602\n",
      "2/2 [==============================] - 20s 10s/step - loss: 5.3492 - val_loss: 1.9349\n"
     ]
    },
    {
     "name": "stderr",
     "output_type": "stream",
     "text": [
      "  6%|▌         | 185/3200 [1:34:00<25:28:17, 30.41s/it]"
     ]
    },
    {
     "name": "stdout",
     "output_type": "stream",
     "text": [
      "2/2 [==============================] - ETA: 0s - loss: 3.1564\n",
      "Epoch 00001: val_loss did not improve from 1.54602\n",
      "2/2 [==============================] - 20s 10s/step - loss: 3.1564 - val_loss: 1.9396\n"
     ]
    },
    {
     "name": "stderr",
     "output_type": "stream",
     "text": [
      "  6%|▌         | 186/3200 [1:34:30<25:31:53, 30.50s/it]"
     ]
    },
    {
     "name": "stdout",
     "output_type": "stream",
     "text": [
      "2/2 [==============================] - ETA: 0s - loss: 2.2865\n",
      "Epoch 00001: val_loss did not improve from 1.54602\n",
      "2/2 [==============================] - 20s 10s/step - loss: 2.2865 - val_loss: 1.9435\n"
     ]
    },
    {
     "name": "stderr",
     "output_type": "stream",
     "text": [
      "  6%|▌         | 187/3200 [1:35:01<25:27:09, 30.41s/it]"
     ]
    },
    {
     "name": "stdout",
     "output_type": "stream",
     "text": [
      "2/2 [==============================] - ETA: 0s - loss: 2.7203\n",
      "Epoch 00001: val_loss did not improve from 1.54602\n",
      "2/2 [==============================] - 20s 10s/step - loss: 2.7203 - val_loss: 1.9463\n"
     ]
    },
    {
     "name": "stderr",
     "output_type": "stream",
     "text": [
      "  6%|▌         | 188/3200 [1:35:31<25:21:47, 30.31s/it]"
     ]
    },
    {
     "name": "stdout",
     "output_type": "stream",
     "text": [
      "2/2 [==============================] - ETA: 0s - loss: 3.4876\n",
      "Epoch 00001: val_loss did not improve from 1.54602\n",
      "2/2 [==============================] - 20s 10s/step - loss: 3.4876 - val_loss: 1.9480\n"
     ]
    },
    {
     "name": "stderr",
     "output_type": "stream",
     "text": [
      "  6%|▌         | 189/3200 [1:36:02<25:29:56, 30.49s/it]"
     ]
    },
    {
     "name": "stdout",
     "output_type": "stream",
     "text": [
      "2/2 [==============================] - ETA: 0s - loss: 1.8100\n",
      "Epoch 00001: val_loss did not improve from 1.54602\n",
      "2/2 [==============================] - 20s 10s/step - loss: 1.8100 - val_loss: 1.9489\n"
     ]
    },
    {
     "name": "stderr",
     "output_type": "stream",
     "text": [
      "  6%|▌         | 190/3200 [1:36:32<25:26:56, 30.44s/it]"
     ]
    },
    {
     "name": "stdout",
     "output_type": "stream",
     "text": [
      "2/2 [==============================] - ETA: 0s - loss: 1.1318\n",
      "Epoch 00001: val_loss did not improve from 1.54602\n",
      "2/2 [==============================] - 19s 10s/step - loss: 1.1318 - val_loss: 1.9493\n"
     ]
    },
    {
     "name": "stderr",
     "output_type": "stream",
     "text": [
      "  6%|▌         | 191/3200 [1:37:02<25:25:28, 30.42s/it]"
     ]
    },
    {
     "name": "stdout",
     "output_type": "stream",
     "text": [
      "2/2 [==============================] - ETA: 0s - loss: 0.7939\n",
      "Epoch 00001: val_loss did not improve from 1.54602\n",
      "2/2 [==============================] - 20s 10s/step - loss: 0.7939 - val_loss: 1.9496\n"
     ]
    },
    {
     "name": "stderr",
     "output_type": "stream",
     "text": [
      "  6%|▌         | 192/3200 [1:37:34<25:38:36, 30.69s/it]"
     ]
    },
    {
     "name": "stdout",
     "output_type": "stream",
     "text": [
      "2/2 [==============================] - ETA: 0s - loss: 0.5150\n",
      "Epoch 00001: val_loss did not improve from 1.54602\n",
      "2/2 [==============================] - 20s 10s/step - loss: 0.5150 - val_loss: 1.9496\n"
     ]
    },
    {
     "name": "stderr",
     "output_type": "stream",
     "text": [
      "  6%|▌         | 193/3200 [1:38:04<25:34:54, 30.63s/it]"
     ]
    },
    {
     "name": "stdout",
     "output_type": "stream",
     "text": [
      "2/2 [==============================] - ETA: 0s - loss: 0.4029\n",
      "Epoch 00001: val_loss did not improve from 1.54602\n",
      "2/2 [==============================] - 20s 10s/step - loss: 0.4029 - val_loss: 1.9497\n"
     ]
    },
    {
     "name": "stderr",
     "output_type": "stream",
     "text": [
      "  6%|▌         | 194/3200 [1:38:35<25:32:49, 30.60s/it]"
     ]
    },
    {
     "name": "stdout",
     "output_type": "stream",
     "text": [
      "2/2 [==============================] - ETA: 0s - loss: 0.4057\n",
      "Epoch 00001: val_loss did not improve from 1.54602\n",
      "2/2 [==============================] - 20s 10s/step - loss: 0.4057 - val_loss: 1.9499\n"
     ]
    },
    {
     "name": "stderr",
     "output_type": "stream",
     "text": [
      "  6%|▌         | 195/3200 [1:39:05<25:29:27, 30.54s/it]"
     ]
    },
    {
     "name": "stdout",
     "output_type": "stream",
     "text": [
      "2/2 [==============================] - ETA: 0s - loss: 0.3816\n",
      "Epoch 00001: val_loss did not improve from 1.54602\n",
      "2/2 [==============================] - 20s 10s/step - loss: 0.3816 - val_loss: 1.9501\n"
     ]
    },
    {
     "name": "stderr",
     "output_type": "stream",
     "text": [
      "  6%|▌         | 196/3200 [1:39:36<25:37:17, 30.70s/it]"
     ]
    },
    {
     "name": "stdout",
     "output_type": "stream",
     "text": [
      "2/2 [==============================] - ETA: 0s - loss: 0.2876\n",
      "Epoch 00001: val_loss did not improve from 1.54602\n",
      "2/2 [==============================] - 20s 10s/step - loss: 0.2876 - val_loss: 1.9503\n"
     ]
    },
    {
     "name": "stderr",
     "output_type": "stream",
     "text": [
      "  6%|▌         | 197/3200 [1:40:06<25:30:39, 30.58s/it]"
     ]
    },
    {
     "name": "stdout",
     "output_type": "stream",
     "text": [
      "2/2 [==============================] - ETA: 0s - loss: 0.2700\n",
      "Epoch 00001: val_loss did not improve from 1.54602\n",
      "2/2 [==============================] - 20s 10s/step - loss: 0.2700 - val_loss: 1.9505\n"
     ]
    },
    {
     "name": "stderr",
     "output_type": "stream",
     "text": [
      "  6%|▌         | 198/3200 [1:40:37<25:27:54, 30.54s/it]"
     ]
    },
    {
     "name": "stdout",
     "output_type": "stream",
     "text": [
      "2/2 [==============================] - ETA: 0s - loss: 0.2973\n",
      "Epoch 00001: val_loss did not improve from 1.54602\n",
      "2/2 [==============================] - 20s 10s/step - loss: 0.2973 - val_loss: 1.9507\n"
     ]
    },
    {
     "name": "stderr",
     "output_type": "stream",
     "text": [
      "  6%|▌         | 199/3200 [1:41:08<25:37:16, 30.74s/it]"
     ]
    },
    {
     "name": "stdout",
     "output_type": "stream",
     "text": [
      "2/2 [==============================] - ETA: 0s - loss: 0.2096\n",
      "Epoch 00001: val_loss did not improve from 1.54602\n",
      "2/2 [==============================] - 20s 10s/step - loss: 0.2096 - val_loss: 1.9509\n"
     ]
    },
    {
     "name": "stderr",
     "output_type": "stream",
     "text": [
      "  6%|▋         | 200/3200 [1:41:38<25:31:14, 30.62s/it]"
     ]
    },
    {
     "name": "stdout",
     "output_type": "stream",
     "text": [
      "2/2 [==============================] - ETA: 0s - loss: 0.2355\n",
      "Epoch 00001: val_loss did not improve from 1.54602\n",
      "2/2 [==============================] - 20s 10s/step - loss: 0.2355 - val_loss: 1.9510\n"
     ]
    },
    {
     "name": "stderr",
     "output_type": "stream",
     "text": [
      "  6%|▋         | 201/3200 [1:42:09<25:28:03, 30.57s/it]"
     ]
    },
    {
     "name": "stdout",
     "output_type": "stream",
     "text": [
      "2/2 [==============================] - ETA: 0s - loss: 0.1900\n",
      "Epoch 00001: val_loss did not improve from 1.54602\n",
      "2/2 [==============================] - 20s 10s/step - loss: 0.1900 - val_loss: 1.9513\n"
     ]
    },
    {
     "name": "stderr",
     "output_type": "stream",
     "text": [
      "  6%|▋         | 202/3200 [1:42:40<25:37:19, 30.77s/it]"
     ]
    },
    {
     "name": "stdout",
     "output_type": "stream",
     "text": [
      "2/2 [==============================] - ETA: 0s - loss: 0.1709\n",
      "Epoch 00001: val_loss did not improve from 1.54602\n",
      "2/2 [==============================] - 20s 10s/step - loss: 0.1709 - val_loss: 1.9515\n"
     ]
    },
    {
     "name": "stderr",
     "output_type": "stream",
     "text": [
      "  6%|▋         | 203/3200 [1:43:11<25:31:40, 30.66s/it]"
     ]
    },
    {
     "name": "stdout",
     "output_type": "stream",
     "text": [
      "2/2 [==============================] - ETA: 0s - loss: 0.1377\n",
      "Epoch 00001: val_loss did not improve from 1.54602\n",
      "2/2 [==============================] - 20s 10s/step - loss: 0.1377 - val_loss: 1.9517\n"
     ]
    },
    {
     "name": "stderr",
     "output_type": "stream",
     "text": [
      "  6%|▋         | 204/3200 [1:43:41<25:27:14, 30.59s/it]"
     ]
    },
    {
     "name": "stdout",
     "output_type": "stream",
     "text": [
      "2/2 [==============================] - ETA: 0s - loss: 0.1337\n",
      "Epoch 00001: val_loss did not improve from 1.54602\n",
      "2/2 [==============================] - 20s 10s/step - loss: 0.1337 - val_loss: 1.9520\n"
     ]
    },
    {
     "name": "stderr",
     "output_type": "stream",
     "text": [
      "  6%|▋         | 205/3200 [1:44:11<25:24:26, 30.54s/it]"
     ]
    },
    {
     "name": "stdout",
     "output_type": "stream",
     "text": [
      "2/2 [==============================] - ETA: 0s - loss: 0.1224\n",
      "Epoch 00001: val_loss did not improve from 1.54602\n",
      "2/2 [==============================] - 19s 10s/step - loss: 0.1224 - val_loss: 1.9522\n"
     ]
    },
    {
     "name": "stderr",
     "output_type": "stream",
     "text": [
      "  6%|▋         | 206/3200 [1:44:43<25:32:47, 30.72s/it]"
     ]
    },
    {
     "name": "stdout",
     "output_type": "stream",
     "text": [
      "2/2 [==============================] - ETA: 0s - loss: 2.2134\n",
      "Epoch 00001: val_loss did not improve from 1.54602\n",
      "2/2 [==============================] - 20s 10s/step - loss: 2.2134 - val_loss: 1.9522\n"
     ]
    },
    {
     "name": "stderr",
     "output_type": "stream",
     "text": [
      "  6%|▋         | 207/3200 [1:45:13<25:26:16, 30.60s/it]"
     ]
    },
    {
     "name": "stdout",
     "output_type": "stream",
     "text": [
      "2/2 [==============================] - ETA: 0s - loss: 5.5894\n",
      "Epoch 00001: val_loss did not improve from 1.54602\n",
      "2/2 [==============================] - 20s 10s/step - loss: 5.5894 - val_loss: 1.9520\n"
     ]
    },
    {
     "name": "stderr",
     "output_type": "stream",
     "text": [
      "  6%|▋         | 208/3200 [1:45:43<25:22:56, 30.54s/it]"
     ]
    },
    {
     "name": "stdout",
     "output_type": "stream",
     "text": [
      "2/2 [==============================] - ETA: 0s - loss: 4.7177\n",
      "Epoch 00001: val_loss did not improve from 1.54602\n",
      "2/2 [==============================] - 20s 10s/step - loss: 4.7177 - val_loss: 1.9515\n"
     ]
    },
    {
     "name": "stderr",
     "output_type": "stream",
     "text": [
      "  7%|▋         | 209/3200 [1:46:14<25:29:57, 30.69s/it]"
     ]
    },
    {
     "name": "stdout",
     "output_type": "stream",
     "text": [
      "2/2 [==============================] - ETA: 0s - loss: 5.2177\n",
      "Epoch 00001: val_loss did not improve from 1.54602\n",
      "2/2 [==============================] - 19s 10s/step - loss: 5.2177 - val_loss: 1.9504\n"
     ]
    },
    {
     "name": "stderr",
     "output_type": "stream",
     "text": [
      "  7%|▋         | 210/3200 [1:46:45<25:25:17, 30.61s/it]"
     ]
    },
    {
     "name": "stdout",
     "output_type": "stream",
     "text": [
      "2/2 [==============================] - ETA: 0s - loss: 3.3309\n",
      "Epoch 00001: val_loss did not improve from 1.54602\n",
      "2/2 [==============================] - 20s 10s/step - loss: 3.3309 - val_loss: 1.9491\n"
     ]
    },
    {
     "name": "stderr",
     "output_type": "stream",
     "text": [
      "  7%|▋         | 211/3200 [1:47:15<25:21:30, 30.54s/it]"
     ]
    },
    {
     "name": "stdout",
     "output_type": "stream",
     "text": [
      "2/2 [==============================] - ETA: 0s - loss: 3.0045\n",
      "Epoch 00001: val_loss did not improve from 1.54602\n",
      "2/2 [==============================] - 20s 10s/step - loss: 3.0045 - val_loss: 1.9477\n"
     ]
    },
    {
     "name": "stderr",
     "output_type": "stream",
     "text": [
      "  7%|▋         | 212/3200 [1:47:46<25:30:57, 30.74s/it]"
     ]
    },
    {
     "name": "stdout",
     "output_type": "stream",
     "text": [
      "2/2 [==============================] - ETA: 0s - loss: 3.0063\n",
      "Epoch 00001: val_loss did not improve from 1.54602\n",
      "2/2 [==============================] - 20s 10s/step - loss: 3.0063 - val_loss: 1.9460\n"
     ]
    },
    {
     "name": "stderr",
     "output_type": "stream",
     "text": [
      "  7%|▋         | 213/3200 [1:48:17<25:25:10, 30.64s/it]"
     ]
    },
    {
     "name": "stdout",
     "output_type": "stream",
     "text": [
      "2/2 [==============================] - ETA: 0s - loss: 2.4032\n",
      "Epoch 00001: val_loss did not improve from 1.54602\n",
      "2/2 [==============================] - 20s 10s/step - loss: 2.4032 - val_loss: 1.9443\n"
     ]
    },
    {
     "name": "stderr",
     "output_type": "stream",
     "text": [
      "  7%|▋         | 214/3200 [1:48:47<25:21:48, 30.58s/it]"
     ]
    },
    {
     "name": "stdout",
     "output_type": "stream",
     "text": [
      "2/2 [==============================] - ETA: 0s - loss: 3.2447\n",
      "Epoch 00001: val_loss did not improve from 1.54602\n",
      "2/2 [==============================] - 20s 10s/step - loss: 3.2447 - val_loss: 1.9425\n"
     ]
    },
    {
     "name": "stderr",
     "output_type": "stream",
     "text": [
      "  7%|▋         | 215/3200 [1:49:18<25:18:57, 30.53s/it]"
     ]
    },
    {
     "name": "stdout",
     "output_type": "stream",
     "text": [
      "2/2 [==============================] - ETA: 0s - loss: 4.4180\n",
      "Epoch 00001: val_loss did not improve from 1.54602\n",
      "2/2 [==============================] - 20s 10s/step - loss: 4.4180 - val_loss: 1.9405\n"
     ]
    },
    {
     "name": "stderr",
     "output_type": "stream",
     "text": [
      "  7%|▋         | 216/3200 [1:49:49<25:31:07, 30.79s/it]"
     ]
    },
    {
     "name": "stdout",
     "output_type": "stream",
     "text": [
      "2/2 [==============================] - ETA: 0s - loss: 5.9337\n",
      "Epoch 00001: val_loss did not improve from 1.54602\n",
      "2/2 [==============================] - 20s 10s/step - loss: 5.9337 - val_loss: 1.9378\n"
     ]
    },
    {
     "name": "stderr",
     "output_type": "stream",
     "text": [
      "  7%|▋         | 217/3200 [1:50:19<25:24:58, 30.67s/it]"
     ]
    },
    {
     "name": "stdout",
     "output_type": "stream",
     "text": [
      "2/2 [==============================] - ETA: 0s - loss: 6.8250 \n",
      "Epoch 00001: val_loss did not improve from 1.54602\n",
      "2/2 [==============================] - 20s 10s/step - loss: 6.8250 - val_loss: 1.9346\n"
     ]
    },
    {
     "name": "stderr",
     "output_type": "stream",
     "text": [
      "  7%|▋         | 218/3200 [1:50:50<25:20:46, 30.60s/it]"
     ]
    },
    {
     "name": "stdout",
     "output_type": "stream",
     "text": [
      "2/2 [==============================] - ETA: 0s - loss: 6.4891\n",
      "Epoch 00001: val_loss did not improve from 1.54602\n",
      "2/2 [==============================] - 20s 10s/step - loss: 6.4891 - val_loss: 1.9314\n"
     ]
    },
    {
     "name": "stderr",
     "output_type": "stream",
     "text": [
      "  7%|▋         | 219/3200 [1:51:21<25:29:21, 30.78s/it]"
     ]
    },
    {
     "name": "stdout",
     "output_type": "stream",
     "text": [
      "2/2 [==============================] - ETA: 0s - loss: 9.8621 \n",
      "Epoch 00001: val_loss did not improve from 1.54602\n",
      "2/2 [==============================] - 20s 10s/step - loss: 9.8621 - val_loss: 1.9281\n"
     ]
    },
    {
     "name": "stderr",
     "output_type": "stream",
     "text": [
      "  7%|▋         | 220/3200 [1:51:52<25:26:25, 30.73s/it]"
     ]
    },
    {
     "name": "stdout",
     "output_type": "stream",
     "text": [
      "2/2 [==============================] - ETA: 0s - loss: 13.0858\n",
      "Epoch 00001: val_loss did not improve from 1.54602\n",
      "2/2 [==============================] - 20s 10s/step - loss: 13.0858 - val_loss: 1.9245\n"
     ]
    },
    {
     "name": "stderr",
     "output_type": "stream",
     "text": [
      "  7%|▋         | 221/3200 [1:52:22<25:21:02, 30.64s/it]"
     ]
    },
    {
     "name": "stdout",
     "output_type": "stream",
     "text": [
      "2/2 [==============================] - ETA: 0s - loss: 19.7280\n",
      "Epoch 00001: val_loss did not improve from 1.54602\n",
      "2/2 [==============================] - 20s 10s/step - loss: 19.7280 - val_loss: 1.9205\n"
     ]
    },
    {
     "name": "stderr",
     "output_type": "stream",
     "text": [
      "  7%|▋         | 222/3200 [1:52:53<25:29:12, 30.81s/it]"
     ]
    },
    {
     "name": "stdout",
     "output_type": "stream",
     "text": [
      "2/2 [==============================] - ETA: 0s - loss: 28.4360\n",
      "Epoch 00001: val_loss did not improve from 1.54602\n",
      "2/2 [==============================] - 20s 10s/step - loss: 28.4360 - val_loss: 1.9150\n"
     ]
    },
    {
     "name": "stderr",
     "output_type": "stream",
     "text": [
      "  7%|▋         | 223/3200 [1:53:24<25:23:41, 30.71s/it]"
     ]
    },
    {
     "name": "stdout",
     "output_type": "stream",
     "text": [
      "2/2 [==============================] - ETA: 0s - loss: 10.4961\n",
      "Epoch 00001: val_loss did not improve from 1.54602\n",
      "2/2 [==============================] - 20s 10s/step - loss: 10.4961 - val_loss: 1.9089\n"
     ]
    },
    {
     "name": "stderr",
     "output_type": "stream",
     "text": [
      "  7%|▋         | 224/3200 [1:53:54<25:19:28, 30.63s/it]"
     ]
    },
    {
     "name": "stdout",
     "output_type": "stream",
     "text": [
      "2/2 [==============================] - ETA: 0s - loss: 7.2562\n",
      "Epoch 00001: val_loss did not improve from 1.54602\n",
      "2/2 [==============================] - 20s 10s/step - loss: 7.2562 - val_loss: 1.9034\n"
     ]
    },
    {
     "name": "stderr",
     "output_type": "stream",
     "text": [
      "  7%|▋         | 225/3200 [1:54:25<25:16:12, 30.58s/it]"
     ]
    },
    {
     "name": "stdout",
     "output_type": "stream",
     "text": [
      "2/2 [==============================] - ETA: 0s - loss: 11.5706\n",
      "Epoch 00001: val_loss did not improve from 1.54602\n",
      "2/2 [==============================] - 20s 10s/step - loss: 11.5706 - val_loss: 1.8990\n"
     ]
    },
    {
     "name": "stderr",
     "output_type": "stream",
     "text": [
      "  7%|▋         | 226/3200 [1:54:56<25:24:33, 30.76s/it]"
     ]
    },
    {
     "name": "stdout",
     "output_type": "stream",
     "text": [
      "2/2 [==============================] - ETA: 0s - loss: 26.9974\n",
      "Epoch 00001: val_loss did not improve from 1.54602\n",
      "2/2 [==============================] - 19s 10s/step - loss: 26.9974 - val_loss: 1.8926\n"
     ]
    },
    {
     "name": "stderr",
     "output_type": "stream",
     "text": [
      "  7%|▋         | 227/3200 [1:55:26<25:19:13, 30.66s/it]"
     ]
    },
    {
     "name": "stdout",
     "output_type": "stream",
     "text": [
      "2/2 [==============================] - ETA: 0s - loss: 60.6466\n",
      "Epoch 00001: val_loss did not improve from 1.54602\n",
      "2/2 [==============================] - 19s 10s/step - loss: 60.6466 - val_loss: 1.8827\n"
     ]
    },
    {
     "name": "stderr",
     "output_type": "stream",
     "text": [
      "  7%|▋         | 228/3200 [1:55:57<25:14:03, 30.57s/it]"
     ]
    },
    {
     "name": "stdout",
     "output_type": "stream",
     "text": [
      "2/2 [==============================] - ETA: 0s - loss: 52.5416\n",
      "Epoch 00001: val_loss did not improve from 1.54602\n",
      "2/2 [==============================] - 20s 10s/step - loss: 52.5416 - val_loss: 1.8715\n"
     ]
    },
    {
     "name": "stderr",
     "output_type": "stream",
     "text": [
      "  7%|▋         | 229/3200 [1:56:28<25:23:06, 30.76s/it]"
     ]
    },
    {
     "name": "stdout",
     "output_type": "stream",
     "text": [
      "2/2 [==============================] - ETA: 0s - loss: 98.1530\n",
      "Epoch 00001: val_loss did not improve from 1.54602\n",
      "2/2 [==============================] - 19s 10s/step - loss: 98.1530 - val_loss: 1.8556\n"
     ]
    },
    {
     "name": "stderr",
     "output_type": "stream",
     "text": [
      "  7%|▋         | 230/3200 [1:56:58<25:16:33, 30.64s/it]"
     ]
    },
    {
     "name": "stdout",
     "output_type": "stream",
     "text": [
      "2/2 [==============================] - ETA: 0s - loss: 54.1923\n",
      "Epoch 00001: val_loss did not improve from 1.54602\n",
      "2/2 [==============================] - 20s 10s/step - loss: 54.1923 - val_loss: 1.8331\n"
     ]
    },
    {
     "name": "stderr",
     "output_type": "stream",
     "text": [
      "  7%|▋         | 231/3200 [1:57:29<25:12:43, 30.57s/it]"
     ]
    },
    {
     "name": "stdout",
     "output_type": "stream",
     "text": [
      "2/2 [==============================] - ETA: 0s - loss: 58.5350\n",
      "Epoch 00001: val_loss did not improve from 1.54602\n",
      "2/2 [==============================] - 20s 10s/step - loss: 58.5350 - val_loss: 1.8170\n"
     ]
    },
    {
     "name": "stderr",
     "output_type": "stream",
     "text": [
      "  7%|▋         | 232/3200 [1:58:00<25:21:36, 30.76s/it]"
     ]
    },
    {
     "name": "stdout",
     "output_type": "stream",
     "text": [
      "2/2 [==============================] - ETA: 0s - loss: 58.3139\n",
      "Epoch 00001: val_loss did not improve from 1.54602\n",
      "2/2 [==============================] - 20s 10s/step - loss: 58.3139 - val_loss: 1.8073\n"
     ]
    },
    {
     "name": "stderr",
     "output_type": "stream",
     "text": [
      "  7%|▋         | 233/3200 [1:58:30<25:18:39, 30.71s/it]"
     ]
    },
    {
     "name": "stdout",
     "output_type": "stream",
     "text": [
      "2/2 [==============================] - ETA: 0s - loss: 55.5598\n",
      "Epoch 00001: val_loss did not improve from 1.54602\n",
      "2/2 [==============================] - 20s 10s/step - loss: 55.5598 - val_loss: 1.7986\n"
     ]
    },
    {
     "name": "stderr",
     "output_type": "stream",
     "text": [
      "  7%|▋         | 234/3200 [1:59:01<25:15:31, 30.66s/it]"
     ]
    },
    {
     "name": "stdout",
     "output_type": "stream",
     "text": [
      "2/2 [==============================] - ETA: 0s - loss: 36.7641\n",
      "Epoch 00001: val_loss did not improve from 1.54602\n",
      "2/2 [==============================] - 20s 10s/step - loss: 36.7641 - val_loss: 1.7922\n"
     ]
    },
    {
     "name": "stderr",
     "output_type": "stream",
     "text": [
      "  7%|▋         | 235/3200 [1:59:31<25:12:14, 30.60s/it]"
     ]
    },
    {
     "name": "stdout",
     "output_type": "stream",
     "text": [
      "2/2 [==============================] - ETA: 0s - loss: 37.4055\n",
      "Epoch 00001: val_loss did not improve from 1.54602\n",
      "2/2 [==============================] - 20s 10s/step - loss: 37.4055 - val_loss: 38.2522\n"
     ]
    },
    {
     "name": "stderr",
     "output_type": "stream",
     "text": [
      "  7%|▋         | 236/3200 [2:00:03<25:21:03, 30.79s/it]"
     ]
    },
    {
     "name": "stdout",
     "output_type": "stream",
     "text": [
      "2/2 [==============================] - ETA: 0s - loss: 25.0397\n",
      "Epoch 00001: val_loss did not improve from 1.54602\n",
      "2/2 [==============================] - 20s 10s/step - loss: 25.0397 - val_loss: 3.3737\n"
     ]
    },
    {
     "name": "stderr",
     "output_type": "stream",
     "text": [
      "  7%|▋         | 237/3200 [2:00:33<25:17:49, 30.74s/it]"
     ]
    },
    {
     "name": "stdout",
     "output_type": "stream",
     "text": [
      "2/2 [==============================] - ETA: 0s - loss: 20.1981\n",
      "Epoch 00001: val_loss did not improve from 1.54602\n",
      "2/2 [==============================] - 19s 10s/step - loss: 20.1981 - val_loss: 1.8011\n"
     ]
    },
    {
     "name": "stderr",
     "output_type": "stream",
     "text": [
      "  7%|▋         | 238/3200 [2:01:04<25:13:35, 30.66s/it]"
     ]
    },
    {
     "name": "stdout",
     "output_type": "stream",
     "text": [
      "2/2 [==============================] - ETA: 0s - loss: 18.7547\n",
      "Epoch 00001: val_loss did not improve from 1.54602\n",
      "2/2 [==============================] - 20s 10s/step - loss: 18.7547 - val_loss: 1.8031\n"
     ]
    },
    {
     "name": "stderr",
     "output_type": "stream",
     "text": [
      "  7%|▋         | 239/3200 [2:01:35<25:21:51, 30.84s/it]"
     ]
    },
    {
     "name": "stdout",
     "output_type": "stream",
     "text": [
      "2/2 [==============================] - ETA: 0s - loss: 16.9257\n",
      "Epoch 00001: val_loss did not improve from 1.54602\n",
      "2/2 [==============================] - 20s 10s/step - loss: 16.9257 - val_loss: 1.8035\n"
     ]
    },
    {
     "name": "stderr",
     "output_type": "stream",
     "text": [
      "  8%|▊         | 240/3200 [2:02:06<25:19:07, 30.79s/it]"
     ]
    },
    {
     "name": "stdout",
     "output_type": "stream",
     "text": [
      "2/2 [==============================] - ETA: 0s - loss: 14.1663\n",
      "Epoch 00001: val_loss did not improve from 1.54602\n",
      "2/2 [==============================] - 20s 10s/step - loss: 14.1663 - val_loss: 1.8042\n"
     ]
    },
    {
     "name": "stderr",
     "output_type": "stream",
     "text": [
      "  8%|▊         | 241/3200 [2:02:36<25:16:00, 30.74s/it]"
     ]
    },
    {
     "name": "stdout",
     "output_type": "stream",
     "text": [
      "2/2 [==============================] - ETA: 0s - loss: 12.6574\n",
      "Epoch 00001: val_loss did not improve from 1.54602\n",
      "2/2 [==============================] - 20s 10s/step - loss: 12.6574 - val_loss: 1.8059\n"
     ]
    },
    {
     "name": "stderr",
     "output_type": "stream",
     "text": [
      "  8%|▊         | 242/3200 [2:03:08<25:23:08, 30.90s/it]"
     ]
    },
    {
     "name": "stdout",
     "output_type": "stream",
     "text": [
      "2/2 [==============================] - ETA: 0s - loss: 9.9599 \n",
      "Epoch 00001: val_loss did not improve from 1.54602\n",
      "2/2 [==============================] - 20s 10s/step - loss: 9.9599 - val_loss: 1.8078\n"
     ]
    },
    {
     "name": "stderr",
     "output_type": "stream",
     "text": [
      "  8%|▊         | 243/3200 [2:03:38<25:20:31, 30.85s/it]"
     ]
    },
    {
     "name": "stdout",
     "output_type": "stream",
     "text": [
      "2/2 [==============================] - ETA: 0s - loss: 6.8414\n",
      "Epoch 00001: val_loss did not improve from 1.54602\n",
      "2/2 [==============================] - 19s 10s/step - loss: 6.8414 - val_loss: 1.8094\n"
     ]
    },
    {
     "name": "stderr",
     "output_type": "stream",
     "text": [
      "  8%|▊         | 244/3200 [2:04:09<25:15:06, 30.75s/it]"
     ]
    },
    {
     "name": "stdout",
     "output_type": "stream",
     "text": [
      "2/2 [==============================] - ETA: 0s - loss: 5.0997\n",
      "Epoch 00001: val_loss did not improve from 1.54602\n",
      "2/2 [==============================] - 20s 10s/step - loss: 5.0997 - val_loss: 1.8112\n"
     ]
    },
    {
     "name": "stderr",
     "output_type": "stream",
     "text": [
      "  8%|▊         | 245/3200 [2:04:39<25:12:59, 30.72s/it]"
     ]
    },
    {
     "name": "stdout",
     "output_type": "stream",
     "text": [
      "2/2 [==============================] - ETA: 0s - loss: 2.8545\n",
      "Epoch 00001: val_loss did not improve from 1.54602\n",
      "2/2 [==============================] - 20s 10s/step - loss: 2.8545 - val_loss: 1.8129\n"
     ]
    },
    {
     "name": "stderr",
     "output_type": "stream",
     "text": [
      "  8%|▊         | 246/3200 [2:05:11<25:21:08, 30.90s/it]"
     ]
    },
    {
     "name": "stdout",
     "output_type": "stream",
     "text": [
      "2/2 [==============================] - ETA: 0s - loss: 1.8423\n",
      "Epoch 00001: val_loss did not improve from 1.54602\n",
      "2/2 [==============================] - 19s 10s/step - loss: 1.8423 - val_loss: 1.8144\n"
     ]
    },
    {
     "name": "stderr",
     "output_type": "stream",
     "text": [
      "  8%|▊         | 247/3200 [2:05:41<25:14:48, 30.78s/it]"
     ]
    },
    {
     "name": "stdout",
     "output_type": "stream",
     "text": [
      "2/2 [==============================] - ETA: 0s - loss: 1.2017\n",
      "Epoch 00001: val_loss did not improve from 1.54602\n",
      "2/2 [==============================] - 19s 10s/step - loss: 1.2017 - val_loss: 1.8158\n"
     ]
    },
    {
     "name": "stderr",
     "output_type": "stream",
     "text": [
      "  8%|▊         | 248/3200 [2:06:12<25:11:41, 30.73s/it]"
     ]
    },
    {
     "name": "stdout",
     "output_type": "stream",
     "text": [
      "2/2 [==============================] - ETA: 0s - loss: 0.9132\n",
      "Epoch 00001: val_loss did not improve from 1.54602\n",
      "2/2 [==============================] - 20s 10s/step - loss: 0.9132 - val_loss: 1.8170\n"
     ]
    },
    {
     "name": "stderr",
     "output_type": "stream",
     "text": [
      "  8%|▊         | 249/3200 [2:06:43<25:20:09, 30.91s/it]"
     ]
    },
    {
     "name": "stdout",
     "output_type": "stream",
     "text": [
      "2/2 [==============================] - ETA: 0s - loss: 10.3871\n",
      "Epoch 00001: val_loss did not improve from 1.54602\n",
      "2/2 [==============================] - 19s 10s/step - loss: 10.3871 - val_loss: 1.8171\n"
     ]
    },
    {
     "name": "stderr",
     "output_type": "stream",
     "text": [
      "  8%|▊         | 250/3200 [2:07:14<25:11:39, 30.75s/it]"
     ]
    },
    {
     "name": "stdout",
     "output_type": "stream",
     "text": [
      "2/2 [==============================] - ETA: 0s - loss: 36.8750\n",
      "Epoch 00001: val_loss did not improve from 1.54602\n",
      "2/2 [==============================] - 20s 10s/step - loss: 36.8750 - val_loss: 1.8117\n"
     ]
    },
    {
     "name": "stderr",
     "output_type": "stream",
     "text": [
      "  8%|▊         | 251/3200 [2:07:44<25:05:12, 30.62s/it]"
     ]
    },
    {
     "name": "stdout",
     "output_type": "stream",
     "text": [
      "2/2 [==============================] - ETA: 0s - loss: 40.9933\n",
      "Epoch 00001: val_loss did not improve from 1.54602\n",
      "2/2 [==============================] - 20s 10s/step - loss: 40.9933 - val_loss: 1.8020\n"
     ]
    },
    {
     "name": "stderr",
     "output_type": "stream",
     "text": [
      "  8%|▊         | 252/3200 [2:08:15<25:09:03, 30.71s/it]"
     ]
    },
    {
     "name": "stdout",
     "output_type": "stream",
     "text": [
      "2/2 [==============================] - ETA: 0s - loss: 38.0638\n",
      "Epoch 00001: val_loss did not improve from 1.54602\n",
      "2/2 [==============================] - 20s 10s/step - loss: 38.0638 - val_loss: 1.7898\n"
     ]
    },
    {
     "name": "stderr",
     "output_type": "stream",
     "text": [
      "  8%|▊         | 253/3200 [2:08:46<25:12:10, 30.79s/it]"
     ]
    },
    {
     "name": "stdout",
     "output_type": "stream",
     "text": [
      "2/2 [==============================] - ETA: 0s - loss: 38.0974\n",
      "Epoch 00001: val_loss did not improve from 1.54602\n",
      "2/2 [==============================] - 20s 10s/step - loss: 38.0974 - val_loss: 1.7808\n"
     ]
    },
    {
     "name": "stderr",
     "output_type": "stream",
     "text": [
      "  8%|▊         | 254/3200 [2:09:16<25:08:34, 30.72s/it]"
     ]
    },
    {
     "name": "stdout",
     "output_type": "stream",
     "text": [
      "2/2 [==============================] - ETA: 0s - loss: 36.8306\n",
      "Epoch 00001: val_loss did not improve from 1.54602\n",
      "2/2 [==============================] - 20s 10s/step - loss: 36.8306 - val_loss: 1.7720\n"
     ]
    },
    {
     "name": "stderr",
     "output_type": "stream",
     "text": [
      "  8%|▊         | 255/3200 [2:09:47<25:05:41, 30.68s/it]"
     ]
    },
    {
     "name": "stdout",
     "output_type": "stream",
     "text": [
      "2/2 [==============================] - ETA: 0s - loss: 17.4681\n",
      "Epoch 00001: val_loss did not improve from 1.54602\n",
      "2/2 [==============================] - 20s 10s/step - loss: 17.4681 - val_loss: 549.7735\n"
     ]
    },
    {
     "name": "stderr",
     "output_type": "stream",
     "text": [
      "  8%|▊         | 256/3200 [2:10:18<25:16:07, 30.90s/it]"
     ]
    },
    {
     "name": "stdout",
     "output_type": "stream",
     "text": [
      "2/2 [==============================] - ETA: 0s - loss: 12.4041\n",
      "Epoch 00001: val_loss did not improve from 1.54602\n",
      "2/2 [==============================] - 20s 10s/step - loss: 12.4041 - val_loss: 3862.3721\n"
     ]
    },
    {
     "name": "stderr",
     "output_type": "stream",
     "text": [
      "  8%|▊         | 257/3200 [2:10:49<25:12:15, 30.83s/it]"
     ]
    },
    {
     "name": "stdout",
     "output_type": "stream",
     "text": [
      "2/2 [==============================] - ETA: 0s - loss: 21.1072\n",
      "Epoch 00001: val_loss did not improve from 1.54602\n",
      "2/2 [==============================] - 19s 10s/step - loss: 21.1072 - val_loss: 5948.7300\n"
     ]
    },
    {
     "name": "stderr",
     "output_type": "stream",
     "text": [
      "  8%|▊         | 258/3200 [2:11:19<25:06:43, 30.73s/it]"
     ]
    },
    {
     "name": "stdout",
     "output_type": "stream",
     "text": [
      "2/2 [==============================] - ETA: 0s - loss: 13.1584\n",
      "Epoch 00001: val_loss did not improve from 1.54602\n",
      "2/2 [==============================] - 20s 10s/step - loss: 13.1584 - val_loss: 5098.5044\n"
     ]
    },
    {
     "name": "stderr",
     "output_type": "stream",
     "text": [
      "  8%|▊         | 259/3200 [2:11:51<25:12:51, 30.86s/it]"
     ]
    },
    {
     "name": "stdout",
     "output_type": "stream",
     "text": [
      "2/2 [==============================] - ETA: 0s - loss: 11.1733\n",
      "Epoch 00001: val_loss did not improve from 1.54602\n",
      "2/2 [==============================] - 21s 10s/step - loss: 11.1733 - val_loss: 3264.9673\n"
     ]
    },
    {
     "name": "stderr",
     "output_type": "stream",
     "text": [
      "  8%|▊         | 260/3200 [2:12:22<25:25:21, 31.13s/it]"
     ]
    },
    {
     "name": "stdout",
     "output_type": "stream",
     "text": [
      "2/2 [==============================] - ETA: 0s - loss: 6.1925\n",
      "Epoch 00001: val_loss did not improve from 1.54602\n",
      "2/2 [==============================] - 20s 10s/step - loss: 6.1925 - val_loss: 263.4925\n"
     ]
    },
    {
     "name": "stderr",
     "output_type": "stream",
     "text": [
      "  8%|▊         | 261/3200 [2:12:53<25:18:17, 31.00s/it]"
     ]
    },
    {
     "name": "stdout",
     "output_type": "stream",
     "text": [
      "2/2 [==============================] - ETA: 0s - loss: 11.3150\n",
      "Epoch 00001: val_loss did not improve from 1.54602\n",
      "2/2 [==============================] - 20s 10s/step - loss: 11.3150 - val_loss: 1.7558\n"
     ]
    },
    {
     "name": "stderr",
     "output_type": "stream",
     "text": [
      "  8%|▊         | 262/3200 [2:13:24<25:21:29, 31.07s/it]"
     ]
    },
    {
     "name": "stdout",
     "output_type": "stream",
     "text": [
      "2/2 [==============================] - ETA: 0s - loss: 19.5846\n",
      "Epoch 00001: val_loss did not improve from 1.54602\n",
      "2/2 [==============================] - 20s 10s/step - loss: 19.5846 - val_loss: 1.7571\n"
     ]
    },
    {
     "name": "stderr",
     "output_type": "stream",
     "text": [
      "  8%|▊         | 263/3200 [2:13:55<25:14:43, 30.94s/it]"
     ]
    },
    {
     "name": "stdout",
     "output_type": "stream",
     "text": [
      "2/2 [==============================] - ETA: 0s - loss: 18.3024\n",
      "Epoch 00001: val_loss did not improve from 1.54602\n",
      "2/2 [==============================] - 20s 10s/step - loss: 18.3024 - val_loss: 1.7549\n"
     ]
    },
    {
     "name": "stderr",
     "output_type": "stream",
     "text": [
      "  8%|▊         | 264/3200 [2:14:26<25:10:02, 30.86s/it]"
     ]
    },
    {
     "name": "stdout",
     "output_type": "stream",
     "text": [
      "2/2 [==============================] - ETA: 0s - loss: 16.2091\n",
      "Epoch 00001: val_loss did not improve from 1.54602\n",
      "2/2 [==============================] - 20s 10s/step - loss: 16.2091 - val_loss: 1.7528\n"
     ]
    },
    {
     "name": "stderr",
     "output_type": "stream",
     "text": [
      "  8%|▊         | 265/3200 [2:14:56<25:04:29, 30.76s/it]"
     ]
    },
    {
     "name": "stdout",
     "output_type": "stream",
     "text": [
      "2/2 [==============================] - ETA: 0s - loss: 13.6647\n",
      "Epoch 00001: val_loss did not improve from 1.54602\n",
      "2/2 [==============================] - 20s 10s/step - loss: 13.6647 - val_loss: 1.7495\n"
     ]
    },
    {
     "name": "stderr",
     "output_type": "stream",
     "text": [
      "  8%|▊         | 266/3200 [2:15:27<25:11:10, 30.90s/it]"
     ]
    },
    {
     "name": "stdout",
     "output_type": "stream",
     "text": [
      "2/2 [==============================] - ETA: 0s - loss: 23.8960\n",
      "Epoch 00001: val_loss did not improve from 1.54602\n",
      "2/2 [==============================] - 20s 10s/step - loss: 23.8960 - val_loss: 1.7403\n"
     ]
    },
    {
     "name": "stderr",
     "output_type": "stream",
     "text": [
      "  8%|▊         | 267/3200 [2:15:58<25:03:35, 30.76s/it]"
     ]
    },
    {
     "name": "stdout",
     "output_type": "stream",
     "text": [
      "2/2 [==============================] - ETA: 0s - loss: 22.2731\n",
      "Epoch 00001: val_loss did not improve from 1.54602\n",
      "2/2 [==============================] - 20s 10s/step - loss: 22.2731 - val_loss: 1.7292\n"
     ]
    },
    {
     "name": "stderr",
     "output_type": "stream",
     "text": [
      "  8%|▊         | 268/3200 [2:16:28<25:00:09, 30.70s/it]"
     ]
    },
    {
     "name": "stdout",
     "output_type": "stream",
     "text": [
      "2/2 [==============================] - ETA: 0s - loss: 19.0002\n",
      "Epoch 00001: val_loss did not improve from 1.54602\n",
      "2/2 [==============================] - 20s 10s/step - loss: 19.0002 - val_loss: 1.7171\n"
     ]
    },
    {
     "name": "stderr",
     "output_type": "stream",
     "text": [
      "  8%|▊         | 269/3200 [2:16:59<25:05:21, 30.82s/it]"
     ]
    },
    {
     "name": "stdout",
     "output_type": "stream",
     "text": [
      "2/2 [==============================] - ETA: 0s - loss: 19.0249\n",
      "Epoch 00001: val_loss did not improve from 1.54602\n",
      "2/2 [==============================] - 20s 10s/step - loss: 19.0249 - val_loss: 1.7166\n"
     ]
    },
    {
     "name": "stderr",
     "output_type": "stream",
     "text": [
      "  8%|▊         | 270/3200 [2:17:30<24:58:21, 30.68s/it]"
     ]
    },
    {
     "name": "stdout",
     "output_type": "stream",
     "text": [
      "2/2 [==============================] - ETA: 0s - loss: 16.3310\n",
      "Epoch 00001: val_loss did not improve from 1.54602\n",
      "2/2 [==============================] - 20s 10s/step - loss: 16.3310 - val_loss: 11.0766\n"
     ]
    },
    {
     "name": "stderr",
     "output_type": "stream",
     "text": [
      "  8%|▊         | 271/3200 [2:18:00<24:53:25, 30.59s/it]"
     ]
    },
    {
     "name": "stdout",
     "output_type": "stream",
     "text": [
      "2/2 [==============================] - ETA: 0s - loss: 17.5280\n",
      "Epoch 00001: val_loss did not improve from 1.54602\n",
      "2/2 [==============================] - 20s 10s/step - loss: 17.5280 - val_loss: 145.2443\n"
     ]
    },
    {
     "name": "stderr",
     "output_type": "stream",
     "text": [
      "  8%|▊         | 272/3200 [2:18:31<24:58:13, 30.70s/it]"
     ]
    },
    {
     "name": "stdout",
     "output_type": "stream",
     "text": [
      "2/2 [==============================] - ETA: 0s - loss: 12.1051\n",
      "Epoch 00001: val_loss did not improve from 1.54602\n",
      "2/2 [==============================] - 20s 10s/step - loss: 12.1051 - val_loss: 143.7924\n"
     ]
    },
    {
     "name": "stderr",
     "output_type": "stream",
     "text": [
      "  9%|▊         | 273/3200 [2:19:02<24:58:41, 30.72s/it]"
     ]
    },
    {
     "name": "stdout",
     "output_type": "stream",
     "text": [
      "2/2 [==============================] - ETA: 0s - loss: 10.6144\n",
      "Epoch 00001: val_loss did not improve from 1.54602\n",
      "2/2 [==============================] - 20s 10s/step - loss: 10.6144 - val_loss: 163.3304\n"
     ]
    },
    {
     "name": "stderr",
     "output_type": "stream",
     "text": [
      "  9%|▊         | 274/3200 [2:19:32<24:54:04, 30.64s/it]"
     ]
    },
    {
     "name": "stdout",
     "output_type": "stream",
     "text": [
      "2/2 [==============================] - ETA: 0s - loss: 9.6614\n",
      "Epoch 00001: val_loss did not improve from 1.54602\n",
      "2/2 [==============================] - 20s 10s/step - loss: 9.6614 - val_loss: 138.3572\n"
     ]
    },
    {
     "name": "stderr",
     "output_type": "stream",
     "text": [
      "  9%|▊         | 275/3200 [2:20:03<24:49:04, 30.55s/it]"
     ]
    },
    {
     "name": "stdout",
     "output_type": "stream",
     "text": [
      "2/2 [==============================] - ETA: 0s - loss: 8.3163 \n",
      "Epoch 00001: val_loss did not improve from 1.54602\n",
      "2/2 [==============================] - 20s 10s/step - loss: 8.3163 - val_loss: 43.4767\n"
     ]
    },
    {
     "name": "stderr",
     "output_type": "stream",
     "text": [
      "  9%|▊         | 276/3200 [2:20:34<24:57:51, 30.74s/it]"
     ]
    },
    {
     "name": "stdout",
     "output_type": "stream",
     "text": [
      "2/2 [==============================] - ETA: 0s - loss: 5.1224\n",
      "Epoch 00001: val_loss did not improve from 1.54602\n",
      "2/2 [==============================] - 20s 10s/step - loss: 5.1224 - val_loss: 34.0960\n"
     ]
    },
    {
     "name": "stderr",
     "output_type": "stream",
     "text": [
      "  9%|▊         | 277/3200 [2:21:04<24:51:34, 30.62s/it]"
     ]
    },
    {
     "name": "stdout",
     "output_type": "stream",
     "text": [
      "2/2 [==============================] - ETA: 0s - loss: 3.2102\n",
      "Epoch 00001: val_loss did not improve from 1.54602\n",
      "2/2 [==============================] - 20s 10s/step - loss: 3.2102 - val_loss: 14.7252\n"
     ]
    },
    {
     "name": "stderr",
     "output_type": "stream",
     "text": [
      "  9%|▊         | 278/3200 [2:21:35<24:47:27, 30.54s/it]"
     ]
    },
    {
     "name": "stdout",
     "output_type": "stream",
     "text": [
      "2/2 [==============================] - ETA: 0s - loss: 5.6173\n",
      "Epoch 00001: val_loss did not improve from 1.54602\n",
      "2/2 [==============================] - 20s 10s/step - loss: 5.6173 - val_loss: 21.0152\n"
     ]
    },
    {
     "name": "stderr",
     "output_type": "stream",
     "text": [
      "  9%|▊         | 279/3200 [2:22:06<24:55:01, 30.71s/it]"
     ]
    },
    {
     "name": "stdout",
     "output_type": "stream",
     "text": [
      "2/2 [==============================] - ETA: 0s - loss: 4.0061\n",
      "Epoch 00001: val_loss did not improve from 1.54602\n",
      "2/2 [==============================] - 20s 10s/step - loss: 4.0061 - val_loss: 8.9462\n"
     ]
    },
    {
     "name": "stderr",
     "output_type": "stream",
     "text": [
      "  9%|▉         | 280/3200 [2:22:36<24:49:31, 30.61s/it]"
     ]
    },
    {
     "name": "stdout",
     "output_type": "stream",
     "text": [
      "2/2 [==============================] - ETA: 0s - loss: 4.0686\n",
      "Epoch 00001: val_loss did not improve from 1.54602\n",
      "2/2 [==============================] - 20s 10s/step - loss: 4.0686 - val_loss: 1.7905\n"
     ]
    },
    {
     "name": "stderr",
     "output_type": "stream",
     "text": [
      "  9%|▉         | 281/3200 [2:23:06<24:45:08, 30.53s/it]"
     ]
    },
    {
     "name": "stdout",
     "output_type": "stream",
     "text": [
      "2/2 [==============================] - ETA: 0s - loss: 3.2147\n",
      "Epoch 00001: val_loss did not improve from 1.54602\n",
      "2/2 [==============================] - 20s 10s/step - loss: 3.2147 - val_loss: 1.5839\n"
     ]
    },
    {
     "name": "stderr",
     "output_type": "stream",
     "text": [
      "  9%|▉         | 282/3200 [2:23:37<24:46:34, 30.57s/it]"
     ]
    },
    {
     "name": "stdout",
     "output_type": "stream",
     "text": [
      "2/2 [==============================] - ETA: 0s - loss: 2.4014\n",
      "Epoch 00001: val_loss did not improve from 1.54602\n",
      "2/2 [==============================] - 20s 10s/step - loss: 2.4014 - val_loss: 1.7467\n"
     ]
    },
    {
     "name": "stderr",
     "output_type": "stream",
     "text": [
      "  9%|▉         | 283/3200 [2:24:08<24:49:59, 30.65s/it]"
     ]
    },
    {
     "name": "stdout",
     "output_type": "stream",
     "text": [
      "2/2 [==============================] - ETA: 0s - loss: 2.2301\n",
      "Epoch 00001: val_loss did not improve from 1.54602\n",
      "2/2 [==============================] - 20s 10s/step - loss: 2.2301 - val_loss: 1.7318\n"
     ]
    },
    {
     "name": "stderr",
     "output_type": "stream",
     "text": [
      "  9%|▉         | 284/3200 [2:24:38<24:45:15, 30.56s/it]"
     ]
    },
    {
     "name": "stdout",
     "output_type": "stream",
     "text": [
      "2/2 [==============================] - ETA: 0s - loss: 1.1607\n",
      "Epoch 00001: val_loss did not improve from 1.54602\n",
      "2/2 [==============================] - 20s 10s/step - loss: 1.1607 - val_loss: 1.7283\n"
     ]
    },
    {
     "name": "stderr",
     "output_type": "stream",
     "text": [
      "  9%|▉         | 285/3200 [2:25:08<24:39:12, 30.45s/it]"
     ]
    },
    {
     "name": "stdout",
     "output_type": "stream",
     "text": [
      "2/2 [==============================] - ETA: 0s - loss: 1.5583\n",
      "Epoch 00001: val_loss did not improve from 1.54602\n",
      "2/2 [==============================] - 20s 10s/step - loss: 1.5583 - val_loss: 1.7292\n"
     ]
    },
    {
     "name": "stderr",
     "output_type": "stream",
     "text": [
      "  9%|▉         | 286/3200 [2:25:39<24:46:24, 30.61s/it]"
     ]
    },
    {
     "name": "stdout",
     "output_type": "stream",
     "text": [
      "2/2 [==============================] - ETA: 0s - loss: 1.3883\n",
      "Epoch 00001: val_loss did not improve from 1.54602\n",
      "2/2 [==============================] - 19s 10s/step - loss: 1.3883 - val_loss: 1.7285\n"
     ]
    },
    {
     "name": "stderr",
     "output_type": "stream",
     "text": [
      "  9%|▉         | 287/3200 [2:26:10<24:39:53, 30.48s/it]"
     ]
    },
    {
     "name": "stdout",
     "output_type": "stream",
     "text": [
      "2/2 [==============================] - ETA: 0s - loss: 1.5448\n",
      "Epoch 00001: val_loss did not improve from 1.54602\n",
      "2/2 [==============================] - 20s 10s/step - loss: 1.5448 - val_loss: 1.7270\n"
     ]
    },
    {
     "name": "stderr",
     "output_type": "stream",
     "text": [
      "  9%|▉         | 288/3200 [2:26:40<24:38:31, 30.46s/it]"
     ]
    },
    {
     "name": "stdout",
     "output_type": "stream",
     "text": [
      "2/2 [==============================] - ETA: 0s - loss: 1.6101\n",
      "Epoch 00001: val_loss did not improve from 1.54602\n",
      "2/2 [==============================] - 20s 10s/step - loss: 1.6101 - val_loss: 1.7249\n"
     ]
    },
    {
     "name": "stderr",
     "output_type": "stream",
     "text": [
      "  9%|▉         | 289/3200 [2:27:11<24:47:17, 30.66s/it]"
     ]
    },
    {
     "name": "stdout",
     "output_type": "stream",
     "text": [
      "2/2 [==============================] - ETA: 0s - loss: 1.2295\n",
      "Epoch 00001: val_loss did not improve from 1.54602\n",
      "2/2 [==============================] - 20s 10s/step - loss: 1.2295 - val_loss: 1.7229\n"
     ]
    },
    {
     "name": "stderr",
     "output_type": "stream",
     "text": [
      "  9%|▉         | 290/3200 [2:27:42<24:42:35, 30.57s/it]"
     ]
    },
    {
     "name": "stdout",
     "output_type": "stream",
     "text": [
      "2/2 [==============================] - ETA: 0s - loss: 1.2224\n",
      "Epoch 00001: val_loss did not improve from 1.54602\n",
      "2/2 [==============================] - 20s 10s/step - loss: 1.2224 - val_loss: 1.7229\n"
     ]
    },
    {
     "name": "stderr",
     "output_type": "stream",
     "text": [
      "  9%|▉         | 291/3200 [2:28:12<24:38:24, 30.49s/it]"
     ]
    },
    {
     "name": "stdout",
     "output_type": "stream",
     "text": [
      "2/2 [==============================] - ETA: 0s - loss: 1.3218\n",
      "Epoch 00001: val_loss did not improve from 1.54602\n",
      "2/2 [==============================] - 20s 10s/step - loss: 1.3218 - val_loss: 1.7244\n"
     ]
    },
    {
     "name": "stderr",
     "output_type": "stream",
     "text": [
      "  9%|▉         | 292/3200 [2:28:42<24:38:18, 30.50s/it]"
     ]
    },
    {
     "name": "stdout",
     "output_type": "stream",
     "text": [
      "2/2 [==============================] - ETA: 0s - loss: 0.8587\n",
      "Epoch 00001: val_loss did not improve from 1.54602\n",
      "2/2 [==============================] - 20s 10s/step - loss: 0.8587 - val_loss: 1.7263\n"
     ]
    },
    {
     "name": "stderr",
     "output_type": "stream",
     "text": [
      "  9%|▉         | 293/3200 [2:29:13<24:44:31, 30.64s/it]"
     ]
    },
    {
     "name": "stdout",
     "output_type": "stream",
     "text": [
      "2/2 [==============================] - ETA: 0s - loss: 0.9882\n",
      "Epoch 00001: val_loss did not improve from 1.54602\n",
      "2/2 [==============================] - 20s 10s/step - loss: 0.9882 - val_loss: 1.7274\n"
     ]
    },
    {
     "name": "stderr",
     "output_type": "stream",
     "text": [
      "  9%|▉         | 294/3200 [2:29:44<24:37:53, 30.51s/it]"
     ]
    },
    {
     "name": "stdout",
     "output_type": "stream",
     "text": [
      "2/2 [==============================] - ETA: 0s - loss: 0.8772\n",
      "Epoch 00001: val_loss did not improve from 1.54602\n",
      "2/2 [==============================] - 20s 10s/step - loss: 0.8772 - val_loss: 1.7294\n"
     ]
    },
    {
     "name": "stderr",
     "output_type": "stream",
     "text": [
      "  9%|▉         | 295/3200 [2:30:14<24:33:50, 30.44s/it]"
     ]
    },
    {
     "name": "stdout",
     "output_type": "stream",
     "text": [
      "2/2 [==============================] - ETA: 0s - loss: 1.2177\n",
      "Epoch 00001: val_loss did not improve from 1.54602\n",
      "2/2 [==============================] - 20s 10s/step - loss: 1.2177 - val_loss: 1.7329\n"
     ]
    },
    {
     "name": "stderr",
     "output_type": "stream",
     "text": [
      "  9%|▉         | 296/3200 [2:30:45<24:44:07, 30.66s/it]"
     ]
    },
    {
     "name": "stdout",
     "output_type": "stream",
     "text": [
      "2/2 [==============================] - ETA: 0s - loss: 1.3925\n",
      "Epoch 00001: val_loss did not improve from 1.54602\n",
      "2/2 [==============================] - 20s 10s/step - loss: 1.3925 - val_loss: 1.7409\n"
     ]
    },
    {
     "name": "stderr",
     "output_type": "stream",
     "text": [
      "  9%|▉         | 297/3200 [2:31:15<24:37:13, 30.53s/it]"
     ]
    },
    {
     "name": "stdout",
     "output_type": "stream",
     "text": [
      "2/2 [==============================] - ETA: 0s - loss: 1.1754\n",
      "Epoch 00001: val_loss did not improve from 1.54602\n",
      "2/2 [==============================] - 20s 10s/step - loss: 1.1754 - val_loss: 1.7456\n"
     ]
    },
    {
     "name": "stderr",
     "output_type": "stream",
     "text": [
      "  9%|▉         | 298/3200 [2:31:46<24:34:49, 30.49s/it]"
     ]
    },
    {
     "name": "stdout",
     "output_type": "stream",
     "text": [
      "2/2 [==============================] - ETA: 0s - loss: 1.5064\n",
      "Epoch 00001: val_loss did not improve from 1.54602\n",
      "2/2 [==============================] - 20s 10s/step - loss: 1.5064 - val_loss: 1.7564\n"
     ]
    },
    {
     "name": "stderr",
     "output_type": "stream",
     "text": [
      "  9%|▉         | 299/3200 [2:32:17<24:45:11, 30.72s/it]"
     ]
    },
    {
     "name": "stdout",
     "output_type": "stream",
     "text": [
      "2/2 [==============================] - ETA: 0s - loss: 1.3464\n",
      "Epoch 00001: val_loss did not improve from 1.54602\n",
      "2/2 [==============================] - 20s 10s/step - loss: 1.3464 - val_loss: 1.7657\n"
     ]
    },
    {
     "name": "stderr",
     "output_type": "stream",
     "text": [
      "  9%|▉         | 300/3200 [2:32:47<24:42:53, 30.68s/it]"
     ]
    },
    {
     "name": "stdout",
     "output_type": "stream",
     "text": [
      "2/2 [==============================] - ETA: 0s - loss: 2.0472\n",
      "Epoch 00001: val_loss did not improve from 1.54602\n",
      "2/2 [==============================] - 20s 10s/step - loss: 2.0472 - val_loss: 1.7658\n"
     ]
    },
    {
     "name": "stderr",
     "output_type": "stream",
     "text": [
      "  9%|▉         | 301/3200 [2:33:18<24:36:49, 30.57s/it]"
     ]
    },
    {
     "name": "stdout",
     "output_type": "stream",
     "text": [
      "2/2 [==============================] - ETA: 0s - loss: 2.3638\n",
      "Epoch 00001: val_loss did not improve from 1.54602\n",
      "2/2 [==============================] - 20s 10s/step - loss: 2.3638 - val_loss: 1.7662\n"
     ]
    },
    {
     "name": "stderr",
     "output_type": "stream",
     "text": [
      "  9%|▉         | 302/3200 [2:33:48<24:31:32, 30.47s/it]"
     ]
    },
    {
     "name": "stdout",
     "output_type": "stream",
     "text": [
      "2/2 [==============================] - ETA: 0s - loss: 1.8603\n",
      "Epoch 00001: val_loss did not improve from 1.54602\n",
      "2/2 [==============================] - 20s 10s/step - loss: 1.8603 - val_loss: 1.7670\n"
     ]
    },
    {
     "name": "stderr",
     "output_type": "stream",
     "text": [
      "  9%|▉         | 303/3200 [2:34:19<24:40:20, 30.66s/it]"
     ]
    },
    {
     "name": "stdout",
     "output_type": "stream",
     "text": [
      "2/2 [==============================] - ETA: 0s - loss: 2.9866\n",
      "Epoch 00001: val_loss did not improve from 1.54602\n",
      "2/2 [==============================] - 20s 10s/step - loss: 2.9866 - val_loss: 1.7676\n"
     ]
    },
    {
     "name": "stderr",
     "output_type": "stream",
     "text": [
      " 10%|▉         | 304/3200 [2:34:49<24:34:43, 30.55s/it]"
     ]
    },
    {
     "name": "stdout",
     "output_type": "stream",
     "text": [
      "2/2 [==============================] - ETA: 0s - loss: 1.2347\n",
      "Epoch 00001: val_loss did not improve from 1.54602\n",
      "2/2 [==============================] - 20s 10s/step - loss: 1.2347 - val_loss: 1.7687\n"
     ]
    },
    {
     "name": "stderr",
     "output_type": "stream",
     "text": [
      " 10%|▉         | 305/3200 [2:35:20<24:29:16, 30.45s/it]"
     ]
    },
    {
     "name": "stdout",
     "output_type": "stream",
     "text": [
      "2/2 [==============================] - ETA: 0s - loss: 0.8807\n",
      "Epoch 00001: val_loss did not improve from 1.54602\n",
      "2/2 [==============================] - 20s 10s/step - loss: 0.8807 - val_loss: 1.7705\n"
     ]
    },
    {
     "name": "stderr",
     "output_type": "stream",
     "text": [
      " 10%|▉         | 306/3200 [2:35:51<24:37:35, 30.63s/it]"
     ]
    },
    {
     "name": "stdout",
     "output_type": "stream",
     "text": [
      "2/2 [==============================] - ETA: 0s - loss: 0.7088\n",
      "Epoch 00001: val_loss did not improve from 1.54602\n",
      "2/2 [==============================] - 20s 10s/step - loss: 0.7088 - val_loss: 1.7684\n"
     ]
    },
    {
     "name": "stderr",
     "output_type": "stream",
     "text": [
      " 10%|▉         | 307/3200 [2:36:21<24:32:17, 30.53s/it]"
     ]
    },
    {
     "name": "stdout",
     "output_type": "stream",
     "text": [
      "2/2 [==============================] - ETA: 0s - loss: 0.5867\n",
      "Epoch 00001: val_loss did not improve from 1.54602\n",
      "2/2 [==============================] - 20s 10s/step - loss: 0.5867 - val_loss: 1.7459\n"
     ]
    },
    {
     "name": "stderr",
     "output_type": "stream",
     "text": [
      " 10%|▉         | 308/3200 [2:36:51<24:27:57, 30.46s/it]"
     ]
    },
    {
     "name": "stdout",
     "output_type": "stream",
     "text": [
      "2/2 [==============================] - ETA: 0s - loss: 0.4025\n",
      "Epoch 00001: val_loss did not improve from 1.54602\n",
      "2/2 [==============================] - 20s 10s/step - loss: 0.4025 - val_loss: 1.7288\n"
     ]
    },
    {
     "name": "stderr",
     "output_type": "stream",
     "text": [
      " 10%|▉         | 309/3200 [2:37:22<24:36:20, 30.64s/it]"
     ]
    },
    {
     "name": "stdout",
     "output_type": "stream",
     "text": [
      "2/2 [==============================] - ETA: 0s - loss: 0.3060\n",
      "Epoch 00001: val_loss did not improve from 1.54602\n",
      "2/2 [==============================] - 20s 10s/step - loss: 0.3060 - val_loss: 1.7180\n"
     ]
    },
    {
     "name": "stderr",
     "output_type": "stream",
     "text": [
      " 10%|▉         | 310/3200 [2:37:53<24:31:01, 30.54s/it]"
     ]
    },
    {
     "name": "stdout",
     "output_type": "stream",
     "text": [
      "2/2 [==============================] - ETA: 0s - loss: 0.2822\n",
      "Epoch 00001: val_loss did not improve from 1.54602\n",
      "2/2 [==============================] - 20s 10s/step - loss: 0.2822 - val_loss: 1.7115\n"
     ]
    },
    {
     "name": "stderr",
     "output_type": "stream",
     "text": [
      " 10%|▉         | 311/3200 [2:38:23<24:28:15, 30.49s/it]"
     ]
    },
    {
     "name": "stdout",
     "output_type": "stream",
     "text": [
      "2/2 [==============================] - ETA: 0s - loss: 2.9875\n",
      "Epoch 00001: val_loss did not improve from 1.54602\n",
      "2/2 [==============================] - 20s 10s/step - loss: 2.9875 - val_loss: 1.7070\n"
     ]
    },
    {
     "name": "stderr",
     "output_type": "stream",
     "text": [
      " 10%|▉         | 312/3200 [2:38:53<24:24:01, 30.42s/it]"
     ]
    },
    {
     "name": "stdout",
     "output_type": "stream",
     "text": [
      "2/2 [==============================] - ETA: 0s - loss: 5.3282\n",
      "Epoch 00001: val_loss did not improve from 1.54602\n",
      "2/2 [==============================] - 20s 10s/step - loss: 5.3282 - val_loss: 1.7039\n"
     ]
    },
    {
     "name": "stderr",
     "output_type": "stream",
     "text": [
      " 10%|▉         | 313/3200 [2:39:24<24:30:29, 30.56s/it]"
     ]
    },
    {
     "name": "stdout",
     "output_type": "stream",
     "text": [
      "2/2 [==============================] - ETA: 0s - loss: 6.0471\n",
      "Epoch 00001: val_loss did not improve from 1.54602\n",
      "2/2 [==============================] - 19s 10s/step - loss: 6.0471 - val_loss: 1.7019\n"
     ]
    },
    {
     "name": "stderr",
     "output_type": "stream",
     "text": [
      " 10%|▉         | 314/3200 [2:39:54<24:23:53, 30.43s/it]"
     ]
    },
    {
     "name": "stdout",
     "output_type": "stream",
     "text": [
      "2/2 [==============================] - ETA: 0s - loss: 4.6091\n",
      "Epoch 00001: val_loss did not improve from 1.54602\n",
      "2/2 [==============================] - 20s 10s/step - loss: 4.6091 - val_loss: 1.7003\n"
     ]
    },
    {
     "name": "stderr",
     "output_type": "stream",
     "text": [
      " 10%|▉         | 315/3200 [2:40:25<24:25:11, 30.47s/it]"
     ]
    },
    {
     "name": "stdout",
     "output_type": "stream",
     "text": [
      "2/2 [==============================] - ETA: 0s - loss: 3.4258\n",
      "Epoch 00001: val_loss did not improve from 1.54602\n",
      "2/2 [==============================] - 20s 10s/step - loss: 3.4258 - val_loss: 1.7000\n"
     ]
    },
    {
     "name": "stderr",
     "output_type": "stream",
     "text": [
      " 10%|▉         | 316/3200 [2:40:56<24:32:36, 30.64s/it]"
     ]
    },
    {
     "name": "stdout",
     "output_type": "stream",
     "text": [
      "2/2 [==============================] - ETA: 0s - loss: 2.5499\n",
      "Epoch 00001: val_loss did not improve from 1.54602\n",
      "2/2 [==============================] - 20s 10s/step - loss: 2.5499 - val_loss: 1.7016\n"
     ]
    },
    {
     "name": "stderr",
     "output_type": "stream",
     "text": [
      " 10%|▉         | 317/3200 [2:41:26<24:26:41, 30.52s/it]"
     ]
    },
    {
     "name": "stdout",
     "output_type": "stream",
     "text": [
      "2/2 [==============================] - ETA: 0s - loss: 1.5765\n",
      "Epoch 00001: val_loss did not improve from 1.54602\n",
      "2/2 [==============================] - 20s 10s/step - loss: 1.5765 - val_loss: 1.7042\n"
     ]
    },
    {
     "name": "stderr",
     "output_type": "stream",
     "text": [
      " 10%|▉         | 318/3200 [2:41:56<24:22:21, 30.44s/it]"
     ]
    },
    {
     "name": "stdout",
     "output_type": "stream",
     "text": [
      "2/2 [==============================] - ETA: 0s - loss: 1.7088\n",
      "Epoch 00001: val_loss did not improve from 1.54602\n",
      "2/2 [==============================] - 20s 10s/step - loss: 1.7088 - val_loss: 1.7074\n"
     ]
    },
    {
     "name": "stderr",
     "output_type": "stream",
     "text": [
      " 10%|▉         | 319/3200 [2:42:27<24:25:08, 30.51s/it]"
     ]
    },
    {
     "name": "stdout",
     "output_type": "stream",
     "text": [
      "2/2 [==============================] - ETA: 0s - loss: 1.2492\n",
      "Epoch 00001: val_loss did not improve from 1.54602\n",
      "2/2 [==============================] - 20s 10s/step - loss: 1.2492 - val_loss: 1.7107\n"
     ]
    },
    {
     "name": "stderr",
     "output_type": "stream",
     "text": [
      " 10%|█         | 320/3200 [2:42:58<24:29:06, 30.61s/it]"
     ]
    },
    {
     "name": "stdout",
     "output_type": "stream",
     "text": [
      "2/2 [==============================] - ETA: 0s - loss: 0.7180\n",
      "Epoch 00001: val_loss did not improve from 1.54602\n",
      "2/2 [==============================] - 20s 10s/step - loss: 0.7180 - val_loss: 1.7146\n"
     ]
    },
    {
     "name": "stderr",
     "output_type": "stream",
     "text": [
      " 10%|█         | 321/3200 [2:43:28<24:23:43, 30.50s/it]"
     ]
    },
    {
     "name": "stdout",
     "output_type": "stream",
     "text": [
      "2/2 [==============================] - ETA: 0s - loss: 0.6915\n",
      "Epoch 00001: val_loss did not improve from 1.54602\n",
      "2/2 [==============================] - 20s 10s/step - loss: 0.6915 - val_loss: 1.7188\n"
     ]
    },
    {
     "name": "stderr",
     "output_type": "stream",
     "text": [
      " 10%|█         | 322/3200 [2:43:58<24:19:15, 30.42s/it]"
     ]
    },
    {
     "name": "stdout",
     "output_type": "stream",
     "text": [
      "2/2 [==============================] - ETA: 0s - loss: 0.6482\n",
      "Epoch 00001: val_loss did not improve from 1.54602\n",
      "2/2 [==============================] - 20s 10s/step - loss: 0.6482 - val_loss: 1.7231\n"
     ]
    },
    {
     "name": "stderr",
     "output_type": "stream",
     "text": [
      " 10%|█         | 323/3200 [2:44:29<24:26:48, 30.59s/it]"
     ]
    },
    {
     "name": "stdout",
     "output_type": "stream",
     "text": [
      "2/2 [==============================] - ETA: 0s - loss: 0.4586\n",
      "Epoch 00001: val_loss did not improve from 1.54602\n",
      "2/2 [==============================] - 20s 10s/step - loss: 0.4586 - val_loss: 1.7270\n"
     ]
    },
    {
     "name": "stderr",
     "output_type": "stream",
     "text": [
      " 10%|█         | 324/3200 [2:45:00<24:20:33, 30.47s/it]"
     ]
    },
    {
     "name": "stdout",
     "output_type": "stream",
     "text": [
      "2/2 [==============================] - ETA: 0s - loss: 0.2425\n",
      "Epoch 00001: val_loss did not improve from 1.54602\n",
      "2/2 [==============================] - 20s 10s/step - loss: 0.2425 - val_loss: 1.7310\n"
     ]
    },
    {
     "name": "stderr",
     "output_type": "stream",
     "text": [
      " 10%|█         | 325/3200 [2:45:30<24:16:46, 30.40s/it]"
     ]
    },
    {
     "name": "stdout",
     "output_type": "stream",
     "text": [
      "2/2 [==============================] - ETA: 0s - loss: 0.3161\n",
      "Epoch 00001: val_loss did not improve from 1.54602\n",
      "2/2 [==============================] - 20s 10s/step - loss: 0.3161 - val_loss: 1.7344\n"
     ]
    },
    {
     "name": "stderr",
     "output_type": "stream",
     "text": [
      " 10%|█         | 326/3200 [2:46:01<24:23:59, 30.56s/it]"
     ]
    },
    {
     "name": "stdout",
     "output_type": "stream",
     "text": [
      "2/2 [==============================] - ETA: 0s - loss: 0.1844\n",
      "Epoch 00001: val_loss did not improve from 1.54602\n",
      "2/2 [==============================] - 20s 10s/step - loss: 0.1844 - val_loss: 1.7379\n"
     ]
    },
    {
     "name": "stderr",
     "output_type": "stream",
     "text": [
      " 10%|█         | 327/3200 [2:46:31<24:17:26, 30.44s/it]"
     ]
    },
    {
     "name": "stdout",
     "output_type": "stream",
     "text": [
      "2/2 [==============================] - ETA: 0s - loss: 0.1819\n",
      "Epoch 00001: val_loss did not improve from 1.54602\n",
      "2/2 [==============================] - 20s 10s/step - loss: 0.1819 - val_loss: 1.7408\n"
     ]
    },
    {
     "name": "stderr",
     "output_type": "stream",
     "text": [
      " 10%|█         | 328/3200 [2:47:01<24:13:50, 30.37s/it]"
     ]
    },
    {
     "name": "stdout",
     "output_type": "stream",
     "text": [
      "2/2 [==============================] - ETA: 0s - loss: 0.1454\n",
      "Epoch 00001: val_loss did not improve from 1.54602\n",
      "2/2 [==============================] - 20s 10s/step - loss: 0.1454 - val_loss: 1.7436\n"
     ]
    },
    {
     "name": "stderr",
     "output_type": "stream",
     "text": [
      " 10%|█         | 329/3200 [2:47:31<24:12:16, 30.35s/it]"
     ]
    },
    {
     "name": "stdout",
     "output_type": "stream",
     "text": [
      "2/2 [==============================] - ETA: 0s - loss: 0.1265\n",
      "Epoch 00001: val_loss did not improve from 1.54602\n",
      "2/2 [==============================] - 20s 10s/step - loss: 0.1265 - val_loss: 1.7459\n"
     ]
    },
    {
     "name": "stderr",
     "output_type": "stream",
     "text": [
      " 10%|█         | 330/3200 [2:48:03<24:24:32, 30.62s/it]"
     ]
    },
    {
     "name": "stdout",
     "output_type": "stream",
     "text": [
      "2/2 [==============================] - ETA: 0s - loss: 16.6286\n",
      "Epoch 00001: val_loss did not improve from 1.54602\n",
      "2/2 [==============================] - 20s 10s/step - loss: 16.6286 - val_loss: 1.7463\n"
     ]
    },
    {
     "name": "stderr",
     "output_type": "stream",
     "text": [
      " 10%|█         | 331/3200 [2:48:33<24:21:04, 30.56s/it]"
     ]
    },
    {
     "name": "stdout",
     "output_type": "stream",
     "text": [
      "2/2 [==============================] - ETA: 0s - loss: 21.3827\n",
      "Epoch 00001: val_loss did not improve from 1.54602\n",
      "2/2 [==============================] - 20s 10s/step - loss: 21.3827 - val_loss: 1.7430\n"
     ]
    },
    {
     "name": "stderr",
     "output_type": "stream",
     "text": [
      " 10%|█         | 332/3200 [2:49:03<24:17:07, 30.48s/it]"
     ]
    },
    {
     "name": "stdout",
     "output_type": "stream",
     "text": [
      "2/2 [==============================] - ETA: 0s - loss: 14.5863\n",
      "Epoch 00001: val_loss did not improve from 1.54602\n",
      "2/2 [==============================] - 20s 10s/step - loss: 14.5863 - val_loss: 1.7384\n"
     ]
    },
    {
     "name": "stderr",
     "output_type": "stream",
     "text": [
      " 10%|█         | 333/3200 [2:49:34<24:24:47, 30.65s/it]"
     ]
    },
    {
     "name": "stdout",
     "output_type": "stream",
     "text": [
      "2/2 [==============================] - ETA: 0s - loss: 16.5626\n",
      "Epoch 00001: val_loss did not improve from 1.54602\n",
      "2/2 [==============================] - 20s 10s/step - loss: 16.5626 - val_loss: 1.7308\n"
     ]
    },
    {
     "name": "stderr",
     "output_type": "stream",
     "text": [
      " 10%|█         | 334/3200 [2:50:05<24:19:30, 30.55s/it]"
     ]
    },
    {
     "name": "stdout",
     "output_type": "stream",
     "text": [
      "2/2 [==============================] - ETA: 0s - loss: 11.6750\n",
      "Epoch 00001: val_loss did not improve from 1.54602\n",
      "2/2 [==============================] - 20s 10s/step - loss: 11.6750 - val_loss: 1.7264\n"
     ]
    },
    {
     "name": "stderr",
     "output_type": "stream",
     "text": [
      " 10%|█         | 335/3200 [2:50:35<24:16:18, 30.50s/it]"
     ]
    },
    {
     "name": "stdout",
     "output_type": "stream",
     "text": [
      "2/2 [==============================] - ETA: 0s - loss: 7.1115\n",
      "Epoch 00001: val_loss did not improve from 1.54602\n",
      "2/2 [==============================] - 20s 10s/step - loss: 7.1115 - val_loss: 1.7231\n"
     ]
    },
    {
     "name": "stderr",
     "output_type": "stream",
     "text": [
      " 10%|█         | 336/3200 [2:51:06<24:25:50, 30.71s/it]"
     ]
    },
    {
     "name": "stdout",
     "output_type": "stream",
     "text": [
      "2/2 [==============================] - ETA: 0s - loss: 6.0682\n",
      "Epoch 00001: val_loss did not improve from 1.54602\n",
      "2/2 [==============================] - 20s 10s/step - loss: 6.0682 - val_loss: 1.7221\n"
     ]
    },
    {
     "name": "stderr",
     "output_type": "stream",
     "text": [
      " 11%|█         | 337/3200 [2:51:37<24:21:44, 30.63s/it]"
     ]
    },
    {
     "name": "stdout",
     "output_type": "stream",
     "text": [
      "2/2 [==============================] - ETA: 0s - loss: 2.5759\n",
      "Epoch 00001: val_loss did not improve from 1.54602\n",
      "2/2 [==============================] - 20s 10s/step - loss: 2.5759 - val_loss: 1.7264\n"
     ]
    },
    {
     "name": "stderr",
     "output_type": "stream",
     "text": [
      " 11%|█         | 338/3200 [2:52:07<24:19:04, 30.59s/it]"
     ]
    },
    {
     "name": "stdout",
     "output_type": "stream",
     "text": [
      "2/2 [==============================] - ETA: 0s - loss: 3.2161\n",
      "Epoch 00001: val_loss did not improve from 1.54602\n",
      "2/2 [==============================] - 20s 10s/step - loss: 3.2161 - val_loss: 1.7297\n"
     ]
    },
    {
     "name": "stderr",
     "output_type": "stream",
     "text": [
      " 11%|█         | 339/3200 [2:52:38<24:17:02, 30.56s/it]"
     ]
    },
    {
     "name": "stdout",
     "output_type": "stream",
     "text": [
      "2/2 [==============================] - ETA: 0s - loss: 4.5675\n",
      "Epoch 00001: val_loss did not improve from 1.54602\n",
      "2/2 [==============================] - 20s 10s/step - loss: 4.5675 - val_loss: 1.7293\n"
     ]
    },
    {
     "name": "stderr",
     "output_type": "stream",
     "text": [
      " 11%|█         | 340/3200 [2:53:09<24:25:54, 30.75s/it]"
     ]
    },
    {
     "name": "stdout",
     "output_type": "stream",
     "text": [
      "2/2 [==============================] - ETA: 0s - loss: 4.2770\n",
      "Epoch 00001: val_loss did not improve from 1.54602\n",
      "2/2 [==============================] - 20s 10s/step - loss: 4.2770 - val_loss: 1.7333\n"
     ]
    },
    {
     "name": "stderr",
     "output_type": "stream",
     "text": [
      " 11%|█         | 341/3200 [2:53:39<24:19:43, 30.63s/it]"
     ]
    },
    {
     "name": "stdout",
     "output_type": "stream",
     "text": [
      "2/2 [==============================] - ETA: 0s - loss: 4.0432\n",
      "Epoch 00001: val_loss did not improve from 1.54602\n",
      "2/2 [==============================] - 20s 10s/step - loss: 4.0432 - val_loss: 1.7405\n"
     ]
    },
    {
     "name": "stderr",
     "output_type": "stream",
     "text": [
      " 11%|█         | 342/3200 [2:54:10<24:14:20, 30.53s/it]"
     ]
    },
    {
     "name": "stdout",
     "output_type": "stream",
     "text": [
      "2/2 [==============================] - ETA: 0s - loss: 4.7972\n",
      "Epoch 00001: val_loss did not improve from 1.54602\n",
      "2/2 [==============================] - 20s 10s/step - loss: 4.7972 - val_loss: 1.7422\n"
     ]
    },
    {
     "name": "stderr",
     "output_type": "stream",
     "text": [
      " 11%|█         | 343/3200 [2:54:41<24:22:57, 30.72s/it]"
     ]
    },
    {
     "name": "stdout",
     "output_type": "stream",
     "text": [
      "2/2 [==============================] - ETA: 0s - loss: 4.5933\n",
      "Epoch 00001: val_loss did not improve from 1.54602\n",
      "2/2 [==============================] - 20s 10s/step - loss: 4.5933 - val_loss: 1.7413\n"
     ]
    },
    {
     "name": "stderr",
     "output_type": "stream",
     "text": [
      " 11%|█         | 344/3200 [2:55:11<24:17:09, 30.61s/it]"
     ]
    },
    {
     "name": "stdout",
     "output_type": "stream",
     "text": [
      "2/2 [==============================] - ETA: 0s - loss: 3.0132\n",
      "Epoch 00001: val_loss did not improve from 1.54602\n",
      "2/2 [==============================] - 20s 10s/step - loss: 3.0132 - val_loss: 1.7439\n"
     ]
    },
    {
     "name": "stderr",
     "output_type": "stream",
     "text": [
      " 11%|█         | 345/3200 [2:55:42<24:13:50, 30.55s/it]"
     ]
    },
    {
     "name": "stdout",
     "output_type": "stream",
     "text": [
      "2/2 [==============================] - ETA: 0s - loss: 3.8206\n",
      "Epoch 00001: val_loss did not improve from 1.54602\n",
      "2/2 [==============================] - 20s 10s/step - loss: 3.8206 - val_loss: 1.7466\n"
     ]
    },
    {
     "name": "stderr",
     "output_type": "stream",
     "text": [
      " 11%|█         | 346/3200 [2:56:13<24:24:17, 30.78s/it]"
     ]
    },
    {
     "name": "stdout",
     "output_type": "stream",
     "text": [
      "2/2 [==============================] - ETA: 0s - loss: 4.1750\n",
      "Epoch 00001: val_loss did not improve from 1.54602\n",
      "2/2 [==============================] - 20s 10s/step - loss: 4.1750 - val_loss: 1.7470\n"
     ]
    },
    {
     "name": "stderr",
     "output_type": "stream",
     "text": [
      " 11%|█         | 347/3200 [2:56:43<24:19:37, 30.70s/it]"
     ]
    },
    {
     "name": "stdout",
     "output_type": "stream",
     "text": [
      "2/2 [==============================] - ETA: 0s - loss: 4.2390\n",
      "Epoch 00001: val_loss did not improve from 1.54602\n",
      "2/2 [==============================] - 20s 10s/step - loss: 4.2390 - val_loss: 1.7462\n"
     ]
    },
    {
     "name": "stderr",
     "output_type": "stream",
     "text": [
      " 11%|█         | 348/3200 [2:57:14<24:15:40, 30.62s/it]"
     ]
    },
    {
     "name": "stdout",
     "output_type": "stream",
     "text": [
      "2/2 [==============================] - ETA: 0s - loss: 4.2166\n",
      "Epoch 00001: val_loss did not improve from 1.54602\n",
      "2/2 [==============================] - 20s 10s/step - loss: 4.2166 - val_loss: 1.7493\n"
     ]
    },
    {
     "name": "stderr",
     "output_type": "stream",
     "text": [
      " 11%|█         | 349/3200 [2:57:44<24:13:13, 30.58s/it]"
     ]
    },
    {
     "name": "stdout",
     "output_type": "stream",
     "text": [
      "2/2 [==============================] - ETA: 0s - loss: 3.9946\n",
      "Epoch 00001: val_loss did not improve from 1.54602\n",
      "2/2 [==============================] - 20s 10s/step - loss: 3.9946 - val_loss: 1.7553\n"
     ]
    },
    {
     "name": "stderr",
     "output_type": "stream",
     "text": [
      " 11%|█         | 350/3200 [2:58:15<24:19:11, 30.72s/it]"
     ]
    },
    {
     "name": "stdout",
     "output_type": "stream",
     "text": [
      "2/2 [==============================] - ETA: 0s - loss: 4.4737\n",
      "Epoch 00001: val_loss did not improve from 1.54602\n",
      "2/2 [==============================] - 20s 10s/step - loss: 4.4737 - val_loss: 1.7613\n"
     ]
    },
    {
     "name": "stderr",
     "output_type": "stream",
     "text": [
      " 11%|█         | 351/3200 [2:58:46<24:15:38, 30.66s/it]"
     ]
    },
    {
     "name": "stdout",
     "output_type": "stream",
     "text": [
      "2/2 [==============================] - ETA: 0s - loss: 2.9751\n",
      "Epoch 00001: val_loss did not improve from 1.54602\n",
      "2/2 [==============================] - 20s 10s/step - loss: 2.9751 - val_loss: 1.7630\n"
     ]
    },
    {
     "name": "stderr",
     "output_type": "stream",
     "text": [
      " 11%|█         | 352/3200 [2:59:16<24:11:00, 30.57s/it]"
     ]
    },
    {
     "name": "stdout",
     "output_type": "stream",
     "text": [
      "2/2 [==============================] - ETA: 0s - loss: 2.8289\n",
      "Epoch 00001: val_loss did not improve from 1.54602\n",
      "2/2 [==============================] - 20s 10s/step - loss: 2.8289 - val_loss: 1.7622\n"
     ]
    },
    {
     "name": "stderr",
     "output_type": "stream",
     "text": [
      " 11%|█         | 353/3200 [2:59:47<24:18:34, 30.74s/it]"
     ]
    },
    {
     "name": "stdout",
     "output_type": "stream",
     "text": [
      "2/2 [==============================] - ETA: 0s - loss: 2.8599\n",
      "Epoch 00001: val_loss did not improve from 1.54602\n",
      "2/2 [==============================] - 20s 10s/step - loss: 2.8599 - val_loss: 1.7579\n"
     ]
    },
    {
     "name": "stderr",
     "output_type": "stream",
     "text": [
      " 11%|█         | 354/3200 [3:00:18<24:14:00, 30.65s/it]"
     ]
    },
    {
     "name": "stdout",
     "output_type": "stream",
     "text": [
      "2/2 [==============================] - ETA: 0s - loss: 2.7130\n",
      "Epoch 00001: val_loss did not improve from 1.54602\n",
      "2/2 [==============================] - 20s 10s/step - loss: 2.7130 - val_loss: 1.7545\n"
     ]
    },
    {
     "name": "stderr",
     "output_type": "stream",
     "text": [
      " 11%|█         | 355/3200 [3:00:48<24:13:13, 30.65s/it]"
     ]
    },
    {
     "name": "stdout",
     "output_type": "stream",
     "text": [
      "2/2 [==============================] - ETA: 0s - loss: 2.3014\n",
      "Epoch 00001: val_loss did not improve from 1.54602\n",
      "2/2 [==============================] - 20s 10s/step - loss: 2.3014 - val_loss: 1.7526\n"
     ]
    },
    {
     "name": "stderr",
     "output_type": "stream",
     "text": [
      " 11%|█         | 356/3200 [3:01:19<24:16:57, 30.74s/it]"
     ]
    },
    {
     "name": "stdout",
     "output_type": "stream",
     "text": [
      "2/2 [==============================] - ETA: 0s - loss: 3.2148\n",
      "Epoch 00001: val_loss did not improve from 1.54602\n",
      "2/2 [==============================] - 20s 10s/step - loss: 3.2148 - val_loss: 1.7504\n"
     ]
    },
    {
     "name": "stderr",
     "output_type": "stream",
     "text": [
      " 11%|█         | 357/3200 [3:01:50<24:15:57, 30.73s/it]"
     ]
    },
    {
     "name": "stdout",
     "output_type": "stream",
     "text": [
      "2/2 [==============================] - ETA: 0s - loss: 2.6952\n",
      "Epoch 00001: val_loss did not improve from 1.54602\n",
      "2/2 [==============================] - 20s 10s/step - loss: 2.6952 - val_loss: 1.7481\n"
     ]
    },
    {
     "name": "stderr",
     "output_type": "stream",
     "text": [
      " 11%|█         | 358/3200 [3:02:21<24:11:44, 30.65s/it]"
     ]
    },
    {
     "name": "stdout",
     "output_type": "stream",
     "text": [
      "2/2 [==============================] - ETA: 0s - loss: 3.1183\n",
      "Epoch 00001: val_loss did not improve from 1.54602\n",
      "2/2 [==============================] - 20s 10s/step - loss: 3.1183 - val_loss: 1.7463\n"
     ]
    },
    {
     "name": "stderr",
     "output_type": "stream",
     "text": [
      " 11%|█         | 359/3200 [3:02:51<24:10:02, 30.62s/it]"
     ]
    },
    {
     "name": "stdout",
     "output_type": "stream",
     "text": [
      "2/2 [==============================] - ETA: 0s - loss: 4.0423\n",
      "Epoch 00001: val_loss did not improve from 1.54602\n",
      "2/2 [==============================] - 20s 10s/step - loss: 4.0423 - val_loss: 1.7413\n"
     ]
    },
    {
     "name": "stderr",
     "output_type": "stream",
     "text": [
      " 11%|█▏        | 360/3200 [3:03:22<24:16:51, 30.78s/it]"
     ]
    },
    {
     "name": "stdout",
     "output_type": "stream",
     "text": [
      "2/2 [==============================] - ETA: 0s - loss: 3.6811\n",
      "Epoch 00001: val_loss did not improve from 1.54602\n",
      "2/2 [==============================] - 20s 10s/step - loss: 3.6811 - val_loss: 1.7353\n"
     ]
    },
    {
     "name": "stderr",
     "output_type": "stream",
     "text": [
      " 11%|█▏        | 361/3200 [3:03:53<24:14:01, 30.73s/it]"
     ]
    },
    {
     "name": "stdout",
     "output_type": "stream",
     "text": [
      "2/2 [==============================] - ETA: 0s - loss: 3.2606\n",
      "Epoch 00001: val_loss did not improve from 1.54602\n",
      "2/2 [==============================] - 20s 10s/step - loss: 3.2606 - val_loss: 1.7296\n"
     ]
    },
    {
     "name": "stderr",
     "output_type": "stream",
     "text": [
      " 11%|█▏        | 362/3200 [3:04:23<24:11:27, 30.69s/it]"
     ]
    },
    {
     "name": "stdout",
     "output_type": "stream",
     "text": [
      "2/2 [==============================] - ETA: 0s - loss: 2.6568\n",
      "Epoch 00001: val_loss did not improve from 1.54602\n",
      "2/2 [==============================] - 20s 10s/step - loss: 2.6568 - val_loss: 1.7300\n"
     ]
    },
    {
     "name": "stderr",
     "output_type": "stream",
     "text": [
      " 11%|█▏        | 362/3200 [3:04:55<24:09:44, 30.65s/it]\n"
     ]
    },
    {
     "data": {
      "image/png": "[encoded data removed]",
      "text/plain": [
       "<Figure size 432x288 with 1 Axes>"
      ]
     },
     "metadata": {
      "needs_background": "light"
     },
     "output_type": "display_data"
    }
   ],
   "source": [
    "import gc\n",
    "MC = ModelCheckpoint('./model.h5', verbose=True,monitor='val_loss',mode='min',\n",
    "        save_weights_only=True,save_best_only=True)\n",
    "\n",
    "stop = EarlyStopping(monitor = 'val_loss', restore_best_weights=True , patience = 5)\n",
    "\n",
    "tr_it = iter(train_dataset)\n",
    "batch_size = cfg['train_params']['train_batch']\n",
    "#progress_bar = tqdm(range(0,cfg[\"train_params\"][\"max_num_steps\"],batch_size))\n",
    "progress_bar = tqdm(range(cfg[\"train_params\"][\"max_num_steps\"]))\n",
    "two_hours = 60 * 60 * 3.1\n",
    "losses = []\n",
    "hist = []\n",
    "for itr in progress_bar:#range(0,cfg[\"train_params\"][\"max_num_steps\"],batch_size):\n",
    "    inputs = np.zeros(shape=(batch_size,224,224,num_in_channels))\n",
    "    targets = np.zeros(shape=(batch_size, num_targets))\n",
    "    \n",
    "    for i in range(batch_size):\n",
    "        \n",
    "        try:\n",
    "            data = next(tr_it)\n",
    "        except StopIteration:\n",
    "            tr_it = iter(train_dataset)\n",
    "            data = next(tr_it)\n",
    "            \n",
    "        inputs[i] = data['image'].transpose(1,2,0)\n",
    "        targets[i] = data['target_positions'].reshape(-1,num_targets)\n",
    "   \n",
    "    h = model.fit(inputs, targets,\n",
    "                  batch_size = int(batch_size / 2) ,\n",
    "                  validation_data = (val_inputs, val_targets),\n",
    "                  verbose = 1,\n",
    "                 callbacks = [MC, stop])\n",
    "                  \n",
    "    hist.append(h.history)\n",
    "    gc.collect()\n",
    "    # For training + submission, break if training exceeds 6 hours\n",
    "    if (time.time()-t0) > two_hours:\n",
    "        break\n",
    "    \n",
    "    \n",
    "vl = [hi['val_loss'] for hi in hist]\n",
    "l = [hi['loss'] for hi in hist]\n",
    "plt.plot(np.log(vl), label = 'val_loss')\n",
    "plt.plot(np.log(l), label = 'loss')\n",
    "plt.legend(loc=0)\n",
    "plt.show()"
   ]
  },
  {
   "cell_type": "code",
   "execution_count": 11,
   "metadata": {},
   "outputs": [],
   "source": [
    "model.save('modelv0.h5')\n"
   ]
  },
  {
   "cell_type": "code",
   "execution_count": 10,
   "metadata": {},
   "outputs": [
    {
     "name": "stdout",
     "output_type": "stream",
     "text": [
      "Model: \"functional_1\"\n",
      "_________________________________________________________________\n",
      "Layer (type)                 Output Shape              Param #   \n",
      "=================================================================\n",
      "input_1 (InputLayer)         [(None, 224, 224, 45)]    0         \n",
      "_________________________________________________________________\n",
      "conv2d (Conv2D)              (None, 224, 224, 32)      1440      \n",
      "_________________________________________________________________\n",
      "dropout (Dropout)            (None, 224, 224, 32)      0         \n",
      "_________________________________________________________________\n",
      "conv2d_1 (Conv2D)            (None, 224, 224, 10)      2880      \n",
      "_________________________________________________________________\n",
      "dropout_1 (Dropout)          (None, 224, 224, 10)      0         \n",
      "_________________________________________________________________\n",
      "conv2d_2 (Conv2D)            (None, 224, 224, 3)       270       \n",
      "_________________________________________________________________\n",
      "resnet101 (Functional)       (None, 2048)              42658176  \n",
      "_________________________________________________________________\n",
      "dense (Dense)                (None, 1000)              2049000   \n",
      "_________________________________________________________________\n",
      "dropout_2 (Dropout)          (None, 1000)              0         \n",
      "_________________________________________________________________\n",
      "dense_1 (Dense)              (None, 500)               500500    \n",
      "_________________________________________________________________\n",
      "dropout_3 (Dropout)          (None, 500)               0         \n",
      "_________________________________________________________________\n",
      "dense_2 (Dense)              (None, 100)               50100     \n",
      "=================================================================\n",
      "Total params: 45,262,366\n",
      "Trainable params: 45,157,022\n",
      "Non-trainable params: 105,344\n",
      "_________________________________________________________________\n"
     ]
    }
   ],
   "source": [
    "#this one if we need to load weights from h5\n",
    "from numpy import loadtxt\n",
    "from keras.models import load_model\n",
    "from keras.applications.resnet50 import ResNet50\n",
    "from keras.utils.conv_utils import convert_kernel\n",
    "from keras.layers import (Input, Conv2D, Flatten,Dense,AveragePooling2D,Dropout,MaxPooling2D,BatchNormalization)\n",
    "from keras.models import Model, Sequential\n",
    "from keras.callbacks import ModelCheckpoint, EarlyStopping\n",
    "from keras import optimizers\n",
    "from keras.applications.resnet import ResNet101\n",
    "# load model\n",
    "model = load_model('modelv0.h5')\n",
    "# summarize model.\n",
    "model.summary()"
   ]
  },
  {
   "cell_type": "code",
   "execution_count": 11,
   "metadata": {},
   "outputs": [
    {
     "data": {
      "text/plain": [
       "<matplotlib.collections.PathCollection at 0x7fc99049f490>"
      ]
     },
     "execution_count": 11,
     "metadata": {},
     "output_type": "execute_result"
    },
    {
     "data": {
      "image/png": "[encoded data removed]",
      "text/plain": [
       "<Figure size 432x288 with 1 Axes>"
      ]
     },
     "metadata": {
      "needs_background": "light"
     },
     "output_type": "display_data"
    }
   ],
   "source": [
    "#Example Prediction:\n",
    "import matplotlib.pyplot as plt\n",
    "tr_it = iter(train_dataset)\n",
    "a1 = next(tr_it)\n",
    "inp = a1['image'].transpose(1,2,0)\n",
    "act = a1['target_positions']\n",
    "pred = model.predict(inp.reshape(-1,224,224,num_in_channels)).reshape(50,2)\n",
    "plt.scatter(act[:,0], act[:,1])\n",
    "plt.scatter(pred[:,0],pred[:,1])"
   ]
  },
  {
   "cell_type": "markdown",
   "metadata": {},
   "source": [
    "Now we can use this model to predict from the test set."
   ]
  },
  {
   "cell_type": "code",
   "execution_count": 12,
   "metadata": {},
   "outputs": [
    {
     "name": "stderr",
     "output_type": "stream",
     "text": [
      "<ipython-input-12-540cf822d61a>:9: RuntimeWarning: you're running with a custom agents_mask\n",
      "  test_dataset = AgentDataset(cfg, test_zarr, rasterizer, agents_mask=test_mask)\n"
     ]
    }
   ],
   "source": [
    "test_cfg = cfg[\"test_data_loader\"]\n",
    "\n",
    "# Rasterizer\n",
    "rasterizer = build_rasterizer(cfg, dm)\n",
    "\n",
    "# Test dataset/dataloader\n",
    "test_zarr = ChunkedDataset(dm.require(test_cfg[\"key\"])).open()\n",
    "test_mask = np.load(f\"{DIR_INPUT}/scenes/mask.npz\")[\"arr_0\"]\n",
    "test_dataset = AgentDataset(cfg, test_zarr, rasterizer, agents_mask=test_mask)"
   ]
  },
  {
   "cell_type": "code",
   "execution_count": null,
   "metadata": {},
   "outputs": [
    {
     "name": "stderr",
     "output_type": "stream",
     "text": [
      " 63%|██████▎   | 44999/71122 [4:20:31<2:12:32,  3.28it/s] "
     ]
    }
   ],
   "source": [
    "t_shape = test_dataset[0][\"target_positions\"].shape\n",
    "timestamps = []\n",
    "agent_ids = []\n",
    "coords = []\n",
    "for it in tqdm(test_dataset):\n",
    "    \n",
    "    dat = it['image'].transpose(1,2,0)\n",
    "    coords.append(np.array(model.predict(dat.reshape(1,224,224,num_in_channels)).reshape(t_shape)))\n",
    "    timestamps.append(it[\"timestamp\"])\n",
    "    agent_ids.append(it[\"track_id\"])\n",
    "    "
   ]
  },
  {
   "cell_type": "code",
   "execution_count": null,
   "metadata": {},
   "outputs": [],
   "source": [
    "from l5kit.evaluation import write_pred_csv\n",
    "\n",
    "\n",
    "write_pred_csv('submission.csv',\n",
    "                timestamps = np.array(timestamps),\n",
    "                track_ids = np.array(agent_ids),\n",
    "                coords = np.array(coords) )"
   ]
  },
  {
   "cell_type": "code",
   "execution_count": null,
   "metadata": {},
   "outputs": [],
   "source": []
  },
  {
   "cell_type": "markdown",
   "metadata": {},
   "source": [
    "I will play with some parameters later.  I am finally glad to just have something that functions."
   ]
  },
  {
   "cell_type": "code",
   "execution_count": null,
   "metadata": {},
   "outputs": [],
   "source": []
  },
  {
   "cell_type": "code",
   "execution_count": null,
   "metadata": {},
   "outputs": [],
   "source": []
  },
  {
   "cell_type": "code",
   "execution_count": null,
   "metadata": {},
   "outputs": [],
   "source": []
  }
 ],
 "metadata": {
  "kernelspec": {
   "display_name": "Python 3",
   "language": "python",
   "name": "python3"
  },
  "language_info": {
   "codemirror_mode": {
    "name": "ipython",
    "version": 3
   },
   "file_extension": ".py",
   "mimetype": "text/x-python",
   "name": "python",
   "nbconvert_exporter": "python",
   "pygments_lexer": "ipython3",
   "version": "3.8.5"
  }
 },
 "nbformat": 4,
 "nbformat_minor": 4
}
