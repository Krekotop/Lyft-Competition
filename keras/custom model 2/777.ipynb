{
 "cells": [
  {
   "cell_type": "markdown",
   "metadata": {},
   "source": [
    "Start with some imports and the utility script from the comments"
   ]
  },
  {
   "cell_type": "code",
   "execution_count": 1,
   "metadata": {
    "_cell_guid": "b1076dfc-b9ad-4769-8c92-a6c4dae69d19",
    "_uuid": "8f2839f25d086af736a60e9eeb907d3b93b6e0e5"
   },
   "outputs": [
    {
     "name": "stdout",
     "output_type": "stream",
     "text": [
      "CPU times: user 2.73 s, sys: 1.85 s, total: 4.58 s\n",
      "Wall time: 3.98 s\n"
     ]
    },
    {
     "data": {
      "text/plain": [
       "32512"
      ]
     },
     "execution_count": 1,
     "metadata": {},
     "output_type": "execute_result"
    }
   ],
   "source": [
    "%%time\n",
    "import os\n",
    "import matplotlib.pyplot as plt\n",
    "from tqdm import tqdm\n",
    "import numpy as np\n",
    "import gc\n",
    "import tensorflow as tf\n",
    "import time\n",
    "t0 = time.time()\n",
    "\n",
    "## this script transports l5kit and dependencies\n",
    "os.system('pip uninstall typing -y')\n",
    "os.system('pip install --target=/kaggle/working pymap3d==2.1.0')\n",
    "os.system('pip install --target=/kaggle/working protobuf==3.12.2')\n",
    "os.system('pip install --target=/kaggle/working transforms3d')\n",
    "os.system('pip install --target=/kaggle/working zarr')\n",
    "os.system('pip install --target=/kaggle/working ptable')\n",
    "\n",
    "os.system('pip install --no-dependencies --target=/kaggle/working l5kit')\n",
    "#!pip install --upgrade pip\n",
    "#!pip install pymap3d==2.1.0\n",
    "#!pip install -U l5kit"
   ]
  },
  {
   "cell_type": "markdown",
   "metadata": {},
   "source": [
    "Importing some stuff from the l5kit and setting the directories."
   ]
  },
  {
   "cell_type": "code",
   "execution_count": 2,
   "metadata": {
    "_cell_guid": "79c7e3d0-c299-4dcb-8224-4455121ee9b0",
    "_uuid": "d629ff2d2480ee46fbb7e2d37f6b5fab8052498a"
   },
   "outputs": [],
   "source": [
    "DIR_INPUT = \"/home/moriarty/Downloads/lyft\"\n",
    "import os\n",
    "os.environ[\"L5KIT_DATA_FOLDER\"] = DIR_INPUT\n",
    "SINGLE_MODE_SUBMISSION = f\"{DIR_INPUT}/single_mode_sample_submission.csv\"\n",
    "MULTI_MODE_SUBMISSION = f\"{DIR_INPUT}/multi_mode_sample_submission.csv\"\n",
    "from l5kit.data import LocalDataManager, ChunkedDataset\n",
    "from l5kit.dataset import AgentDataset, EgoDataset\n",
    "from l5kit.evaluation import write_pred_csv\n",
    "from l5kit.rasterization import build_rasterizer"
   ]
  },
  {
   "cell_type": "markdown",
   "metadata": {},
   "source": [
    "Config File (dictionary)  from the linked notebook.  This contains parameters for the training."
   ]
  },
  {
   "cell_type": "code",
   "execution_count": 3,
   "metadata": {},
   "outputs": [],
   "source": [
    "DEBUG = False  # True just trains for 10 steps instead of the full dataset\n",
    "cfg = {\n",
    "    'format_version': 4,\n",
    "    'model_params': {\n",
    "        'model_architecture': 'resnet50',\n",
    "        'history_num_frames': 20,\n",
    "        'history_step_size': 1,\n",
    "        'history_delta_time': 0.1,\n",
    "        'future_num_frames': 50,\n",
    "        'future_step_size': 1,\n",
    "        'future_delta_time': 0.1\n",
    "    },\n",
    "    \n",
    "    'raster_params': {\n",
    "        'raster_size': [224, 224],\n",
    "        'pixel_size': [0.5, 0.5],\n",
    "        'ego_center': [0.25, 0.5],\n",
    "        'map_type': 'py_semantic',\n",
    "        'satellite_map_key': 'aerial_map/aerial_map.png',\n",
    "        'semantic_map_key': 'semantic_map/semantic_map.pb',\n",
    "        'dataset_meta_key': 'meta.json',\n",
    "        'filter_agents_threshold': 0.5\n",
    "    },\n",
    "    \n",
    "    'train_data_loader': {\n",
    "        'key': 'scenes/train.zarr',\n",
    "        'batch_size': 12,\n",
    "        'shuffle': True,\n",
    "        'num_workers': 4\n",
    "    },\n",
    "    \n",
    "    'train_params': {\n",
    "        'max_num_steps': 10*1 if DEBUG else 800,\n",
    "        'checkpoint_every_n_steps': 5000,\n",
    "        'train_batch' : 32,\n",
    "        'num_batch' : 10\n",
    "        \n",
    "        # 'eval_every_n_steps': -1\n",
    "    },\n",
    "    \n",
    "    'test_data_loader': {\n",
    "        'key': 'scenes/test.zarr',\n",
    "        'batch_size': 8,\n",
    "        'shuffle': False,\n",
    "        'num_workers': 4\n",
    "    },\n",
    "    \n",
    "    \n",
    "    \n",
    "    'valid_data_loader': {\n",
    "        'key': 'scenes/validate.zarr',\n",
    "        'batch_size': 8,\n",
    "        'shuffle': False,\n",
    "        'num_workers': 4\n",
    "    },\n",
    "    \n",
    "    \n",
    "}"
   ]
  },
  {
   "cell_type": "markdown",
   "metadata": {},
   "source": [
    "Load In the train dataset.  I notice the pytorch folks can just import this with DataLoader, but I am not familiar with anything similar in keras."
   ]
  },
  {
   "cell_type": "code",
   "execution_count": 4,
   "metadata": {},
   "outputs": [
    {
     "name": "stderr",
     "output_type": "stream",
     "text": [
      "/home/moriarty/.local/lib/python3.8/site-packages/l5kit/dataset/agent.py:115: RuntimeWarning: disable_traffic_light_faces not found in config, this will raise an error in the future\n",
      "  return self.get_frame(scene_index, state_index, track_id=track_id)\n"
     ]
    },
    {
     "name": "stdout",
     "output_type": "stream",
     "text": [
      "+------------+------------+------------+---------------+-----------------+----------------------+----------------------+----------------------+---------------------+\n",
      "| Num Scenes | Num Frames | Num Agents | Num TR lights | Total Time (hr) | Avg Frames per Scene | Avg Agents per Frame | Avg Scene Time (sec) | Avg Frame frequency |\n",
      "+------------+------------+------------+---------------+-----------------+----------------------+----------------------+----------------------+---------------------+\n",
      "|   16265    |  4039527   | 320124624  |    38735988   |      112.19     |        248.36        |        79.25         |        24.83         |        10.00        |\n",
      "+------------+------------+------------+---------------+-----------------+----------------------+----------------------+----------------------+---------------------+\n"
     ]
    },
    {
     "data": {
      "text/plain": [
       "13"
      ]
     },
     "execution_count": 4,
     "metadata": {},
     "output_type": "execute_result"
    }
   ],
   "source": [
    "\n",
    "train_cfg = cfg[\"train_data_loader\"]\n",
    "\n",
    "# Rasterizer\n",
    "dm = LocalDataManager(None)\n",
    "rasterizer = build_rasterizer(cfg, dm)\n",
    "\n",
    "# Train dataset/dataloader\n",
    "\n",
    "train_zarr = ChunkedDataset(dm.require(train_cfg[\"key\"])).open()\n",
    "train_dataset = AgentDataset(cfg, train_zarr, rasterizer)\n",
    "hist_shape = train_dataset[0]['history_positions'].shape\n",
    "num_history_channels = (cfg[\"model_params\"][\"history_num_frames\"] + 1) * 2\n",
    "num_in_channels = 3 + num_history_channels\n",
    "num_targets = 2 * cfg[\"model_params\"][\"future_num_frames\"]\n",
    "\n",
    "print(train_dataset)\n",
    "\n",
    "\n",
    "gc.collect()"
   ]
  },
  {
   "cell_type": "code",
   "execution_count": 5,
   "metadata": {},
   "outputs": [],
   "source": [
    "dataset_path1 = dm.require(cfg[\"valid_data_loader\"][\"key\"])\n",
    "valid_zarr = ChunkedDataset(dataset_path1).open()\n",
    "valid_dataset = AgentDataset(cfg, valid_zarr, rasterizer)"
   ]
  },
  {
   "cell_type": "code",
   "execution_count": 6,
   "metadata": {},
   "outputs": [
    {
     "name": "stderr",
     "output_type": "stream",
     "text": [
      "100%|██████████| 100/100 [00:19<00:00,  5.15it/s]\n"
     ]
    }
   ],
   "source": [
    "valid_itr = iter(valid_dataset)\n",
    "n_valid = 100\n",
    "\n",
    "val_inputs = np.zeros(shape=(n_valid,224,224, num_in_channels) )\n",
    "val_targets = np.zeros(shape=(n_valid,num_targets))\n",
    "for itr in tqdm(range(n_valid)):\n",
    "    data = next(valid_itr)\n",
    "\n",
    "    val_inputs[itr] = data['image'].transpose(1,2,0)    \n",
    "    val_targets[itr] = data['target_positions'].reshape(-1,num_targets)\n",
    "    gc.collect()\n",
    "del valid_dataset\n",
    "    "
   ]
  },
  {
   "cell_type": "code",
   "execution_count": 7,
   "metadata": {},
   "outputs": [
    {
     "data": {
      "text/plain": [
       "22496709"
      ]
     },
     "execution_count": 7,
     "metadata": {},
     "output_type": "execute_result"
    }
   ],
   "source": [
    "len(train_dataset)"
   ]
  },
  {
   "cell_type": "code",
   "execution_count": 8,
   "metadata": {},
   "outputs": [
    {
     "data": {
      "image/png": "[encoded data removed]",
      "text/plain": [
       "<Figure size 432x288 with 1 Axes>"
      ]
     },
     "metadata": {
      "needs_background": "light"
     },
     "output_type": "display_data"
    },
    {
     "name": "stdout",
     "output_type": "stream",
     "text": [
      "(50, 2)\n"
     ]
    }
   ],
   "source": [
    "idx = 100\n",
    "plt.scatter(train_dataset[idx]['history_positions'][:,0],train_dataset[idx]['history_positions'][:,1])\n",
    "plt.scatter(train_dataset[idx]['target_positions'][:,0],train_dataset[idx]['target_positions'][:,1],c='r')\n",
    "plt.show()\n",
    "print(train_dataset[0]['target_positions'].shape) "
   ]
  },
  {
   "cell_type": "markdown",
   "metadata": {},
   "source": [
    "define custom model here"
   ]
  },
  {
   "cell_type": "code",
   "execution_count": 16,
   "metadata": {},
   "outputs": [
    {
     "name": "stdout",
     "output_type": "stream",
     "text": [
      "Model: \"functional_5\"\n",
      "_________________________________________________________________\n",
      "Layer (type)                 Output Shape              Param #   \n",
      "=================================================================\n",
      "input_10 (InputLayer)        [(None, 224, 224, 45)]    0         \n",
      "_________________________________________________________________\n",
      "conv2d_13 (Conv2D)           (None, 224, 224, 18)      3240      \n",
      "_________________________________________________________________\n",
      "conv2d_14 (Conv2D)           (None, 224, 224, 3)       486       \n",
      "_________________________________________________________________\n",
      "dropout_13 (Dropout)         (None, 224, 224, 3)       0         \n",
      "_________________________________________________________________\n",
      "resnet50 (Functional)        (None, 2048)              23587712  \n",
      "_________________________________________________________________\n",
      "dropout_14 (Dropout)         (None, 2048)              0         \n",
      "_________________________________________________________________\n",
      "dense_6 (Dense)              (None, 500)               1024500   \n",
      "_________________________________________________________________\n",
      "dropout_15 (Dropout)         (None, 500)               0         \n",
      "_________________________________________________________________\n",
      "dense_7 (Dense)              (None, 300)               150300    \n",
      "_________________________________________________________________\n",
      "dropout_16 (Dropout)         (None, 300)               0         \n",
      "_________________________________________________________________\n",
      "dense_8 (Dense)              (None, 100)               30100     \n",
      "=================================================================\n",
      "Total params: 24,796,338\n",
      "Trainable params: 24,743,218\n",
      "Non-trainable params: 53,120\n",
      "_________________________________________________________________\n"
     ]
    }
   ],
   "source": [
    "from keras.applications.resnet50 import ResNet50\n",
    "from keras.utils.conv_utils import convert_kernel\n",
    "from keras.layers import (Input, Conv2D, Flatten,Dense,AveragePooling2D,Dropout,MaxPooling2D,BatchNormalization)\n",
    "from keras.models import Model, Sequential\n",
    "from keras.callbacks import ModelCheckpoint, EarlyStopping\n",
    "from keras import optimizers\n",
    "\n",
    "from tensorflow.keras.applications import EfficientNetB0\n",
    "base_in = Input(shape=(224,224,num_in_channels))\n",
    "base_model=Conv2D(18,kernel_size=2,use_bias=False,padding=\"same\")(base_in)\n",
    "base_model=Conv2D(3,kernel_size=3,use_bias=False,padding=\"same\")(base_model)\n",
    "base_model = Dropout(.45)(base_model)\n",
    "\n",
    "resnet_50 = ResNet50(include_top=False,\n",
    "                       weights='imagenet',\n",
    "                       input_tensor=Input(shape=(224,224,3)),\n",
    "                       pooling='max'\n",
    "                       )(base_model)\n",
    "dense_model = Dropout(.45)(resnet_50)\n",
    "#dense_model = base_model.output\n",
    "dense_model = Dense(500, activation=\"linear\")(dense_model)\n",
    "dense_model = Dropout(.45)(dense_model)\n",
    "dense_model = Dense(300, activation=\"linear\")(dense_model)\n",
    "dense_model = Dropout(.45)(dense_model)\n",
    "dense_model = Dense(num_targets, activation=\"linear\")(dense_model)\n",
    "model = Model(inputs=base_in, outputs=dense_model)\n",
    "opt = optimizers.Adam(lr=0.0005)\n",
    "model.compile(optimizer=opt, loss='mse')\n",
    "\n",
    "model.summary()"
   ]
  },
  {
   "cell_type": "markdown",
   "metadata": {},
   "source": [
    "I am going to loop through the train_dataset and use a batch_size variable to train the model in batches.  "
   ]
  },
  {
   "cell_type": "code",
   "execution_count": 17,
   "metadata": {},
   "outputs": [
    {
     "name": "stderr",
     "output_type": "stream",
     "text": [
      "\r",
      "  0%|          | 0/800 [00:00<?, ?it/s]"
     ]
    },
    {
     "name": "stdout",
     "output_type": "stream",
     "text": [
      "2/2 [==============================] - ETA: 0s - loss: 749.1395\n",
      "Epoch 00001: val_loss improved from inf to 15.16813, saving model to ./model.h5\n",
      "2/2 [==============================] - 16s 8s/step - loss: 749.1395 - val_loss: 15.1681\n"
     ]
    },
    {
     "name": "stderr",
     "output_type": "stream",
     "text": [
      "\r",
      "  0%|          | 1/800 [00:29<6:33:12, 29.53s/it]"
     ]
    },
    {
     "name": "stdout",
     "output_type": "stream",
     "text": [
      "2/2 [==============================] - ETA: 0s - loss: 914.8195 \n",
      "Epoch 00001: val_loss did not improve from 15.16813\n",
      "2/2 [==============================] - 15s 7s/step - loss: 914.8195 - val_loss: 40.4967\n"
     ]
    },
    {
     "name": "stderr",
     "output_type": "stream",
     "text": [
      "\r",
      "  0%|          | 2/800 [00:52<6:06:54, 27.59s/it]"
     ]
    },
    {
     "name": "stdout",
     "output_type": "stream",
     "text": [
      "2/2 [==============================] - ETA: 0s - loss: 440.6547\n",
      "Epoch 00001: val_loss did not improve from 15.16813\n",
      "2/2 [==============================] - 15s 8s/step - loss: 440.6547 - val_loss: 619.5880\n"
     ]
    },
    {
     "name": "stderr",
     "output_type": "stream",
     "text": [
      "\r",
      "  0%|          | 3/800 [01:16<5:52:47, 26.56s/it]"
     ]
    },
    {
     "name": "stdout",
     "output_type": "stream",
     "text": [
      "2/2 [==============================] - ETA: 0s - loss: 255.6587\n",
      "Epoch 00001: val_loss did not improve from 15.16813\n",
      "2/2 [==============================] - 15s 7s/step - loss: 255.6587 - val_loss: 6540.2798\n"
     ]
    },
    {
     "name": "stderr",
     "output_type": "stream",
     "text": [
      "\r",
      "  0%|          | 4/800 [01:40<5:39:39, 25.60s/it]"
     ]
    },
    {
     "name": "stdout",
     "output_type": "stream",
     "text": [
      "2/2 [==============================] - ETA: 0s - loss: 162.3329\n",
      "Epoch 00001: val_loss did not improve from 15.16813\n",
      "2/2 [==============================] - 23s 12s/step - loss: 162.3329 - val_loss: 23727.2656\n"
     ]
    },
    {
     "name": "stderr",
     "output_type": "stream",
     "text": [
      "\r",
      "  1%|          | 5/800 [02:12<6:04:49, 27.53s/it]"
     ]
    },
    {
     "name": "stdout",
     "output_type": "stream",
     "text": [
      "2/2 [==============================] - ETA: 0s - loss: 123.8696\n",
      "Epoch 00001: val_loss did not improve from 15.16813\n",
      "2/2 [==============================] - 25s 13s/step - loss: 123.8696 - val_loss: 45477.7656\n"
     ]
    },
    {
     "name": "stderr",
     "output_type": "stream",
     "text": [
      "\r",
      "  1%|          | 6/800 [02:52<6:55:25, 31.39s/it]"
     ]
    },
    {
     "name": "stdout",
     "output_type": "stream",
     "text": [
      "2/2 [==============================] - ETA: 0s - loss: 80.5521\n",
      "Epoch 00001: val_loss did not improve from 15.16813\n",
      "2/2 [==============================] - 26s 13s/step - loss: 80.5521 - val_loss: 74442.9531\n"
     ]
    },
    {
     "name": "stderr",
     "output_type": "stream",
     "text": [
      "\r",
      "  1%|          | 7/800 [03:34<7:37:53, 34.64s/it]"
     ]
    },
    {
     "name": "stdout",
     "output_type": "stream",
     "text": [
      "2/2 [==============================] - ETA: 0s - loss: 156.0585\n",
      "Epoch 00001: val_loss did not improve from 15.16813\n",
      "2/2 [==============================] - 24s 12s/step - loss: 156.0585 - val_loss: 96850.2031\n"
     ]
    },
    {
     "name": "stderr",
     "output_type": "stream",
     "text": [
      "\r",
      "  1%|          | 8/800 [04:14<7:55:59, 36.06s/it]"
     ]
    },
    {
     "name": "stdout",
     "output_type": "stream",
     "text": [
      "2/2 [==============================] - ETA: 0s - loss: 138.3998\n",
      "Epoch 00001: val_loss did not improve from 15.16813\n",
      "2/2 [==============================] - 26s 13s/step - loss: 138.3998 - val_loss: 109283.2578\n"
     ]
    },
    {
     "name": "stderr",
     "output_type": "stream",
     "text": [
      "\r",
      "  1%|          | 9/800 [04:55<8:16:33, 37.67s/it]"
     ]
    },
    {
     "name": "stdout",
     "output_type": "stream",
     "text": [
      "2/2 [==============================] - ETA: 0s - loss: 35.5702\n",
      "Epoch 00001: val_loss did not improve from 15.16813\n",
      "2/2 [==============================] - 25s 13s/step - loss: 35.5702 - val_loss: 113944.1406\n"
     ]
    },
    {
     "name": "stderr",
     "output_type": "stream",
     "text": [
      "\r",
      "  1%|▏         | 10/800 [05:36<8:29:26, 38.69s/it]"
     ]
    },
    {
     "name": "stdout",
     "output_type": "stream",
     "text": [
      "2/2 [==============================] - ETA: 0s - loss: 74.3268\n",
      "Epoch 00001: val_loss did not improve from 15.16813\n",
      "2/2 [==============================] - 26s 13s/step - loss: 74.3268 - val_loss: 106977.1328\n"
     ]
    },
    {
     "name": "stderr",
     "output_type": "stream",
     "text": [
      "\r",
      "  1%|▏         | 11/800 [06:18<8:39:53, 39.54s/it]"
     ]
    },
    {
     "name": "stdout",
     "output_type": "stream",
     "text": [
      "2/2 [==============================] - ETA: 0s - loss: 91.0852\n",
      "Epoch 00001: val_loss did not improve from 15.16813\n",
      "2/2 [==============================] - 26s 13s/step - loss: 91.0852 - val_loss: 93961.0703\n"
     ]
    },
    {
     "name": "stderr",
     "output_type": "stream",
     "text": [
      "\r",
      "  2%|▏         | 12/800 [07:00<8:49:25, 40.31s/it]"
     ]
    },
    {
     "name": "stdout",
     "output_type": "stream",
     "text": [
      "2/2 [==============================] - ETA: 0s - loss: 91.3020 \n",
      "Epoch 00001: val_loss did not improve from 15.16813\n",
      "2/2 [==============================] - 27s 13s/step - loss: 91.3020 - val_loss: 76622.7734\n"
     ]
    },
    {
     "name": "stderr",
     "output_type": "stream",
     "text": [
      "\r",
      "  2%|▏         | 13/800 [07:43<8:59:14, 41.11s/it]"
     ]
    },
    {
     "name": "stdout",
     "output_type": "stream",
     "text": [
      "2/2 [==============================] - ETA: 0s - loss: 57.0229\n",
      "Epoch 00001: val_loss did not improve from 15.16813\n",
      "2/2 [==============================] - 27s 13s/step - loss: 57.0229 - val_loss: 62034.6484\n"
     ]
    },
    {
     "name": "stderr",
     "output_type": "stream",
     "text": [
      "\r",
      "  2%|▏         | 14/800 [08:26<9:08:34, 41.88s/it]"
     ]
    },
    {
     "name": "stdout",
     "output_type": "stream",
     "text": [
      "2/2 [==============================] - ETA: 0s - loss: 42.5869\n",
      "Epoch 00001: val_loss did not improve from 15.16813\n",
      "2/2 [==============================] - 26s 13s/step - loss: 42.5869 - val_loss: 50630.2188\n"
     ]
    },
    {
     "name": "stderr",
     "output_type": "stream",
     "text": [
      "\r",
      "  2%|▏         | 15/800 [09:09<9:10:29, 42.08s/it]"
     ]
    },
    {
     "name": "stdout",
     "output_type": "stream",
     "text": [
      "2/2 [==============================] - ETA: 0s - loss: 39.4770\n",
      "Epoch 00001: val_loss did not improve from 15.16813\n",
      "2/2 [==============================] - 25s 13s/step - loss: 39.4770 - val_loss: 40091.3984\n"
     ]
    },
    {
     "name": "stderr",
     "output_type": "stream",
     "text": [
      "\r",
      "  2%|▏         | 16/800 [09:50<9:04:24, 41.66s/it]"
     ]
    },
    {
     "name": "stdout",
     "output_type": "stream",
     "text": [
      "2/2 [==============================] - ETA: 0s - loss: 37.4343\n",
      "Epoch 00001: val_loss did not improve from 15.16813\n",
      "2/2 [==============================] - 25s 13s/step - loss: 37.4343 - val_loss: 30311.8496\n"
     ]
    },
    {
     "name": "stderr",
     "output_type": "stream",
     "text": [
      "\r",
      "  2%|▏         | 17/800 [10:31<9:02:15, 41.55s/it]"
     ]
    },
    {
     "name": "stdout",
     "output_type": "stream",
     "text": [
      "2/2 [==============================] - ETA: 0s - loss: 22.0085\n",
      "Epoch 00001: val_loss did not improve from 15.16813\n",
      "2/2 [==============================] - 26s 13s/step - loss: 22.0085 - val_loss: 25359.4355\n"
     ]
    },
    {
     "name": "stderr",
     "output_type": "stream",
     "text": [
      "\r",
      "  2%|▏         | 18/800 [11:11<8:55:48, 41.11s/it]"
     ]
    },
    {
     "name": "stdout",
     "output_type": "stream",
     "text": [
      "2/2 [==============================] - ETA: 0s - loss: 16.8174\n",
      "Epoch 00001: val_loss did not improve from 15.16813\n",
      "2/2 [==============================] - 26s 13s/step - loss: 16.8174 - val_loss: 22951.6641\n"
     ]
    },
    {
     "name": "stderr",
     "output_type": "stream",
     "text": [
      "\r",
      "  2%|▏         | 19/800 [11:52<8:53:47, 41.01s/it]"
     ]
    },
    {
     "name": "stdout",
     "output_type": "stream",
     "text": [
      "2/2 [==============================] - ETA: 0s - loss: 9.9719 \n",
      "Epoch 00001: val_loss did not improve from 15.16813\n",
      "2/2 [==============================] - 25s 13s/step - loss: 9.9719 - val_loss: 20938.3203\n"
     ]
    },
    {
     "name": "stderr",
     "output_type": "stream",
     "text": [
      "\r",
      "  2%|▎         | 20/800 [12:34<8:56:47, 41.29s/it]"
     ]
    },
    {
     "name": "stdout",
     "output_type": "stream",
     "text": [
      "2/2 [==============================] - ETA: 0s - loss: 7.9925\n",
      "Epoch 00001: val_loss did not improve from 15.16813\n",
      "2/2 [==============================] - 26s 13s/step - loss: 7.9925 - val_loss: 18680.2578\n"
     ]
    },
    {
     "name": "stderr",
     "output_type": "stream",
     "text": [
      "\r",
      "  3%|▎         | 21/800 [13:15<8:56:03, 41.29s/it]"
     ]
    },
    {
     "name": "stdout",
     "output_type": "stream",
     "text": [
      "2/2 [==============================] - ETA: 0s - loss: 9.0776\n",
      "Epoch 00001: val_loss did not improve from 15.16813\n",
      "2/2 [==============================] - 27s 13s/step - loss: 9.0776 - val_loss: 16309.7100\n"
     ]
    },
    {
     "name": "stderr",
     "output_type": "stream",
     "text": [
      "\r",
      "  3%|▎         | 22/800 [13:57<8:59:01, 41.57s/it]"
     ]
    },
    {
     "name": "stdout",
     "output_type": "stream",
     "text": [
      "2/2 [==============================] - ETA: 0s - loss: 5.1436\n",
      "Epoch 00001: val_loss did not improve from 15.16813\n",
      "2/2 [==============================] - 26s 13s/step - loss: 5.1436 - val_loss: 14024.3008\n"
     ]
    },
    {
     "name": "stderr",
     "output_type": "stream",
     "text": [
      "\r",
      "  3%|▎         | 23/800 [14:39<8:57:22, 41.50s/it]"
     ]
    },
    {
     "name": "stdout",
     "output_type": "stream",
     "text": [
      "2/2 [==============================] - ETA: 0s - loss: 5.8468\n",
      "Epoch 00001: val_loss did not improve from 15.16813\n",
      "2/2 [==============================] - 25s 13s/step - loss: 5.8468 - val_loss: 11675.7139\n"
     ]
    },
    {
     "name": "stderr",
     "output_type": "stream",
     "text": [
      "\r",
      "  3%|▎         | 24/800 [15:19<8:54:16, 41.31s/it]"
     ]
    },
    {
     "name": "stdout",
     "output_type": "stream",
     "text": [
      "2/2 [==============================] - ETA: 0s - loss: 7.5721 \n",
      "Epoch 00001: val_loss did not improve from 15.16813\n",
      "2/2 [==============================] - 27s 13s/step - loss: 7.5721 - val_loss: 9731.9404\n"
     ]
    },
    {
     "name": "stderr",
     "output_type": "stream",
     "text": [
      "\r",
      "  3%|▎         | 25/800 [16:02<8:58:49, 41.72s/it]"
     ]
    },
    {
     "name": "stdout",
     "output_type": "stream",
     "text": [
      "2/2 [==============================] - ETA: 0s - loss: 2.9227\n",
      "Epoch 00001: val_loss did not improve from 15.16813\n",
      "2/2 [==============================] - 25s 13s/step - loss: 2.9227 - val_loss: 8143.4712\n"
     ]
    },
    {
     "name": "stderr",
     "output_type": "stream",
     "text": [
      "\r",
      "  3%|▎         | 26/800 [16:43<8:55:02, 41.48s/it]"
     ]
    },
    {
     "name": "stdout",
     "output_type": "stream",
     "text": [
      "2/2 [==============================] - ETA: 0s - loss: 3.4030\n",
      "Epoch 00001: val_loss did not improve from 15.16813\n",
      "2/2 [==============================] - 27s 14s/step - loss: 3.4030 - val_loss: 6777.9644\n"
     ]
    },
    {
     "name": "stderr",
     "output_type": "stream",
     "text": [
      "\r",
      "  3%|▎         | 27/800 [17:26<8:58:25, 41.79s/it]"
     ]
    },
    {
     "name": "stdout",
     "output_type": "stream",
     "text": [
      "2/2 [==============================] - ETA: 0s - loss: 27.0459\n",
      "Epoch 00001: val_loss did not improve from 15.16813\n",
      "2/2 [==============================] - 26s 13s/step - loss: 27.0459 - val_loss: 5531.1479\n"
     ]
    },
    {
     "name": "stderr",
     "output_type": "stream",
     "text": [
      "\r",
      "  4%|▎         | 28/800 [18:07<8:57:05, 41.74s/it]"
     ]
    },
    {
     "name": "stdout",
     "output_type": "stream",
     "text": [
      "2/2 [==============================] - ETA: 0s - loss: 99.8421 \n",
      "Epoch 00001: val_loss did not improve from 15.16813\n",
      "2/2 [==============================] - 16s 8s/step - loss: 99.8421 - val_loss: 4460.3496\n"
     ]
    },
    {
     "name": "stderr",
     "output_type": "stream",
     "text": [
      "\r",
      "  4%|▎         | 29/800 [18:37<8:09:42, 38.11s/it]"
     ]
    },
    {
     "name": "stdout",
     "output_type": "stream",
     "text": [
      "2/2 [==============================] - ETA: 0s - loss: 48.7260\n",
      "Epoch 00001: val_loss did not improve from 15.16813\n",
      "2/2 [==============================] - 15s 7s/step - loss: 48.7260 - val_loss: 3613.9194\n"
     ]
    },
    {
     "name": "stderr",
     "output_type": "stream",
     "text": [
      "\r",
      "  4%|▍         | 30/800 [19:00<7:11:39, 33.64s/it]"
     ]
    },
    {
     "name": "stdout",
     "output_type": "stream",
     "text": [
      "2/2 [==============================] - ETA: 0s - loss: 86.6814\n",
      "Epoch 00001: val_loss did not improve from 15.16813\n",
      "2/2 [==============================] - 15s 8s/step - loss: 86.6814 - val_loss: 2920.1150\n"
     ]
    },
    {
     "name": "stderr",
     "output_type": "stream",
     "text": [
      "\r",
      "  4%|▍         | 31/800 [19:24<6:34:08, 30.75s/it]"
     ]
    },
    {
     "name": "stdout",
     "output_type": "stream",
     "text": [
      "2/2 [==============================] - ETA: 0s - loss: 86.1124\n",
      "Epoch 00001: val_loss did not improve from 15.16813\n",
      "2/2 [==============================] - 15s 7s/step - loss: 86.1124 - val_loss: 2357.0762\n"
     ]
    },
    {
     "name": "stderr",
     "output_type": "stream",
     "text": [
      "\r",
      "  4%|▍         | 32/800 [19:47<6:03:56, 28.43s/it]"
     ]
    },
    {
     "name": "stdout",
     "output_type": "stream",
     "text": [
      "2/2 [==============================] - ETA: 0s - loss: 2.0436\n",
      "Epoch 00001: val_loss did not improve from 15.16813\n",
      "2/2 [==============================] - 15s 7s/step - loss: 2.0436 - val_loss: 1929.5175\n"
     ]
    },
    {
     "name": "stderr",
     "output_type": "stream",
     "text": [
      "\r",
      "  4%|▍         | 33/800 [20:10<5:43:18, 26.86s/it]"
     ]
    },
    {
     "name": "stdout",
     "output_type": "stream",
     "text": [
      "2/2 [==============================] - ETA: 0s - loss: 2.2651\n",
      "Epoch 00001: val_loss did not improve from 15.16813\n",
      "2/2 [==============================] - 15s 7s/step - loss: 2.2651 - val_loss: 1607.9937\n"
     ]
    },
    {
     "name": "stderr",
     "output_type": "stream",
     "text": [
      "\r",
      "  4%|▍         | 34/800 [20:33<5:28:14, 25.71s/it]"
     ]
    },
    {
     "name": "stdout",
     "output_type": "stream",
     "text": [
      "2/2 [==============================] - ETA: 0s - loss: 52.8452\n",
      "Epoch 00001: val_loss did not improve from 15.16813\n",
      "2/2 [==============================] - 27s 13s/step - loss: 52.8452 - val_loss: 1346.4556\n"
     ]
    },
    {
     "name": "stderr",
     "output_type": "stream",
     "text": [
      "\r",
      "  4%|▍         | 35/800 [21:09<6:05:06, 28.64s/it]"
     ]
    },
    {
     "name": "stdout",
     "output_type": "stream",
     "text": [
      "2/2 [==============================] - ETA: 0s - loss: 104.3278\n",
      "Epoch 00001: val_loss did not improve from 15.16813\n",
      "2/2 [==============================] - 25s 13s/step - loss: 104.3278 - val_loss: 1139.4153\n"
     ]
    },
    {
     "name": "stderr",
     "output_type": "stream",
     "text": [
      "\r",
      "  4%|▍         | 36/800 [21:49<6:48:52, 32.11s/it]"
     ]
    },
    {
     "name": "stdout",
     "output_type": "stream",
     "text": [
      "2/2 [==============================] - ETA: 0s - loss: 18.2523\n",
      "Epoch 00001: val_loss did not improve from 15.16813\n",
      "2/2 [==============================] - 25s 13s/step - loss: 18.2523 - val_loss: 960.2971\n"
     ]
    },
    {
     "name": "stderr",
     "output_type": "stream",
     "text": [
      "\r",
      "  5%|▍         | 37/800 [22:29<7:19:50, 34.59s/it]"
     ]
    },
    {
     "name": "stdout",
     "output_type": "stream",
     "text": [
      "2/2 [==============================] - ETA: 0s - loss: 9.9084\n",
      "Epoch 00001: val_loss did not improve from 15.16813\n",
      "2/2 [==============================] - 26s 13s/step - loss: 9.9084 - val_loss: 857.0302\n"
     ]
    },
    {
     "name": "stderr",
     "output_type": "stream",
     "text": [
      "\r",
      "  5%|▍         | 38/800 [23:11<7:47:10, 36.79s/it]"
     ]
    },
    {
     "name": "stdout",
     "output_type": "stream",
     "text": [
      "2/2 [==============================] - ETA: 0s - loss: 13.3560\n",
      "Epoch 00001: val_loss did not improve from 15.16813\n",
      "2/2 [==============================] - 25s 13s/step - loss: 13.3560 - val_loss: 764.6732\n"
     ]
    },
    {
     "name": "stderr",
     "output_type": "stream",
     "text": [
      "\r",
      "  5%|▍         | 39/800 [23:52<8:00:43, 37.90s/it]"
     ]
    },
    {
     "name": "stdout",
     "output_type": "stream",
     "text": [
      "2/2 [==============================] - ETA: 0s - loss: 31.5930\n",
      "Epoch 00001: val_loss did not improve from 15.16813\n",
      "2/2 [==============================] - 27s 13s/step - loss: 31.5930 - val_loss: 677.9833\n"
     ]
    },
    {
     "name": "stderr",
     "output_type": "stream",
     "text": [
      "\r",
      "  5%|▌         | 40/800 [24:34<8:16:43, 39.21s/it]"
     ]
    },
    {
     "name": "stdout",
     "output_type": "stream",
     "text": [
      "2/2 [==============================] - ETA: 0s - loss: 141.5731\n",
      "Epoch 00001: val_loss did not improve from 15.16813\n",
      "2/2 [==============================] - 25s 13s/step - loss: 141.5731 - val_loss: 736.0598\n"
     ]
    },
    {
     "name": "stderr",
     "output_type": "stream",
     "text": [
      "\r",
      "  5%|▌         | 41/800 [25:15<8:22:38, 39.73s/it]"
     ]
    },
    {
     "name": "stdout",
     "output_type": "stream",
     "text": [
      "2/2 [==============================] - ETA: 0s - loss: 188.5937\n",
      "Epoch 00001: val_loss did not improve from 15.16813\n",
      "2/2 [==============================] - 26s 13s/step - loss: 188.5937 - val_loss: 808.8485\n"
     ]
    },
    {
     "name": "stderr",
     "output_type": "stream",
     "text": [
      "\r",
      "  5%|▌         | 42/800 [25:56<8:25:21, 40.00s/it]"
     ]
    },
    {
     "name": "stdout",
     "output_type": "stream",
     "text": [
      "2/2 [==============================] - ETA: 0s - loss: 150.7411\n",
      "Epoch 00001: val_loss did not improve from 15.16813\n",
      "2/2 [==============================] - 26s 13s/step - loss: 150.7411 - val_loss: 995.4855\n"
     ]
    },
    {
     "name": "stderr",
     "output_type": "stream",
     "text": [
      "\r",
      "  5%|▌         | 43/800 [26:37<8:29:50, 40.41s/it]"
     ]
    },
    {
     "name": "stdout",
     "output_type": "stream",
     "text": [
      "2/2 [==============================] - ETA: 0s - loss: 47.3942\n",
      "Epoch 00001: val_loss did not improve from 15.16813\n",
      "2/2 [==============================] - 25s 13s/step - loss: 47.3942 - val_loss: 1317.0328\n"
     ]
    },
    {
     "name": "stderr",
     "output_type": "stream",
     "text": [
      "\r",
      "  6%|▌         | 44/800 [27:17<8:28:26, 40.35s/it]"
     ]
    },
    {
     "name": "stdout",
     "output_type": "stream",
     "text": [
      "2/2 [==============================] - ETA: 0s - loss: 6.6652\n",
      "Epoch 00001: val_loss did not improve from 15.16813\n",
      "2/2 [==============================] - 26s 13s/step - loss: 6.6652 - val_loss: 1700.9847\n"
     ]
    },
    {
     "name": "stderr",
     "output_type": "stream",
     "text": [
      "\r",
      "  6%|▌         | 45/800 [27:58<8:29:21, 40.48s/it]"
     ]
    },
    {
     "name": "stdout",
     "output_type": "stream",
     "text": [
      "2/2 [==============================] - ETA: 0s - loss: 2.6008\n",
      "Epoch 00001: val_loss did not improve from 15.16813\n",
      "2/2 [==============================] - 25s 13s/step - loss: 2.6008 - val_loss: 2062.2959\n"
     ]
    },
    {
     "name": "stderr",
     "output_type": "stream",
     "text": [
      "\r",
      "  6%|▌         | 46/800 [28:40<8:36:07, 41.07s/it]"
     ]
    },
    {
     "name": "stdout",
     "output_type": "stream",
     "text": [
      "2/2 [==============================] - ETA: 0s - loss: 2.8336\n",
      "Epoch 00001: val_loss did not improve from 15.16813\n",
      "2/2 [==============================] - 25s 12s/step - loss: 2.8336 - val_loss: 2263.2505\n"
     ]
    },
    {
     "name": "stderr",
     "output_type": "stream",
     "text": [
      "\r",
      "  6%|▌         | 47/800 [29:21<8:32:57, 40.87s/it]"
     ]
    },
    {
     "name": "stdout",
     "output_type": "stream",
     "text": [
      "2/2 [==============================] - ETA: 0s - loss: 2.1073\n",
      "Epoch 00001: val_loss did not improve from 15.16813\n",
      "2/2 [==============================] - 27s 13s/step - loss: 2.1073 - val_loss: 2342.8765\n"
     ]
    },
    {
     "name": "stderr",
     "output_type": "stream",
     "text": [
      "\r",
      "  6%|▌         | 48/800 [30:03<8:37:40, 41.30s/it]"
     ]
    },
    {
     "name": "stdout",
     "output_type": "stream",
     "text": [
      "2/2 [==============================] - ETA: 0s - loss: 3.7014\n",
      "Epoch 00001: val_loss did not improve from 15.16813\n",
      "2/2 [==============================] - 25s 13s/step - loss: 3.7014 - val_loss: 2308.3640\n"
     ]
    },
    {
     "name": "stderr",
     "output_type": "stream",
     "text": [
      "\r",
      "  6%|▌         | 49/800 [30:44<8:34:03, 41.07s/it]"
     ]
    },
    {
     "name": "stdout",
     "output_type": "stream",
     "text": [
      "2/2 [==============================] - ETA: 0s - loss: 2.8552\n",
      "Epoch 00001: val_loss did not improve from 15.16813\n",
      "2/2 [==============================] - 26s 13s/step - loss: 2.8552 - val_loss: 2256.8486\n"
     ]
    },
    {
     "name": "stderr",
     "output_type": "stream",
     "text": [
      "\r",
      "  6%|▋         | 50/800 [31:24<8:31:31, 40.92s/it]"
     ]
    },
    {
     "name": "stdout",
     "output_type": "stream",
     "text": [
      "2/2 [==============================] - ETA: 0s - loss: 2.0424\n",
      "Epoch 00001: val_loss did not improve from 15.16813\n",
      "2/2 [==============================] - 26s 13s/step - loss: 2.0424 - val_loss: 2185.8467\n"
     ]
    },
    {
     "name": "stderr",
     "output_type": "stream",
     "text": [
      "\r",
      "  6%|▋         | 51/800 [32:07<8:36:26, 41.37s/it]"
     ]
    },
    {
     "name": "stdout",
     "output_type": "stream",
     "text": [
      "2/2 [==============================] - ETA: 0s - loss: 29.1306\n",
      "Epoch 00001: val_loss did not improve from 15.16813\n",
      "2/2 [==============================] - 25s 13s/step - loss: 29.1306 - val_loss: 2266.0493\n"
     ]
    },
    {
     "name": "stderr",
     "output_type": "stream",
     "text": [
      "\r",
      "  6%|▋         | 52/800 [32:47<8:30:16, 40.93s/it]"
     ]
    },
    {
     "name": "stdout",
     "output_type": "stream",
     "text": [
      "2/2 [==============================] - ETA: 0s - loss: 31.1640\n",
      "Epoch 00001: val_loss did not improve from 15.16813\n",
      "2/2 [==============================] - 27s 13s/step - loss: 31.1640 - val_loss: 2318.2256\n"
     ]
    },
    {
     "name": "stderr",
     "output_type": "stream",
     "text": [
      "\r",
      "  7%|▋         | 53/800 [33:28<8:32:58, 41.20s/it]"
     ]
    },
    {
     "name": "stdout",
     "output_type": "stream",
     "text": [
      "2/2 [==============================] - ETA: 0s - loss: 19.1334\n",
      "Epoch 00001: val_loss did not improve from 15.16813\n",
      "2/2 [==============================] - 26s 13s/step - loss: 19.1334 - val_loss: 2860.6450\n"
     ]
    },
    {
     "name": "stderr",
     "output_type": "stream",
     "text": [
      "\r",
      "  7%|▋         | 54/800 [34:10<8:33:56, 41.34s/it]"
     ]
    },
    {
     "name": "stdout",
     "output_type": "stream",
     "text": [
      "2/2 [==============================] - ETA: 0s - loss: 72.1562 \n",
      "Epoch 00001: val_loss did not improve from 15.16813\n",
      "2/2 [==============================] - 26s 13s/step - loss: 72.1562 - val_loss: 3670.3313\n"
     ]
    },
    {
     "name": "stderr",
     "output_type": "stream",
     "text": [
      "\r",
      "  7%|▋         | 55/800 [34:51<8:32:58, 41.31s/it]"
     ]
    },
    {
     "name": "stdout",
     "output_type": "stream",
     "text": [
      "2/2 [==============================] - ETA: 0s - loss: 17.6628\n",
      "Epoch 00001: val_loss did not improve from 15.16813\n",
      "2/2 [==============================] - 26s 13s/step - loss: 17.6628 - val_loss: 2399.1399\n"
     ]
    },
    {
     "name": "stderr",
     "output_type": "stream",
     "text": [
      "\r",
      "  7%|▋         | 56/800 [35:33<8:35:05, 41.54s/it]"
     ]
    },
    {
     "name": "stdout",
     "output_type": "stream",
     "text": [
      "2/2 [==============================] - ETA: 0s - loss: 52.3029\n",
      "Epoch 00001: val_loss did not improve from 15.16813\n",
      "2/2 [==============================] - 22s 11s/step - loss: 52.3029 - val_loss: 1275.9886\n"
     ]
    },
    {
     "name": "stderr",
     "output_type": "stream",
     "text": [
      "\r",
      "  7%|▋         | 57/800 [36:11<8:18:27, 40.25s/it]"
     ]
    },
    {
     "name": "stdout",
     "output_type": "stream",
     "text": [
      "2/2 [==============================] - ETA: 0s - loss: 103.4044\n",
      "Epoch 00001: val_loss did not improve from 15.16813\n",
      "2/2 [==============================] - 15s 7s/step - loss: 103.4044 - val_loss: 778.9975\n"
     ]
    },
    {
     "name": "stderr",
     "output_type": "stream",
     "text": [
      "\r",
      "  7%|▋         | 58/800 [36:34<7:16:37, 35.31s/it]"
     ]
    },
    {
     "name": "stdout",
     "output_type": "stream",
     "text": [
      "2/2 [==============================] - ETA: 0s - loss: 198.8984\n",
      "Epoch 00001: val_loss did not improve from 15.16813\n",
      "2/2 [==============================] - 16s 8s/step - loss: 198.8984 - val_loss: 552.0062\n"
     ]
    },
    {
     "name": "stderr",
     "output_type": "stream",
     "text": [
      "\r",
      "  7%|▋         | 59/800 [36:59<6:36:26, 32.10s/it]"
     ]
    },
    {
     "name": "stdout",
     "output_type": "stream",
     "text": [
      "2/2 [==============================] - ETA: 0s - loss: 170.3155\n",
      "Epoch 00001: val_loss did not improve from 15.16813\n",
      "2/2 [==============================] - 15s 7s/step - loss: 170.3155 - val_loss: 393.5721\n"
     ]
    },
    {
     "name": "stderr",
     "output_type": "stream",
     "text": [
      "\r",
      "  8%|▊         | 60/800 [37:22<6:03:57, 29.51s/it]"
     ]
    },
    {
     "name": "stdout",
     "output_type": "stream",
     "text": [
      "2/2 [==============================] - ETA: 0s - loss: 6.9756\n",
      "Epoch 00001: val_loss did not improve from 15.16813\n",
      "2/2 [==============================] - 16s 8s/step - loss: 6.9756 - val_loss: 285.1297\n"
     ]
    },
    {
     "name": "stderr",
     "output_type": "stream",
     "text": [
      "\r",
      "  8%|▊         | 61/800 [37:48<5:48:00, 28.26s/it]"
     ]
    },
    {
     "name": "stdout",
     "output_type": "stream",
     "text": [
      "2/2 [==============================] - ETA: 0s - loss: 27.5014\n",
      "Epoch 00001: val_loss did not improve from 15.16813\n",
      "2/2 [==============================] - 23s 12s/step - loss: 27.5014 - val_loss: 236.0161\n"
     ]
    },
    {
     "name": "stderr",
     "output_type": "stream",
     "text": [
      "\r",
      "  8%|▊         | 62/800 [38:27<6:27:12, 31.48s/it]"
     ]
    },
    {
     "name": "stdout",
     "output_type": "stream",
     "text": [
      "2/2 [==============================] - ETA: 0s - loss: 7.5482\n",
      "Epoch 00001: val_loss did not improve from 15.16813\n",
      "2/2 [==============================] - 25s 12s/step - loss: 7.5482 - val_loss: 212.9535\n"
     ]
    },
    {
     "name": "stderr",
     "output_type": "stream",
     "text": [
      "\r",
      "  8%|▊         | 63/800 [39:08<7:00:44, 34.25s/it]"
     ]
    },
    {
     "name": "stdout",
     "output_type": "stream",
     "text": [
      "2/2 [==============================] - ETA: 0s - loss: 4.3977\n",
      "Epoch 00001: val_loss did not improve from 15.16813\n",
      "2/2 [==============================] - 25s 13s/step - loss: 4.3977 - val_loss: 200.1449\n"
     ]
    },
    {
     "name": "stderr",
     "output_type": "stream",
     "text": [
      "\r",
      "  8%|▊         | 64/800 [39:48<7:24:00, 36.20s/it]"
     ]
    },
    {
     "name": "stdout",
     "output_type": "stream",
     "text": [
      "2/2 [==============================] - ETA: 0s - loss: 3.1477\n",
      "Epoch 00001: val_loss did not improve from 15.16813\n",
      "2/2 [==============================] - 25s 12s/step - loss: 3.1477 - val_loss: 190.2548\n"
     ]
    },
    {
     "name": "stderr",
     "output_type": "stream",
     "text": [
      "\r",
      "  8%|▊         | 65/800 [40:28<7:35:46, 37.21s/it]"
     ]
    },
    {
     "name": "stdout",
     "output_type": "stream",
     "text": [
      "2/2 [==============================] - ETA: 0s - loss: 137.0238\n",
      "Epoch 00001: val_loss did not improve from 15.16813\n",
      "2/2 [==============================] - 24s 12s/step - loss: 137.0238 - val_loss: 262.7161\n"
     ]
    },
    {
     "name": "stderr",
     "output_type": "stream",
     "text": [
      "\r",
      "  8%|▊         | 66/800 [41:07<7:41:23, 37.72s/it]"
     ]
    },
    {
     "name": "stdout",
     "output_type": "stream",
     "text": [
      "2/2 [==============================] - ETA: 0s - loss: 7.0272\n",
      "Epoch 00001: val_loss did not improve from 15.16813\n",
      "2/2 [==============================] - 24s 12s/step - loss: 7.0272 - val_loss: 316.1977\n"
     ]
    },
    {
     "name": "stderr",
     "output_type": "stream",
     "text": [
      "\r",
      "  8%|▊         | 67/800 [41:45<7:42:57, 37.90s/it]"
     ]
    },
    {
     "name": "stdout",
     "output_type": "stream",
     "text": [
      "2/2 [==============================] - ETA: 0s - loss: 59.7407\n",
      "Epoch 00001: val_loss did not improve from 15.16813\n",
      "2/2 [==============================] - 25s 13s/step - loss: 59.7407 - val_loss: 361.2923\n"
     ]
    },
    {
     "name": "stderr",
     "output_type": "stream",
     "text": [
      "\r",
      "  8%|▊         | 68/800 [42:25<7:49:08, 38.45s/it]"
     ]
    },
    {
     "name": "stdout",
     "output_type": "stream",
     "text": [
      "2/2 [==============================] - ETA: 0s - loss: 17.9655\n",
      "Epoch 00001: val_loss did not improve from 15.16813\n",
      "2/2 [==============================] - 22s 11s/step - loss: 17.9655 - val_loss: 383.7993\n"
     ]
    },
    {
     "name": "stderr",
     "output_type": "stream",
     "text": [
      "\r",
      "  9%|▊         | 69/800 [43:02<7:43:02, 38.01s/it]"
     ]
    },
    {
     "name": "stdout",
     "output_type": "stream",
     "text": [
      "2/2 [==============================] - ETA: 0s - loss: 48.5690\n",
      "Epoch 00001: val_loss did not improve from 15.16813\n",
      "2/2 [==============================] - 24s 12s/step - loss: 48.5690 - val_loss: 458.0019\n"
     ]
    },
    {
     "name": "stderr",
     "output_type": "stream",
     "text": [
      "\r",
      "  9%|▉         | 70/800 [43:41<7:45:21, 38.25s/it]"
     ]
    },
    {
     "name": "stdout",
     "output_type": "stream",
     "text": [
      "2/2 [==============================] - ETA: 0s - loss: 181.8171\n",
      "Epoch 00001: val_loss did not improve from 15.16813\n",
      "2/2 [==============================] - 25s 13s/step - loss: 181.8171 - val_loss: 725.1005\n"
     ]
    },
    {
     "name": "stderr",
     "output_type": "stream",
     "text": [
      "\r",
      "  9%|▉         | 71/800 [44:20<7:49:14, 38.62s/it]"
     ]
    },
    {
     "name": "stdout",
     "output_type": "stream",
     "text": [
      "2/2 [==============================] - ETA: 0s - loss: 63.1882\n",
      "Epoch 00001: val_loss did not improve from 15.16813\n",
      "2/2 [==============================] - 24s 12s/step - loss: 63.1882 - val_loss: 540.6953\n"
     ]
    },
    {
     "name": "stderr",
     "output_type": "stream",
     "text": [
      "\r",
      "  9%|▉         | 72/800 [44:58<7:46:13, 38.42s/it]"
     ]
    },
    {
     "name": "stdout",
     "output_type": "stream",
     "text": [
      "2/2 [==============================] - ETA: 0s - loss: 17.8167\n",
      "Epoch 00001: val_loss did not improve from 15.16813\n",
      "2/2 [==============================] - 24s 12s/step - loss: 17.8167 - val_loss: 219.8072\n"
     ]
    },
    {
     "name": "stderr",
     "output_type": "stream",
     "text": [
      "\r",
      "  9%|▉         | 73/800 [45:36<7:43:55, 38.29s/it]"
     ]
    },
    {
     "name": "stdout",
     "output_type": "stream",
     "text": [
      "2/2 [==============================] - ETA: 0s - loss: 8.1290 \n",
      "Epoch 00001: val_loss did not improve from 15.16813\n",
      "2/2 [==============================] - 25s 12s/step - loss: 8.1290 - val_loss: 69.1966\n"
     ]
    },
    {
     "name": "stderr",
     "output_type": "stream",
     "text": [
      "\r",
      "  9%|▉         | 74/800 [46:15<7:47:18, 38.62s/it]"
     ]
    },
    {
     "name": "stdout",
     "output_type": "stream",
     "text": [
      "2/2 [==============================] - ETA: 0s - loss: 8.4474\n",
      "Epoch 00001: val_loss did not improve from 15.16813\n",
      "2/2 [==============================] - 25s 12s/step - loss: 8.4474 - val_loss: 22.7563\n"
     ]
    },
    {
     "name": "stderr",
     "output_type": "stream",
     "text": [
      "\r",
      "  9%|▉         | 75/800 [46:54<7:45:45, 38.55s/it]"
     ]
    },
    {
     "name": "stdout",
     "output_type": "stream",
     "text": [
      "2/2 [==============================] - ETA: 0s - loss: 9.4105\n",
      "Epoch 00001: val_loss improved from 15.16813 to 7.49623, saving model to ./model.h5\n",
      "2/2 [==============================] - 24s 12s/step - loss: 9.4105 - val_loss: 7.4962\n"
     ]
    },
    {
     "name": "stderr",
     "output_type": "stream",
     "text": [
      "\r",
      " 10%|▉         | 76/800 [47:33<7:46:13, 38.64s/it]"
     ]
    },
    {
     "name": "stdout",
     "output_type": "stream",
     "text": [
      "2/2 [==============================] - ETA: 0s - loss: 9.0750\n",
      "Epoch 00001: val_loss improved from 7.49623 to 2.97600, saving model to ./model.h5\n",
      "2/2 [==============================] - 25s 12s/step - loss: 9.0750 - val_loss: 2.9760\n"
     ]
    },
    {
     "name": "stderr",
     "output_type": "stream",
     "text": [
      "\r",
      " 10%|▉         | 77/800 [48:13<7:52:10, 39.19s/it]"
     ]
    },
    {
     "name": "stdout",
     "output_type": "stream",
     "text": [
      "2/2 [==============================] - ETA: 0s - loss: 8.9458\n",
      "Epoch 00001: val_loss improved from 2.97600 to 2.12257, saving model to ./model.h5\n",
      "2/2 [==============================] - 25s 13s/step - loss: 8.9458 - val_loss: 2.1226\n"
     ]
    },
    {
     "name": "stderr",
     "output_type": "stream",
     "text": [
      "\r",
      " 10%|▉         | 78/800 [48:52<7:52:02, 39.23s/it]"
     ]
    },
    {
     "name": "stdout",
     "output_type": "stream",
     "text": [
      "2/2 [==============================] - ETA: 0s - loss: 11.2123\n",
      "Epoch 00001: val_loss improved from 2.12257 to 1.99641, saving model to ./model.h5\n",
      "2/2 [==============================] - 27s 13s/step - loss: 11.2123 - val_loss: 1.9964\n"
     ]
    },
    {
     "name": "stderr",
     "output_type": "stream",
     "text": [
      "\r",
      " 10%|▉         | 79/800 [49:34<7:59:44, 39.92s/it]"
     ]
    },
    {
     "name": "stdout",
     "output_type": "stream",
     "text": [
      "2/2 [==============================] - ETA: 0s - loss: 14.5214\n",
      "Epoch 00001: val_loss improved from 1.99641 to 1.93999, saving model to ./model.h5\n",
      "2/2 [==============================] - 26s 13s/step - loss: 14.5214 - val_loss: 1.9400\n"
     ]
    },
    {
     "name": "stderr",
     "output_type": "stream",
     "text": [
      "\r",
      " 10%|█         | 80/800 [50:14<7:59:30, 39.96s/it]"
     ]
    },
    {
     "name": "stdout",
     "output_type": "stream",
     "text": [
      "2/2 [==============================] - ETA: 0s - loss: 24.7073\n",
      "Epoch 00001: val_loss did not improve from 1.93999\n",
      "2/2 [==============================] - 25s 12s/step - loss: 24.7073 - val_loss: 1.9798\n"
     ]
    },
    {
     "name": "stderr",
     "output_type": "stream",
     "text": [
      "\r",
      " 10%|█         | 81/800 [50:54<7:57:47, 39.87s/it]"
     ]
    },
    {
     "name": "stdout",
     "output_type": "stream",
     "text": [
      "2/2 [==============================] - ETA: 0s - loss: 55.5371\n",
      "Epoch 00001: val_loss did not improve from 1.93999\n",
      "2/2 [==============================] - 25s 12s/step - loss: 55.5371 - val_loss: 1.9990\n"
     ]
    },
    {
     "name": "stderr",
     "output_type": "stream",
     "text": [
      "\r",
      " 10%|█         | 82/800 [51:31<7:49:02, 39.20s/it]"
     ]
    },
    {
     "name": "stdout",
     "output_type": "stream",
     "text": [
      "2/2 [==============================] - ETA: 0s - loss: 116.7863\n",
      "Epoch 00001: val_loss did not improve from 1.93999\n",
      "2/2 [==============================] - 25s 13s/step - loss: 116.7863 - val_loss: 1.9924\n"
     ]
    },
    {
     "name": "stderr",
     "output_type": "stream",
     "text": [
      "\r",
      " 10%|█         | 83/800 [52:12<7:52:08, 39.51s/it]"
     ]
    },
    {
     "name": "stdout",
     "output_type": "stream",
     "text": [
      "2/2 [==============================] - ETA: 0s - loss: 32.4374\n",
      "Epoch 00001: val_loss did not improve from 1.93999\n",
      "2/2 [==============================] - 25s 13s/step - loss: 32.4374 - val_loss: 1.9894\n"
     ]
    },
    {
     "name": "stderr",
     "output_type": "stream",
     "text": [
      "\r",
      " 10%|█         | 84/800 [52:51<7:51:39, 39.53s/it]"
     ]
    },
    {
     "name": "stdout",
     "output_type": "stream",
     "text": [
      "2/2 [==============================] - ETA: 0s - loss: 76.8441\n",
      "Epoch 00001: val_loss did not improve from 1.93999\n",
      "2/2 [==============================] - 24s 12s/step - loss: 76.8441 - val_loss: 1.9816\n"
     ]
    },
    {
     "name": "stderr",
     "output_type": "stream",
     "text": [
      "\r",
      " 11%|█         | 85/800 [53:31<7:53:54, 39.77s/it]"
     ]
    },
    {
     "name": "stdout",
     "output_type": "stream",
     "text": [
      "2/2 [==============================] - ETA: 0s - loss: 43.7798\n",
      "Epoch 00001: val_loss did not improve from 1.93999\n",
      "2/2 [==============================] - 25s 12s/step - loss: 43.7798 - val_loss: 1.9699\n"
     ]
    },
    {
     "name": "stderr",
     "output_type": "stream",
     "text": [
      "\r",
      " 11%|█         | 86/800 [54:11<7:53:10, 39.76s/it]"
     ]
    },
    {
     "name": "stdout",
     "output_type": "stream",
     "text": [
      "2/2 [==============================] - ETA: 0s - loss: 11.4855\n",
      "Epoch 00001: val_loss did not improve from 1.93999\n",
      "2/2 [==============================] - 26s 13s/step - loss: 11.4855 - val_loss: 1.9688\n"
     ]
    },
    {
     "name": "stderr",
     "output_type": "stream",
     "text": [
      "\r",
      " 11%|█         | 87/800 [54:52<7:55:08, 39.98s/it]"
     ]
    },
    {
     "name": "stdout",
     "output_type": "stream",
     "text": [
      "2/2 [==============================] - ETA: 0s - loss: 6.5527\n",
      "Epoch 00001: val_loss did not improve from 1.93999\n",
      "2/2 [==============================] - 25s 12s/step - loss: 6.5527 - val_loss: 1.9644\n"
     ]
    },
    {
     "name": "stderr",
     "output_type": "stream",
     "text": [
      "\r",
      " 11%|█         | 88/800 [55:31<7:52:57, 39.86s/it]"
     ]
    },
    {
     "name": "stdout",
     "output_type": "stream",
     "text": [
      "2/2 [==============================] - ETA: 0s - loss: 4.0007\n",
      "Epoch 00001: val_loss did not improve from 1.93999\n",
      "2/2 [==============================] - 25s 12s/step - loss: 4.0007 - val_loss: 1.9645\n"
     ]
    },
    {
     "name": "stderr",
     "output_type": "stream",
     "text": [
      "\r",
      " 11%|█         | 89/800 [56:12<7:54:00, 40.00s/it]"
     ]
    },
    {
     "name": "stdout",
     "output_type": "stream",
     "text": [
      "2/2 [==============================] - ETA: 0s - loss: 3.2159\n",
      "Epoch 00001: val_loss did not improve from 1.93999\n",
      "2/2 [==============================] - 26s 13s/step - loss: 3.2159 - val_loss: 1.9674\n"
     ]
    },
    {
     "name": "stderr",
     "output_type": "stream",
     "text": [
      "\r",
      " 11%|█▏        | 90/800 [56:52<7:56:22, 40.26s/it]"
     ]
    },
    {
     "name": "stdout",
     "output_type": "stream",
     "text": [
      "2/2 [==============================] - ETA: 0s - loss: 13.5288\n",
      "Epoch 00001: val_loss did not improve from 1.93999\n",
      "2/2 [==============================] - 25s 13s/step - loss: 13.5288 - val_loss: 1.9666\n"
     ]
    },
    {
     "name": "stderr",
     "output_type": "stream",
     "text": [
      "\r",
      " 11%|█▏        | 91/800 [57:33<7:55:47, 40.26s/it]"
     ]
    },
    {
     "name": "stdout",
     "output_type": "stream",
     "text": [
      "2/2 [==============================] - ETA: 0s - loss: 74.3373 \n",
      "Epoch 00001: val_loss did not improve from 1.93999\n",
      "2/2 [==============================] - 25s 12s/step - loss: 74.3373 - val_loss: 1.9639\n"
     ]
    },
    {
     "name": "stderr",
     "output_type": "stream",
     "text": [
      "\r",
      " 12%|█▏        | 92/800 [58:13<7:53:36, 40.14s/it]"
     ]
    },
    {
     "name": "stdout",
     "output_type": "stream",
     "text": [
      "2/2 [==============================] - ETA: 0s - loss: 137.0249\n",
      "Epoch 00001: val_loss did not improve from 1.93999\n",
      "2/2 [==============================] - 23s 11s/step - loss: 137.0249 - val_loss: 1.9415\n"
     ]
    },
    {
     "name": "stderr",
     "output_type": "stream",
     "text": [
      "\r",
      " 12%|█▏        | 93/800 [58:51<7:46:46, 39.61s/it]"
     ]
    },
    {
     "name": "stdout",
     "output_type": "stream",
     "text": [
      "2/2 [==============================] - ETA: 0s - loss: 155.4608\n",
      "Epoch 00001: val_loss improved from 1.93999 to 1.90809, saving model to ./model.h5\n",
      "2/2 [==============================] - 22s 11s/step - loss: 155.4608 - val_loss: 1.9081\n"
     ]
    },
    {
     "name": "stderr",
     "output_type": "stream",
     "text": [
      "\r",
      " 12%|█▏        | 94/800 [59:26<7:31:17, 38.35s/it]"
     ]
    },
    {
     "name": "stdout",
     "output_type": "stream",
     "text": [
      "2/2 [==============================] - ETA: 0s - loss: 99.0975 \n",
      "Epoch 00001: val_loss improved from 1.90809 to 1.88479, saving model to ./model.h5\n",
      "2/2 [==============================] - 15s 8s/step - loss: 99.0975 - val_loss: 1.8848\n"
     ]
    },
    {
     "name": "stderr",
     "output_type": "stream",
     "text": [
      "\r",
      " 12%|█▏        | 95/800 [59:52<6:47:14, 34.66s/it]"
     ]
    },
    {
     "name": "stdout",
     "output_type": "stream",
     "text": [
      "2/2 [==============================] - ETA: 0s - loss: 43.2411\n",
      "Epoch 00001: val_loss improved from 1.88479 to 1.86421, saving model to ./model.h5\n",
      "2/2 [==============================] - 16s 8s/step - loss: 43.2411 - val_loss: 1.8642\n"
     ]
    },
    {
     "name": "stderr",
     "output_type": "stream",
     "text": [
      "\r",
      " 12%|█▏        | 96/800 [1:00:17<6:10:48, 31.60s/it]"
     ]
    },
    {
     "name": "stdout",
     "output_type": "stream",
     "text": [
      "2/2 [==============================] - ETA: 0s - loss: 28.0889\n",
      "Epoch 00001: val_loss did not improve from 1.86421\n",
      "2/2 [==============================] - 15s 7s/step - loss: 28.0889 - val_loss: 1.8644\n"
     ]
    },
    {
     "name": "stderr",
     "output_type": "stream",
     "text": [
      "\r",
      " 12%|█▏        | 97/800 [1:00:40<5:41:14, 29.12s/it]"
     ]
    },
    {
     "name": "stdout",
     "output_type": "stream",
     "text": [
      "2/2 [==============================] - ETA: 0s - loss: 9.9176 \n",
      "Epoch 00001: val_loss improved from 1.86421 to 1.86408, saving model to ./model.h5\n",
      "2/2 [==============================] - 15s 7s/step - loss: 9.9176 - val_loss: 1.8641\n"
     ]
    },
    {
     "name": "stderr",
     "output_type": "stream",
     "text": [
      "\r",
      " 12%|█▏        | 98/800 [1:01:04<5:21:04, 27.44s/it]"
     ]
    },
    {
     "name": "stdout",
     "output_type": "stream",
     "text": [
      "2/2 [==============================] - ETA: 0s - loss: 4.4951\n",
      "Epoch 00001: val_loss did not improve from 1.86408\n",
      "2/2 [==============================] - 15s 7s/step - loss: 4.4951 - val_loss: 1.8879\n"
     ]
    },
    {
     "name": "stderr",
     "output_type": "stream",
     "text": [
      "\r",
      " 12%|█▏        | 99/800 [1:01:27<5:06:05, 26.20s/it]"
     ]
    },
    {
     "name": "stdout",
     "output_type": "stream",
     "text": [
      "2/2 [==============================] - ETA: 0s - loss: 4.3530\n",
      "Epoch 00001: val_loss did not improve from 1.86408\n",
      "2/2 [==============================] - 15s 7s/step - loss: 4.3530 - val_loss: 1.9085\n"
     ]
    },
    {
     "name": "stderr",
     "output_type": "stream",
     "text": [
      "\r",
      " 12%|█▎        | 100/800 [1:01:50<4:55:59, 25.37s/it]"
     ]
    },
    {
     "name": "stdout",
     "output_type": "stream",
     "text": [
      "2/2 [==============================] - ETA: 0s - loss: 4.4265\n",
      "Epoch 00001: val_loss improved from 1.86408 to 1.86373, saving model to ./model.h5\n",
      "2/2 [==============================] - 17s 9s/step - loss: 4.4265 - val_loss: 1.8637\n"
     ]
    },
    {
     "name": "stderr",
     "output_type": "stream",
     "text": [
      "\r",
      " 13%|█▎        | 101/800 [1:02:17<4:59:48, 25.73s/it]"
     ]
    },
    {
     "name": "stdout",
     "output_type": "stream",
     "text": [
      "2/2 [==============================] - ETA: 0s - loss: 3.0704\n",
      "Epoch 00001: val_loss did not improve from 1.86373\n",
      "2/2 [==============================] - 21s 10s/step - loss: 3.0704 - val_loss: 1.9960\n"
     ]
    },
    {
     "name": "stderr",
     "output_type": "stream",
     "text": [
      "\r",
      " 13%|█▎        | 102/800 [1:02:50<5:24:34, 27.90s/it]"
     ]
    },
    {
     "name": "stdout",
     "output_type": "stream",
     "text": [
      "2/2 [==============================] - ETA: 0s - loss: 12.6810\n",
      "Epoch 00001: val_loss did not improve from 1.86373\n",
      "2/2 [==============================] - 19s 9s/step - loss: 12.6810 - val_loss: 1.9323\n"
     ]
    },
    {
     "name": "stderr",
     "output_type": "stream",
     "text": [
      "\r",
      " 13%|█▎        | 103/800 [1:03:19<5:28:10, 28.25s/it]"
     ]
    },
    {
     "name": "stdout",
     "output_type": "stream",
     "text": [
      "2/2 [==============================] - ETA: 0s - loss: 48.4205\n",
      "Epoch 00001: val_loss did not improve from 1.86373\n",
      "2/2 [==============================] - 26s 13s/step - loss: 48.4205 - val_loss: 2.9449\n"
     ]
    },
    {
     "name": "stderr",
     "output_type": "stream",
     "text": [
      "\r",
      " 13%|█▎        | 104/800 [1:04:01<6:14:37, 32.30s/it]"
     ]
    },
    {
     "name": "stdout",
     "output_type": "stream",
     "text": [
      "2/2 [==============================] - ETA: 0s - loss: 2.3076\n",
      "Epoch 00001: val_loss did not improve from 1.86373\n",
      "2/2 [==============================] - 23s 12s/step - loss: 2.3076 - val_loss: 6.6879\n"
     ]
    },
    {
     "name": "stderr",
     "output_type": "stream",
     "text": [
      "\r",
      " 13%|█▎        | 105/800 [1:04:36<6:25:45, 33.30s/it]"
     ]
    },
    {
     "name": "stdout",
     "output_type": "stream",
     "text": [
      "2/2 [==============================] - ETA: 0s - loss: 2.0637\n",
      "Epoch 00001: val_loss did not improve from 1.86373\n",
      "2/2 [==============================] - 25s 12s/step - loss: 2.0637 - val_loss: 11.1466\n"
     ]
    },
    {
     "name": "stderr",
     "output_type": "stream",
     "text": [
      "\r",
      " 13%|█▎        | 106/800 [1:05:17<6:49:43, 35.42s/it]"
     ]
    },
    {
     "name": "stdout",
     "output_type": "stream",
     "text": [
      "2/2 [==============================] - ETA: 0s - loss: 14.4561\n",
      "Epoch 00001: val_loss did not improve from 1.86373\n",
      "2/2 [==============================] - 16s 8s/step - loss: 14.4561 - val_loss: 15.4514\n"
     ]
    },
    {
     "name": "stderr",
     "output_type": "stream",
     "text": [
      "\r",
      " 13%|█▎        | 107/800 [1:05:45<6:24:06, 33.26s/it]"
     ]
    },
    {
     "name": "stdout",
     "output_type": "stream",
     "text": [
      "2/2 [==============================] - ETA: 0s - loss: 2.2312\n",
      "Epoch 00001: val_loss did not improve from 1.86373\n",
      "2/2 [==============================] - 26s 13s/step - loss: 2.2312 - val_loss: 18.2502\n"
     ]
    },
    {
     "name": "stderr",
     "output_type": "stream",
     "text": [
      "\r",
      " 14%|█▎        | 108/800 [1:06:25<6:45:56, 35.20s/it]"
     ]
    },
    {
     "name": "stdout",
     "output_type": "stream",
     "text": [
      "2/2 [==============================] - ETA: 0s - loss: 1.7133\n",
      "Epoch 00001: val_loss did not improve from 1.86373\n",
      "2/2 [==============================] - 20s 10s/step - loss: 1.7133 - val_loss: 18.3810\n"
     ]
    },
    {
     "name": "stderr",
     "output_type": "stream",
     "text": [
      "\r",
      " 14%|█▎        | 109/800 [1:07:00<6:45:22, 35.20s/it]"
     ]
    },
    {
     "name": "stdout",
     "output_type": "stream",
     "text": [
      "2/2 [==============================] - ETA: 0s - loss: 41.8458\n",
      "Epoch 00001: val_loss did not improve from 1.86373\n",
      "2/2 [==============================] - 20s 10s/step - loss: 41.8458 - val_loss: 16.7836\n"
     ]
    },
    {
     "name": "stderr",
     "output_type": "stream",
     "text": [
      "\r",
      " 14%|█▍        | 110/800 [1:07:35<6:45:29, 35.26s/it]"
     ]
    },
    {
     "name": "stdout",
     "output_type": "stream",
     "text": [
      "2/2 [==============================] - ETA: 0s - loss: 26.5458\n",
      "Epoch 00001: val_loss did not improve from 1.86373\n",
      "2/2 [==============================] - 21s 10s/step - loss: 26.5458 - val_loss: 16.2280\n"
     ]
    },
    {
     "name": "stderr",
     "output_type": "stream",
     "text": [
      "\r",
      " 14%|█▍        | 111/800 [1:08:11<6:45:40, 35.33s/it]"
     ]
    },
    {
     "name": "stdout",
     "output_type": "stream",
     "text": [
      "2/2 [==============================] - ETA: 0s - loss: 12.2100\n",
      "Epoch 00001: val_loss did not improve from 1.86373\n",
      "2/2 [==============================] - 23s 12s/step - loss: 12.2100 - val_loss: 14.9851\n"
     ]
    },
    {
     "name": "stderr",
     "output_type": "stream",
     "text": [
      "\r",
      " 14%|█▍        | 112/800 [1:08:50<6:58:12, 36.47s/it]"
     ]
    },
    {
     "name": "stdout",
     "output_type": "stream",
     "text": [
      "2/2 [==============================] - ETA: 0s - loss: 3.3334\n",
      "Epoch 00001: val_loss did not improve from 1.86373\n",
      "2/2 [==============================] - 15s 8s/step - loss: 3.3334 - val_loss: 13.4737\n"
     ]
    },
    {
     "name": "stderr",
     "output_type": "stream",
     "text": [
      "\r",
      " 14%|█▍        | 113/800 [1:09:18<6:29:47, 34.04s/it]"
     ]
    },
    {
     "name": "stdout",
     "output_type": "stream",
     "text": [
      "2/2 [==============================] - ETA: 0s - loss: 0.7752\n",
      "Epoch 00001: val_loss did not improve from 1.86373\n",
      "2/2 [==============================] - 14s 7s/step - loss: 0.7752 - val_loss: 11.4173\n"
     ]
    },
    {
     "name": "stderr",
     "output_type": "stream",
     "text": [
      "\r",
      " 14%|█▍        | 114/800 [1:09:41<5:48:48, 30.51s/it]"
     ]
    },
    {
     "name": "stdout",
     "output_type": "stream",
     "text": [
      "2/2 [==============================] - ETA: 0s - loss: 0.7128\n",
      "Epoch 00001: val_loss did not improve from 1.86373\n",
      "2/2 [==============================] - 16s 8s/step - loss: 0.7128 - val_loss: 9.3924\n"
     ]
    },
    {
     "name": "stderr",
     "output_type": "stream",
     "text": [
      "\r",
      " 14%|█▍        | 115/800 [1:10:05<5:27:25, 28.68s/it]"
     ]
    },
    {
     "name": "stdout",
     "output_type": "stream",
     "text": [
      "2/2 [==============================] - ETA: 0s - loss: 1.5967\n",
      "Epoch 00001: val_loss did not improve from 1.86373\n",
      "2/2 [==============================] - 17s 8s/step - loss: 1.5967 - val_loss: 8.0433\n"
     ]
    },
    {
     "name": "stderr",
     "output_type": "stream",
     "text": [
      "\r",
      " 14%|█▍        | 116/800 [1:10:32<5:21:37, 28.21s/it]"
     ]
    },
    {
     "name": "stdout",
     "output_type": "stream",
     "text": [
      "2/2 [==============================] - ETA: 0s - loss: 1.5043\n",
      "Epoch 00001: val_loss did not improve from 1.86373\n",
      "2/2 [==============================] - 16s 8s/step - loss: 1.5043 - val_loss: 6.5170\n"
     ]
    },
    {
     "name": "stderr",
     "output_type": "stream",
     "text": [
      "\r",
      " 15%|█▍        | 117/800 [1:10:59<5:16:25, 27.80s/it]"
     ]
    },
    {
     "name": "stdout",
     "output_type": "stream",
     "text": [
      "2/2 [==============================] - ETA: 0s - loss: 1.2953\n",
      "Epoch 00001: val_loss did not improve from 1.86373\n",
      "2/2 [==============================] - 14s 7s/step - loss: 1.2953 - val_loss: 5.2836\n"
     ]
    },
    {
     "name": "stderr",
     "output_type": "stream",
     "text": [
      "\r",
      " 15%|█▍        | 118/800 [1:11:22<5:00:34, 26.44s/it]"
     ]
    },
    {
     "name": "stdout",
     "output_type": "stream",
     "text": [
      "2/2 [==============================] - ETA: 0s - loss: 1.3356\n",
      "Epoch 00001: val_loss did not improve from 1.86373\n",
      "2/2 [==============================] - 14s 7s/step - loss: 1.3356 - val_loss: 4.3265\n"
     ]
    },
    {
     "name": "stderr",
     "output_type": "stream",
     "text": [
      "\r",
      " 15%|█▍        | 119/800 [1:11:45<4:46:34, 25.25s/it]"
     ]
    },
    {
     "name": "stdout",
     "output_type": "stream",
     "text": [
      "2/2 [==============================] - ETA: 0s - loss: 1.7760\n",
      "Epoch 00001: val_loss did not improve from 1.86373\n",
      "2/2 [==============================] - 15s 7s/step - loss: 1.7760 - val_loss: 3.3908\n"
     ]
    },
    {
     "name": "stderr",
     "output_type": "stream",
     "text": [
      "\r",
      " 15%|█▌        | 120/800 [1:12:08<4:40:00, 24.71s/it]"
     ]
    },
    {
     "name": "stdout",
     "output_type": "stream",
     "text": [
      "2/2 [==============================] - ETA: 0s - loss: 2.4037\n",
      "Epoch 00001: val_loss did not improve from 1.86373\n",
      "2/2 [==============================] - 21s 10s/step - loss: 2.4037 - val_loss: 2.7122\n"
     ]
    },
    {
     "name": "stderr",
     "output_type": "stream",
     "text": [
      "\r",
      " 15%|█▌        | 121/800 [1:12:38<4:56:27, 26.20s/it]"
     ]
    },
    {
     "name": "stdout",
     "output_type": "stream",
     "text": [
      "2/2 [==============================] - ETA: 0s - loss: 2.6900\n",
      "Epoch 00001: val_loss did not improve from 1.86373\n",
      "2/2 [==============================] - 17s 9s/step - loss: 2.6900 - val_loss: 2.4359\n"
     ]
    },
    {
     "name": "stderr",
     "output_type": "stream",
     "text": [
      "\r",
      " 15%|█▌        | 122/800 [1:13:07<5:06:38, 27.14s/it]"
     ]
    },
    {
     "name": "stdout",
     "output_type": "stream",
     "text": [
      "2/2 [==============================] - ETA: 0s - loss: 3.8676\n",
      "Epoch 00001: val_loss did not improve from 1.86373\n",
      "2/2 [==============================] - 22s 11s/step - loss: 3.8676 - val_loss: 2.2989\n"
     ]
    },
    {
     "name": "stderr",
     "output_type": "stream",
     "text": [
      "\r",
      " 15%|█▌        | 123/800 [1:13:46<5:47:06, 30.76s/it]"
     ]
    },
    {
     "name": "stdout",
     "output_type": "stream",
     "text": [
      "2/2 [==============================] - ETA: 0s - loss: 4.0928\n",
      "Epoch 00001: val_loss did not improve from 1.86373\n",
      "2/2 [==============================] - 21s 11s/step - loss: 4.0928 - val_loss: 2.3690\n"
     ]
    },
    {
     "name": "stderr",
     "output_type": "stream",
     "text": [
      "\r",
      " 16%|█▌        | 124/800 [1:14:20<5:54:47, 31.49s/it]"
     ]
    },
    {
     "name": "stdout",
     "output_type": "stream",
     "text": [
      "2/2 [==============================] - ETA: 0s - loss: 4.2945\n",
      "Epoch 00001: val_loss did not improve from 1.86373\n",
      "2/2 [==============================] - 21s 10s/step - loss: 4.2945 - val_loss: 2.4752\n"
     ]
    },
    {
     "name": "stderr",
     "output_type": "stream",
     "text": [
      "\r",
      " 16%|█▌        | 125/800 [1:14:51<5:55:38, 31.61s/it]"
     ]
    },
    {
     "name": "stdout",
     "output_type": "stream",
     "text": [
      "2/2 [==============================] - ETA: 0s - loss: 6.0737\n",
      "Epoch 00001: val_loss did not improve from 1.86373\n",
      "2/2 [==============================] - 15s 7s/step - loss: 6.0737 - val_loss: 2.4574\n"
     ]
    },
    {
     "name": "stderr",
     "output_type": "stream",
     "text": [
      "\r",
      " 16%|█▌        | 126/800 [1:15:17<5:32:55, 29.64s/it]"
     ]
    },
    {
     "name": "stdout",
     "output_type": "stream",
     "text": [
      "2/2 [==============================] - ETA: 0s - loss: 8.9011 \n",
      "Epoch 00001: val_loss did not improve from 1.86373\n",
      "2/2 [==============================] - 15s 8s/step - loss: 8.9011 - val_loss: 2.2398\n"
     ]
    },
    {
     "name": "stderr",
     "output_type": "stream",
     "text": [
      "\r",
      " 16%|█▌        | 127/800 [1:15:42<5:18:34, 28.40s/it]"
     ]
    },
    {
     "name": "stdout",
     "output_type": "stream",
     "text": [
      "2/2 [==============================] - ETA: 0s - loss: 7.0645\n",
      "Epoch 00001: val_loss did not improve from 1.86373\n",
      "2/2 [==============================] - 21s 11s/step - loss: 7.0645 - val_loss: 1.9361\n"
     ]
    },
    {
     "name": "stderr",
     "output_type": "stream",
     "text": [
      "\r",
      " 16%|█▌        | 128/800 [1:16:14<5:30:53, 29.54s/it]"
     ]
    },
    {
     "name": "stdout",
     "output_type": "stream",
     "text": [
      "2/2 [==============================] - ETA: 0s - loss: 0.9648\n",
      "Epoch 00001: val_loss improved from 1.86373 to 1.69855, saving model to ./model.h5\n",
      "2/2 [==============================] - 20s 10s/step - loss: 0.9648 - val_loss: 1.6985\n"
     ]
    },
    {
     "name": "stderr",
     "output_type": "stream",
     "text": [
      "\r",
      " 16%|█▌        | 129/800 [1:16:48<5:46:14, 30.96s/it]"
     ]
    },
    {
     "name": "stdout",
     "output_type": "stream",
     "text": [
      "2/2 [==============================] - ETA: 0s - loss: 1.1072\n",
      "Epoch 00001: val_loss improved from 1.69855 to 1.59655, saving model to ./model.h5\n",
      "2/2 [==============================] - 18s 9s/step - loss: 1.1072 - val_loss: 1.5966\n"
     ]
    },
    {
     "name": "stderr",
     "output_type": "stream",
     "text": [
      "\r",
      " 16%|█▋        | 130/800 [1:17:24<5:59:27, 32.19s/it]"
     ]
    },
    {
     "name": "stdout",
     "output_type": "stream",
     "text": [
      "2/2 [==============================] - ETA: 0s - loss: 1.0764\n",
      "Epoch 00001: val_loss did not improve from 1.59655\n",
      "2/2 [==============================] - 15s 7s/step - loss: 1.0764 - val_loss: 1.6009\n"
     ]
    },
    {
     "name": "stderr",
     "output_type": "stream",
     "text": [
      "\r",
      " 16%|█▋        | 131/800 [1:17:48<5:32:54, 29.86s/it]"
     ]
    },
    {
     "name": "stdout",
     "output_type": "stream",
     "text": [
      "2/2 [==============================] - ETA: 0s - loss: 1.1586\n",
      "Epoch 00001: val_loss did not improve from 1.59655\n",
      "2/2 [==============================] - 17s 9s/step - loss: 1.1586 - val_loss: 1.7795\n"
     ]
    },
    {
     "name": "stderr",
     "output_type": "stream",
     "text": [
      "\r",
      " 16%|█▋        | 132/800 [1:18:16<5:25:31, 29.24s/it]"
     ]
    },
    {
     "name": "stdout",
     "output_type": "stream",
     "text": [
      "2/2 [==============================] - ETA: 0s - loss: 9.1957 \n",
      "Epoch 00001: val_loss did not improve from 1.59655\n",
      "2/2 [==============================] - 16s 8s/step - loss: 9.1957 - val_loss: 1.9418\n"
     ]
    },
    {
     "name": "stderr",
     "output_type": "stream",
     "text": [
      "\r",
      " 17%|█▋        | 133/800 [1:18:46<5:29:07, 29.61s/it]"
     ]
    },
    {
     "name": "stdout",
     "output_type": "stream",
     "text": [
      "2/2 [==============================] - ETA: 0s - loss: 132.3415\n",
      "Epoch 00001: val_loss did not improve from 1.59655\n",
      "2/2 [==============================] - 15s 7s/step - loss: 132.3415 - val_loss: 1.9120\n"
     ]
    },
    {
     "name": "stderr",
     "output_type": "stream",
     "text": [
      "\r",
      " 17%|█▋        | 134/800 [1:19:11<5:11:57, 28.10s/it]"
     ]
    },
    {
     "name": "stdout",
     "output_type": "stream",
     "text": [
      "2/2 [==============================] - ETA: 0s - loss: 42.9310\n",
      "Epoch 00001: val_loss did not improve from 1.59655\n",
      "2/2 [==============================] - 16s 8s/step - loss: 42.9310 - val_loss: 1.9056\n"
     ]
    },
    {
     "name": "stderr",
     "output_type": "stream",
     "text": [
      "\r",
      " 17%|█▋        | 135/800 [1:19:36<5:03:03, 27.34s/it]"
     ]
    },
    {
     "name": "stdout",
     "output_type": "stream",
     "text": [
      "2/2 [==============================] - ETA: 0s - loss: 28.8004\n",
      "Epoch 00001: val_loss did not improve from 1.59655\n",
      "2/2 [==============================] - 17s 8s/step - loss: 28.8004 - val_loss: 1.8634\n"
     ]
    },
    {
     "name": "stderr",
     "output_type": "stream",
     "text": [
      "\r",
      " 17%|█▋        | 136/800 [1:20:03<4:59:36, 27.07s/it]"
     ]
    },
    {
     "name": "stdout",
     "output_type": "stream",
     "text": [
      "2/2 [==============================] - ETA: 0s - loss: 9.4913\n",
      "Epoch 00001: val_loss did not improve from 1.59655\n",
      "2/2 [==============================] - 19s 9s/step - loss: 9.4913 - val_loss: 1.8266\n"
     ]
    },
    {
     "name": "stderr",
     "output_type": "stream",
     "text": [
      "\r",
      " 17%|█▋        | 137/800 [1:20:34<5:12:04, 28.24s/it]"
     ]
    },
    {
     "name": "stdout",
     "output_type": "stream",
     "text": [
      "2/2 [==============================] - ETA: 0s - loss: 0.8680\n",
      "Epoch 00001: val_loss did not improve from 1.59655\n",
      "2/2 [==============================] - 17s 9s/step - loss: 0.8680 - val_loss: 1.8229\n"
     ]
    },
    {
     "name": "stderr",
     "output_type": "stream",
     "text": [
      "\r",
      " 17%|█▋        | 138/800 [1:21:04<5:17:28, 28.77s/it]"
     ]
    },
    {
     "name": "stdout",
     "output_type": "stream",
     "text": [
      "2/2 [==============================] - ETA: 0s - loss: 0.7623\n",
      "Epoch 00001: val_loss did not improve from 1.59655\n",
      "2/2 [==============================] - 15s 8s/step - loss: 0.7623 - val_loss: 1.8477\n"
     ]
    },
    {
     "name": "stderr",
     "output_type": "stream",
     "text": [
      "\r",
      " 17%|█▋        | 139/800 [1:21:29<5:04:34, 27.65s/it]"
     ]
    },
    {
     "name": "stdout",
     "output_type": "stream",
     "text": [
      "2/2 [==============================] - ETA: 0s - loss: 0.6484\n",
      "Epoch 00001: val_loss did not improve from 1.59655\n",
      "2/2 [==============================] - 23s 11s/step - loss: 0.6484 - val_loss: 1.8280\n"
     ]
    },
    {
     "name": "stderr",
     "output_type": "stream",
     "text": [
      "\r",
      " 18%|█▊        | 140/800 [1:22:02<5:20:46, 29.16s/it]"
     ]
    },
    {
     "name": "stdout",
     "output_type": "stream",
     "text": [
      "2/2 [==============================] - ETA: 0s - loss: 0.5659\n",
      "Epoch 00001: val_loss did not improve from 1.59655\n",
      "2/2 [==============================] - 21s 11s/step - loss: 0.5659 - val_loss: 1.8045\n"
     ]
    },
    {
     "name": "stderr",
     "output_type": "stream",
     "text": [
      "\r",
      " 18%|█▊        | 141/800 [1:22:39<5:49:01, 31.78s/it]"
     ]
    },
    {
     "name": "stdout",
     "output_type": "stream",
     "text": [
      "2/2 [==============================] - ETA: 0s - loss: 0.4418\n",
      "Epoch 00001: val_loss did not improve from 1.59655\n",
      "2/2 [==============================] - 15s 8s/step - loss: 0.4418 - val_loss: 1.7880\n"
     ]
    },
    {
     "name": "stderr",
     "output_type": "stream",
     "text": [
      "\r",
      " 18%|█▊        | 142/800 [1:23:04<5:25:21, 29.67s/it]"
     ]
    },
    {
     "name": "stdout",
     "output_type": "stream",
     "text": [
      "2/2 [==============================] - ETA: 0s - loss: 9.1128 \n",
      "Epoch 00001: val_loss did not improve from 1.59655\n",
      "2/2 [==============================] - 12s 6s/step - loss: 9.1128 - val_loss: 1.7757\n"
     ]
    },
    {
     "name": "stderr",
     "output_type": "stream",
     "text": [
      "\r",
      " 18%|█▊        | 143/800 [1:23:26<4:58:17, 27.24s/it]"
     ]
    },
    {
     "name": "stdout",
     "output_type": "stream",
     "text": [
      "2/2 [==============================] - ETA: 0s - loss: 27.4498\n",
      "Epoch 00001: val_loss did not improve from 1.59655\n",
      "2/2 [==============================] - 17s 8s/step - loss: 27.4498 - val_loss: 1.7622\n"
     ]
    },
    {
     "name": "stderr",
     "output_type": "stream",
     "text": [
      "\r",
      " 18%|█▊        | 144/800 [1:23:51<4:50:56, 26.61s/it]"
     ]
    },
    {
     "name": "stdout",
     "output_type": "stream",
     "text": [
      "2/2 [==============================] - ETA: 0s - loss: 23.4945\n",
      "Epoch 00001: val_loss did not improve from 1.59655\n",
      "2/2 [==============================] - 16s 8s/step - loss: 23.4945 - val_loss: 1.7536\n"
     ]
    },
    {
     "name": "stderr",
     "output_type": "stream",
     "text": [
      "\r",
      " 18%|█▊        | 145/800 [1:24:17<4:47:27, 26.33s/it]"
     ]
    },
    {
     "name": "stdout",
     "output_type": "stream",
     "text": [
      "2/2 [==============================] - ETA: 0s - loss: 28.2870\n",
      "Epoch 00001: val_loss did not improve from 1.59655\n",
      "2/2 [==============================] - 15s 8s/step - loss: 28.2870 - val_loss: 1.7517\n"
     ]
    },
    {
     "name": "stderr",
     "output_type": "stream",
     "text": [
      "\r",
      " 18%|█▊        | 146/800 [1:24:41<4:42:24, 25.91s/it]"
     ]
    },
    {
     "name": "stdout",
     "output_type": "stream",
     "text": [
      "2/2 [==============================] - ETA: 0s - loss: 0.6183\n",
      "Epoch 00001: val_loss did not improve from 1.59655\n",
      "2/2 [==============================] - 14s 7s/step - loss: 0.6183 - val_loss: 1.7587\n"
     ]
    },
    {
     "name": "stderr",
     "output_type": "stream",
     "text": [
      "\r",
      " 18%|█▊        | 147/800 [1:25:06<4:38:41, 25.61s/it]"
     ]
    },
    {
     "name": "stdout",
     "output_type": "stream",
     "text": [
      "2/2 [==============================] - ETA: 0s - loss: 19.3156\n",
      "Epoch 00001: val_loss did not improve from 1.59655\n",
      "2/2 [==============================] - 14s 7s/step - loss: 19.3156 - val_loss: 1.7603\n"
     ]
    },
    {
     "name": "stderr",
     "output_type": "stream",
     "text": [
      "\r",
      " 18%|█▊        | 148/800 [1:25:28<4:26:22, 24.51s/it]"
     ]
    },
    {
     "name": "stdout",
     "output_type": "stream",
     "text": [
      "2/2 [==============================] - ETA: 0s - loss: 23.6822\n",
      "Epoch 00001: val_loss did not improve from 1.59655\n",
      "2/2 [==============================] - 13s 7s/step - loss: 23.6822 - val_loss: 1.7449\n"
     ]
    },
    {
     "name": "stderr",
     "output_type": "stream",
     "text": [
      "\r",
      " 19%|█▊        | 149/800 [1:25:52<4:23:50, 24.32s/it]"
     ]
    },
    {
     "name": "stdout",
     "output_type": "stream",
     "text": [
      "2/2 [==============================] - ETA: 0s - loss: 17.5310\n",
      "Epoch 00001: val_loss did not improve from 1.59655\n",
      "2/2 [==============================] - 20s 10s/step - loss: 17.5310 - val_loss: 1.6891\n"
     ]
    },
    {
     "name": "stderr",
     "output_type": "stream",
     "text": [
      "\r",
      " 19%|█▉        | 150/800 [1:26:20<4:36:09, 25.49s/it]"
     ]
    },
    {
     "name": "stdout",
     "output_type": "stream",
     "text": [
      "2/2 [==============================] - ETA: 0s - loss: 20.0304\n",
      "Epoch 00001: val_loss improved from 1.59655 to 1.58669, saving model to ./model.h5\n",
      "2/2 [==============================] - 13s 6s/step - loss: 20.0304 - val_loss: 1.5867\n"
     ]
    },
    {
     "name": "stderr",
     "output_type": "stream",
     "text": [
      "\r",
      " 19%|█▉        | 151/800 [1:26:43<4:26:04, 24.60s/it]"
     ]
    },
    {
     "name": "stdout",
     "output_type": "stream",
     "text": [
      "2/2 [==============================] - ETA: 0s - loss: 15.8650\n",
      "Epoch 00001: val_loss did not improve from 1.58669\n",
      "2/2 [==============================] - 13s 6s/step - loss: 15.8650 - val_loss: 1.6367\n"
     ]
    },
    {
     "name": "stderr",
     "output_type": "stream",
     "text": [
      "\r",
      " 19%|█▉        | 152/800 [1:27:04<4:13:10, 23.44s/it]"
     ]
    },
    {
     "name": "stdout",
     "output_type": "stream",
     "text": [
      "2/2 [==============================] - ETA: 0s - loss: 12.3091\n",
      "Epoch 00001: val_loss did not improve from 1.58669\n",
      "2/2 [==============================] - 13s 6s/step - loss: 12.3091 - val_loss: 1.6991\n"
     ]
    },
    {
     "name": "stderr",
     "output_type": "stream",
     "text": [
      "\r",
      " 19%|█▉        | 153/800 [1:27:24<4:03:31, 22.58s/it]"
     ]
    },
    {
     "name": "stdout",
     "output_type": "stream",
     "text": [
      "2/2 [==============================] - ETA: 0s - loss: 2.4067\n",
      "Epoch 00001: val_loss did not improve from 1.58669\n",
      "2/2 [==============================] - 13s 6s/step - loss: 2.4067 - val_loss: 1.7486\n"
     ]
    },
    {
     "name": "stderr",
     "output_type": "stream",
     "text": [
      "\r",
      " 19%|█▉        | 154/800 [1:27:45<3:57:03, 22.02s/it]"
     ]
    },
    {
     "name": "stdout",
     "output_type": "stream",
     "text": [
      "2/2 [==============================] - ETA: 0s - loss: 1.2242\n",
      "Epoch 00001: val_loss did not improve from 1.58669\n",
      "2/2 [==============================] - 15s 8s/step - loss: 1.2242 - val_loss: 1.7587\n"
     ]
    },
    {
     "name": "stderr",
     "output_type": "stream",
     "text": [
      "\r",
      " 19%|█▉        | 155/800 [1:28:08<4:01:32, 22.47s/it]"
     ]
    },
    {
     "name": "stdout",
     "output_type": "stream",
     "text": [
      "2/2 [==============================] - ETA: 0s - loss: 1.1820\n",
      "Epoch 00001: val_loss did not improve from 1.58669\n",
      "2/2 [==============================] - 15s 7s/step - loss: 1.1820 - val_loss: 1.7537\n"
     ]
    },
    {
     "name": "stderr",
     "output_type": "stream",
     "text": [
      "\r",
      " 20%|█▉        | 156/800 [1:28:34<4:10:21, 23.32s/it]"
     ]
    },
    {
     "name": "stdout",
     "output_type": "stream",
     "text": [
      "2/2 [==============================] - ETA: 0s - loss: 0.7844\n",
      "Epoch 00001: val_loss did not improve from 1.58669\n",
      "2/2 [==============================] - 15s 8s/step - loss: 0.7844 - val_loss: 1.7485\n"
     ]
    },
    {
     "name": "stderr",
     "output_type": "stream",
     "text": [
      "\r",
      " 20%|█▉        | 157/800 [1:28:59<4:15:16, 23.82s/it]"
     ]
    },
    {
     "name": "stdout",
     "output_type": "stream",
     "text": [
      "2/2 [==============================] - ETA: 0s - loss: 0.7139\n",
      "Epoch 00001: val_loss did not improve from 1.58669\n",
      "2/2 [==============================] - 13s 6s/step - loss: 0.7139 - val_loss: 1.7477\n"
     ]
    },
    {
     "name": "stderr",
     "output_type": "stream",
     "text": [
      "\r",
      " 20%|█▉        | 158/800 [1:29:20<4:06:59, 23.08s/it]"
     ]
    },
    {
     "name": "stdout",
     "output_type": "stream",
     "text": [
      "2/2 [==============================] - ETA: 0s - loss: 0.5287\n",
      "Epoch 00001: val_loss did not improve from 1.58669\n",
      "2/2 [==============================] - 13s 6s/step - loss: 0.5287 - val_loss: 1.7464\n"
     ]
    },
    {
     "name": "stderr",
     "output_type": "stream",
     "text": [
      "\r",
      " 20%|█▉        | 159/800 [1:29:41<3:58:54, 22.36s/it]"
     ]
    },
    {
     "name": "stdout",
     "output_type": "stream",
     "text": [
      "2/2 [==============================] - ETA: 0s - loss: 2.9805\n",
      "Epoch 00001: val_loss did not improve from 1.58669\n",
      "2/2 [==============================] - 13s 7s/step - loss: 2.9805 - val_loss: 1.7430\n"
     ]
    },
    {
     "name": "stderr",
     "output_type": "stream",
     "text": [
      "\r",
      " 20%|██        | 160/800 [1:30:02<3:55:34, 22.08s/it]"
     ]
    },
    {
     "name": "stdout",
     "output_type": "stream",
     "text": [
      "2/2 [==============================] - ETA: 0s - loss: 0.3411\n",
      "Epoch 00001: val_loss did not improve from 1.58669\n",
      "2/2 [==============================] - 13s 6s/step - loss: 0.3411 - val_loss: 1.7439\n"
     ]
    },
    {
     "name": "stderr",
     "output_type": "stream",
     "text": [
      "\r",
      " 20%|██        | 161/800 [1:30:23<3:51:21, 21.72s/it]"
     ]
    },
    {
     "name": "stdout",
     "output_type": "stream",
     "text": [
      "2/2 [==============================] - ETA: 0s - loss: 0.3522\n",
      "Epoch 00001: val_loss did not improve from 1.58669\n",
      "2/2 [==============================] - 13s 6s/step - loss: 0.3522 - val_loss: 1.7476\n"
     ]
    },
    {
     "name": "stderr",
     "output_type": "stream",
     "text": [
      "\r",
      " 20%|██        | 162/800 [1:30:44<3:47:50, 21.43s/it]"
     ]
    },
    {
     "name": "stdout",
     "output_type": "stream",
     "text": [
      "2/2 [==============================] - ETA: 0s - loss: 12.4743\n",
      "Epoch 00001: val_loss did not improve from 1.58669\n",
      "2/2 [==============================] - 13s 6s/step - loss: 12.4743 - val_loss: 1.7488\n"
     ]
    },
    {
     "name": "stderr",
     "output_type": "stream",
     "text": [
      "\r",
      " 20%|██        | 163/800 [1:31:05<3:45:01, 21.19s/it]"
     ]
    },
    {
     "name": "stdout",
     "output_type": "stream",
     "text": [
      "2/2 [==============================] - ETA: 0s - loss: 22.5153\n",
      "Epoch 00001: val_loss did not improve from 1.58669\n",
      "2/2 [==============================] - 13s 6s/step - loss: 22.5153 - val_loss: 1.7453\n"
     ]
    },
    {
     "name": "stderr",
     "output_type": "stream",
     "text": [
      "\r",
      " 20%|██        | 164/800 [1:31:25<3:42:54, 21.03s/it]"
     ]
    },
    {
     "name": "stdout",
     "output_type": "stream",
     "text": [
      "2/2 [==============================] - ETA: 0s - loss: 31.2640\n",
      "Epoch 00001: val_loss did not improve from 1.58669\n",
      "2/2 [==============================] - 13s 7s/step - loss: 31.2640 - val_loss: 1.7341\n"
     ]
    },
    {
     "name": "stderr",
     "output_type": "stream",
     "text": [
      "\r",
      " 21%|██        | 165/800 [1:31:47<3:43:48, 21.15s/it]"
     ]
    },
    {
     "name": "stdout",
     "output_type": "stream",
     "text": [
      "2/2 [==============================] - ETA: 0s - loss: 27.3717\n",
      "Epoch 00001: val_loss did not improve from 1.58669\n",
      "2/2 [==============================] - 15s 7s/step - loss: 27.3717 - val_loss: 1.7081\n"
     ]
    },
    {
     "name": "stderr",
     "output_type": "stream",
     "text": [
      "\r",
      " 21%|██        | 166/800 [1:32:10<3:51:04, 21.87s/it]"
     ]
    },
    {
     "name": "stdout",
     "output_type": "stream",
     "text": [
      "2/2 [==============================] - ETA: 0s - loss: 12.2415\n",
      "Epoch 00001: val_loss did not improve from 1.58669\n",
      "2/2 [==============================] - 15s 8s/step - loss: 12.2415 - val_loss: 1.6667\n"
     ]
    },
    {
     "name": "stderr",
     "output_type": "stream",
     "text": [
      "\r",
      " 21%|██        | 167/800 [1:32:35<3:59:54, 22.74s/it]"
     ]
    },
    {
     "name": "stdout",
     "output_type": "stream",
     "text": [
      "2/2 [==============================] - ETA: 0s - loss: 9.5034\n",
      "Epoch 00001: val_loss did not improve from 1.58669\n",
      "2/2 [==============================] - 15s 7s/step - loss: 9.5034 - val_loss: 1.6134\n"
     ]
    },
    {
     "name": "stderr",
     "output_type": "stream",
     "text": [
      "\r",
      " 21%|██        | 168/800 [1:33:00<4:05:23, 23.30s/it]"
     ]
    },
    {
     "name": "stdout",
     "output_type": "stream",
     "text": [
      "2/2 [==============================] - ETA: 0s - loss: 21.2120\n",
      "Epoch 00001: val_loss improved from 1.58669 to 1.56392, saving model to ./model.h5\n",
      "2/2 [==============================] - 14s 7s/step - loss: 21.2120 - val_loss: 1.5639\n"
     ]
    },
    {
     "name": "stderr",
     "output_type": "stream",
     "text": [
      "\r",
      " 21%|██        | 169/800 [1:33:21<4:00:21, 22.86s/it]"
     ]
    },
    {
     "name": "stdout",
     "output_type": "stream",
     "text": [
      "2/2 [==============================] - ETA: 0s - loss: 20.9813\n",
      "Epoch 00001: val_loss improved from 1.56392 to 1.52158, saving model to ./model.h5\n",
      "2/2 [==============================] - 13s 6s/step - loss: 20.9813 - val_loss: 1.5216\n"
     ]
    },
    {
     "name": "stderr",
     "output_type": "stream",
     "text": [
      "\r",
      " 21%|██▏       | 170/800 [1:33:42<3:53:32, 22.24s/it]"
     ]
    },
    {
     "name": "stdout",
     "output_type": "stream",
     "text": [
      "2/2 [==============================] - ETA: 0s - loss: 7.4810\n",
      "Epoch 00001: val_loss improved from 1.52158 to 1.49332, saving model to ./model.h5\n",
      "2/2 [==============================] - 13s 6s/step - loss: 7.4810 - val_loss: 1.4933\n"
     ]
    },
    {
     "name": "stderr",
     "output_type": "stream",
     "text": [
      "\r",
      " 21%|██▏       | 171/800 [1:34:03<3:48:44, 21.82s/it]"
     ]
    },
    {
     "name": "stdout",
     "output_type": "stream",
     "text": [
      "2/2 [==============================] - ETA: 0s - loss: 3.1144\n",
      "Epoch 00001: val_loss improved from 1.49332 to 1.46786, saving model to ./model.h5\n",
      "2/2 [==============================] - 16s 8s/step - loss: 3.1144 - val_loss: 1.4679\n"
     ]
    },
    {
     "name": "stderr",
     "output_type": "stream",
     "text": [
      "\r",
      " 22%|██▏       | 172/800 [1:34:27<3:55:20, 22.48s/it]"
     ]
    },
    {
     "name": "stdout",
     "output_type": "stream",
     "text": [
      "2/2 [==============================] - ETA: 0s - loss: 1.6995\n",
      "Epoch 00001: val_loss improved from 1.46786 to 1.45381, saving model to ./model.h5\n",
      "2/2 [==============================] - 12s 6s/step - loss: 1.6995 - val_loss: 1.4538\n"
     ]
    },
    {
     "name": "stderr",
     "output_type": "stream",
     "text": [
      "\r",
      " 22%|██▏       | 173/800 [1:34:47<3:47:28, 21.77s/it]"
     ]
    },
    {
     "name": "stdout",
     "output_type": "stream",
     "text": [
      "2/2 [==============================] - ETA: 0s - loss: 1.4620\n",
      "Epoch 00001: val_loss improved from 1.45381 to 1.44842, saving model to ./model.h5\n",
      "2/2 [==============================] - 13s 7s/step - loss: 1.4620 - val_loss: 1.4484\n"
     ]
    },
    {
     "name": "stderr",
     "output_type": "stream",
     "text": [
      "\r",
      " 22%|██▏       | 174/800 [1:35:08<3:43:58, 21.47s/it]"
     ]
    },
    {
     "name": "stdout",
     "output_type": "stream",
     "text": [
      "2/2 [==============================] - ETA: 0s - loss: 1.0689\n",
      "Epoch 00001: val_loss improved from 1.44842 to 1.44624, saving model to ./model.h5\n",
      "2/2 [==============================] - 12s 6s/step - loss: 1.0689 - val_loss: 1.4462\n"
     ]
    },
    {
     "name": "stderr",
     "output_type": "stream",
     "text": [
      "\r",
      " 22%|██▏       | 175/800 [1:35:28<3:38:42, 21.00s/it]"
     ]
    },
    {
     "name": "stdout",
     "output_type": "stream",
     "text": [
      "2/2 [==============================] - ETA: 0s - loss: 0.8294\n",
      "Epoch 00001: val_loss improved from 1.44624 to 1.44035, saving model to ./model.h5\n",
      "2/2 [==============================] - 12s 6s/step - loss: 0.8294 - val_loss: 1.4404\n"
     ]
    },
    {
     "name": "stderr",
     "output_type": "stream",
     "text": [
      "\r",
      " 22%|██▏       | 176/800 [1:35:48<3:34:42, 20.64s/it]"
     ]
    },
    {
     "name": "stdout",
     "output_type": "stream",
     "text": [
      "2/2 [==============================] - ETA: 0s - loss: 31.1658\n",
      "Epoch 00001: val_loss improved from 1.44035 to 1.42688, saving model to ./model.h5\n",
      "2/2 [==============================] - 13s 7s/step - loss: 31.1658 - val_loss: 1.4269\n"
     ]
    },
    {
     "name": "stderr",
     "output_type": "stream",
     "text": [
      "\r",
      " 22%|██▏       | 177/800 [1:36:09<3:36:48, 20.88s/it]"
     ]
    },
    {
     "name": "stdout",
     "output_type": "stream",
     "text": [
      "2/2 [==============================] - ETA: 0s - loss: 19.8541\n",
      "Epoch 00001: val_loss did not improve from 1.42688\n",
      "2/2 [==============================] - 14s 7s/step - loss: 19.8541 - val_loss: 1.4386\n"
     ]
    },
    {
     "name": "stderr",
     "output_type": "stream",
     "text": [
      "\r",
      " 22%|██▏       | 178/800 [1:36:32<3:42:34, 21.47s/it]"
     ]
    },
    {
     "name": "stdout",
     "output_type": "stream",
     "text": [
      "2/2 [==============================] - ETA: 0s - loss: 14.4284\n",
      "Epoch 00001: val_loss did not improve from 1.42688\n",
      "2/2 [==============================] - 15s 7s/step - loss: 14.4284 - val_loss: 1.4771\n"
     ]
    },
    {
     "name": "stderr",
     "output_type": "stream",
     "text": [
      "\r",
      " 22%|██▏       | 179/800 [1:36:56<3:50:15, 22.25s/it]"
     ]
    },
    {
     "name": "stdout",
     "output_type": "stream",
     "text": [
      "2/2 [==============================] - ETA: 0s - loss: 11.3038\n",
      "Epoch 00001: val_loss did not improve from 1.42688\n",
      "2/2 [==============================] - 13s 7s/step - loss: 11.3038 - val_loss: 1.6271\n"
     ]
    },
    {
     "name": "stderr",
     "output_type": "stream",
     "text": [
      "\r",
      " 22%|██▎       | 180/800 [1:37:17<3:45:16, 21.80s/it]"
     ]
    },
    {
     "name": "stdout",
     "output_type": "stream",
     "text": [
      "2/2 [==============================] - ETA: 0s - loss: 9.3695 \n",
      "Epoch 00001: val_loss did not improve from 1.42688\n",
      "2/2 [==============================] - 12s 6s/step - loss: 9.3695 - val_loss: 1.8281\n"
     ]
    },
    {
     "name": "stderr",
     "output_type": "stream",
     "text": [
      "\r",
      " 23%|██▎       | 181/800 [1:37:38<3:43:36, 21.67s/it]"
     ]
    },
    {
     "name": "stdout",
     "output_type": "stream",
     "text": [
      "2/2 [==============================] - ETA: 0s - loss: 9.7722 \n",
      "Epoch 00001: val_loss did not improve from 1.42688\n",
      "2/2 [==============================] - 12s 6s/step - loss: 9.7722 - val_loss: 1.9680\n"
     ]
    },
    {
     "name": "stderr",
     "output_type": "stream",
     "text": [
      "\r",
      " 23%|██▎       | 182/800 [1:37:58<3:36:48, 21.05s/it]"
     ]
    },
    {
     "name": "stdout",
     "output_type": "stream",
     "text": [
      "2/2 [==============================] - ETA: 0s - loss: 6.8931\n",
      "Epoch 00001: val_loss did not improve from 1.42688\n",
      "2/2 [==============================] - 12s 6s/step - loss: 6.8931 - val_loss: 2.0263\n"
     ]
    },
    {
     "name": "stderr",
     "output_type": "stream",
     "text": [
      "\r",
      " 23%|██▎       | 183/800 [1:38:18<3:32:43, 20.69s/it]"
     ]
    },
    {
     "name": "stdout",
     "output_type": "stream",
     "text": [
      "2/2 [==============================] - ETA: 0s - loss: 3.9267\n",
      "Epoch 00001: val_loss did not improve from 1.42688\n",
      "2/2 [==============================] - 13s 6s/step - loss: 3.9267 - val_loss: 2.1489\n"
     ]
    },
    {
     "name": "stderr",
     "output_type": "stream",
     "text": [
      "\r",
      " 23%|██▎       | 184/800 [1:38:38<3:31:10, 20.57s/it]"
     ]
    },
    {
     "name": "stdout",
     "output_type": "stream",
     "text": [
      "2/2 [==============================] - ETA: 0s - loss: 2.0509\n",
      "Epoch 00001: val_loss did not improve from 1.42688\n",
      "2/2 [==============================] - 12s 6s/step - loss: 2.0509 - val_loss: 2.1116\n"
     ]
    },
    {
     "name": "stderr",
     "output_type": "stream",
     "text": [
      "\r",
      " 23%|██▎       | 185/800 [1:38:57<3:27:30, 20.24s/it]"
     ]
    },
    {
     "name": "stdout",
     "output_type": "stream",
     "text": [
      "2/2 [==============================] - ETA: 0s - loss: 1.1720\n",
      "Epoch 00001: val_loss did not improve from 1.42688\n",
      "2/2 [==============================] - 12s 6s/step - loss: 1.1720 - val_loss: 1.9109\n"
     ]
    },
    {
     "name": "stderr",
     "output_type": "stream",
     "text": [
      "\r",
      " 23%|██▎       | 186/800 [1:39:17<3:26:10, 20.15s/it]"
     ]
    },
    {
     "name": "stdout",
     "output_type": "stream",
     "text": [
      "2/2 [==============================] - ETA: 0s - loss: 0.6994\n",
      "Epoch 00001: val_loss did not improve from 1.42688\n",
      "2/2 [==============================] - 12s 6s/step - loss: 0.6994 - val_loss: 1.7848\n"
     ]
    },
    {
     "name": "stderr",
     "output_type": "stream",
     "text": [
      "\r",
      " 23%|██▎       | 187/800 [1:39:37<3:24:43, 20.04s/it]"
     ]
    },
    {
     "name": "stdout",
     "output_type": "stream",
     "text": [
      "2/2 [==============================] - ETA: 0s - loss: 1.3781\n",
      "Epoch 00001: val_loss did not improve from 1.42688\n",
      "2/2 [==============================] - 13s 6s/step - loss: 1.3781 - val_loss: 1.7008\n"
     ]
    },
    {
     "name": "stderr",
     "output_type": "stream",
     "text": [
      "\r",
      " 24%|██▎       | 188/800 [1:39:57<3:24:31, 20.05s/it]"
     ]
    },
    {
     "name": "stdout",
     "output_type": "stream",
     "text": [
      "2/2 [==============================] - ETA: 0s - loss: 1.8031\n",
      "Epoch 00001: val_loss did not improve from 1.42688\n",
      "2/2 [==============================] - 15s 8s/step - loss: 1.8031 - val_loss: 1.6205\n"
     ]
    },
    {
     "name": "stderr",
     "output_type": "stream",
     "text": [
      "\r",
      " 24%|██▎       | 189/800 [1:40:21<3:35:55, 21.20s/it]"
     ]
    },
    {
     "name": "stdout",
     "output_type": "stream",
     "text": [
      "2/2 [==============================] - ETA: 0s - loss: 1.1325\n",
      "Epoch 00001: val_loss did not improve from 1.42688\n",
      "2/2 [==============================] - 15s 7s/step - loss: 1.1325 - val_loss: 1.5742\n"
     ]
    },
    {
     "name": "stderr",
     "output_type": "stream",
     "text": [
      "\r",
      " 24%|██▍       | 190/800 [1:40:46<3:46:00, 22.23s/it]"
     ]
    },
    {
     "name": "stdout",
     "output_type": "stream",
     "text": [
      "2/2 [==============================] - ETA: 0s - loss: 0.4777\n",
      "Epoch 00001: val_loss did not improve from 1.42688\n",
      "2/2 [==============================] - 15s 8s/step - loss: 0.4777 - val_loss: 1.5454\n"
     ]
    },
    {
     "name": "stderr",
     "output_type": "stream",
     "text": [
      "\r",
      " 24%|██▍       | 191/800 [1:41:11<3:53:56, 23.05s/it]"
     ]
    },
    {
     "name": "stdout",
     "output_type": "stream",
     "text": [
      "2/2 [==============================] - ETA: 0s - loss: 0.3969\n",
      "Epoch 00001: val_loss did not improve from 1.42688\n",
      "2/2 [==============================] - 12s 6s/step - loss: 0.3969 - val_loss: 1.5256\n"
     ]
    },
    {
     "name": "stderr",
     "output_type": "stream",
     "text": [
      "\r",
      " 24%|██▍       | 192/800 [1:41:31<3:45:07, 22.22s/it]"
     ]
    },
    {
     "name": "stdout",
     "output_type": "stream",
     "text": [
      "2/2 [==============================] - ETA: 0s - loss: 0.2940\n",
      "Epoch 00001: val_loss did not improve from 1.42688\n",
      "2/2 [==============================] - 12s 6s/step - loss: 0.2940 - val_loss: 1.5090\n"
     ]
    },
    {
     "name": "stderr",
     "output_type": "stream",
     "text": [
      "\r",
      " 24%|██▍       | 193/800 [1:41:51<3:36:59, 21.45s/it]"
     ]
    },
    {
     "name": "stdout",
     "output_type": "stream",
     "text": [
      "2/2 [==============================] - ETA: 0s - loss: 0.2402\n",
      "Epoch 00001: val_loss did not improve from 1.42688\n",
      "2/2 [==============================] - 13s 6s/step - loss: 0.2402 - val_loss: 1.5002\n"
     ]
    },
    {
     "name": "stderr",
     "output_type": "stream",
     "text": [
      "\r",
      " 24%|██▍       | 194/800 [1:42:11<3:33:51, 21.17s/it]"
     ]
    },
    {
     "name": "stdout",
     "output_type": "stream",
     "text": [
      "2/2 [==============================] - ETA: 0s - loss: 0.2815\n",
      "Epoch 00001: val_loss did not improve from 1.42688\n",
      "2/2 [==============================] - 12s 6s/step - loss: 0.2815 - val_loss: 1.4926\n"
     ]
    },
    {
     "name": "stderr",
     "output_type": "stream",
     "text": [
      "\r",
      " 24%|██▍       | 195/800 [1:42:31<3:29:02, 20.73s/it]"
     ]
    },
    {
     "name": "stdout",
     "output_type": "stream",
     "text": [
      "2/2 [==============================] - ETA: 0s - loss: 0.2270\n",
      "Epoch 00001: val_loss did not improve from 1.42688\n",
      "2/2 [==============================] - 12s 6s/step - loss: 0.2270 - val_loss: 1.4873\n"
     ]
    },
    {
     "name": "stderr",
     "output_type": "stream",
     "text": [
      "\r",
      " 24%|██▍       | 196/800 [1:42:50<3:25:12, 20.39s/it]"
     ]
    },
    {
     "name": "stdout",
     "output_type": "stream",
     "text": [
      "2/2 [==============================] - ETA: 0s - loss: 0.1925\n",
      "Epoch 00001: val_loss did not improve from 1.42688\n",
      "2/2 [==============================] - 12s 6s/step - loss: 0.1925 - val_loss: 1.4831\n"
     ]
    },
    {
     "name": "stderr",
     "output_type": "stream",
     "text": [
      "\r",
      " 25%|██▍       | 197/800 [1:43:10<3:22:31, 20.15s/it]"
     ]
    },
    {
     "name": "stdout",
     "output_type": "stream",
     "text": [
      "2/2 [==============================] - ETA: 0s - loss: 0.1946\n",
      "Epoch 00001: val_loss did not improve from 1.42688\n",
      "2/2 [==============================] - 12s 6s/step - loss: 0.1946 - val_loss: 1.4780\n"
     ]
    },
    {
     "name": "stderr",
     "output_type": "stream",
     "text": [
      "\r",
      " 25%|██▍       | 198/800 [1:43:29<3:20:10, 19.95s/it]"
     ]
    },
    {
     "name": "stdout",
     "output_type": "stream",
     "text": [
      "2/2 [==============================] - ETA: 0s - loss: 0.2113\n",
      "Epoch 00001: val_loss did not improve from 1.42688\n",
      "2/2 [==============================] - 13s 6s/step - loss: 0.2113 - val_loss: 1.4744\n"
     ]
    },
    {
     "name": "stderr",
     "output_type": "stream",
     "text": [
      "\r",
      " 25%|██▍       | 199/800 [1:43:50<3:21:38, 20.13s/it]"
     ]
    },
    {
     "name": "stdout",
     "output_type": "stream",
     "text": [
      "2/2 [==============================] - ETA: 0s - loss: 0.1866\n",
      "Epoch 00001: val_loss did not improve from 1.42688\n",
      "2/2 [==============================] - 13s 7s/step - loss: 0.1866 - val_loss: 1.4722\n"
     ]
    },
    {
     "name": "stderr",
     "output_type": "stream",
     "text": [
      "\r",
      " 25%|██▌       | 200/800 [1:44:12<3:27:00, 20.70s/it]"
     ]
    },
    {
     "name": "stdout",
     "output_type": "stream",
     "text": [
      "2/2 [==============================] - ETA: 0s - loss: 0.1536\n",
      "Epoch 00001: val_loss did not improve from 1.42688\n",
      "2/2 [==============================] - 13s 7s/step - loss: 0.1536 - val_loss: 1.4732\n"
     ]
    },
    {
     "name": "stderr",
     "output_type": "stream",
     "text": [
      "\r",
      " 25%|██▌       | 201/800 [1:44:34<3:30:14, 21.06s/it]"
     ]
    },
    {
     "name": "stdout",
     "output_type": "stream",
     "text": [
      "2/2 [==============================] - ETA: 0s - loss: 0.1918\n",
      "Epoch 00001: val_loss did not improve from 1.42688\n",
      "2/2 [==============================] - 13s 7s/step - loss: 0.1918 - val_loss: 1.4746\n"
     ]
    },
    {
     "name": "stderr",
     "output_type": "stream",
     "text": [
      "\r",
      " 25%|██▌       | 202/800 [1:44:56<3:32:21, 21.31s/it]"
     ]
    },
    {
     "name": "stdout",
     "output_type": "stream",
     "text": [
      "2/2 [==============================] - ETA: 0s - loss: 0.1526\n",
      "Epoch 00001: val_loss did not improve from 1.42688\n",
      "2/2 [==============================] - 12s 6s/step - loss: 0.1526 - val_loss: 1.4740\n"
     ]
    },
    {
     "name": "stderr",
     "output_type": "stream",
     "text": [
      "\r",
      " 25%|██▌       | 203/800 [1:45:15<3:27:10, 20.82s/it]"
     ]
    },
    {
     "name": "stdout",
     "output_type": "stream",
     "text": [
      "2/2 [==============================] - ETA: 0s - loss: 0.1349\n",
      "Epoch 00001: val_loss did not improve from 1.42688\n",
      "2/2 [==============================] - 13s 6s/step - loss: 0.1349 - val_loss: 1.4738\n"
     ]
    },
    {
     "name": "stderr",
     "output_type": "stream",
     "text": [
      "\r",
      " 26%|██▌       | 204/800 [1:45:36<3:25:17, 20.67s/it]"
     ]
    },
    {
     "name": "stdout",
     "output_type": "stream",
     "text": [
      "2/2 [==============================] - ETA: 0s - loss: 0.1416\n",
      "Epoch 00001: val_loss did not improve from 1.42688\n",
      "2/2 [==============================] - 12s 6s/step - loss: 0.1416 - val_loss: 1.4730\n"
     ]
    },
    {
     "name": "stderr",
     "output_type": "stream",
     "text": [
      "\r",
      " 26%|██▌       | 205/800 [1:45:55<3:21:41, 20.34s/it]"
     ]
    },
    {
     "name": "stdout",
     "output_type": "stream",
     "text": [
      "2/2 [==============================] - ETA: 0s - loss: 0.1771\n",
      "Epoch 00001: val_loss did not improve from 1.42688\n",
      "2/2 [==============================] - 13s 7s/step - loss: 0.1771 - val_loss: 1.4737\n"
     ]
    },
    {
     "name": "stderr",
     "output_type": "stream",
     "text": [
      "\r",
      " 26%|██▌       | 206/800 [1:46:16<3:23:37, 20.57s/it]"
     ]
    },
    {
     "name": "stdout",
     "output_type": "stream",
     "text": [
      "2/2 [==============================] - ETA: 0s - loss: 2.1957\n",
      "Epoch 00001: val_loss did not improve from 1.42688\n",
      "2/2 [==============================] - 14s 7s/step - loss: 2.1957 - val_loss: 1.4770\n"
     ]
    },
    {
     "name": "stderr",
     "output_type": "stream",
     "text": [
      "\r",
      " 26%|██▌       | 207/800 [1:46:40<3:32:32, 21.50s/it]"
     ]
    },
    {
     "name": "stdout",
     "output_type": "stream",
     "text": [
      "2/2 [==============================] - ETA: 0s - loss: 5.5683 \n",
      "Epoch 00001: val_loss did not improve from 1.42688\n",
      "2/2 [==============================] - 13s 6s/step - loss: 5.5683 - val_loss: 1.4830\n"
     ]
    },
    {
     "name": "stderr",
     "output_type": "stream",
     "text": [
      "\r",
      " 26%|██▌       | 208/800 [1:47:01<3:31:32, 21.44s/it]"
     ]
    },
    {
     "name": "stdout",
     "output_type": "stream",
     "text": [
      "2/2 [==============================] - ETA: 0s - loss: 4.4898\n",
      "Epoch 00001: val_loss did not improve from 1.42688\n",
      "2/2 [==============================] - 14s 7s/step - loss: 4.4898 - val_loss: 1.4826\n"
     ]
    },
    {
     "name": "stderr",
     "output_type": "stream",
     "text": [
      "\r",
      " 26%|██▌       | 209/800 [1:47:23<3:32:27, 21.57s/it]"
     ]
    },
    {
     "name": "stdout",
     "output_type": "stream",
     "text": [
      "2/2 [==============================] - ETA: 0s - loss: 5.1557\n",
      "Epoch 00001: val_loss did not improve from 1.42688\n",
      "2/2 [==============================] - 13s 7s/step - loss: 5.1557 - val_loss: 1.4940\n"
     ]
    },
    {
     "name": "stderr",
     "output_type": "stream",
     "text": [
      "\r",
      " 26%|██▋       | 210/800 [1:47:45<3:32:00, 21.56s/it]"
     ]
    },
    {
     "name": "stdout",
     "output_type": "stream",
     "text": [
      "2/2 [==============================] - ETA: 0s - loss: 3.2310\n",
      "Epoch 00001: val_loss did not improve from 1.42688\n",
      "2/2 [==============================] - 13s 7s/step - loss: 3.2310 - val_loss: 1.5116\n"
     ]
    },
    {
     "name": "stderr",
     "output_type": "stream",
     "text": [
      "\r",
      " 26%|██▋       | 211/800 [1:48:07<3:32:52, 21.68s/it]"
     ]
    },
    {
     "name": "stdout",
     "output_type": "stream",
     "text": [
      "2/2 [==============================] - ETA: 0s - loss: 3.1010\n",
      "Epoch 00001: val_loss did not improve from 1.42688\n",
      "2/2 [==============================] - 13s 7s/step - loss: 3.1010 - val_loss: 1.5185\n"
     ]
    },
    {
     "name": "stderr",
     "output_type": "stream",
     "text": [
      "\r",
      " 26%|██▋       | 212/800 [1:48:29<3:33:07, 21.75s/it]"
     ]
    },
    {
     "name": "stdout",
     "output_type": "stream",
     "text": [
      "2/2 [==============================] - ETA: 0s - loss: 3.1359\n",
      "Epoch 00001: val_loss did not improve from 1.42688\n",
      "2/2 [==============================] - 13s 7s/step - loss: 3.1359 - val_loss: 1.5182\n"
     ]
    },
    {
     "name": "stderr",
     "output_type": "stream",
     "text": [
      "\r",
      " 27%|██▋       | 213/800 [1:48:50<3:31:47, 21.65s/it]"
     ]
    },
    {
     "name": "stdout",
     "output_type": "stream",
     "text": [
      "2/2 [==============================] - ETA: 0s - loss: 2.5484\n",
      "Epoch 00001: val_loss did not improve from 1.42688\n",
      "2/2 [==============================] - 14s 7s/step - loss: 2.5484 - val_loss: 1.5133\n"
     ]
    },
    {
     "name": "stderr",
     "output_type": "stream",
     "text": [
      "\r",
      " 27%|██▋       | 214/800 [1:49:13<3:34:41, 21.98s/it]"
     ]
    },
    {
     "name": "stdout",
     "output_type": "stream",
     "text": [
      "2/2 [==============================] - ETA: 0s - loss: 3.4620\n",
      "Epoch 00001: val_loss did not improve from 1.42688\n",
      "2/2 [==============================] - 14s 7s/step - loss: 3.4620 - val_loss: 1.5106\n"
     ]
    },
    {
     "name": "stderr",
     "output_type": "stream",
     "text": [
      "\r",
      " 27%|██▋       | 215/800 [1:49:36<3:36:41, 22.22s/it]"
     ]
    },
    {
     "name": "stdout",
     "output_type": "stream",
     "text": [
      "2/2 [==============================] - ETA: 0s - loss: 4.8112\n",
      "Epoch 00001: val_loss did not improve from 1.42688\n",
      "2/2 [==============================] - 12s 6s/step - loss: 4.8112 - val_loss: 1.5059\n"
     ]
    },
    {
     "name": "stderr",
     "output_type": "stream",
     "text": [
      "\r",
      " 27%|██▋       | 216/800 [1:49:57<3:34:02, 21.99s/it]"
     ]
    },
    {
     "name": "stdout",
     "output_type": "stream",
     "text": [
      "2/2 [==============================] - ETA: 0s - loss: 6.1330\n",
      "Epoch 00001: val_loss did not improve from 1.42688\n",
      "2/2 [==============================] - 14s 7s/step - loss: 6.1330 - val_loss: 1.4956\n"
     ]
    },
    {
     "name": "stderr",
     "output_type": "stream",
     "text": [
      "\r",
      " 27%|██▋       | 217/800 [1:50:19<3:33:43, 22.00s/it]"
     ]
    },
    {
     "name": "stdout",
     "output_type": "stream",
     "text": [
      "2/2 [==============================] - ETA: 0s - loss: 7.4701\n",
      "Epoch 00001: val_loss did not improve from 1.42688\n",
      "2/2 [==============================] - 14s 7s/step - loss: 7.4701 - val_loss: 1.4808\n"
     ]
    },
    {
     "name": "stderr",
     "output_type": "stream",
     "text": [
      "\r",
      " 27%|██▋       | 218/800 [1:50:43<3:37:51, 22.46s/it]"
     ]
    },
    {
     "name": "stdout",
     "output_type": "stream",
     "text": [
      "2/2 [==============================] - ETA: 0s - loss: 6.6207 \n",
      "Epoch 00001: val_loss did not improve from 1.42688\n",
      "2/2 [==============================] - 15s 7s/step - loss: 6.6207 - val_loss: 1.4641\n"
     ]
    },
    {
     "name": "stderr",
     "output_type": "stream",
     "text": [
      "\r",
      " 27%|██▋       | 219/800 [1:51:06<3:40:06, 22.73s/it]"
     ]
    },
    {
     "name": "stdout",
     "output_type": "stream",
     "text": [
      "2/2 [==============================] - ETA: 0s - loss: 8.0373\n",
      "Epoch 00001: val_loss did not improve from 1.42688\n",
      "2/2 [==============================] - 12s 6s/step - loss: 8.0373 - val_loss: 1.4483\n"
     ]
    },
    {
     "name": "stderr",
     "output_type": "stream",
     "text": [
      "\r",
      " 28%|██▊       | 220/800 [1:51:27<3:35:15, 22.27s/it]"
     ]
    },
    {
     "name": "stdout",
     "output_type": "stream",
     "text": [
      "2/2 [==============================] - ETA: 0s - loss: 11.2056\n",
      "Epoch 00001: val_loss did not improve from 1.42688\n",
      "2/2 [==============================] - 12s 6s/step - loss: 11.2056 - val_loss: 1.4360\n"
     ]
    },
    {
     "name": "stderr",
     "output_type": "stream",
     "text": [
      "\r",
      " 28%|██▊       | 221/800 [1:51:48<3:30:07, 21.77s/it]"
     ]
    },
    {
     "name": "stdout",
     "output_type": "stream",
     "text": [
      "2/2 [==============================] - ETA: 0s - loss: 16.2627\n",
      "Epoch 00001: val_loss did not improve from 1.42688\n",
      "2/2 [==============================] - 13s 6s/step - loss: 16.2627 - val_loss: 1.4329\n"
     ]
    },
    {
     "name": "stderr",
     "output_type": "stream",
     "text": [
      "\r",
      " 28%|██▊       | 222/800 [1:52:08<3:25:41, 21.35s/it]"
     ]
    },
    {
     "name": "stdout",
     "output_type": "stream",
     "text": [
      "2/2 [==============================] - ETA: 0s - loss: 25.0073\n",
      "Epoch 00001: val_loss did not improve from 1.42688\n",
      "2/2 [==============================] - 14s 7s/step - loss: 25.0073 - val_loss: 1.4408\n"
     ]
    },
    {
     "name": "stderr",
     "output_type": "stream",
     "text": [
      "\r",
      " 28%|██▊       | 223/800 [1:52:30<3:26:34, 21.48s/it]"
     ]
    },
    {
     "name": "stdout",
     "output_type": "stream",
     "text": [
      "2/2 [==============================] - ETA: 0s - loss: 12.3228\n",
      "Epoch 00001: val_loss did not improve from 1.42688\n",
      "2/2 [==============================] - 12s 6s/step - loss: 12.3228 - val_loss: 1.4727\n"
     ]
    },
    {
     "name": "stderr",
     "output_type": "stream",
     "text": [
      "\r",
      " 28%|██▊       | 224/800 [1:52:51<3:24:27, 21.30s/it]"
     ]
    },
    {
     "name": "stdout",
     "output_type": "stream",
     "text": [
      "2/2 [==============================] - ETA: 0s - loss: 10.9482\n",
      "Epoch 00001: val_loss did not improve from 1.42688\n",
      "2/2 [==============================] - 12s 6s/step - loss: 10.9482 - val_loss: 1.5294\n"
     ]
    },
    {
     "name": "stderr",
     "output_type": "stream",
     "text": [
      "\r",
      " 28%|██▊       | 225/800 [1:53:11<3:19:31, 20.82s/it]"
     ]
    },
    {
     "name": "stdout",
     "output_type": "stream",
     "text": [
      "2/2 [==============================] - ETA: 0s - loss: 13.0592\n",
      "Epoch 00001: val_loss did not improve from 1.42688\n",
      "2/2 [==============================] - 13s 6s/step - loss: 13.0592 - val_loss: 1.6237\n"
     ]
    },
    {
     "name": "stderr",
     "output_type": "stream",
     "text": [
      "\r",
      " 28%|██▊       | 226/800 [1:53:31<3:19:30, 20.85s/it]"
     ]
    },
    {
     "name": "stdout",
     "output_type": "stream",
     "text": [
      "2/2 [==============================] - ETA: 0s - loss: 36.4218\n",
      "Epoch 00001: val_loss did not improve from 1.42688\n",
      "2/2 [==============================] - 12s 6s/step - loss: 36.4218 - val_loss: 1.7139\n"
     ]
    },
    {
     "name": "stderr",
     "output_type": "stream",
     "text": [
      "\r",
      " 28%|██▊       | 227/800 [1:53:52<3:16:45, 20.60s/it]"
     ]
    },
    {
     "name": "stdout",
     "output_type": "stream",
     "text": [
      "2/2 [==============================] - ETA: 0s - loss: 65.2754\n",
      "Epoch 00001: val_loss did not improve from 1.42688\n",
      "2/2 [==============================] - 14s 7s/step - loss: 65.2754 - val_loss: 1.6968\n"
     ]
    },
    {
     "name": "stderr",
     "output_type": "stream",
     "text": [
      "\r",
      " 28%|██▊       | 228/800 [1:54:13<3:20:04, 20.99s/it]"
     ]
    },
    {
     "name": "stdout",
     "output_type": "stream",
     "text": [
      "2/2 [==============================] - ETA: 0s - loss: 66.6965\n",
      "Epoch 00001: val_loss did not improve from 1.42688\n",
      "2/2 [==============================] - 13s 6s/step - loss: 66.6965 - val_loss: 1.7195\n"
     ]
    },
    {
     "name": "stderr",
     "output_type": "stream",
     "text": [
      "\r",
      " 29%|██▊       | 229/800 [1:54:34<3:19:10, 20.93s/it]"
     ]
    },
    {
     "name": "stdout",
     "output_type": "stream",
     "text": [
      "2/2 [==============================] - ETA: 0s - loss: 88.8794\n",
      "Epoch 00001: val_loss did not improve from 1.42688\n",
      "2/2 [==============================] - 12s 6s/step - loss: 88.8794 - val_loss: 1.6696\n"
     ]
    },
    {
     "name": "stderr",
     "output_type": "stream",
     "text": [
      "\r",
      " 29%|██▉       | 230/800 [1:54:55<3:17:55, 20.84s/it]"
     ]
    },
    {
     "name": "stdout",
     "output_type": "stream",
     "text": [
      "2/2 [==============================] - ETA: 0s - loss: 79.0760\n",
      "Epoch 00001: val_loss did not improve from 1.42688\n",
      "2/2 [==============================] - 12s 6s/step - loss: 79.0760 - val_loss: 1.4896\n"
     ]
    },
    {
     "name": "stderr",
     "output_type": "stream",
     "text": [
      "\r",
      " 29%|██▉       | 231/800 [1:55:15<3:15:59, 20.67s/it]"
     ]
    },
    {
     "name": "stdout",
     "output_type": "stream",
     "text": [
      "2/2 [==============================] - ETA: 0s - loss: 65.7055\n",
      "Epoch 00001: val_loss did not improve from 1.42688\n",
      "2/2 [==============================] - 13s 7s/step - loss: 65.7055 - val_loss: 1.4535\n"
     ]
    },
    {
     "name": "stderr",
     "output_type": "stream",
     "text": [
      "\r",
      " 29%|██▉       | 232/800 [1:55:37<3:19:15, 21.05s/it]"
     ]
    },
    {
     "name": "stdout",
     "output_type": "stream",
     "text": [
      "2/2 [==============================] - ETA: 0s - loss: 68.3238\n",
      "Epoch 00001: val_loss did not improve from 1.42688\n",
      "2/2 [==============================] - 14s 7s/step - loss: 68.3238 - val_loss: 1.5996\n"
     ]
    },
    {
     "name": "stderr",
     "output_type": "stream",
     "text": [
      "\r",
      " 29%|██▉       | 233/800 [1:56:01<3:27:49, 21.99s/it]"
     ]
    },
    {
     "name": "stdout",
     "output_type": "stream",
     "text": [
      "2/2 [==============================] - ETA: 0s - loss: 64.6796\n",
      "Epoch 00001: val_loss did not improve from 1.42688\n",
      "2/2 [==============================] - 12s 6s/step - loss: 64.6796 - val_loss: 1.7465\n"
     ]
    },
    {
     "name": "stderr",
     "output_type": "stream",
     "text": [
      "\r",
      " 29%|██▉       | 234/800 [1:56:22<3:24:35, 21.69s/it]"
     ]
    },
    {
     "name": "stdout",
     "output_type": "stream",
     "text": [
      "2/2 [==============================] - ETA: 0s - loss: 45.4983\n",
      "Epoch 00001: val_loss did not improve from 1.42688\n",
      "2/2 [==============================] - 12s 6s/step - loss: 45.4983 - val_loss: 2.1206\n"
     ]
    },
    {
     "name": "stderr",
     "output_type": "stream",
     "text": [
      "\r",
      " 29%|██▉       | 235/800 [1:56:42<3:18:52, 21.12s/it]"
     ]
    },
    {
     "name": "stdout",
     "output_type": "stream",
     "text": [
      "2/2 [==============================] - ETA: 0s - loss: 52.3709\n",
      "Epoch 00001: val_loss did not improve from 1.42688\n",
      "2/2 [==============================] - 12s 6s/step - loss: 52.3709 - val_loss: 3.3150\n"
     ]
    },
    {
     "name": "stderr",
     "output_type": "stream",
     "text": [
      "\r",
      " 30%|██▉       | 236/800 [1:57:02<3:15:01, 20.75s/it]"
     ]
    },
    {
     "name": "stdout",
     "output_type": "stream",
     "text": [
      "2/2 [==============================] - ETA: 0s - loss: 29.4221\n",
      "Epoch 00001: val_loss did not improve from 1.42688\n",
      "2/2 [==============================] - 12s 6s/step - loss: 29.4221 - val_loss: 4.2007\n"
     ]
    },
    {
     "name": "stderr",
     "output_type": "stream",
     "text": [
      "\r",
      " 30%|██▉       | 237/800 [1:57:22<3:13:21, 20.61s/it]"
     ]
    },
    {
     "name": "stdout",
     "output_type": "stream",
     "text": [
      "2/2 [==============================] - ETA: 0s - loss: 21.4677\n",
      "Epoch 00001: val_loss did not improve from 1.42688\n",
      "2/2 [==============================] - 13s 7s/step - loss: 21.4677 - val_loss: 4.5335\n"
     ]
    },
    {
     "name": "stderr",
     "output_type": "stream",
     "text": [
      "\r",
      " 30%|██▉       | 238/800 [1:57:45<3:18:16, 21.17s/it]"
     ]
    },
    {
     "name": "stdout",
     "output_type": "stream",
     "text": [
      "2/2 [==============================] - ETA: 0s - loss: 22.7019\n",
      "Epoch 00001: val_loss did not improve from 1.42688\n",
      "2/2 [==============================] - 12s 6s/step - loss: 22.7019 - val_loss: 5.3071\n"
     ]
    },
    {
     "name": "stderr",
     "output_type": "stream",
     "text": [
      "\r",
      " 30%|██▉       | 239/800 [1:58:04<3:14:11, 20.77s/it]"
     ]
    },
    {
     "name": "stdout",
     "output_type": "stream",
     "text": [
      "2/2 [==============================] - ETA: 0s - loss: 18.7167\n",
      "Epoch 00001: val_loss did not improve from 1.42688\n",
      "2/2 [==============================] - 12s 6s/step - loss: 18.7167 - val_loss: 6.3829\n"
     ]
    },
    {
     "name": "stderr",
     "output_type": "stream",
     "text": [
      "\r",
      " 30%|███       | 240/800 [1:58:24<3:11:22, 20.50s/it]"
     ]
    },
    {
     "name": "stdout",
     "output_type": "stream",
     "text": [
      "2/2 [==============================] - ETA: 0s - loss: 15.1415\n",
      "Epoch 00001: val_loss did not improve from 1.42688\n",
      "2/2 [==============================] - 12s 6s/step - loss: 15.1415 - val_loss: 6.7360\n"
     ]
    },
    {
     "name": "stderr",
     "output_type": "stream",
     "text": [
      "\r",
      " 30%|███       | 241/800 [1:58:44<3:08:51, 20.27s/it]"
     ]
    },
    {
     "name": "stdout",
     "output_type": "stream",
     "text": [
      "2/2 [==============================] - ETA: 0s - loss: 11.1103\n",
      "Epoch 00001: val_loss did not improve from 1.42688\n",
      "2/2 [==============================] - 12s 6s/step - loss: 11.1103 - val_loss: 6.7864\n"
     ]
    },
    {
     "name": "stderr",
     "output_type": "stream",
     "text": [
      "\r",
      " 30%|███       | 242/800 [1:59:04<3:07:24, 20.15s/it]"
     ]
    },
    {
     "name": "stdout",
     "output_type": "stream",
     "text": [
      "2/2 [==============================] - ETA: 0s - loss: 7.9206\n",
      "Epoch 00001: val_loss did not improve from 1.42688\n",
      "2/2 [==============================] - 13s 6s/step - loss: 7.9206 - val_loss: 6.6894\n"
     ]
    },
    {
     "name": "stderr",
     "output_type": "stream",
     "text": [
      "\r",
      " 30%|███       | 243/800 [1:59:25<3:08:35, 20.31s/it]"
     ]
    },
    {
     "name": "stdout",
     "output_type": "stream",
     "text": [
      "2/2 [==============================] - ETA: 0s - loss: 5.8257\n",
      "Epoch 00001: val_loss did not improve from 1.42688\n",
      "2/2 [==============================] - 12s 6s/step - loss: 5.8257 - val_loss: 6.3196\n"
     ]
    },
    {
     "name": "stderr",
     "output_type": "stream",
     "text": [
      "\r",
      " 30%|███       | 244/800 [1:59:45<3:08:13, 20.31s/it]"
     ]
    },
    {
     "name": "stdout",
     "output_type": "stream",
     "text": [
      "2/2 [==============================] - ETA: 0s - loss: 3.7458\n",
      "Epoch 00001: val_loss did not improve from 1.42688\n",
      "2/2 [==============================] - 12s 6s/step - loss: 3.7458 - val_loss: 5.8074\n"
     ]
    },
    {
     "name": "stderr",
     "output_type": "stream",
     "text": [
      "\r",
      " 31%|███       | 245/800 [2:00:05<3:06:29, 20.16s/it]"
     ]
    },
    {
     "name": "stdout",
     "output_type": "stream",
     "text": [
      "2/2 [==============================] - ETA: 0s - loss: 2.1323\n",
      "Epoch 00001: val_loss did not improve from 1.42688\n",
      "2/2 [==============================] - 12s 6s/step - loss: 2.1323 - val_loss: 5.3750\n"
     ]
    },
    {
     "name": "stderr",
     "output_type": "stream",
     "text": [
      "\r",
      " 31%|███       | 246/800 [2:00:25<3:05:34, 20.10s/it]"
     ]
    },
    {
     "name": "stdout",
     "output_type": "stream",
     "text": [
      "2/2 [==============================] - ETA: 0s - loss: 1.4617\n",
      "Epoch 00001: val_loss did not improve from 1.42688\n",
      "2/2 [==============================] - 12s 6s/step - loss: 1.4617 - val_loss: 4.9683\n"
     ]
    },
    {
     "name": "stderr",
     "output_type": "stream",
     "text": [
      "\r",
      " 31%|███       | 247/800 [2:00:45<3:04:26, 20.01s/it]"
     ]
    },
    {
     "name": "stdout",
     "output_type": "stream",
     "text": [
      "2/2 [==============================] - ETA: 0s - loss: 1.0482\n",
      "Epoch 00001: val_loss did not improve from 1.42688\n",
      "2/2 [==============================] - 13s 6s/step - loss: 1.0482 - val_loss: 4.5770\n"
     ]
    },
    {
     "name": "stderr",
     "output_type": "stream",
     "text": [
      "\r",
      " 31%|███       | 248/800 [2:01:05<3:05:06, 20.12s/it]"
     ]
    },
    {
     "name": "stdout",
     "output_type": "stream",
     "text": [
      "2/2 [==============================] - ETA: 0s - loss: 1.0582\n",
      "Epoch 00001: val_loss did not improve from 1.42688\n",
      "2/2 [==============================] - 12s 6s/step - loss: 1.0582 - val_loss: 4.1966\n"
     ]
    },
    {
     "name": "stderr",
     "output_type": "stream",
     "text": [
      "\r",
      " 31%|███       | 249/800 [2:01:25<3:04:49, 20.13s/it]"
     ]
    },
    {
     "name": "stdout",
     "output_type": "stream",
     "text": [
      "2/2 [==============================] - ETA: 0s - loss: 10.1914\n",
      "Epoch 00001: val_loss did not improve from 1.42688\n",
      "2/2 [==============================] - 12s 6s/step - loss: 10.1914 - val_loss: 3.9309\n"
     ]
    },
    {
     "name": "stderr",
     "output_type": "stream",
     "text": [
      "\r",
      " 31%|███▏      | 250/800 [2:01:45<3:03:27, 20.01s/it]"
     ]
    },
    {
     "name": "stdout",
     "output_type": "stream",
     "text": [
      "2/2 [==============================] - ETA: 0s - loss: 37.6899\n",
      "Epoch 00001: val_loss did not improve from 1.42688\n",
      "2/2 [==============================] - 12s 6s/step - loss: 37.6899 - val_loss: 4.1287\n"
     ]
    },
    {
     "name": "stderr",
     "output_type": "stream",
     "text": [
      "\r",
      " 31%|███▏      | 251/800 [2:02:04<3:01:12, 19.80s/it]"
     ]
    },
    {
     "name": "stdout",
     "output_type": "stream",
     "text": [
      "2/2 [==============================] - ETA: 0s - loss: 39.5090\n",
      "Epoch 00001: val_loss did not improve from 1.42688\n",
      "2/2 [==============================] - 12s 6s/step - loss: 39.5090 - val_loss: 4.2312\n"
     ]
    },
    {
     "name": "stderr",
     "output_type": "stream",
     "text": [
      "\r",
      " 32%|███▏      | 252/800 [2:02:24<3:00:34, 19.77s/it]"
     ]
    },
    {
     "name": "stdout",
     "output_type": "stream",
     "text": [
      "2/2 [==============================] - ETA: 0s - loss: 32.0598\n",
      "Epoch 00001: val_loss did not improve from 1.42688\n",
      "2/2 [==============================] - 12s 6s/step - loss: 32.0598 - val_loss: 3.8482\n"
     ]
    },
    {
     "name": "stderr",
     "output_type": "stream",
     "text": [
      "\r",
      " 32%|███▏      | 253/800 [2:02:44<3:00:46, 19.83s/it]"
     ]
    },
    {
     "name": "stdout",
     "output_type": "stream",
     "text": [
      "2/2 [==============================] - ETA: 0s - loss: 30.0216\n",
      "Epoch 00001: val_loss did not improve from 1.42688\n",
      "2/2 [==============================] - 12s 6s/step - loss: 30.0216 - val_loss: 3.7116\n"
     ]
    },
    {
     "name": "stderr",
     "output_type": "stream",
     "text": [
      "\r",
      " 32%|███▏      | 254/800 [2:03:04<3:02:40, 20.07s/it]"
     ]
    },
    {
     "name": "stdout",
     "output_type": "stream",
     "text": [
      "2/2 [==============================] - ETA: 0s - loss: 33.4586\n",
      "Epoch 00001: val_loss did not improve from 1.42688\n",
      "2/2 [==============================] - 12s 6s/step - loss: 33.4586 - val_loss: 3.7977\n"
     ]
    },
    {
     "name": "stderr",
     "output_type": "stream",
     "text": [
      "\r",
      " 32%|███▏      | 255/800 [2:03:24<3:01:20, 19.96s/it]"
     ]
    },
    {
     "name": "stdout",
     "output_type": "stream",
     "text": [
      "2/2 [==============================] - ETA: 0s - loss: 21.4816\n",
      "Epoch 00001: val_loss did not improve from 1.42688\n",
      "2/2 [==============================] - 12s 6s/step - loss: 21.4816 - val_loss: 3.7607\n"
     ]
    },
    {
     "name": "stderr",
     "output_type": "stream",
     "text": [
      "\r",
      " 32%|███▏      | 256/800 [2:03:44<3:00:22, 19.89s/it]"
     ]
    },
    {
     "name": "stdout",
     "output_type": "stream",
     "text": [
      "2/2 [==============================] - ETA: 0s - loss: 17.9459\n",
      "Epoch 00001: val_loss did not improve from 1.42688\n",
      "2/2 [==============================] - 12s 6s/step - loss: 17.9459 - val_loss: 3.7364\n"
     ]
    },
    {
     "name": "stderr",
     "output_type": "stream",
     "text": [
      "\r",
      " 32%|███▏      | 257/800 [2:04:04<2:59:32, 19.84s/it]"
     ]
    },
    {
     "name": "stdout",
     "output_type": "stream",
     "text": [
      "2/2 [==============================] - ETA: 0s - loss: 15.4913\n",
      "Epoch 00001: val_loss did not improve from 1.42688\n",
      "2/2 [==============================] - 12s 6s/step - loss: 15.4913 - val_loss: 3.6975\n"
     ]
    },
    {
     "name": "stderr",
     "output_type": "stream",
     "text": [
      "\r",
      " 32%|███▏      | 258/800 [2:04:23<2:59:07, 19.83s/it]"
     ]
    },
    {
     "name": "stdout",
     "output_type": "stream",
     "text": [
      "2/2 [==============================] - ETA: 0s - loss: 17.6357\n",
      "Epoch 00001: val_loss did not improve from 1.42688\n",
      "2/2 [==============================] - 12s 6s/step - loss: 17.6357 - val_loss: 3.7469\n"
     ]
    },
    {
     "name": "stderr",
     "output_type": "stream",
     "text": [
      "\r",
      " 32%|███▏      | 259/800 [2:04:44<3:00:39, 20.04s/it]"
     ]
    },
    {
     "name": "stdout",
     "output_type": "stream",
     "text": [
      "2/2 [==============================] - ETA: 0s - loss: 17.5385\n",
      "Epoch 00001: val_loss did not improve from 1.42688\n",
      "2/2 [==============================] - 12s 6s/step - loss: 17.5385 - val_loss: 3.8076\n"
     ]
    },
    {
     "name": "stderr",
     "output_type": "stream",
     "text": [
      "\r",
      " 32%|███▎      | 260/800 [2:05:04<3:00:05, 20.01s/it]"
     ]
    },
    {
     "name": "stdout",
     "output_type": "stream",
     "text": [
      "2/2 [==============================] - ETA: 0s - loss: 10.0641\n",
      "Epoch 00001: val_loss did not improve from 1.42688\n",
      "2/2 [==============================] - 12s 6s/step - loss: 10.0641 - val_loss: 3.8559\n"
     ]
    },
    {
     "name": "stderr",
     "output_type": "stream",
     "text": [
      "\r",
      " 33%|███▎      | 261/800 [2:05:24<2:58:53, 19.91s/it]"
     ]
    },
    {
     "name": "stdout",
     "output_type": "stream",
     "text": [
      "2/2 [==============================] - ETA: 0s - loss: 8.8602 \n",
      "Epoch 00001: val_loss did not improve from 1.42688\n",
      "2/2 [==============================] - 12s 6s/step - loss: 8.8602 - val_loss: 3.7716\n"
     ]
    },
    {
     "name": "stderr",
     "output_type": "stream",
     "text": [
      "\r",
      " 33%|███▎      | 262/800 [2:05:43<2:57:47, 19.83s/it]"
     ]
    },
    {
     "name": "stdout",
     "output_type": "stream",
     "text": [
      "2/2 [==============================] - ETA: 0s - loss: 17.5189\n",
      "Epoch 00001: val_loss did not improve from 1.42688\n",
      "2/2 [==============================] - 12s 6s/step - loss: 17.5189 - val_loss: 4.5671\n"
     ]
    },
    {
     "name": "stderr",
     "output_type": "stream",
     "text": [
      "\r",
      " 33%|███▎      | 263/800 [2:06:03<2:57:22, 19.82s/it]"
     ]
    },
    {
     "name": "stdout",
     "output_type": "stream",
     "text": [
      "2/2 [==============================] - ETA: 0s - loss: 13.1201\n",
      "Epoch 00001: val_loss did not improve from 1.42688\n",
      "2/2 [==============================] - 12s 6s/step - loss: 13.1201 - val_loss: 4.8283\n"
     ]
    },
    {
     "name": "stderr",
     "output_type": "stream",
     "text": [
      "\r",
      " 33%|███▎      | 264/800 [2:06:24<2:59:28, 20.09s/it]"
     ]
    },
    {
     "name": "stdout",
     "output_type": "stream",
     "text": [
      "2/2 [==============================] - ETA: 0s - loss: 9.0168 \n",
      "Epoch 00001: val_loss did not improve from 1.42688\n",
      "2/2 [==============================] - 12s 6s/step - loss: 9.0168 - val_loss: 4.4624\n"
     ]
    },
    {
     "name": "stderr",
     "output_type": "stream",
     "text": [
      "\r",
      " 33%|███▎      | 265/800 [2:06:43<2:58:10, 19.98s/it]"
     ]
    },
    {
     "name": "stdout",
     "output_type": "stream",
     "text": [
      "2/2 [==============================] - ETA: 0s - loss: 9.4960\n",
      "Epoch 00001: val_loss did not improve from 1.42688\n",
      "2/2 [==============================] - 12s 6s/step - loss: 9.4960 - val_loss: 3.9481\n"
     ]
    },
    {
     "name": "stderr",
     "output_type": "stream",
     "text": [
      "\r",
      " 33%|███▎      | 266/800 [2:07:03<2:56:54, 19.88s/it]"
     ]
    },
    {
     "name": "stdout",
     "output_type": "stream",
     "text": [
      "2/2 [==============================] - ETA: 0s - loss: 14.8963\n",
      "Epoch 00001: val_loss did not improve from 1.42688\n",
      "2/2 [==============================] - 12s 6s/step - loss: 14.8963 - val_loss: 4.0498\n"
     ]
    },
    {
     "name": "stderr",
     "output_type": "stream",
     "text": [
      "\r",
      " 33%|███▎      | 267/800 [2:07:23<2:56:06, 19.82s/it]"
     ]
    },
    {
     "name": "stdout",
     "output_type": "stream",
     "text": [
      "2/2 [==============================] - ETA: 0s - loss: 11.2490\n",
      "Epoch 00001: val_loss did not improve from 1.42688\n",
      "2/2 [==============================] - 13s 7s/step - loss: 11.2490 - val_loss: 4.5059\n"
     ]
    },
    {
     "name": "stderr",
     "output_type": "stream",
     "text": [
      "\r",
      " 34%|███▎      | 268/800 [2:07:44<2:58:53, 20.17s/it]"
     ]
    },
    {
     "name": "stdout",
     "output_type": "stream",
     "text": [
      "2/2 [==============================] - ETA: 0s - loss: 12.1065\n",
      "Epoch 00001: val_loss did not improve from 1.42688\n",
      "2/2 [==============================] - 12s 6s/step - loss: 12.1065 - val_loss: 3.6815\n"
     ]
    },
    {
     "name": "stderr",
     "output_type": "stream",
     "text": [
      "\r",
      " 34%|███▎      | 269/800 [2:08:04<2:59:39, 20.30s/it]"
     ]
    },
    {
     "name": "stdout",
     "output_type": "stream",
     "text": [
      "2/2 [==============================] - ETA: 0s - loss: 8.7576\n",
      "Epoch 00001: val_loss did not improve from 1.42688\n",
      "2/2 [==============================] - 12s 6s/step - loss: 8.7576 - val_loss: 2.9915\n"
     ]
    },
    {
     "name": "stderr",
     "output_type": "stream",
     "text": [
      "\r",
      " 34%|███▍      | 270/800 [2:08:24<2:58:03, 20.16s/it]"
     ]
    },
    {
     "name": "stdout",
     "output_type": "stream",
     "text": [
      "2/2 [==============================] - ETA: 0s - loss: 10.1938\n",
      "Epoch 00001: val_loss did not improve from 1.42688\n",
      "2/2 [==============================] - 12s 6s/step - loss: 10.1938 - val_loss: 3.2894\n"
     ]
    },
    {
     "name": "stderr",
     "output_type": "stream",
     "text": [
      "\r",
      " 34%|███▍      | 271/800 [2:08:44<2:56:30, 20.02s/it]"
     ]
    },
    {
     "name": "stdout",
     "output_type": "stream",
     "text": [
      "2/2 [==============================] - ETA: 0s - loss: 7.1726\n",
      "Epoch 00001: val_loss did not improve from 1.42688\n",
      "2/2 [==============================] - 12s 6s/step - loss: 7.1726 - val_loss: 4.1697\n"
     ]
    },
    {
     "name": "stderr",
     "output_type": "stream",
     "text": [
      "\r",
      " 34%|███▍      | 272/800 [2:09:04<2:55:29, 19.94s/it]"
     ]
    },
    {
     "name": "stdout",
     "output_type": "stream",
     "text": [
      "2/2 [==============================] - ETA: 0s - loss: 4.6140\n",
      "Epoch 00001: val_loss did not improve from 1.42688\n",
      "2/2 [==============================] - 12s 6s/step - loss: 4.6140 - val_loss: 5.3414\n"
     ]
    },
    {
     "name": "stderr",
     "output_type": "stream",
     "text": [
      "\r",
      " 34%|███▍      | 273/800 [2:09:23<2:54:41, 19.89s/it]"
     ]
    },
    {
     "name": "stdout",
     "output_type": "stream",
     "text": [
      "2/2 [==============================] - ETA: 0s - loss: 6.7583\n",
      "Epoch 00001: val_loss did not improve from 1.42688\n",
      "2/2 [==============================] - 12s 6s/step - loss: 6.7583 - val_loss: 5.4505\n"
     ]
    },
    {
     "name": "stderr",
     "output_type": "stream",
     "text": [
      "\r",
      " 34%|███▍      | 274/800 [2:09:44<2:55:33, 20.03s/it]"
     ]
    },
    {
     "name": "stdout",
     "output_type": "stream",
     "text": [
      "2/2 [==============================] - ETA: 0s - loss: 5.7553\n",
      "Epoch 00001: val_loss did not improve from 1.42688\n",
      "2/2 [==============================] - 12s 6s/step - loss: 5.7553 - val_loss: 4.8936\n"
     ]
    },
    {
     "name": "stderr",
     "output_type": "stream",
     "text": [
      "\r",
      " 34%|███▍      | 275/800 [2:10:03<2:54:05, 19.90s/it]"
     ]
    },
    {
     "name": "stdout",
     "output_type": "stream",
     "text": [
      "2/2 [==============================] - ETA: 0s - loss: 4.8705\n",
      "Epoch 00001: val_loss did not improve from 1.42688\n",
      "2/2 [==============================] - 12s 6s/step - loss: 4.8705 - val_loss: 4.5020\n"
     ]
    },
    {
     "name": "stderr",
     "output_type": "stream",
     "text": [
      "\r",
      " 34%|███▍      | 276/800 [2:10:23<2:53:19, 19.85s/it]"
     ]
    },
    {
     "name": "stdout",
     "output_type": "stream",
     "text": [
      "2/2 [==============================] - ETA: 0s - loss: 3.3960\n",
      "Epoch 00001: val_loss did not improve from 1.42688\n",
      "2/2 [==============================] - 12s 6s/step - loss: 3.3960 - val_loss: 3.8584\n"
     ]
    },
    {
     "name": "stderr",
     "output_type": "stream",
     "text": [
      "\r",
      " 35%|███▍      | 277/800 [2:10:43<2:52:34, 19.80s/it]"
     ]
    },
    {
     "name": "stdout",
     "output_type": "stream",
     "text": [
      "2/2 [==============================] - ETA: 0s - loss: 2.5164\n",
      "Epoch 00001: val_loss did not improve from 1.42688\n",
      "2/2 [==============================] - 12s 6s/step - loss: 2.5164 - val_loss: 3.2710\n"
     ]
    },
    {
     "name": "stderr",
     "output_type": "stream",
     "text": [
      "\r",
      " 35%|███▍      | 278/800 [2:11:02<2:51:32, 19.72s/it]"
     ]
    },
    {
     "name": "stdout",
     "output_type": "stream",
     "text": [
      "2/2 [==============================] - ETA: 0s - loss: 2.9987\n",
      "Epoch 00001: val_loss did not improve from 1.42688\n",
      "2/2 [==============================] - 13s 6s/step - loss: 2.9987 - val_loss: 2.9249\n"
     ]
    },
    {
     "name": "stderr",
     "output_type": "stream",
     "text": [
      "\r",
      " 35%|███▍      | 279/800 [2:11:22<2:52:36, 19.88s/it]"
     ]
    },
    {
     "name": "stdout",
     "output_type": "stream",
     "text": [
      "2/2 [==============================] - ETA: 0s - loss: 2.3923\n",
      "Epoch 00001: val_loss did not improve from 1.42688\n",
      "2/2 [==============================] - 12s 6s/step - loss: 2.3923 - val_loss: 2.6364\n"
     ]
    },
    {
     "name": "stderr",
     "output_type": "stream",
     "text": [
      "\r",
      " 35%|███▌      | 280/800 [2:11:42<2:51:04, 19.74s/it]"
     ]
    },
    {
     "name": "stdout",
     "output_type": "stream",
     "text": [
      "2/2 [==============================] - ETA: 0s - loss: 1.6371\n",
      "Epoch 00001: val_loss did not improve from 1.42688\n",
      "2/2 [==============================] - 12s 6s/step - loss: 1.6371 - val_loss: 2.4579\n"
     ]
    },
    {
     "name": "stderr",
     "output_type": "stream",
     "text": [
      "\r",
      " 35%|███▌      | 281/800 [2:12:02<2:50:39, 19.73s/it]"
     ]
    },
    {
     "name": "stdout",
     "output_type": "stream",
     "text": [
      "2/2 [==============================] - ETA: 0s - loss: 1.2898\n",
      "Epoch 00001: val_loss did not improve from 1.42688\n",
      "2/2 [==============================] - 12s 6s/step - loss: 1.2898 - val_loss: 2.3084\n"
     ]
    },
    {
     "name": "stderr",
     "output_type": "stream",
     "text": [
      "\r",
      " 35%|███▌      | 282/800 [2:12:21<2:50:15, 19.72s/it]"
     ]
    },
    {
     "name": "stdout",
     "output_type": "stream",
     "text": [
      "2/2 [==============================] - ETA: 0s - loss: 1.1751\n",
      "Epoch 00001: val_loss did not improve from 1.42688\n",
      "2/2 [==============================] - 12s 6s/step - loss: 1.1751 - val_loss: 2.1373\n"
     ]
    },
    {
     "name": "stderr",
     "output_type": "stream",
     "text": [
      " 35%|███▌      | 282/800 [2:12:41<4:03:43, 28.23s/it]\n"
     ]
    },
    {
     "data": {
      "image/png": "[encoded data removed]",
      "text/plain": [
       "<Figure size 432x288 with 1 Axes>"
      ]
     },
     "metadata": {
      "needs_background": "light"
     },
     "output_type": "display_data"
    }
   ],
   "source": [
    "import gc\n",
    "MC = ModelCheckpoint('./model.h5', verbose=True,monitor='val_loss',mode='min',\n",
    "        save_weights_only=True,save_best_only=True)\n",
    "\n",
    "stop = EarlyStopping(monitor = 'val_loss', restore_best_weights=True , patience = 5)\n",
    "\n",
    "tr_it = iter(train_dataset)\n",
    "batch_size = cfg['train_params']['train_batch']\n",
    "#progress_bar = tqdm(range(0,cfg[\"train_params\"][\"max_num_steps\"],batch_size))\n",
    "progress_bar = tqdm(range(cfg[\"train_params\"][\"max_num_steps\"]))\n",
    "two_hours = 60 * 60 * 2.3\n",
    "losses = []\n",
    "hist = []\n",
    "for itr in progress_bar:#range(0,cfg[\"train_params\"][\"max_num_steps\"],batch_size):\n",
    "    inputs = np.zeros(shape=(batch_size,224,224,num_in_channels))\n",
    "    targets = np.zeros(shape=(batch_size, num_targets))\n",
    "    \n",
    "    for i in range(batch_size):\n",
    "        \n",
    "        try:\n",
    "            data = next(tr_it)\n",
    "        except StopIteration:\n",
    "            tr_it = iter(train_dataset)\n",
    "            data = next(tr_it)\n",
    "            \n",
    "        inputs[i] = data['image'].transpose(1,2,0)\n",
    "        targets[i] = data['target_positions'].reshape(-1,num_targets)\n",
    "   \n",
    "    h = model.fit(inputs, targets,\n",
    "                  batch_size = int(batch_size / 2) ,\n",
    "                  validation_data = (val_inputs, val_targets),\n",
    "                  verbose = 1,\n",
    "                 callbacks = [MC, stop])\n",
    "                  \n",
    "    hist.append(h.history)\n",
    "    gc.collect()\n",
    "    # For training + submission, break if training exceeds 6 hours\n",
    "    if (time.time()-t0) > two_hours:\n",
    "        break\n",
    "    if h.history['loss'][0] < 1.3 and h.history['val_loss'][0] < 1.3:\n",
    "        break\n",
    "    \n",
    "    \n",
    "vl = [hi['val_loss'] for hi in hist]\n",
    "l = [hi['loss'] for hi in hist]\n",
    "plt.plot(np.log(vl), label = 'val_loss')\n",
    "plt.plot(np.log(l), label = 'loss')\n",
    "plt.legend(loc=0)\n",
    "plt.show()"
   ]
  },
  {
   "cell_type": "code",
   "execution_count": 18,
   "metadata": {},
   "outputs": [],
   "source": [
    "model.save('modelv0.h5')\n"
   ]
  },
  {
   "cell_type": "code",
   "execution_count": null,
   "metadata": {},
   "outputs": [],
   "source": [
    "from numpy import loadtxt\n",
    "from keras.models import load_model\n",
    "from keras.applications.resnet50 import ResNet50\n",
    "from keras.utils.conv_utils import convert_kernel\n",
    "from keras.layers import (Input, Conv2D, Flatten,Dense,AveragePooling2D,Dropout,MaxPooling2D,BatchNormalization)\n",
    "from keras.models import Model, Sequential\n",
    "from keras.callbacks import ModelCheckpoint, EarlyStopping\n",
    "from keras import optimizers\n",
    "from keras.applications.resnet import ResNet101\n",
    "# load model\n",
    "model = load_model('modelv0.h5')\n",
    "# summarize model.\n",
    "model.summary()"
   ]
  },
  {
   "cell_type": "code",
   "execution_count": 19,
   "metadata": {},
   "outputs": [
    {
     "name": "stderr",
     "output_type": "stream",
     "text": [
      "/home/moriarty/.local/lib/python3.8/site-packages/l5kit/dataset/agent.py:115: RuntimeWarning: disable_traffic_light_faces not found in config, this will raise an error in the future\n",
      "  return self.get_frame(scene_index, state_index, track_id=track_id)\n"
     ]
    },
    {
     "data": {
      "text/plain": [
       "<matplotlib.collections.PathCollection at 0x7f5de8e7ef10>"
      ]
     },
     "execution_count": 19,
     "metadata": {},
     "output_type": "execute_result"
    },
    {
     "data": {
      "image/png": "[encoded data removed]",
      "text/plain": [
       "<Figure size 432x288 with 1 Axes>"
      ]
     },
     "metadata": {
      "needs_background": "light"
     },
     "output_type": "display_data"
    }
   ],
   "source": [
    "#Example Prediction:\n",
    "import matplotlib.pyplot as plt\n",
    "tr_it = iter(train_dataset)\n",
    "a1 = next(tr_it)\n",
    "inp = a1['image'].transpose(1,2,0)\n",
    "act = a1['target_positions']\n",
    "pred = model.predict(inp.reshape(-1,224,224,num_in_channels)).reshape(50,2)\n",
    "plt.scatter(act[:,0], act[:,1])\n",
    "plt.scatter(pred[:,0],pred[:,1])"
   ]
  },
  {
   "cell_type": "markdown",
   "metadata": {},
   "source": [
    "Now we can use this model to predict from the test set."
   ]
  },
  {
   "cell_type": "code",
   "execution_count": 20,
   "metadata": {},
   "outputs": [
    {
     "name": "stderr",
     "output_type": "stream",
     "text": [
      "<ipython-input-20-540cf822d61a>:9: RuntimeWarning: you're running with a custom agents_mask\n",
      "  test_dataset = AgentDataset(cfg, test_zarr, rasterizer, agents_mask=test_mask)\n"
     ]
    }
   ],
   "source": [
    "test_cfg = cfg[\"test_data_loader\"]\n",
    "\n",
    "# Rasterizer\n",
    "rasterizer = build_rasterizer(cfg, dm)\n",
    "\n",
    "# Test dataset/dataloader\n",
    "test_zarr = ChunkedDataset(dm.require(test_cfg[\"key\"])).open()\n",
    "test_mask = np.load(f\"{DIR_INPUT}/scenes/mask.npz\")[\"arr_0\"]\n",
    "test_dataset = AgentDataset(cfg, test_zarr, rasterizer, agents_mask=test_mask)"
   ]
  },
  {
   "cell_type": "code",
   "execution_count": 21,
   "metadata": {},
   "outputs": [
    {
     "name": "stderr",
     "output_type": "stream",
     "text": [
      "100%|██████████| 71122/71122 [3:41:38<00:00,  5.35it/s]  \n"
     ]
    }
   ],
   "source": [
    "t_shape = test_dataset[0][\"target_positions\"].shape\n",
    "timestamps = []\n",
    "agent_ids = []\n",
    "coords = []\n",
    "for it in tqdm(test_dataset):\n",
    "    \n",
    "    dat = it['image'].transpose(1,2,0)\n",
    "    coords.append(np.array(model.predict(dat.reshape(1,224,224,num_in_channels)).reshape(t_shape)))\n",
    "    timestamps.append(it[\"timestamp\"])\n",
    "    agent_ids.append(it[\"track_id\"])\n",
    "    \n",
    "    "
   ]
  },
  {
   "cell_type": "code",
   "execution_count": 22,
   "metadata": {},
   "outputs": [],
   "source": [
    "from l5kit.evaluation import write_pred_csv\n",
    "\n",
    "\n",
    "write_pred_csv('submission.csv',\n",
    "                timestamps = np.array(timestamps),\n",
    "                track_ids = np.array(agent_ids),\n",
    "                coords = np.array(coords) )"
   ]
  },
  {
   "cell_type": "code",
   "execution_count": null,
   "metadata": {},
   "outputs": [],
   "source": []
  },
  {
   "cell_type": "markdown",
   "metadata": {},
   "source": [
    "I will play with some parameters later.  I am finally glad to just have something that functions."
   ]
  },
  {
   "cell_type": "code",
   "execution_count": null,
   "metadata": {},
   "outputs": [],
   "source": []
  },
  {
   "cell_type": "code",
   "execution_count": null,
   "metadata": {},
   "outputs": [],
   "source": []
  },
  {
   "cell_type": "code",
   "execution_count": null,
   "metadata": {},
   "outputs": [],
   "source": []
  }
 ],
 "metadata": {
  "kernelspec": {
   "display_name": "Python 3",
   "language": "python",
   "name": "python3"
  },
  "language_info": {
   "codemirror_mode": {
    "name": "ipython",
    "version": 3
   },
   "file_extension": ".py",
   "mimetype": "text/x-python",
   "name": "python",
   "nbconvert_exporter": "python",
   "pygments_lexer": "ipython3",
   "version": "3.8.5"
  }
 },
 "nbformat": 4,
 "nbformat_minor": 4
}
